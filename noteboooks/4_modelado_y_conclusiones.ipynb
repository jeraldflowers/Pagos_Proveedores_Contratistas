{
 "cells": [
  {
   "cell_type": "code",
   "source": "%matplotlib inline\nimport pandas as pd",
   "metadata": {
    "tags": [],
    "cell_id": "b9e08dec-376d-42b2-87ad-cd80bcac4986",
    "deepnote_to_be_reexecuted": false,
    "source_hash": "79ac5c50",
    "execution_start": 1659502555661,
    "execution_millis": 904,
    "deepnote_cell_type": "code",
    "deepnote_cell_height": 94
   },
   "outputs": [],
   "execution_count": null
  },
  {
   "cell_type": "code",
   "source": "compras_df = pd.read_csv('/work/compras_df_enriched.csv')",
   "metadata": {
    "cell_id": "0f6a91023d2040b1883a8c9f54ec2dd3",
    "tags": [],
    "deepnote_to_be_reexecuted": false,
    "source_hash": "9311128b",
    "execution_start": 1659502588986,
    "execution_millis": 142,
    "deepnote_cell_type": "code",
    "deepnote_cell_height": 76
   },
   "outputs": [],
   "execution_count": null
  },
  {
   "cell_type": "markdown",
   "source": "## Probar un Modelo Supervisado",
   "metadata": {
    "cell_id": "28db85f0047d4a7fa72540f08de026dc",
    "tags": [],
    "deepnote_cell_type": "markdown",
    "deepnote_cell_height": 56.390625
   }
  },
  {
   "cell_type": "code",
   "source": "data = compras_df.copy()\nfor i, column in enumerate(list([str(d) for d in data.dtypes])):\n    if column == \"object\":\n        data[data.columns[i]] = data[data.columns[i]].fillna(data[data.columns[i]].mode())\n        data[data.columns[i]] = data[data.columns[i]].astype(\"category\").cat.codes\n    else:\n        data[data.columns[i]] = data[data.columns[i]].fillna(data[data.columns[i]].median())\n",
   "metadata": {
    "cell_id": "29aa6d2b92c8496caa5c3d39fb2d79c8",
    "tags": [],
    "deepnote_to_be_reexecuted": false,
    "source_hash": "b25d6c51",
    "execution_start": 1659503614937,
    "execution_millis": 60,
    "deepnote_cell_type": "code",
    "deepnote_cell_height": 207
   },
   "outputs": [],
   "execution_count": null
  },
  {
   "cell_type": "code",
   "source": "data.head(5)",
   "metadata": {
    "cell_id": "14205e31b64d415185243f4f7626e1b0",
    "tags": [],
    "deepnote_to_be_reexecuted": false,
    "source_hash": "42c8aa70",
    "execution_start": 1659503860997,
    "execution_millis": 36,
    "deepnote_table_state": {
     "pageSize": 100,
     "pageIndex": 4,
     "filters": [],
     "sortBy": []
    },
    "deepnote_table_loading": false,
    "deepnote_cell_type": "code",
    "deepnote_cell_height": 407
   },
   "outputs": [
    {
     "output_type": "execute_result",
     "execution_count": 9,
     "data": {
      "application/vnd.deepnote.dataframe.v3+json": {
       "column_count": 17,
       "row_count": 5,
       "columns": [
        {
         "name": "CVE BEN",
         "dtype": "int64",
         "stats": {
          "unique_count": 2,
          "nan_count": 0,
          "min": "110150",
          "max": "110741",
          "histogram": [
           {
            "bin_start": 110150,
            "bin_end": 110209.1,
            "count": 1
           },
           {
            "bin_start": 110209.1,
            "bin_end": 110268.2,
            "count": 0
           },
           {
            "bin_start": 110268.2,
            "bin_end": 110327.3,
            "count": 0
           },
           {
            "bin_start": 110327.3,
            "bin_end": 110386.4,
            "count": 0
           },
           {
            "bin_start": 110386.4,
            "bin_end": 110445.5,
            "count": 0
           },
           {
            "bin_start": 110445.5,
            "bin_end": 110504.6,
            "count": 0
           },
           {
            "bin_start": 110504.6,
            "bin_end": 110563.7,
            "count": 0
           },
           {
            "bin_start": 110563.7,
            "bin_end": 110622.8,
            "count": 0
           },
           {
            "bin_start": 110622.8,
            "bin_end": 110681.9,
            "count": 0
           },
           {
            "bin_start": 110681.9,
            "bin_end": 110741,
            "count": 4
           }
          ]
         }
        },
        {
         "name": "BENEFICIARIO",
         "dtype": "int16",
         "stats": {
          "unique_count": 2,
          "nan_count": 0,
          "min": "11",
          "max": "102",
          "histogram": [
           {
            "bin_start": 11,
            "bin_end": 20.1,
            "count": 4
           },
           {
            "bin_start": 20.1,
            "bin_end": 29.2,
            "count": 0
           },
           {
            "bin_start": 29.2,
            "bin_end": 38.3,
            "count": 0
           },
           {
            "bin_start": 38.3,
            "bin_end": 47.4,
            "count": 0
           },
           {
            "bin_start": 47.4,
            "bin_end": 56.5,
            "count": 0
           },
           {
            "bin_start": 56.5,
            "bin_end": 65.6,
            "count": 0
           },
           {
            "bin_start": 65.6,
            "bin_end": 74.69999999999999,
            "count": 0
           },
           {
            "bin_start": 74.69999999999999,
            "bin_end": 83.8,
            "count": 0
           },
           {
            "bin_start": 83.8,
            "bin_end": 92.89999999999999,
            "count": 0
           },
           {
            "bin_start": 92.89999999999999,
            "bin_end": 102,
            "count": 1
           }
          ]
         }
        },
        {
         "name": "RFC",
         "dtype": "int16",
         "stats": {
          "unique_count": 2,
          "nan_count": 0,
          "min": "27",
          "max": "108",
          "histogram": [
           {
            "bin_start": 27,
            "bin_end": 35.1,
            "count": 4
           },
           {
            "bin_start": 35.1,
            "bin_end": 43.2,
            "count": 0
           },
           {
            "bin_start": 43.2,
            "bin_end": 51.3,
            "count": 0
           },
           {
            "bin_start": 51.3,
            "bin_end": 59.4,
            "count": 0
           },
           {
            "bin_start": 59.4,
            "bin_end": 67.5,
            "count": 0
           },
           {
            "bin_start": 67.5,
            "bin_end": 75.6,
            "count": 0
           },
           {
            "bin_start": 75.6,
            "bin_end": 83.69999999999999,
            "count": 0
           },
           {
            "bin_start": 83.69999999999999,
            "bin_end": 91.8,
            "count": 0
           },
           {
            "bin_start": 91.8,
            "bin_end": 99.89999999999999,
            "count": 0
           },
           {
            "bin_start": 99.89999999999999,
            "bin_end": 108,
            "count": 1
           }
          ]
         }
        },
        {
         "name": "FACTURAS",
         "dtype": "int16",
         "stats": {
          "unique_count": 5,
          "nan_count": 0,
          "min": "879",
          "max": "1413",
          "histogram": [
           {
            "bin_start": 879,
            "bin_end": 932.4,
            "count": 1
           },
           {
            "bin_start": 932.4,
            "bin_end": 985.8,
            "count": 0
           },
           {
            "bin_start": 985.8,
            "bin_end": 1039.2,
            "count": 0
           },
           {
            "bin_start": 1039.2,
            "bin_end": 1092.6,
            "count": 0
           },
           {
            "bin_start": 1092.6,
            "bin_end": 1146,
            "count": 0
           },
           {
            "bin_start": 1146,
            "bin_end": 1199.4,
            "count": 0
           },
           {
            "bin_start": 1199.4,
            "bin_end": 1252.8,
            "count": 0
           },
           {
            "bin_start": 1252.8,
            "bin_end": 1306.2,
            "count": 0
           },
           {
            "bin_start": 1306.2,
            "bin_end": 1359.6,
            "count": 0
           },
           {
            "bin_start": 1359.6,
            "bin_end": 1413,
            "count": 4
           }
          ]
         }
        },
        {
         "name": "CONTRATO",
         "dtype": "int16",
         "stats": {
          "unique_count": 5,
          "nan_count": 0,
          "min": "8",
          "max": "133",
          "histogram": [
           {
            "bin_start": 8,
            "bin_end": 20.5,
            "count": 1
           },
           {
            "bin_start": 20.5,
            "bin_end": 33,
            "count": 0
           },
           {
            "bin_start": 33,
            "bin_end": 45.5,
            "count": 2
           },
           {
            "bin_start": 45.5,
            "bin_end": 58,
            "count": 1
           },
           {
            "bin_start": 58,
            "bin_end": 70.5,
            "count": 0
           },
           {
            "bin_start": 70.5,
            "bin_end": 83,
            "count": 0
           },
           {
            "bin_start": 83,
            "bin_end": 95.5,
            "count": 0
           },
           {
            "bin_start": 95.5,
            "bin_end": 108,
            "count": 0
           },
           {
            "bin_start": 108,
            "bin_end": 120.5,
            "count": 0
           },
           {
            "bin_start": 120.5,
            "bin_end": 133,
            "count": 1
           }
          ]
         }
        },
        {
         "name": "CONCEPTO",
         "dtype": "int16",
         "stats": {
          "unique_count": 5,
          "nan_count": 0,
          "min": "1340",
          "max": "1416",
          "histogram": [
           {
            "bin_start": 1340,
            "bin_end": 1347.6,
            "count": 3
           },
           {
            "bin_start": 1347.6,
            "bin_end": 1355.2,
            "count": 1
           },
           {
            "bin_start": 1355.2,
            "bin_end": 1362.8,
            "count": 0
           },
           {
            "bin_start": 1362.8,
            "bin_end": 1370.4,
            "count": 0
           },
           {
            "bin_start": 1370.4,
            "bin_end": 1378,
            "count": 0
           },
           {
            "bin_start": 1378,
            "bin_end": 1385.6,
            "count": 0
           },
           {
            "bin_start": 1385.6,
            "bin_end": 1393.2,
            "count": 0
           },
           {
            "bin_start": 1393.2,
            "bin_end": 1400.8,
            "count": 0
           },
           {
            "bin_start": 1400.8,
            "bin_end": 1408.4,
            "count": 0
           },
           {
            "bin_start": 1408.4,
            "bin_end": 1416,
            "count": 1
           }
          ]
         }
        },
        {
         "name": "TIPO",
         "dtype": "int8",
         "stats": {
          "unique_count": 1,
          "nan_count": 0,
          "min": "1",
          "max": "1",
          "histogram": [
           {
            "bin_start": 0.5,
            "bin_end": 0.6,
            "count": 0
           },
           {
            "bin_start": 0.6,
            "bin_end": 0.7,
            "count": 0
           },
           {
            "bin_start": 0.7,
            "bin_end": 0.8,
            "count": 0
           },
           {
            "bin_start": 0.8,
            "bin_end": 0.9,
            "count": 0
           },
           {
            "bin_start": 0.9,
            "bin_end": 1,
            "count": 0
           },
           {
            "bin_start": 1,
            "bin_end": 1.1,
            "count": 5
           },
           {
            "bin_start": 1.1,
            "bin_end": 1.2000000000000002,
            "count": 0
           },
           {
            "bin_start": 1.2000000000000002,
            "bin_end": 1.3,
            "count": 0
           },
           {
            "bin_start": 1.3,
            "bin_end": 1.4,
            "count": 0
           },
           {
            "bin_start": 1.4,
            "bin_end": 1.5,
            "count": 0
           }
          ]
         }
        },
        {
         "name": "FDO-#OP",
         "dtype": "float64",
         "stats": {
          "unique_count": 3,
          "nan_count": 0,
          "min": "1022770.0",
          "max": "1022838.0",
          "histogram": [
           {
            "bin_start": 1022770,
            "bin_end": 1022776.8,
            "count": 3
           },
           {
            "bin_start": 1022776.8,
            "bin_end": 1022783.6,
            "count": 0
           },
           {
            "bin_start": 1022783.6,
            "bin_end": 1022790.4,
            "count": 0
           },
           {
            "bin_start": 1022790.4,
            "bin_end": 1022797.2,
            "count": 0
           },
           {
            "bin_start": 1022797.2,
            "bin_end": 1022804,
            "count": 0
           },
           {
            "bin_start": 1022804,
            "bin_end": 1022810.8,
            "count": 0
           },
           {
            "bin_start": 1022810.8,
            "bin_end": 1022817.6,
            "count": 1
           },
           {
            "bin_start": 1022817.6,
            "bin_end": 1022824.4,
            "count": 0
           },
           {
            "bin_start": 1022824.4,
            "bin_end": 1022831.2,
            "count": 0
           },
           {
            "bin_start": 1022831.2,
            "bin_end": 1022838,
            "count": 1
           }
          ]
         }
        },
        {
         "name": "FECHA",
         "dtype": "int8",
         "stats": {
          "unique_count": 2,
          "nan_count": 0,
          "min": "7",
          "max": "12",
          "histogram": [
           {
            "bin_start": 7,
            "bin_end": 7.5,
            "count": 3
           },
           {
            "bin_start": 7.5,
            "bin_end": 8,
            "count": 0
           },
           {
            "bin_start": 8,
            "bin_end": 8.5,
            "count": 0
           },
           {
            "bin_start": 8.5,
            "bin_end": 9,
            "count": 0
           },
           {
            "bin_start": 9,
            "bin_end": 9.5,
            "count": 0
           },
           {
            "bin_start": 9.5,
            "bin_end": 10,
            "count": 0
           },
           {
            "bin_start": 10,
            "bin_end": 10.5,
            "count": 0
           },
           {
            "bin_start": 10.5,
            "bin_end": 11,
            "count": 0
           },
           {
            "bin_start": 11,
            "bin_end": 11.5,
            "count": 0
           },
           {
            "bin_start": 11.5,
            "bin_end": 12,
            "count": 2
           }
          ]
         }
        },
        {
         "name": "IMPORTE",
         "dtype": "float64",
         "stats": {
          "unique_count": 5,
          "nan_count": 0,
          "min": "2872.1",
          "max": "885080.0",
          "histogram": [
           {
            "bin_start": 2872.1,
            "bin_end": 91092.89000000001,
            "count": 4
           },
           {
            "bin_start": 91092.89000000001,
            "bin_end": 179313.68000000002,
            "count": 0
           },
           {
            "bin_start": 179313.68000000002,
            "bin_end": 267534.47,
            "count": 0
           },
           {
            "bin_start": 267534.47,
            "bin_end": 355755.26,
            "count": 0
           },
           {
            "bin_start": 355755.26,
            "bin_end": 443976.05000000005,
            "count": 0
           },
           {
            "bin_start": 443976.05000000005,
            "bin_end": 532196.84,
            "count": 0
           },
           {
            "bin_start": 532196.84,
            "bin_end": 620417.63,
            "count": 0
           },
           {
            "bin_start": 620417.63,
            "bin_end": 708638.42,
            "count": 0
           },
           {
            "bin_start": 708638.42,
            "bin_end": 796859.2100000001,
            "count": 0
           },
           {
            "bin_start": 796859.2100000001,
            "bin_end": 885080,
            "count": 1
           }
          ]
         }
        },
        {
         "name": "SHEET",
         "dtype": "int8",
         "stats": {
          "unique_count": 1,
          "nan_count": 0,
          "min": "1",
          "max": "1",
          "histogram": [
           {
            "bin_start": 0.5,
            "bin_end": 0.6,
            "count": 0
           },
           {
            "bin_start": 0.6,
            "bin_end": 0.7,
            "count": 0
           },
           {
            "bin_start": 0.7,
            "bin_end": 0.8,
            "count": 0
           },
           {
            "bin_start": 0.8,
            "bin_end": 0.9,
            "count": 0
           },
           {
            "bin_start": 0.9,
            "bin_end": 1,
            "count": 0
           },
           {
            "bin_start": 1,
            "bin_end": 1.1,
            "count": 5
           },
           {
            "bin_start": 1.1,
            "bin_end": 1.2000000000000002,
            "count": 0
           },
           {
            "bin_start": 1.2000000000000002,
            "bin_end": 1.3,
            "count": 0
           },
           {
            "bin_start": 1.3,
            "bin_end": 1.4,
            "count": 0
           },
           {
            "bin_start": 1.4,
            "bin_end": 1.5,
            "count": 0
           }
          ]
         }
        },
        {
         "name": "DIA",
         "dtype": "int64",
         "stats": {
          "unique_count": 2,
          "nan_count": 0,
          "min": "10",
          "max": "17",
          "histogram": [
           {
            "bin_start": 10,
            "bin_end": 10.7,
            "count": 3
           },
           {
            "bin_start": 10.7,
            "bin_end": 11.4,
            "count": 0
           },
           {
            "bin_start": 11.4,
            "bin_end": 12.1,
            "count": 0
           },
           {
            "bin_start": 12.1,
            "bin_end": 12.8,
            "count": 0
           },
           {
            "bin_start": 12.8,
            "bin_end": 13.5,
            "count": 0
           },
           {
            "bin_start": 13.5,
            "bin_end": 14.2,
            "count": 0
           },
           {
            "bin_start": 14.2,
            "bin_end": 14.899999999999999,
            "count": 0
           },
           {
            "bin_start": 14.899999999999999,
            "bin_end": 15.6,
            "count": 0
           },
           {
            "bin_start": 15.6,
            "bin_end": 16.3,
            "count": 0
           },
           {
            "bin_start": 16.3,
            "bin_end": 17,
            "count": 2
           }
          ]
         }
        },
        {
         "name": "MES",
         "dtype": "int64",
         "stats": {
          "unique_count": 1,
          "nan_count": 0,
          "min": "6",
          "max": "6",
          "histogram": [
           {
            "bin_start": 5.5,
            "bin_end": 5.6,
            "count": 0
           },
           {
            "bin_start": 5.6,
            "bin_end": 5.7,
            "count": 0
           },
           {
            "bin_start": 5.7,
            "bin_end": 5.8,
            "count": 0
           },
           {
            "bin_start": 5.8,
            "bin_end": 5.9,
            "count": 0
           },
           {
            "bin_start": 5.9,
            "bin_end": 6,
            "count": 0
           },
           {
            "bin_start": 6,
            "bin_end": 6.1,
            "count": 5
           },
           {
            "bin_start": 6.1,
            "bin_end": 6.2,
            "count": 0
           },
           {
            "bin_start": 6.2,
            "bin_end": 6.3,
            "count": 0
           },
           {
            "bin_start": 6.3,
            "bin_end": 6.4,
            "count": 0
           },
           {
            "bin_start": 6.4,
            "bin_end": 6.5,
            "count": 0
           }
          ]
         }
        },
        {
         "name": "ANO",
         "dtype": "int64",
         "stats": {
          "unique_count": 1,
          "nan_count": 0,
          "min": "2022",
          "max": "2022",
          "histogram": [
           {
            "bin_start": 2021.5,
            "bin_end": 2021.6,
            "count": 0
           },
           {
            "bin_start": 2021.6,
            "bin_end": 2021.7,
            "count": 0
           },
           {
            "bin_start": 2021.7,
            "bin_end": 2021.8,
            "count": 0
           },
           {
            "bin_start": 2021.8,
            "bin_end": 2021.9,
            "count": 0
           },
           {
            "bin_start": 2021.9,
            "bin_end": 2022,
            "count": 0
           },
           {
            "bin_start": 2022,
            "bin_end": 2022.1,
            "count": 5
           },
           {
            "bin_start": 2022.1,
            "bin_end": 2022.2,
            "count": 0
           },
           {
            "bin_start": 2022.2,
            "bin_end": 2022.3,
            "count": 0
           },
           {
            "bin_start": 2022.3,
            "bin_end": 2022.4,
            "count": 0
           },
           {
            "bin_start": 2022.4,
            "bin_end": 2022.5,
            "count": 0
           }
          ]
         }
        },
        {
         "name": "BENEFICIARIO_SALES",
         "dtype": "int64",
         "stats": {
          "unique_count": 2,
          "nan_count": 0,
          "min": "1",
          "max": "5",
          "histogram": [
           {
            "bin_start": 1,
            "bin_end": 1.4,
            "count": 1
           },
           {
            "bin_start": 1.4,
            "bin_end": 1.8,
            "count": 0
           },
           {
            "bin_start": 1.8,
            "bin_end": 2.2,
            "count": 0
           },
           {
            "bin_start": 2.2,
            "bin_end": 2.6,
            "count": 0
           },
           {
            "bin_start": 2.6,
            "bin_end": 3,
            "count": 0
           },
           {
            "bin_start": 3,
            "bin_end": 3.4000000000000004,
            "count": 0
           },
           {
            "bin_start": 3.4000000000000004,
            "bin_end": 3.8000000000000003,
            "count": 0
           },
           {
            "bin_start": 3.8000000000000003,
            "bin_end": 4.2,
            "count": 0
           },
           {
            "bin_start": 4.2,
            "bin_end": 4.6,
            "count": 0
           },
           {
            "bin_start": 4.6,
            "bin_end": 5,
            "count": 4
           }
          ]
         }
        },
        {
         "name": "IMPORTE_GASTOS_PROMEDIO",
         "dtype": "float64",
         "stats": {
          "unique_count": 1,
          "nan_count": 0,
          "min": "583159.3705128209",
          "max": "583159.3705128209",
          "histogram": [
           {
            "bin_start": 583158.8705128209,
            "bin_end": 583158.9705128209,
            "count": 0
           },
           {
            "bin_start": 583158.9705128209,
            "bin_end": 583159.0705128209,
            "count": 0
           },
           {
            "bin_start": 583159.0705128209,
            "bin_end": 583159.170512821,
            "count": 0
           },
           {
            "bin_start": 583159.170512821,
            "bin_end": 583159.2705128209,
            "count": 0
           },
           {
            "bin_start": 583159.2705128209,
            "bin_end": 583159.3705128209,
            "count": 0
           },
           {
            "bin_start": 583159.3705128209,
            "bin_end": 583159.4705128209,
            "count": 5
           },
           {
            "bin_start": 583159.4705128209,
            "bin_end": 583159.5705128209,
            "count": 0
           },
           {
            "bin_start": 583159.5705128209,
            "bin_end": 583159.670512821,
            "count": 0
           },
           {
            "bin_start": 583159.670512821,
            "bin_end": 583159.7705128209,
            "count": 0
           },
           {
            "bin_start": 583159.7705128209,
            "bin_end": 583159.8705128209,
            "count": 0
           }
          ]
         }
        },
        {
         "name": "HAS_LINKEDIN_SITE",
         "dtype": "int8",
         "stats": {
          "unique_count": 1,
          "nan_count": 0,
          "min": "0",
          "max": "0",
          "histogram": [
           {
            "bin_start": -0.5,
            "bin_end": -0.4,
            "count": 0
           },
           {
            "bin_start": -0.4,
            "bin_end": -0.3,
            "count": 0
           },
           {
            "bin_start": -0.3,
            "bin_end": -0.19999999999999996,
            "count": 0
           },
           {
            "bin_start": -0.19999999999999996,
            "bin_end": -0.09999999999999998,
            "count": 0
           },
           {
            "bin_start": -0.09999999999999998,
            "bin_end": 0,
            "count": 0
           },
           {
            "bin_start": 0,
            "bin_end": 0.10000000000000009,
            "count": 5
           },
           {
            "bin_start": 0.10000000000000009,
            "bin_end": 0.20000000000000007,
            "count": 0
           },
           {
            "bin_start": 0.20000000000000007,
            "bin_end": 0.30000000000000004,
            "count": 0
           },
           {
            "bin_start": 0.30000000000000004,
            "bin_end": 0.4,
            "count": 0
           },
           {
            "bin_start": 0.4,
            "bin_end": 0.5,
            "count": 0
           }
          ]
         }
        },
        {
         "name": "_deepnote_index_column",
         "dtype": "int64"
        }
       ],
       "rows": [
        {
         "CVE BEN": 110150,
         "BENEFICIARIO": 102,
         "RFC": 108,
         "FACTURAS": 879,
         "CONTRATO": 133,
         "CONCEPTO": 1354,
         "TIPO": 1,
         "FDO-#OP": 1022838,
         "FECHA": 12,
         "IMPORTE": 885080,
         "SHEET": 1,
         "DIA": 17,
         "MES": 6,
         "ANO": 2022,
         "BENEFICIARIO_SALES": 1,
         "IMPORTE_GASTOS_PROMEDIO": 583159.3705128209,
         "HAS_LINKEDIN_SITE": 0,
         "_deepnote_index_column": 0
        },
        {
         "CVE BEN": 110741,
         "BENEFICIARIO": 11,
         "RFC": 27,
         "FACTURAS": 1413,
         "CONTRATO": 38,
         "CONCEPTO": 1340,
         "TIPO": 1,
         "FDO-#OP": 1022770,
         "FECHA": 7,
         "IMPORTE": 52854.24,
         "SHEET": 1,
         "DIA": 10,
         "MES": 6,
         "ANO": 2022,
         "BENEFICIARIO_SALES": 5,
         "IMPORTE_GASTOS_PROMEDIO": 583159.3705128209,
         "HAS_LINKEDIN_SITE": 0,
         "_deepnote_index_column": 1
        },
        {
         "CVE BEN": 110741,
         "BENEFICIARIO": 11,
         "RFC": 27,
         "FACTURAS": 1412,
         "CONTRATO": 51,
         "CONCEPTO": 1342,
         "TIPO": 1,
         "FDO-#OP": 1022770,
         "FECHA": 7,
         "IMPORTE": 28596.32,
         "SHEET": 1,
         "DIA": 10,
         "MES": 6,
         "ANO": 2022,
         "BENEFICIARIO_SALES": 5,
         "IMPORTE_GASTOS_PROMEDIO": 583159.3705128209,
         "HAS_LINKEDIN_SITE": 0,
         "_deepnote_index_column": 2
        },
        {
         "CVE BEN": 110741,
         "BENEFICIARIO": 11,
         "RFC": 27,
         "FACTURAS": 1409,
         "CONTRATO": 8,
         "CONCEPTO": 1345,
         "TIPO": 1,
         "FDO-#OP": 1022770,
         "FECHA": 7,
         "IMPORTE": 3781.6,
         "SHEET": 1,
         "DIA": 10,
         "MES": 6,
         "ANO": 2022,
         "BENEFICIARIO_SALES": 5,
         "IMPORTE_GASTOS_PROMEDIO": 583159.3705128209,
         "HAS_LINKEDIN_SITE": 0,
         "_deepnote_index_column": 3
        },
        {
         "CVE BEN": 110741,
         "BENEFICIARIO": 11,
         "RFC": 27,
         "FACTURAS": 1411,
         "CONTRATO": 39,
         "CONCEPTO": 1416,
         "TIPO": 1,
         "FDO-#OP": 1022815,
         "FECHA": 12,
         "IMPORTE": 2872.1,
         "SHEET": 1,
         "DIA": 17,
         "MES": 6,
         "ANO": 2022,
         "BENEFICIARIO_SALES": 5,
         "IMPORTE_GASTOS_PROMEDIO": 583159.3705128209,
         "HAS_LINKEDIN_SITE": 0,
         "_deepnote_index_column": 4
        }
       ]
      },
      "text/plain": "   CVE BEN  BENEFICIARIO  RFC  FACTURAS  CONTRATO  CONCEPTO  TIPO    FDO-#OP  \\\n0   110150           102  108       879       133      1354     1  1022838.0   \n1   110741            11   27      1413        38      1340     1  1022770.0   \n2   110741            11   27      1412        51      1342     1  1022770.0   \n3   110741            11   27      1409         8      1345     1  1022770.0   \n4   110741            11   27      1411        39      1416     1  1022815.0   \n\n   FECHA    IMPORTE  SHEET  DIA  MES   ANO  BENEFICIARIO_SALES  \\\n0     12  885080.00      1   17    6  2022                   1   \n1      7   52854.24      1   10    6  2022                   5   \n2      7   28596.32      1   10    6  2022                   5   \n3      7    3781.60      1   10    6  2022                   5   \n4     12    2872.10      1   17    6  2022                   5   \n\n   IMPORTE_GASTOS_PROMEDIO  HAS_LINKEDIN_SITE  \n0            583159.370513                  0  \n1            583159.370513                  0  \n2            583159.370513                  0  \n3            583159.370513                  0  \n4            583159.370513                  0  ",
      "text/html": "<div>\n<style scoped>\n    .dataframe tbody tr th:only-of-type {\n        vertical-align: middle;\n    }\n\n    .dataframe tbody tr th {\n        vertical-align: top;\n    }\n\n    .dataframe thead th {\n        text-align: right;\n    }\n</style>\n<table border=\"1\" class=\"dataframe\">\n  <thead>\n    <tr style=\"text-align: right;\">\n      <th></th>\n      <th>CVE BEN</th>\n      <th>BENEFICIARIO</th>\n      <th>RFC</th>\n      <th>FACTURAS</th>\n      <th>CONTRATO</th>\n      <th>CONCEPTO</th>\n      <th>TIPO</th>\n      <th>FDO-#OP</th>\n      <th>FECHA</th>\n      <th>IMPORTE</th>\n      <th>SHEET</th>\n      <th>DIA</th>\n      <th>MES</th>\n      <th>ANO</th>\n      <th>BENEFICIARIO_SALES</th>\n      <th>IMPORTE_GASTOS_PROMEDIO</th>\n      <th>HAS_LINKEDIN_SITE</th>\n    </tr>\n  </thead>\n  <tbody>\n    <tr>\n      <th>0</th>\n      <td>110150</td>\n      <td>102</td>\n      <td>108</td>\n      <td>879</td>\n      <td>133</td>\n      <td>1354</td>\n      <td>1</td>\n      <td>1022838.0</td>\n      <td>12</td>\n      <td>885080.00</td>\n      <td>1</td>\n      <td>17</td>\n      <td>6</td>\n      <td>2022</td>\n      <td>1</td>\n      <td>583159.370513</td>\n      <td>0</td>\n    </tr>\n    <tr>\n      <th>1</th>\n      <td>110741</td>\n      <td>11</td>\n      <td>27</td>\n      <td>1413</td>\n      <td>38</td>\n      <td>1340</td>\n      <td>1</td>\n      <td>1022770.0</td>\n      <td>7</td>\n      <td>52854.24</td>\n      <td>1</td>\n      <td>10</td>\n      <td>6</td>\n      <td>2022</td>\n      <td>5</td>\n      <td>583159.370513</td>\n      <td>0</td>\n    </tr>\n    <tr>\n      <th>2</th>\n      <td>110741</td>\n      <td>11</td>\n      <td>27</td>\n      <td>1412</td>\n      <td>51</td>\n      <td>1342</td>\n      <td>1</td>\n      <td>1022770.0</td>\n      <td>7</td>\n      <td>28596.32</td>\n      <td>1</td>\n      <td>10</td>\n      <td>6</td>\n      <td>2022</td>\n      <td>5</td>\n      <td>583159.370513</td>\n      <td>0</td>\n    </tr>\n    <tr>\n      <th>3</th>\n      <td>110741</td>\n      <td>11</td>\n      <td>27</td>\n      <td>1409</td>\n      <td>8</td>\n      <td>1345</td>\n      <td>1</td>\n      <td>1022770.0</td>\n      <td>7</td>\n      <td>3781.60</td>\n      <td>1</td>\n      <td>10</td>\n      <td>6</td>\n      <td>2022</td>\n      <td>5</td>\n      <td>583159.370513</td>\n      <td>0</td>\n    </tr>\n    <tr>\n      <th>4</th>\n      <td>110741</td>\n      <td>11</td>\n      <td>27</td>\n      <td>1411</td>\n      <td>39</td>\n      <td>1416</td>\n      <td>1</td>\n      <td>1022815.0</td>\n      <td>12</td>\n      <td>2872.10</td>\n      <td>1</td>\n      <td>17</td>\n      <td>6</td>\n      <td>2022</td>\n      <td>5</td>\n      <td>583159.370513</td>\n      <td>0</td>\n    </tr>\n  </tbody>\n</table>\n</div>"
     },
     "metadata": {}
    }
   ],
   "execution_count": null
  },
  {
   "cell_type": "code",
   "source": "from sklearn.ensemble import RandomForestRegressor\nfrom sklearn.model_selection import train_test_split",
   "metadata": {
    "cell_id": "30f3ca1861af49e291b53951852758d0",
    "tags": [],
    "deepnote_to_be_reexecuted": false,
    "source_hash": "4c00ed2d",
    "execution_start": 1659504068845,
    "execution_millis": 1,
    "deepnote_cell_type": "code",
    "deepnote_cell_height": 94
   },
   "outputs": [],
   "execution_count": null
  },
  {
   "cell_type": "code",
   "source": "y = data.pop('IMPORTE')\nX = data.copy()",
   "metadata": {
    "cell_id": "499f99d174e44265b0ac9a89c0485171",
    "tags": [],
    "deepnote_to_be_reexecuted": false,
    "source_hash": "c5e944ee",
    "execution_start": 1659504110558,
    "execution_millis": 2,
    "deepnote_cell_type": "code",
    "deepnote_cell_height": 94
   },
   "outputs": [],
   "execution_count": null
  },
  {
   "cell_type": "code",
   "source": "X_train, X_test, y_train, y_test = train_test_split(X, y, test_size=0.33, random_state=42)",
   "metadata": {
    "cell_id": "157d529c51fe4801a7d8bde8d366d41d",
    "tags": [],
    "deepnote_to_be_reexecuted": false,
    "source_hash": "4288453a",
    "execution_start": 1659504184293,
    "execution_millis": 1,
    "deepnote_cell_type": "code",
    "deepnote_cell_height": 81
   },
   "outputs": [],
   "execution_count": null
  },
  {
   "cell_type": "code",
   "source": "clf = RandomForestRegressor(n_estimators=1000, max_depth=4)",
   "metadata": {
    "cell_id": "65cf13ba28154be8901bb6d8b9b8af3d",
    "tags": [],
    "deepnote_to_be_reexecuted": false,
    "source_hash": "236767c0",
    "execution_start": 1659504237229,
    "execution_millis": 1,
    "deepnote_cell_type": "code",
    "deepnote_cell_height": 76
   },
   "outputs": [],
   "execution_count": null
  },
  {
   "cell_type": "code",
   "source": "clf.fit(X_train, y_train)",
   "metadata": {
    "cell_id": "2bab32c90425454a8b2e3dcce1716f6b",
    "tags": [],
    "deepnote_to_be_reexecuted": false,
    "source_hash": "e7844c31",
    "execution_start": 1659504287308,
    "execution_millis": 2532,
    "deepnote_cell_type": "code",
    "deepnote_cell_height": 152.34375,
    "deepnote_output_heights": [
     60.34375
    ]
   },
   "outputs": [
    {
     "output_type": "execute_result",
     "execution_count": 14,
     "data": {
      "text/plain": "RandomForestRegressor(max_depth=4, n_estimators=1000)",
      "text/html": "<style>#sk-container-id-1 {color: black;background-color: white;}#sk-container-id-1 pre{padding: 0;}#sk-container-id-1 div.sk-toggleable {background-color: white;}#sk-container-id-1 label.sk-toggleable__label {cursor: pointer;display: block;width: 100%;margin-bottom: 0;padding: 0.3em;box-sizing: border-box;text-align: center;}#sk-container-id-1 label.sk-toggleable__label-arrow:before {content: \"▸\";float: left;margin-right: 0.25em;color: #696969;}#sk-container-id-1 label.sk-toggleable__label-arrow:hover:before {color: black;}#sk-container-id-1 div.sk-estimator:hover label.sk-toggleable__label-arrow:before {color: black;}#sk-container-id-1 div.sk-toggleable__content {max-height: 0;max-width: 0;overflow: hidden;text-align: left;background-color: #f0f8ff;}#sk-container-id-1 div.sk-toggleable__content pre {margin: 0.2em;color: black;border-radius: 0.25em;background-color: #f0f8ff;}#sk-container-id-1 input.sk-toggleable__control:checked~div.sk-toggleable__content {max-height: 200px;max-width: 100%;overflow: auto;}#sk-container-id-1 input.sk-toggleable__control:checked~label.sk-toggleable__label-arrow:before {content: \"▾\";}#sk-container-id-1 div.sk-estimator input.sk-toggleable__control:checked~label.sk-toggleable__label {background-color: #d4ebff;}#sk-container-id-1 div.sk-label input.sk-toggleable__control:checked~label.sk-toggleable__label {background-color: #d4ebff;}#sk-container-id-1 input.sk-hidden--visually {border: 0;clip: rect(1px 1px 1px 1px);clip: rect(1px, 1px, 1px, 1px);height: 1px;margin: -1px;overflow: hidden;padding: 0;position: absolute;width: 1px;}#sk-container-id-1 div.sk-estimator {font-family: monospace;background-color: #f0f8ff;border: 1px dotted black;border-radius: 0.25em;box-sizing: border-box;margin-bottom: 0.5em;}#sk-container-id-1 div.sk-estimator:hover {background-color: #d4ebff;}#sk-container-id-1 div.sk-parallel-item::after {content: \"\";width: 100%;border-bottom: 1px solid gray;flex-grow: 1;}#sk-container-id-1 div.sk-label:hover label.sk-toggleable__label {background-color: #d4ebff;}#sk-container-id-1 div.sk-serial::before {content: \"\";position: absolute;border-left: 1px solid gray;box-sizing: border-box;top: 0;bottom: 0;left: 50%;z-index: 0;}#sk-container-id-1 div.sk-serial {display: flex;flex-direction: column;align-items: center;background-color: white;padding-right: 0.2em;padding-left: 0.2em;position: relative;}#sk-container-id-1 div.sk-item {position: relative;z-index: 1;}#sk-container-id-1 div.sk-parallel {display: flex;align-items: stretch;justify-content: center;background-color: white;position: relative;}#sk-container-id-1 div.sk-item::before, #sk-container-id-1 div.sk-parallel-item::before {content: \"\";position: absolute;border-left: 1px solid gray;box-sizing: border-box;top: 0;bottom: 0;left: 50%;z-index: -1;}#sk-container-id-1 div.sk-parallel-item {display: flex;flex-direction: column;z-index: 1;position: relative;background-color: white;}#sk-container-id-1 div.sk-parallel-item:first-child::after {align-self: flex-end;width: 50%;}#sk-container-id-1 div.sk-parallel-item:last-child::after {align-self: flex-start;width: 50%;}#sk-container-id-1 div.sk-parallel-item:only-child::after {width: 0;}#sk-container-id-1 div.sk-dashed-wrapped {border: 1px dashed gray;margin: 0 0.4em 0.5em 0.4em;box-sizing: border-box;padding-bottom: 0.4em;background-color: white;}#sk-container-id-1 div.sk-label label {font-family: monospace;font-weight: bold;display: inline-block;line-height: 1.2em;}#sk-container-id-1 div.sk-label-container {text-align: center;}#sk-container-id-1 div.sk-container {/* jupyter's `normalize.less` sets `[hidden] { display: none; }` but bootstrap.min.css set `[hidden] { display: none !important; }` so we also need the `!important` here to be able to override the default hidden behavior on the sphinx rendered scikit-learn.org. See: https://github.com/scikit-learn/scikit-learn/issues/21755 */display: inline-block !important;position: relative;}#sk-container-id-1 div.sk-text-repr-fallback {display: none;}</style><div id=\"sk-container-id-1\" class=\"sk-top-container\"><div class=\"sk-text-repr-fallback\"><pre>RandomForestRegressor(max_depth=4, n_estimators=1000)</pre><b>In a Jupyter environment, please rerun this cell to show the HTML representation or trust the notebook. <br />On GitHub, the HTML representation is unable to render, please try loading this page with nbviewer.org.</b></div><div class=\"sk-container\" hidden><div class=\"sk-item\"><div class=\"sk-estimator sk-toggleable\"><input class=\"sk-toggleable__control sk-hidden--visually\" id=\"sk-estimator-id-1\" type=\"checkbox\" checked><label for=\"sk-estimator-id-1\" class=\"sk-toggleable__label sk-toggleable__label-arrow\">RandomForestRegressor</label><div class=\"sk-toggleable__content\"><pre>RandomForestRegressor(max_depth=4, n_estimators=1000)</pre></div></div></div></div></div>"
     },
     "metadata": {}
    }
   ],
   "execution_count": null
  },
  {
   "cell_type": "code",
   "source": "from sklearn.metrics import r2_score",
   "metadata": {
    "cell_id": "790f68daa7f845478beeb0d921820765",
    "tags": [],
    "deepnote_to_be_reexecuted": false,
    "source_hash": "68d99fc8",
    "execution_start": 1659504396906,
    "execution_millis": 5,
    "deepnote_cell_type": "code",
    "deepnote_cell_height": 76
   },
   "outputs": [],
   "execution_count": null
  },
  {
   "cell_type": "code",
   "source": "r2_score(y_test, clf.predict(X_test))",
   "metadata": {
    "cell_id": "1c5cd88bfb6c4393a2754f07a9a9e370",
    "tags": [],
    "deepnote_to_be_reexecuted": false,
    "source_hash": "b380cf5a",
    "execution_start": 1659504455378,
    "execution_millis": 125,
    "deepnote_cell_type": "code",
    "deepnote_cell_height": 113.1875,
    "deepnote_output_heights": [
     21.1875
    ]
   },
   "outputs": [
    {
     "output_type": "execute_result",
     "execution_count": 16,
     "data": {
      "text/plain": "0.3474717163892854"
     },
     "metadata": {}
    }
   ],
   "execution_count": null
  },
  {
   "cell_type": "markdown",
   "source": "## Probar un Modelo No Supervisado o de Clustering para Texto",
   "metadata": {
    "cell_id": "a132b83cdd7146fbb841219a352b6f79",
    "tags": [],
    "deepnote_cell_type": "markdown",
    "deepnote_cell_height": 82.78125
   }
  },
  {
   "cell_type": "code",
   "source": "import gensim\nimport nltk\nfrom nltk.corpus import stopwords\nimport numpy as np\nnp.random.seed(2021)",
   "metadata": {
    "cell_id": "0978b0c8f9be4136b6333310cad0c4c1",
    "tags": [],
    "deepnote_to_be_reexecuted": false,
    "source_hash": "519acf7e",
    "execution_start": 1659505396987,
    "execution_millis": 6,
    "deepnote_cell_type": "code",
    "deepnote_cell_height": 148
   },
   "outputs": [],
   "execution_count": null
  },
  {
   "cell_type": "code",
   "source": "nltk.download('stopwords')",
   "metadata": {
    "cell_id": "76eb4ddf69b54738a4b63f9a2719e49a",
    "tags": [],
    "deepnote_to_be_reexecuted": false,
    "source_hash": "22fa07fa",
    "execution_start": 1659505436373,
    "execution_millis": 853,
    "deepnote_cell_type": "code",
    "deepnote_cell_height": 179.5625,
    "deepnote_output_heights": [
     null,
     21.1875
    ]
   },
   "outputs": [
    {
     "name": "stderr",
     "text": "[nltk_data] Downloading package stopwords to /root/nltk_data...\n[nltk_data]   Unzipping corpora/stopwords.zip.\n",
     "output_type": "stream"
    },
    {
     "output_type": "execute_result",
     "execution_count": 28,
     "data": {
      "text/plain": "True"
     },
     "metadata": {}
    }
   ],
   "execution_count": null
  },
  {
   "cell_type": "code",
   "source": "def preprocess(text):\n    result = []\n    for token in text.split():\n        if token not in stopwords.words('spanish') and len(token)>4:\n            result.append(token)\n    return result",
   "metadata": {
    "cell_id": "ad3517fc077b4a07a61f2fa4bbded92d",
    "tags": [],
    "deepnote_to_be_reexecuted": false,
    "source_hash": "bcb10d9c",
    "execution_start": 1659505137314,
    "execution_millis": 1,
    "deepnote_cell_type": "code",
    "deepnote_cell_height": 166
   },
   "outputs": [],
   "execution_count": null
  },
  {
   "cell_type": "code",
   "source": "process_business = [preprocess(x) for x in list(compras_df['BENEFICIARIO'].unique())]",
   "metadata": {
    "cell_id": "f97d5a5869d946b897d966c7e12b2a61",
    "tags": [],
    "deepnote_to_be_reexecuted": false,
    "source_hash": "f59dc328",
    "execution_start": 1659505452033,
    "execution_millis": 756,
    "deepnote_cell_type": "code",
    "deepnote_cell_height": 81
   },
   "outputs": [],
   "execution_count": null
  },
  {
   "cell_type": "code",
   "source": "process_business",
   "metadata": {
    "cell_id": "a44f7cddf88c47c3a2d5e65e4fc37ff2",
    "tags": [],
    "deepnote_to_be_reexecuted": false,
    "source_hash": "2bb6d86b",
    "execution_start": 1659505496979,
    "execution_millis": 337,
    "deepnote_cell_type": "code",
    "deepnote_cell_height": 703,
    "deepnote_output_heights": [
     611
    ]
   },
   "outputs": [
    {
     "output_type": "execute_result",
     "execution_count": 30,
     "data": {
      "text/plain": "[['COMPUMARK,'],\n ['ALMACEN', 'PAPELERO', 'SALDAÑA,'],\n ['PLOMIFERRETERA', 'TORNILLO,'],\n ['MISODI', 'PUBLICIDAD,S.A.DE'],\n ['IMPULSORA', 'RENTAS', 'SERVICIOS,'],\n ['AMERICANA,S.A.DE'],\n ['GONZALEZ', 'GARZA'],\n ['AUTOKAM', 'REGIOMONTANA,S.A.DE'],\n ['CLIMEEZ', 'NORTE,S.A.DE'],\n ['INTER', 'ENTER', 'COMPUTADORAS,'],\n ['REGIA', 'SOLUCION,'],\n ['DESARROLLOS', 'CONSTRUCTIVOS', 'NACIONALES,S.A.DE'],\n ['BIOANALISIS', 'SERVICIOS', 'HEMATOLOGICOS'],\n ['HOSPITAL', 'FELIPE', 'JESUS'],\n ['COLEGIO', 'VALUADORES', 'NUEVO', 'LEON,'],\n ['FARMACEUTICA,'],\n ['MONTERREY,'],\n ['BUSINESS', 'ELITE', 'NETWORK,'],\n ['LOPEZ', 'MARTINEZ', 'JULIAN'],\n ['BANCA', 'AFIRME,'],\n ['RODRIGUEZ', 'VALDES', 'RAYMUNDO'],\n ['SEGUROS', 'BANORTE,', 'GRUPO', 'FINANCIERO', 'BANORTE'],\n ['SERVICIOS', 'PURIFICACION', 'MAQUILA,'],\n ['INTERLAMPARAS,'],\n ['EPSILON', 'ENTERTAINMENT,'],\n ['AUDIO', 'CONTROL', 'INDUSTRIAL,'],\n ['GRUPO', 'ROSH,'],\n ['MEDICAL,'],\n ['SMART', 'NETWORKS,'],\n ['SERVICIOS', 'EMPRESARIALES', 'CEMARU,'],\n ['GRUPO', 'COYOTE', 'MONTERREY,'],\n ['INDUSTRIAS', 'BASIC,'],\n ['FRANCO', 'GARCIA', 'MARIBEL'],\n ['BENITES', 'VALDES', 'LUCIO'],\n ['ESTETICA'],\n ['TECNOELECTRICA', 'UNIVERSAL', 'MONTERREY,'],\n ['HOSP.UNIVERSITARIO', 'DR.JOSE', 'E.GONZALEZ'],\n ['INSTITUTO', 'JUVENTUD', 'REGIA'],\n ['BANCO', 'MULTIVA,', 'G.F.M.'],\n ['INSTITUTO', 'MPAL.DE', 'PLANEAC.URB.Y', 'CONVIVENCIA', 'MONTERREY'],\n ['SERVICIO', 'ADMINISTRACION', 'TRIBUTARIA'],\n ['SEMARNAT-CONAGUA'],\n ['S.U.T.S.M.M.'],\n ['CENTRO', 'INTERNACIONAL', 'NEGOCIOS', 'MONTERREY,'],\n ['SECRETARIA', 'FINANZAS', 'TESORERIA'],\n ['MUNICIPIO', 'CIUDAD', 'MONTERREY'],\n ['SUMINISTRADOR', 'SERVICIOS', 'BASICOS'],\n ['NATURGY', 'MEXICO,'],\n ['AGUIRRE', 'MANUEL'],\n ['ARIAS', 'VILLALOBOS', 'FRANCISCO'],\n ['BALDERAS', 'ENRIQUEZ'],\n ['CALDERON', 'MORENO', 'EDWIN'],\n ['CANTU', 'SANTAMARIA', 'LETICIA'],\n ['CARRILLO', 'CHAVEZ', 'ENRIQUE'],\n ['CASTILLO', 'TAMEZ', 'DIANA', 'LIZETH'],\n ['CAZARES', 'REYES', 'JESUS'],\n ['CONSTRUCTORA', 'JOMABE,'],\n ['MARTHA'],\n ['DELGADO', 'AVILA', 'IRVING', 'ARMANDO'],\n ['DURAN', 'GARCIA', 'OSWALDO', 'BALDEMAR'],\n ['EDIFICIO', 'SANTOS,'],\n ['GARZA', 'GONZALEZ', 'ALICIA'],\n ['GONZALEZ', 'PAREDES', 'ALFREDO'],\n ['GUAJARDO', 'ASOCS.CONSTRUCTORA,'],\n ['HERNANDEZ', 'CHAVEZ', 'KEVIN'],\n ['HERNANDEZ', 'GUTIERREZ', 'LAURA', 'JOYCELINE'],\n ['ESPACIOS'],\n ['INMUEBLES', 'NUEVO', 'LEON,'],\n ['INVERSIONES', 'MIRALTA'],\n ['RIVERA', 'JONATHAN'],\n ['MALDONADO', 'MELCHOR', 'MARCOS'],\n ['PAVIMENTOS', 'CONSTRUCCIONES', 'GARCAN,'],\n ['PEREZ', 'ROSALES', 'MIGUEL', 'ANTONIO'],\n ['RAMOS', 'ACEVEDO', 'ALICIA'],\n ['RANGEL', 'CANTU', 'RAMIRO'],\n ['RIVERA', 'TREVIÑO', 'DAVID'],\n ['RODRIGUEZ', 'ROBERTO'],\n ['RODRIGUEZ', 'SOLIS', 'MARIA', 'REFUGIO'],\n ['RUELAS', 'HERNANDEZ', 'ANDRES'],\n ['SAENZ', 'MANSUR', 'ZAIRA'],\n ['TEKRENTA.SA.'],\n ['VALDEZ', 'CAVAZOS', 'EDUARDO'],\n ['ARANGUA', 'MAGDALENA'],\n ['VILLANUEVA', 'ESPINOSA', 'ROMAN', 'ARTURO'],\n ['CHUBB', 'SEGUROS', 'MEXICO,'],\n ['SEGUROS,'],\n ['EMERGENCIA', 'MEDICA', 'PROFESIONAL,'],\n ['ESPECTACULOS', 'UNIVERSALES'],\n ['FAMSA', 'MEXICO,'],\n ['GUZMAN', 'GARCIA', 'MARIA', 'LUISA'],\n ['HINV,', 'SOFOM,', 'E.N.R.'],\n ['IMPULSORA', 'PROMOBIEN,'],\n ['INFONACOT'],\n ['METLIFE', 'MEXICO,'],\n ['PATRIMONIO', 'SOFOM'],\n ['QUALITAS', 'COMPAÑIA', 'SEGUROS,'],\n ['SALAS', 'TIRADO', 'FRANCISCO'],\n ['SEGUROS', 'ARGOS,'],\n ['SEGUROS', 'GRUPO', 'FINANCIERO'],\n ['TELECOMUNICACION', 'MERCADOTECNIA'],\n ['TORRE', 'CANTU', 'EUGENIA'],\n ['PENSIONES', 'JUBILACIONES', 'EMPL.', 'MONTERREY'],\n ['ALONSO', 'ORTIZ', 'FELICITAS'],\n ['REYNA', 'PATRICIA'],\n ['HERNANDEZ', 'JIMENEZ', 'EDUARDO'],\n ['GARZA', 'MORALES', 'YADIRA', 'HORTENCIA'],\n ['CAVAZOS', 'GARCIA', 'ANTERO'],\n ['ALVARADO', 'GONZALEZ', 'NICOLAS'],\n ['PALOMO', 'FLORES', 'MARIA', 'ANTONIETA'],\n ['REYNA', 'ANALAURA'],\n ['HERNANDEZ', 'GONZALEZ', 'TANIA', 'IVONNE'],\n ['TIJERINA', 'GOMEZ', 'LUCAS', 'OCTAVIO'],\n ['RAMIREZ', 'ORTIZ', 'RAQUEL', 'ADELA'],\n ['LATIN'],\n ['LINARES', 'TORRES', 'FERNANDO', 'MANUEL'],\n ['SERVICES,'],\n ['IMPRENTA', 'PERCHES,'],\n ['SERVICIO', 'TECNICO', 'CHURUBUSCO,'],\n ['MICROXPERTS,'],\n [],\n ['GARCIA', 'ZAVALA', 'EDGAR', 'ALEJANDRO', 'JOBERAGAN'],\n ['REPARACIONES', 'MANUFACTURAS', 'HIDRAULICAS,'],\n ['GARIBALDI', 'FRECH', 'MARCELO', 'ANDRES'],\n ['DESARROLLO'],\n ['SERVICIOS', 'BROXEL,', 'S.A.P.I.'],\n ['PUBLICIDAD', 'COMERCIALIZADORA', 'NORTE,'],\n ['SIERRA', 'MADRE', 'RACING,'],\n ['GRUPO', 'AUTOMOTRIZ,'],\n ['ENERGY', 'MEXICO,'],\n ['BOMBEROS', 'NUEVO', 'LEON,', 'A.B.P.'],\n ['SIMPLE', 'PHARMA', 'MEXICO,'],\n ['RAMIREZ', 'RAMIREZ', 'ALEJANDRO'],\n ['SUNSHINE', 'SHOP,'],\n ['GONZALEZ', 'RAMIREZ', 'CARLOS', 'ADRIAN'],\n ['PACKMTY,'],\n ['GLAMOUR', 'MUSICAL,'],\n ['GRUPO', \"D'GARZA\", 'EVENTOS', 'ALIMENTOS,'],\n ['GRUPO', 'DESARROLLO', 'INNOVADOR'],\n ['EDIFICACIONES', 'MANTENIMIENTO', 'INDUSTRIALES,'],\n ['GARCIA', 'CONSTRUCCIONES,'],\n ['CARNES', 'ROMULO', 'GARZA,'],\n [],\n ['ISENORTE,'],\n ['GLOBALUX,'],\n ['COMERCIALIZADORA', 'DIVELCON,'],\n ['DISEÑOS', 'INFRAESTRUCTURAS'],\n ['SERVICIOS', 'COMERCIALES,'],\n ['REFRAN', 'AUTOS,'],\n ['GMKT,'],\n ['ACOPIADORA', 'COMERCIAL', 'AGROINDUSTRIAL,'],\n ['RODRIGUEZ', 'MORENO', 'CLAUDIA', 'DEYANIRA'],\n ['ORSAN', 'NORTE,'],\n ['LOZANO', 'ONOFRE', 'PATRICIA', 'ALEJANDRA'],\n ['GARZA', 'SAUZA', 'CRISTINA'],\n ['HERNANDEZ', 'RAMIREZ', 'GUILLERMO'],\n ['BALLESTEROS', 'MANCILLA', 'LAURA', 'IRAIS'],\n ['ROCHA', 'NIETO', 'BETSABE'],\n ['MONTEMAYOR', 'GONZALEZ', 'CRISTINA'],\n ['FERNANDEZ', 'GONZALEZ', 'ARTURO'],\n ['BICHARA', 'ASSAD', 'ANDRES'],\n ['MONCADA', 'ALEJANDRO'],\n ['CHAVEZ', 'OBREGON', 'MARIA'],\n ['CASTRO', 'RODRIGUEZ', 'FRANCISCO', 'DANIEL'],\n ['SERVICIO', 'LINCOLN,'],\n ['FUMIGACIONES', 'TECNICAS', 'JARDINERIA,'],\n ['FORTE', 'COMUNICACIONES,S.A.DE'],\n ['NAUDIN', 'WILLIAMS', 'JORGE', 'TOMAS'],\n ['ORGANIZACION', 'AUTOMOTRIZ', 'MART,'],\n ['DESARROLLOS', 'HUINALA,'],\n ['SALAZAR', 'GARZA', 'ADRIANA'],\n ['TECHNOLOGY,'],\n ['URBANIZACIONES'],\n ['RECOLECTOR,'],\n ['GRUPO', 'AUTOMOTRIZ,'],\n ['SAMPOGNA', 'GARZA', 'JESUS', 'IGNACIO'],\n ['CONSTRUCTORA'],\n ['GRANTE', 'INMOBILIARIA,'],\n ['REALIA', 'CONSTRUCCIONES,'],\n ['LARRALDE', 'LAGUERA', 'MARGARITA'],\n ['PINEDA', 'GUERRERO', 'OSCAR'],\n ['INTERASFALTOS,'],\n ['OPERADORA', 'VISAR', 'CONTROL,'],\n ['ELEVADORES'],\n ['EDIFICIOS', 'DIANA', 'NORTE,'],\n ['RAMIREZ', 'VERASTEGUI', 'ISIDRO', 'RAMON'],\n ['CANTU', 'ELIZONDO', 'DANIELA'],\n ['CHAPA'],\n ['DISEÑOS', 'AUTOMOTRICES', 'CARDENAS,S.A.DE'],\n ['PRONTO', 'AUTOSERVICIO,'],\n ['SUPERLLANTAS', 'SANTO', 'DOMINGO,'],\n ['INFRAESTRUCTURA', 'URBANA,'],\n ['CONSTRUCCIONES', 'REFORZADAS,'],\n ['CONSTRUCCIONES', 'DYNAMO,'],\n ['STRUCTOR', 'CONSTRUCCIONES,'],\n ['INFRAESTRUCTURA', 'CONSTRUCCIONES', 'GARCIA,'],\n ['SERVICIOS', 'POLISEMICOS,'],\n ['CONSTRUCCIONES', 'MAQUINARIA', 'NARVAEZ,'],\n ['ORTIZ', 'MONTOYA'],\n ['CONSORCIO', 'CONSTRUCTIVO', 'PROYECTOS,'],\n ['PROYECTOS', 'DESARROLLOS', 'SALVE,'],\n ['CONSTRUCCION', 'DIRECCION'],\n ['CONTROL,'],\n ['EDIFICACIONES,'],\n ['UNDERTERRA,'],\n ['DESARROLLO', 'URBANO', 'EXCAVACIONES,'],\n ['SERVICIOS', 'ROBGA,'],\n ['CONSTRUCCIONES', 'SERVICIOS', 'NORESTE'],\n ['EXCAVACIONES', 'PAVIMENTOS'],\n ['CONSTRUCCIONES', 'MAQUINARIA', 'GUTIERREZ'],\n ['KAWAC', 'CONSTRUCCIONES'],\n ['MAQUINARIA', 'EQUIPOS', 'TERRACERIA'],\n ['PRIAM', 'PROYECTOS'],\n ['SERV.INTEGRADOS', 'SUPER.Y', 'CONSTRUCCION,', 'SA.DE'],\n ['PROYECTOS', 'CONSTRUCTIVOS', 'PEREZ'],\n ['GRUPO', 'CONSTRUCTOR', 'TREVAL'],\n ['NOLSO'],\n ['GRUPO', 'FIRME', 'MEXICO'],\n ['CONSTRUCCIONES,'],\n ['GOBIERNO', 'ESTADO', 'NUEVO'],\n ['TESORERIA', 'FEDERACION'],\n ['SERVICIOS', 'DRENAJE', 'MONTERREY,'],\n ['CAMARA', 'MEXICANA', 'INDUSTRIA', 'CONSTRUCCION'],\n ['CENTER,'],\n ['F/4086906', 'BANCOMER,'],\n ['DEPROX', 'MEXICO,'],\n ['CONSTRUCTORA', 'URBANIZADORA', 'REGIOMONTANA,'],\n ['SERVICIOS', 'INDUSTRIALES'],\n ['INMOBILIARIA'],\n ['CONSTRUCTORA', 'MYKOS,'],\n ['INFRAESTRUCTURA'],\n ['GONZALEZ', 'GOMEZ', 'OSVALDO'],\n ['CONSTRUCTORA', 'XILOFACTOS,'],\n ['JARDINERIA', 'ESMA,'],\n ['GRUPO', 'WELDOT,'],\n ['LUMINET'],\n ['CCVEGO,'],\n ['INMOBILIARIA', 'TORRE'],\n ['INVERSIONES', 'VILLARREAL'],\n ['ACOSTA', 'CAMILO'],\n ['TECON', 'TECNOLOGIA', 'AVANZADA', 'CONSTRUCCION,'],\n ['GONZALEZ', 'HERRERA', 'ABRAHAM'],\n ['INGENIERIA,'],\n ['CONSTRUCCIONES', 'PAVIMENTOS', 'ROCASA,'],\n ['CONSTRUCTORA', 'NANABI', 'XOÑIJUMU,'],\n ['COLOR', 'SHOP,'],\n ['PROYECTOS,'],\n ['CONSTRUCCIONES', 'MAQUINARIA', 'GUTIERREZ,'],\n ['ELIZONDO', 'VAZQUEZ', 'JORGE', 'BERNARDO'],\n ['ARANGUA', 'MORALES', 'MARCO', 'ANTONIO'],\n ['HINOJOSA', 'CANTU', 'ARMANDO'],\n ['ZAPATA', 'CHAVIRA', 'HOMERO', 'ARTURO'],\n ['CAMPO', 'ABADIANO', 'ANTONIO'],\n ['RENDON', 'PEREZ', 'ADRIAN'],\n ['SEPULVEDA', 'BALANDRAN', 'ROBERTO'],\n ['ABUNDIS', 'ALBERTO'],\n ['ORTEGA', 'VAZQUEZ', 'ANDRES', 'JAIME'],\n ['ROCAMONTES', 'RAMOS', 'MARCO', 'ANTONIO'],\n ['MARTINEZ', 'MAGALLANES', 'CONSULTORES,'],\n ['GRUPO'],\n ['MANAGEMENT', 'TECHNOLOGY', 'INNOVATIONS,'],\n ['CANTU', 'FLORES', 'FERNANDO'],\n ['AVALOS', 'FLORES', 'JORGE', 'ALBERTO'],\n ['TREVIZO', 'RIVAS', 'ARTURO', 'MANUEL'],\n ['GARCIA', 'VILLANUEVA', 'GUILLERMO'],\n ['NAVARRETE', 'REYES', 'RICARDO'],\n ['GRUPO', 'REGIOMONTANO', 'INVESTIGACION,'],\n ['CHAPA', 'CABRERA', 'RUBEN', 'EDUARDO'],\n ['SOLUCIONES', 'EMPRESARIALES', 'FORMACION,'],\n ['GRUPO', 'EMPRESARIAL', 'ESTRATEGIA,'],\n ['SYCNOS', 'SERVICIOS', 'CONSULTORIA', 'ESTRATEGICA'],\n ['EDITORA'],\n ['GRUPO', 'COMUNICACIONES'],\n ['CONSULTORIA', 'COMUNICACION', 'POLITICA'],\n ['MEXQUITIC', 'CORONADO', 'BEATRIZ', 'JANETH'],\n ['HORIZONTE', 'MULTIMEDIA,'],\n ['GENERANDO', 'VENTAS,'],\n ['PUBLICACIONES', 'METROPOLITANAS,', 'S.A.P.I.'],\n ['VERBO', 'LIBRE', 'EDITORES,'],\n ['AVILES', 'GARZA'],\n ['MULTIMEDIOS,'],\n ['PUBLIMAX,'],\n ['POLITICA', 'ONLINE', 'MEXICO,'],\n ['LINEA,', 'COMUNICACION', 'CERTEZA', 'INFORMATIVA,'],\n ['ATARAXIA', 'CONTENIDOS,', 'S.A.S.'],\n ['CUELLAR', 'CARDONA', 'FRANCISCO'],\n ['DESARROLLOS', 'SISTEMAS', 'TELEVISION,'],\n ['PERALES', 'BLANCA', 'ELIZABETH'],\n ['AVILA', 'HERNANDEZ', 'LINDA', 'GUADALUPE'],\n ['MONUMENTOS', 'PUBLICITARIOS,'],\n ['MARKETING,'],\n ['SERVICIOS', 'INTEGRADOS', 'NORESTE,'],\n ['MARTINEZ', 'DINORAH', 'NEITAKRIT'],\n ['WHITECK,'],\n ['HERNANDEZ', 'VALLADARES', 'GANDHY', 'ANTONIO'],\n ['MARROQUIN', 'SILVIA'],\n ['GARZA', 'RODRIGUEZ'],\n ['TRANSMISORA', 'REGIONAL', 'RADIO', 'FORMULA,'],\n ['YAPAU', 'CONSULTING,'],\n ['ACEVES', 'MANCILLAS', 'MIGUEL', 'ANGEL'],\n ['ALBARRAN', 'BAHENA', 'NESTOR'],\n ['ALMAGUER', 'OROZCO', 'FIDEL'],\n ['ALMARAZ', 'MONTEMAYOR', 'CLEMENTE', 'MARTIN'],\n ['ALVAREZ', 'GAONA', 'NUBIA', 'YANETH'],\n ['ANTONIO', 'VIRUEL', 'MARIA', 'JESUS'],\n ['ARELLANO', 'MARTINEZ', 'JESUS', 'ALBERTO'],\n ['ARRIETA', 'LEYVA', 'KENIA'],\n ['BALDERRAMA', 'MARTINEZ', 'NORMA', 'ANABEL'],\n ['BARAJAS', 'OROZCO', 'MONICA', 'COLUMBA'],\n ['BERLANGA', 'ROSAISELA'],\n ['BRIONES', 'HERNANDEZ', 'MARIA', 'JULIETA'],\n ['CABRERA', 'GARCIA', 'CLEMENTE'],\n ['CALVILLO', 'GARCIA'],\n ['CAMPOS', 'CASTILLO', 'MARVIN', 'ALEJANDRO'],\n ['CARREON', 'HUMBERTO'],\n ['CANTU', 'POMPA', 'ALEJANDRO'],\n ['CARDONA', 'LOPEZ', 'JULIETA', 'AIDEE'],\n ['CASTAÑEDA', 'TRISTAN'],\n ['CHAVARRIA', 'TAMEZ', 'ALEJANDRA'],\n ['CHAVEZ', 'DIANA', 'DOLORES'],\n ['CHAVEZ', 'JIMENEZ', 'JESUS'],\n ['CISNEROS', 'QUIROZ', 'ISELA'],\n ['CORTES', 'GONZALEZ', 'RODRIGO', 'FERNANDO'],\n ['MARTINEZ', 'ANTONIO'],\n ['RODRIGUEZ', 'EFREN', 'JONATHAN'],\n ['GUTIERREZ', 'ANDRES'],\n ['RODRIGUEZ', 'LORENA', 'YAHAIRA'],\n ['ESPINOSA', 'MARES', 'MARIA', 'MAGDALENA'],\n ['FLORES', 'ESCOBAR', 'SANJUANA'],\n ['FLORES', 'GUTIERREZ', 'BRANDON', 'DIONEY'],\n ['FLORES', 'RAMIREZ', 'MARIA', 'GUADALUPE'],\n ['FLORES', 'REYNA', 'MARTIN'],\n ['FLORES', 'RODRIGUEZ', 'SANDRA', 'YANETH'],\n ['GAMEZ', 'TORRES', 'SERGIO', 'ALEJANDRO'],\n ['GARCIA', 'DUQUE', 'RAMON'],\n ['GARCIA', 'GAMEZ', 'MIRIAM', 'LISSETH'],\n ['GARCIA', 'MARTINEZ', 'RICARDO'],\n ['GARZA', 'CISNEROS', 'MIRALDA', 'AGLAETT'],\n ['GARZA', 'ESQUIVEL', 'DIEGO', 'GERARDO'],\n ['GARZA', 'RODRIGUEZ', 'MARCO', 'ANTONIO'],\n ['GARZA', 'ALEJANDRO'],\n ['GERARDO', 'VENANCIO', 'MARIO', 'AARON'],\n ['GONZALEZ', 'AGUILERA', 'RUBEN', 'HUMBERTO'],\n ['GONZALEZ', 'GARZA', 'ANDREA', 'CAROLINA'],\n ['GONZALEZ', 'GONZALEZ', 'ESPERANZA'],\n ['GONZALEZ', 'HERRERA', 'ERICK'],\n ['GONZALEZ', 'LOZANO', 'CARLOS', 'EDUARDO'],\n ['GUERECA', 'GUZMAN', 'MIRTZA', 'DAYANNE'],\n ['GUERRERO', 'GUERRERO', 'RUBEN', 'HECTOR'],\n ['GUTIERREZ', 'MORALES', 'MARIA', 'FERNANDA'],\n ['HERNANDEZ', 'AREVALO', 'MELISSA', 'KASHANDRA'],\n ['HERNANDEZ', 'ALBERTO'],\n ['HERNANDEZ', 'MARTINEZ', 'HECTOR'],\n ['HERRERA', 'VILLANUEVA', 'RAFAEL'],\n ['JIMENEZ', 'ARELLANES', 'SERGIO', 'RICARDO'],\n ['JINES', 'RENOVATO', 'ANITA'],\n ['SANTOS', 'JORGE', 'ARMANDO'],\n ['GONZALEZ', 'ENRIQUE', 'ULISES'],\n ['GONZALEZ', 'ABELARDO'],\n ['RIVAS', 'JORGE', 'EDGARDO'],\n ['LEIJA', 'ALVARADO', 'CARLOS'],\n ['BORTONI', 'JORGE', 'EUGENIO'],\n ['LUJANO', 'ANTONIO'],\n ['MADRIGAL', 'MORALES', 'KEVIN', 'ANDRES'],\n ['MALDONADO', 'SANCHEZ', 'ISSAC'],\n ['CANALES', 'EDSON'],\n ['MARES', 'RODRIGUEZ', 'ANABEL', 'ABIGAIL'],\n ['MARTINEZ', 'GONZALEZ'],\n ['MARTINEZ', 'PEREZ', 'ANDRES'],\n ['MARTINEZ', 'ROMAN', 'CRISTOFER', 'DANIEL'],\n ['MEDINA', 'ISLAS', 'LAURA', 'ESTELA'],\n ['MEDINA', 'MENDEZ', 'JESUS'],\n ['MENDOZA', 'CASTILLO', 'SILVESTRE'],\n ['MIRANDA', 'GOMEZ', 'HECTOR', 'JONATHAN'],\n ['MORALES', 'FERRER', 'OSCAR', 'ARTURO'],\n ['MORENO'],\n ['NACIANCENO', 'SOLIS', 'NAHOMY'],\n ['JIMENEZ', 'SABAS'],\n ['NUÑEZ', 'RODRIGUEZ', 'MIGUEL', 'EDUARDO'],\n ['OLIVO', 'DIMAS', 'CARLOS', 'RUBEN'],\n ['ORDOÑEZ', 'FLORIDO', 'RODOLFO', 'ERNESTO'],\n ['PALACIOS', 'GONZALEZ', 'DIANA', 'KAREN'],\n ['PARDO', 'SANCHEZ', 'JULIETA', 'ISABEL'],\n ['RAMIREZ', 'BELMARES', 'MARIO', 'ANTONIO'],\n ['RAMIREZ', 'MENDOZA', 'LAURA', 'PAMELA'],\n ['REYES', 'RINCONI', 'CRISTIAN'],\n ['REYNA', 'JIMENEZ', 'GABRIELA', 'ALEJANDRA'],\n ['RODRIGUEZ', 'CHAPA', 'JULIO', 'CESAR'],\n ['RODRIGUEZ', 'CHAVEZ', 'FRANCISCO'],\n ['RODRIGUEZ', 'HERNANDEZ', 'MARIA', 'CARMEN'],\n ['RODRIGUEZ', 'ZAMARRIPA', 'AGUSTIN', 'ISRAEL'],\n ['ROSALES', 'LLANAS', 'FAUSTO'],\n ['SALAS', 'PANTOJA', 'JESUS', 'ENRIQUE'],\n ['SALAS', 'SALAS', 'CANDELARIO'],\n ['SALAZAR', 'BARBOZA', 'FRANCISCO'],\n ['SANCHEZ', 'CAMACHO', 'TANYA', 'DENISSE'],\n ['SANCHEZ', 'MARES', 'CARLOS', 'GUILLERMO'],\n ['SANCHEZ', 'MARTINEZ', 'GENARO'],\n ['SANCHEZ', 'REGALADO', 'RAPHAEL'],\n ['SERRANO', 'ARRAZOLA', 'ADRIAN'],\n ['TELLO', 'RODRIGUEZ', 'JONATHAN', 'ALEXANDER'],\n ['TORRES', 'ZAVALA', 'LUISA', 'FERNANDA'],\n ['TREVIÑO', 'CASTILLO', 'LUISA', 'YAZMIN'],\n ['TREVIÑO', 'PUENTE', 'LIZBETH', 'ALEJANDRA'],\n ['URDIALES', 'JAVIER'],\n ['VALLEJO', 'CORONA', 'CARMEN', 'LETICIA'],\n ['VALLEJO', 'RAMOS', 'MANUEL'],\n ['VARELA', 'PARDO', 'LILIANA', 'ESMERALDA'],\n ['VAZQUEZ', 'GARCIA', 'ANTONIO'],\n ['VELAZCO', 'LOPEZ', 'ISELA', 'LIZBETH'],\n ['VILLARREAL', 'FRESE', 'ADRIAN'],\n ['ZAPATA', 'CERDA', 'LILIANA'],\n ['ZUÑIGA', 'MARTINEZ', 'ANAYELY'],\n ['AGUILERA', 'ACEVEDO', 'ARISTEO'],\n ['AGUILERA', 'ACEVEDO', 'ENRIQUE'],\n ['AGUILERA', 'ACEVEDO', 'GUADALUPE'],\n ['AGUILERA', 'ACEVEDO', 'MARIA', 'ANDREA'],\n ['ALVARADO', 'ZUNIGA', 'PATRICIA'],\n ['ANTONIO', 'MEMIJE', 'CARLOS'],\n ['AREVALOS', 'ALVAREZ', 'LILIANA', 'ALEJANDRA'],\n ['ARRIOLA', 'OCHOA', 'MARIA', 'ISABEL'],\n ['AYALA', 'MORALES', 'FAVIO'],\n ['BARRIENTOS', 'MENDOZA'],\n ['BECERRA', 'ARAIZA', 'LIDIA'],\n ['BELTRAN', 'LOERA', 'EPIFANIA'],\n ['BERVER', 'CAMARA', 'CINTYA', 'MARISOL'],\n ['BRIONES', 'GAMEZ', 'MONICA', 'LORENA'],\n ['CALDERON', 'GOMEZ', 'GABRIEL', 'EDUARDO'],\n ['CANDELA', 'MARTINEZ', 'MARIA', 'JULIANA'],\n ['CARRILLO', 'RODRIGUEZ', 'MARCO', 'ANTONIO'],\n ['CASTELLANOS', 'POXTAN', 'HUMBERTO'],\n ['CASTILLO', 'ESPINOZA', 'EMILIO'],\n ['CENICEROS', 'ALEJANDRO'],\n ['CENICEROS', 'ALVARO'],\n ['CENICEROS', 'MARGARITA'],\n ['CEPEDA', 'MARTINEZ', 'JAVIER', 'ALEJANDRO'],\n ['CERVANTES', 'RAMIREZ', 'JESUS', 'HONORIO'],\n ['CERVANTES', 'RAMIREZ', 'LAURA', 'TERESA'],\n ['COELLO', 'RODRIGUEZ', 'APRIL', 'STEPHANIE'],\n ['CONTRERAS', 'REYNA', 'CATALINA'],\n ['CORTES', 'RAMOS', 'HECTOR', 'MIGUEL'],\n ['MARIA', 'GUADALUPE'],\n ['DAVALOS', 'SOLANO', 'SILVIA', 'EUNICE'],\n ['FUENTE', 'CASTRO', 'JORGE', 'ALBERTO'],\n ['CARMEN', 'ALVAREZ', 'JESUS'],\n ['MORALES', 'LIZBETH', 'KARINA'],\n ['DUEÑAZ', 'ALCOCER', 'GERARDO', 'GUADALUPE'],\n ['ESCOBEDO', 'MARIA', 'GLORIA'],\n ['ESPARZA', 'CAMPOS', 'MARIA', 'OFELIA'],\n ['FABELA', 'CARRIZALES', 'ESMERALDA'],\n ['FLORES', 'MANUEL', 'ALEJANDRO'],\n ['FRANCO', 'TREVIÑO', 'JESUS'],\n ['FUENTES', 'CORTEZ', 'MARIO', 'ALBERTO'],\n ['GALLEGOS', 'BARBOZA', 'FERNANDO'],\n ['GALLEGOS', 'REYES', 'HILARIO', 'ALEJANDRO'],\n ['GARCIA', 'MONTEMAYOR', 'NORMA'],\n ['GARZA', 'OVIEDO', 'JULIO', 'CESAR'],\n ['GONZALEZ', 'HERNANDEZ', 'TERESA', 'JESUS'],\n ['GONZALEZ', 'SOLIS', 'ROGELIO'],\n ['GRANADOS', 'CARRANCO', 'MELISA', 'JETZAGELY'],\n ['GUERRA', 'GARZA', 'LILIA', 'SOFIA'],\n ['GUERRA', 'PEREZ', 'ELISA'],\n ['GUERRERO', 'CUEVAS', 'EDGAR', 'RAMCES'],\n ['GUEVARA', 'MARTINEZ', 'LORENA', 'YAZMIN'],\n ['GUTIERREZ', 'VILLEGAS', 'JULIANA'],\n ['HERNANDEZ', 'CABRERA', 'CLAUDIA', 'EDITH'],\n ['HERNANDEZ', 'CALDERON', 'ROSALINDA'],\n ['HERNANDEZ', 'COVARRUBIAS', 'JESUS', 'SALVADOR'],\n ['HERNANDEZ', 'GALINDO', 'MIGUEL', 'JESUS'],\n ['HERNANDEZ', 'PAOLA', 'JANETH'],\n ['HERNANDEZ', 'LOPEZ', 'LUCIA', 'ANGELES'],\n ['HERNANDEZ', 'MALDONADO', 'MAGDALENA'],\n ['HERNANDEZ', 'PERALES', 'ARMINDA', 'ALEJANDRINA'],\n ['IBARRA', 'BARRERA', 'MARTINA'],\n ['JIMENEZ', 'LOPEZ', 'ALEXIA', 'EDITH'],\n ['JUAREZ', 'ESPINOZA', 'SERVANDO'],\n ['LOPEZ', 'REGULES', 'ADRIAN'],\n ['LOPEZ', 'VILLEGAS', 'JAHAIRA', 'ALEJANDRA'],\n ['RAYMUNDO', 'BEATRIZ'],\n ['MACIEL', 'HERNANDEZ', 'ESTELA', 'XITLALI'],\n ['MALDONADO', 'LOPEZ', 'LEWIS'],\n ['MARISCAL', 'RODRIGUEZ', 'VERONICA'],\n ['MARROQUIN', 'GARCIA', 'YOLANDA'],\n ['MARTINEZ', 'BUSTOS'],\n ['MARTINEZ', 'MOLINA', 'EDUARDO', 'ANTONIO'],\n ['DELGADO'],\n ['DELGADO', 'MANUEL'],\n ['MIJANGOS', 'JESUS', 'FERNANDO'],\n ['MONREAL', 'LOPEZ', 'NANCY', 'AURELIA'],\n ['OLIVO', 'RESENDIZ', 'GERARDO'],\n ['OROZCO', 'ROCHA', 'EDELMIRO'],\n ['VILLALOBOS', 'MARTHA', 'YADIRA'],\n ['VILLALOBOS', 'ROBERTO'],\n ['PEYRANO', 'GARZA', 'ENRIQUE', 'ANGEL'],\n ['QUIROZ', 'MERCEDES'],\n ['RAMIREZ', 'BADILLO', 'CARLOS', 'ALBERTO'],\n ['RANGEL', 'BRIBIESCA', 'JOVITA'],\n ['RANGEL', 'VENEGAS', 'ANGEL'],\n ['RENDON', 'JIMENEZ', 'CORINA'],\n ['RENDON', 'JIMENEZ', 'VICTOR', 'ALEJANDRO'],\n ['RENTERIA', 'ROSALES', 'ANTONIO'],\n ['RESENDIZ', 'CANTU', 'GUADALUPE'],\n ['FLORES', 'MARIA', 'JESUS'],\n ['CABRERA', 'ELVIRA'],\n ['RODRIGUEZ', 'CARRIZALES', 'CYNTHIA', 'GUADALUPE'],\n ['RODRIGUEZ', 'PEREZ', 'MARIA', 'GUADALUPE'],\n ['RODRIGUEZ', 'VALERO', 'RODRIGO', 'ARIEL'],\n ['ROJAS', 'CABAÑAS', 'ANDREA'],\n ['RUBIO', 'BARBOZA', 'PAULINA', 'ELIZABETH'],\n ['SAAVEDRA', 'MUNOZ', 'DOMINGO', 'GERARDO'],\n ['SALAS', 'SANCHEZ', 'MARIA', 'TRINIDAD'],\n ['SALAZAR', 'RODRIGUEZ', 'ANDREA'],\n ['SALINAS', 'GARCIA', 'MAURICIO'],\n ['SANCHEZ', 'CARVAJAL', 'MARIA', 'TERESA'],\n ['SANCHEZ', 'TORRES', 'KORINA', 'LISET'],\n ['SANDOVAL', 'TAMEZ', 'MARIA'],\n ['SAUCEDO', 'FLORES', 'OSCAR'],\n ['SILVA', 'MARTINEZ', 'VIVIANO'],\n ['SOLANO', 'TOVAR', 'JAMILETH'],\n ['CONTRERAS', 'ANDRES'],\n ['TAMEZ', 'ANDRADE', 'JORGE', 'IRVING'],\n ['TAMEZ', 'SERRATO', 'ANGEL', 'FILIBERTO'],\n ['TORRES', 'CONTRERAS', 'SANDRA'],\n ['TOVAR', 'CEDILLO', 'JAVIER', 'ALFONSO'],\n ['TREVIÑO', 'MURILLO', 'BIANCA'],\n ['VAZQUEZ', 'ROJAS'],\n ['CHAVARRIA', 'NORMA', 'SOCORRO'],\n ['VELAZQUEZ', 'BARRIOS', 'WANDA', 'YARESY'],\n ['VENEGAS', 'ANTUNES', 'FRANCISCA'],\n ['VILLARAUZ', 'NIETO', 'HEBER'],\n ['ZAMORANO', 'ROJAS', 'ROLANDO', 'CESAR'],\n ['ZAPATA', 'MURILLO', 'RICARDO'],\n ['ZARAZUA', 'FLORES', 'VICENTE'],\n ['ZENTENO', 'SALAZAR', 'CLAUDIA', 'VICTORIA']]"
     },
     "metadata": {}
    }
   ],
   "execution_count": null
  },
  {
   "cell_type": "code",
   "source": "dictionary = gensim.corpora.Dictionary(process_business)",
   "metadata": {
    "cell_id": "746701f9c5544959923ddb7aa754eea3",
    "tags": [],
    "deepnote_to_be_reexecuted": false,
    "source_hash": "f7c98c50",
    "execution_start": 1659505554110,
    "execution_millis": 57,
    "deepnote_cell_type": "code",
    "deepnote_cell_height": 76
   },
   "outputs": [],
   "execution_count": null
  },
  {
   "cell_type": "code",
   "source": "dictionary.filter_extremes(no_below=1, no_above=0.5)",
   "metadata": {
    "cell_id": "e1bdb5021bbc4a579c8f16f51f81b66b",
    "tags": [],
    "deepnote_to_be_reexecuted": false,
    "source_hash": "66fd317b",
    "execution_start": 1659505790706,
    "execution_millis": 0,
    "deepnote_cell_type": "code",
    "deepnote_cell_height": 76
   },
   "outputs": [],
   "execution_count": null
  },
  {
   "cell_type": "code",
   "source": "bow_corpus = [dictionary.doc2bow(doc) for doc in process_business]",
   "metadata": {
    "cell_id": "81c069263d594fcc819ac827d26fffeb",
    "tags": [],
    "deepnote_to_be_reexecuted": false,
    "source_hash": "6a390ca6",
    "execution_start": 1659505858821,
    "execution_millis": 33,
    "deepnote_cell_type": "code",
    "deepnote_cell_height": 76
   },
   "outputs": [],
   "execution_count": null
  },
  {
   "cell_type": "code",
   "source": "lda_model = gensim.models.LdaMulticore(bow_corpus, num_topics=6, id2word=dictionary, passes=10, workers=2)",
   "metadata": {
    "cell_id": "5e5ab783b7f94999b9250fe5fa759e25",
    "tags": [],
    "deepnote_to_be_reexecuted": false,
    "source_hash": "1581aba",
    "execution_start": 1659506201997,
    "execution_millis": 7158,
    "deepnote_cell_type": "code",
    "deepnote_cell_height": 81
   },
   "outputs": [],
   "execution_count": null
  },
  {
   "cell_type": "code",
   "source": "for idx, type_business in lda_model.print_topics(-1):\n    print('Topic:{} Words:{}'.format(idx, type_business))",
   "metadata": {
    "cell_id": "650cfd4f393f404cbda4053b0f952e36",
    "tags": [],
    "deepnote_to_be_reexecuted": false,
    "source_hash": "e48cbca5",
    "execution_start": 1659507744614,
    "execution_millis": 7,
    "deepnote_cell_type": "code",
    "deepnote_cell_height": 230.125
   },
   "outputs": [
    {
     "name": "stdout",
     "text": "Topic:0 Words:0.027*\"HERNANDEZ\" + 0.021*\"ANTONIO\" + 0.020*\"GARZA\" + 0.016*\"ANDRES\" + 0.016*\"RODRIGUEZ\" + 0.013*\"EDUARDO\" + 0.012*\"GARCIA\" + 0.012*\"JESUS\" + 0.012*\"MEXICO,\" + 0.011*\"GONZALEZ\"\nTopic:1 Words:0.030*\"RODRIGUEZ\" + 0.017*\"MARIA\" + 0.011*\"JIMENEZ\" + 0.011*\"GONZALEZ\" + 0.011*\"HERNANDEZ\" + 0.009*\"ALVARADO\" + 0.009*\"MEXICO,\" + 0.009*\"MORENO\" + 0.009*\"CLAUDIA\" + 0.006*\"JESUS\"\nTopic:2 Words:0.028*\"MARTINEZ\" + 0.019*\"CONSTRUCCIONES\" + 0.015*\"LOPEZ\" + 0.014*\"PEREZ\" + 0.012*\"ANTONIO\" + 0.012*\"JESUS\" + 0.012*\"MARIA\" + 0.012*\"MONTERREY,\" + 0.010*\"RODRIGUEZ\" + 0.010*\"ALEJANDRA\"\nTopic:3 Words:0.024*\"GRUPO\" + 0.024*\"SERVICIOS\" + 0.013*\"TREVIÑO\" + 0.008*\"MORALES\" + 0.008*\"ROJAS\" + 0.008*\"DESARROLLO\" + 0.008*\"MARTINEZ\" + 0.006*\"RANGEL\" + 0.006*\"LORENA\" + 0.006*\"GERARDO\"\nTopic:4 Words:0.017*\"GARZA\" + 0.017*\"ALEJANDRO\" + 0.012*\"RAMIREZ\" + 0.012*\"GRUPO\" + 0.012*\"ACEVEDO\" + 0.012*\"AGUILERA\" + 0.012*\"CONSTRUCTORA\" + 0.010*\"TORRES\" + 0.010*\"GARCIA\" + 0.010*\"CONSTRUCCIONES,\"\nTopic:5 Words:0.039*\"GONZALEZ\" + 0.028*\"FLORES\" + 0.020*\"MARIA\" + 0.014*\"ALBERTO\" + 0.014*\"GUTIERREZ\" + 0.011*\"GARCIA\" + 0.011*\"REYNA\" + 0.011*\"RAMIREZ\" + 0.009*\"CARLOS\" + 0.009*\"JORGE\"\n",
     "output_type": "stream"
    }
   ],
   "execution_count": null
  },
  {
   "cell_type": "code",
   "source": "def get_max_topic(index):\n    results = lda_model[bow_corpus[index]]\n    return max(lda_model[results], key=lambda x: x[1])[0]",
   "metadata": {
    "cell_id": "99bb6ac9fd9846e3a5f2e92cbe4d0952",
    "tags": [],
    "deepnote_to_be_reexecuted": false,
    "source_hash": "efc7fe16",
    "execution_start": 1659508126834,
    "execution_millis": 1,
    "deepnote_cell_type": "code",
    "deepnote_cell_height": 112
   },
   "outputs": [],
   "execution_count": null
  },
  {
   "cell_type": "code",
   "source": "business_cluster = {x: get_max_topic(i) for i, x in enumerate(list(compras_df['BENEFICIARIO'].unique()))}",
   "metadata": {
    "cell_id": "87162ab5f38e450dbc727befa1cac6ed",
    "tags": [],
    "deepnote_to_be_reexecuted": false,
    "source_hash": "51f63dcd",
    "execution_start": 1659508199665,
    "execution_millis": 143,
    "deepnote_cell_type": "code",
    "deepnote_cell_height": 81
   },
   "outputs": [],
   "execution_count": null
  },
  {
   "cell_type": "code",
   "source": "business_cluster",
   "metadata": {
    "cell_id": "ae110c704f8448c5abaabe3e6bf7661b",
    "tags": [],
    "deepnote_to_be_reexecuted": false,
    "source_hash": "20a6bc7c",
    "execution_start": 1659508206419,
    "execution_millis": 4,
    "deepnote_cell_type": "code",
    "deepnote_cell_height": 703,
    "deepnote_output_heights": [
     611
    ]
   },
   "outputs": [
    {
     "output_type": "execute_result",
     "execution_count": 41,
     "data": {
      "text/plain": "{'COMPUMARK, S.A. DE C.V.': 5,\n 'ALMACEN PAPELERO SALDAÑA, S.A. DE C.V.': 0,\n 'PLOMIFERRETERA EL TORNILLO, S.A. DE C.V.': 3,\n 'MISODI PUBLICIDAD,S.A.DE C.V.': 3,\n 'IMPULSORA DE RENTAS Y SERVICIOS, S.A. DE C.V.': 5,\n 'CAR ONE AMERICANA,S.A.DE C.V.': 3,\n 'GONZALEZ GARZA ROSA LILA': 3,\n 'AUTOKAM REGIOMONTANA,S.A.DE C.V.': 5,\n 'CLIMEEZ DEL NORTE,S.A.DE C.V.': 0,\n 'INTER @ ENTER COMPUTADORAS, S.A. DE C.V.': 0,\n 'REGIA SOLUCION, S.A. DE C.V.': 5,\n 'DESARROLLOS CONSTRUCTIVOS NACIONALES,S.A.DE C.V.': 0,\n 'BIOANALISIS Y SERVICIOS HEMATOLOGICOS , S.A. DE C.V.': 5,\n 'HOSPITAL SAN FELIPE DE JESUS S.C.': 5,\n 'COLEGIO DE VALUADORES DE NUEVO LEON, A.C.': 5,\n 'HISA FARMACEUTICA, S.A. DE C.V.': 5,\n 'CAR ONE MONTERREY, S.A. DE C.V.': 5,\n 'BUSINESS ELITE NETWORK, S.A. DE C.V.': 5,\n 'LOPEZ MARTINEZ JULIAN': 5,\n 'BANCA AFIRME, S.A.': 0,\n 'RODRIGUEZ VALDES RAYMUNDO': 5,\n 'SEGUROS BANORTE, S.A. DE C.V. GRUPO FINANCIERO BANORTE': 0,\n 'SERVICIOS DE PURIFICACION Y MAQUILA, S.A. DE C.V.': 5,\n 'INTERLAMPARAS, S.A. DE C.V.': 0,\n 'EPSILON ENTERTAINMENT, S.A. DE C.V.': 5,\n 'AUDIO CONTROL INDUSTRIAL, S.A. DE C.V.': 0,\n 'GRUPO ROSH, S.A. DE C.V.': 5,\n 'TOP MEDICAL, S.A. DE C.V.': 0,\n 'RAR SMART NETWORKS, S.A. DE C.V.': 5,\n 'SERVICIOS EMPRESARIALES CEMARU, S.A. DE C.V.': 5,\n 'GRUPO COYOTE MONTERREY, S.A. DE C.V.': 5,\n 'INDUSTRIAS SOLA BASIC, S.A. DE C.V.': 0,\n 'FRANCO GARCIA MARIBEL': 0,\n 'BENITES VALDES JOSE LUCIO': 5,\n 'AUTO ESTETICA DAK AR, S.A. DE C.V.': 5,\n 'TECNOELECTRICA UNIVERSAL DE MONTERREY, S.A. DE C.V.': 5,\n 'HOSP.UNIVERSITARIO DR.JOSE E.GONZALEZ': 5,\n 'INSTITUTO DE LA JUVENTUD REGIA': 3,\n 'BANCO MULTIVA, SA. G.F.M.': 5,\n 'INSTITUTO MPAL.DE PLANEAC.URB.Y CONVIVENCIA DE MONTERREY NL.': 5,\n 'SERVICIO DE ADMINISTRACION TRIBUTARIA': 0,\n 'SEMARNAT-CONAGUA': 0,\n 'S.U.T.S.M.M.': 5,\n 'CENTRO INTERNACIONAL DE NEGOCIOS MONTERREY, A.C.': 5,\n 'SECRETARIA DE FINANZAS Y TESORERIA GRAL DEL EDO DE NL': 5,\n 'MUNICIPIO DE LA CIUDAD DE MONTERREY': 5,\n 'CFE SUMINISTRADOR DE SERVICIOS BASICOS': 5,\n 'NATURGY MEXICO, S.A. DE C.V.': 3,\n 'AGUIRRE DE LUNA MANUEL': 3,\n 'ARIAS VILLALOBOS JUAN FRANCISCO': 0,\n 'BALDERAS ENRIQUEZ DORA ELIA': 0,\n 'CALDERON MORENO LEE EDWIN': 5,\n 'CANTU SANTAMARIA OLGA LETICIA': 5,\n 'CARRILLO CHAVEZ JUAN ENRIQUE': 3,\n 'CASTILLO TAMEZ DIANA LIZETH': 5,\n 'CAZARES REYES JESUS': 3,\n 'CONSTRUCTORA JOMABE, SA. DE CV.': 0,\n 'DE ANDA DIAZ MARTHA ELVA': 5,\n 'DELGADO AVILA IRVING ARMANDO': 0,\n 'DURAN GARCIA OSWALDO BALDEMAR': 3,\n 'EDIFICIO SANTOS, SA. DE CV.': 5,\n 'GARZA GONZALEZ ALICIA': 3,\n 'GONZALEZ PAREDES JOSE ALFREDO': 0,\n 'GUAJARDO Y ASOCS.CONSTRUCTORA, S.A. DE CV.': 3,\n 'HERNANDEZ CHAVEZ KEVIN ALAN': 3,\n 'HERNANDEZ GUTIERREZ LAURA JOYCELINE': 0,\n 'IHO ESPACIOS SA DE CV': 0,\n 'INMUEBLES NUEVO LEON, SA. DE CV.': 5,\n 'INVERSIONES MIRALTA SA DE CV': 0,\n 'LUNA RIVERA JONATHAN': 3,\n 'MALDONADO MELCHOR J. MARCOS': 5,\n 'PAVIMENTOS Y CONSTRUCCIONES GARCAN, SA. DE CV.': 5,\n 'PEREZ ROSALES MIGUEL ANTONIO': 5,\n 'RAMOS ACEVEDO ALICIA': 0,\n 'RANGEL CANTU RAMIRO': 5,\n 'RIVERA TREVIÑO DAVID': 5,\n 'RODRIGUEZ MOYA ROBERTO': 5,\n 'RODRIGUEZ SOLIS MARIA DEL REFUGIO': 5,\n 'RUELAS HERNANDEZ ANDRES': 3,\n 'SAENZ MANSUR ZAIRA': 0,\n 'TEKRENTA.SA. DE CV.': 0,\n 'VALDEZ CAVAZOS EDUARDO': 3,\n 'VEGA ARANGUA MAGDALENA': 5,\n 'VILLANUEVA ESPINOSA ROMAN ARTURO': 5,\n 'CHUBB SEGUROS MEXICO, S.A.': 3,\n 'DECO SEGUROS, SA. DE CV.': 5,\n 'EMERGENCIA MEDICA PROFESIONAL, S.C.': 0,\n 'ESPECTACULOS UNIVERSALES TM SA DE CV': 0,\n 'FAMSA MEXICO, SA. DE CV.': 5,\n 'GUZMAN GARCIA MARIA LUISA': 0,\n 'HINV, S.A. DE C.V. SOFOM, E.N.R.': 0,\n 'IMPULSORA PROMOBIEN, SA. DE CV.': 0,\n 'INFONACOT': 0,\n 'METLIFE MEXICO, S.A.': 5,\n 'PATRIMONIO S.A. DE C.V. SOFOM ENR': 5,\n 'QUALITAS COMPAÑIA DE SEGUROS, SA. DE CV.': 5,\n 'SALAS TIRADO JOSE FRANCISCO': 5,\n 'SEGUROS ARGOS, SA. DE CV.': 5,\n 'SEGUROS VE POR MAS, SA. GRUPO FINANCIERO VE POR MAS': 0,\n 'TELECOMUNICACION Y MERCADOTECNIA DE MTY, SA. DE CV.': 5,\n 'TORRE CANTU MA EUGENIA': 0,\n 'PENSIONES Y JUBILACIONES EMPL. MONTERREY': 3,\n 'ALONSO ORTIZ FELICITAS': 0,\n 'PUGA REYNA ALMA PATRICIA': 0,\n 'HERNANDEZ JIMENEZ EDUARDO': 3,\n 'GARZA MORALES YADIRA HORTENCIA': 3,\n 'CAVAZOS GARCIA ANTERO': 3,\n 'ALVARADO GONZALEZ NICOLAS': 5,\n 'PALOMO FLORES MARIA ANTONIETA': 0,\n 'LONG REYNA ANALAURA': 0,\n 'HERNANDEZ GONZALEZ TANIA IVONNE': 5,\n 'TIJERINA GOMEZ LUCAS OCTAVIO': 5,\n 'RAMIREZ ORTIZ RAQUEL ADELA': 0,\n 'LATIN ID, S.A. DE C.V.': 3,\n 'LINARES TORRES FERNANDO MANUEL': 3,\n 'BS CAR SERVICES, S.A. DE C.V.': 0,\n 'IMPRENTA PERCHES, S.A. DE C.V.': 5,\n 'SERVICIO TECNICO CHURUBUSCO, S.A. DE C.V.': 5,\n 'MICROXPERTS, S.A. DE C.V.': 0,\n 'M58, S.A. DE C.V.': 5,\n 'GARCIA ZAVALA EDGAR ALEJANDRO JOBERAGAN': 0,\n 'REPARACIONES Y MANUFACTURAS HIDRAULICAS, S.A. DE C.V.': 5,\n 'GARIBALDI FRECH MARCELO ANDRES': 5,\n 'DESARROLLO IS, S.A. DE C.V.': 5,\n 'SERVICIOS BROXEL, S.A.P.I. DE C.V.': 5,\n 'PUBLICIDAD Y COMERCIALIZADORA DEL NORTE, S.A. DE C.V.': 5,\n 'SIERRA MADRE RACING, S.A. DE C.V.': 3,\n 'GRUPO DOMA AUTOMOTRIZ, S.A. DE C.V.': 5,\n 'NEXT ENERGY DE MEXICO, S.A. DE C.V.': 5,\n 'BOMBEROS DE NUEVO LEON, A.B.P.': 3,\n 'SIMPLE PHARMA DE MEXICO, S.A. DE C.V.': 3,\n 'RAMIREZ RAMIREZ ALEJANDRO': 0,\n 'SUNSHINE BODY SHOP, S.A. DE C.V.': 0,\n 'GONZALEZ RAMIREZ CARLOS ADRIAN': 0,\n 'PACKMTY, S.A. DE C.V.': 0,\n 'GLAMOUR MUSICAL, S.A. DE C.V.': 0,\n \"GRUPO D'GARZA EVENTOS Y ALIMENTOS, S.A. DE C.V.\": 5,\n 'GRUPO DE DESARROLLO INNOVADOR JG, S.A. DE C.V.': 5,\n 'EMI EDIFICACIONES Y MANTENIMIENTO INDUSTRIALES, S.A. DE C.V.': 5,\n 'RICO GARCIA CONSTRUCCIONES, S.A. DE C.V.': 0,\n 'CARNES ROMULO GARZA, S.A. DE C.V.': 0,\n 'RTW, S.A. DE C.V.': 5,\n 'ISENORTE, S.A. DE C.V.': 5,\n 'GLOBALUX, S.A. DE C.V.': 3,\n 'COMERCIALIZADORA DIVELCON, S.A. DE C.V.': 0,\n 'DISEÑOS E INFRAESTRUCTURAS TH, S.A. DE C.V.': 5,\n 'G2 SERVICIOS COMERCIALES, S.A. DE C.V.': 5,\n 'REFRAN AUTOS, S DE R.L. DE C.V.': 5,\n 'GMKT, S.A. DE C.V.': 5,\n 'ACOPIADORA COMERCIAL Y AGROINDUSTRIAL, S.A. DE C.V.': 5,\n 'RODRIGUEZ MORENO CLAUDIA DEYANIRA': 5,\n 'ORSAN DEL NORTE, S.A. DE C.V.': 5,\n 'LOZANO ONOFRE PATRICIA ALEJANDRA': 5,\n 'GARZA SAUZA ANA CRISTINA': 0,\n 'HERNANDEZ RAMIREZ GUILLERMO': 0,\n 'BALLESTEROS MANCILLA LAURA IRAIS': 5,\n 'ROCHA NIETO BETSABE': 5,\n 'MONTEMAYOR GONZALEZ CRISTINA': 0,\n 'FERNANDEZ GONZALEZ ARTURO': 0,\n 'BICHARA ASSAD ANDRES': 3,\n 'MONCADA LEAL RAUL ALEJANDRO': 0,\n 'CHAVEZ OBREGON ANA MARIA': 5,\n 'CASTRO RODRIGUEZ FRANCISCO DANIEL': 3,\n 'SERVICIO GAS LINCOLN, S.A. DE C.V.': 5,\n 'FUMIGACIONES TECNICAS Y JARDINERIA, S.A. DE C.V.': 3,\n 'FORTE COMUNICACIONES,S.A.DE C.V.': 5,\n 'NAUDIN WILLIAMS JORGE TOMAS': 5,\n 'ORGANIZACION AUTOMOTRIZ MAL MART, S.A. DE C.V.': 0,\n 'DESARROLLOS HUINALA, S.A. DE C.V.': 0,\n 'SALAZAR GARZA ADRIANA': 0,\n 'FULL TECHNOLOGY, S.A. DE C.V.': 0,\n 'URBANIZACIONES AGV, S.A. DE C.V.': 5,\n 'RED RECOLECTOR, S.A. DE C.V.': 3,\n 'SAG GRUPO AUTOMOTRIZ, S.A. DE C.V.': 5,\n 'SAMPOGNA GARZA JESUS IGNACIO': 0,\n 'CONSTRUCTORA NEG, S.A. DE C.V.': 0,\n 'GRANTE INMOBILIARIA, S.A. DE C.V.': 0,\n 'REALIA CONSTRUCCIONES, S.A. DE C.V.': 0,\n 'LARRALDE LAGUERA MARGARITA': 5,\n 'PINEDA GUERRERO OSCAR': 0,\n 'INTERASFALTOS, S.A. DE C.V.': 5,\n 'OPERADORA VISAR CONTROL, S.A. DE C.V.': 5,\n 'ELEVADORES OTIS S DE RL DE C.V.': 5,\n 'EDIFICIOS DIANA DEL NORTE, S.A. DE C.V.': 5,\n 'RAMIREZ VERASTEGUI ISIDRO RAMON': 0,\n 'CANTU ELIZONDO DANIELA': 0,\n 'CHAPA RIOS RAUL': 3,\n 'DISEÑOS AUTOMOTRICES CARDENAS,S.A.DE C.V.': 5,\n 'PRONTO AUTOSERVICIO, S.A. DE C.V.': 0,\n 'SUPERLLANTAS SANTO DOMINGO, S.A. DE C.V.': 3,\n 'PICO INFRAESTRUCTURA URBANA, SA. DE CV.': 3,\n 'CONSTRUCCIONES REFORZADAS, S.A. DE C.V.': 5,\n 'CONSTRUCCIONES DYNAMO, SA. DE CV.': 5,\n 'STRUCTOR CONSTRUCCIONES, S.A. DE C.V.': 0,\n 'INFRAESTRUCTURA Y CONSTRUCCIONES GARCIA, SA. DE CV.': 5,\n 'SERVICIOS POLISEMICOS, S.A. DE C.V.': 5,\n 'CONSTRUCCIONES Y MAQUINARIA NARVAEZ, SA. DE CV.': 5,\n 'ORTIZ MONTOYA HUGO': 5,\n 'CONSORCIO CONSTRUCTIVO Y PROYECTOS, SA. DE CV.': 5,\n 'PROYECTOS Y DESARROLLOS SALVE, SA. DE CV.': 0,\n 'CONSTRUCCION Y DIRECCION DE OBRA AM, SA. DE CV.': 0,\n 'HQ CONTROL, S. DE RL. DE CV.': 5,\n 'CKT EDIFICACIONES, SA. DE CV.': 5,\n 'UNDERTERRA, SA. DE CV.': 5,\n 'DESARROLLO URBANO Y EXCAVACIONES, SA. DE CV.': 5,\n 'SERVICIOS ROBGA, SA. DE CV.': 5,\n 'CONSTRUCCIONES Y SERVICIOS DEL NORESTE SA. DE CV.': 3,\n 'EXCAVACIONES Y PAVIMENTOS PAG SA. DE CV.': 5,\n 'CONSTRUCCIONES Y MAQUINARIA GUTIERREZ SA. DE CV.': 5,\n 'KAWAC CONSTRUCCIONES SA. DE CV.': 5,\n 'MAQUINARIA Y EQUIPOS DE TERRACERIA SA. DE CV.': 5,\n 'PRIAM PROYECTOS SA. DE CV.': 5,\n 'SERV.INTEGRADOS DE SUPER.Y CONSTRUCCION, SA.DE CV.': 0,\n 'PROYECTOS CONSTRUCTIVOS PEREZ LEAL SA DE CV': 5,\n 'GRUPO CONSTRUCTOR TREVAL SA DE CV': 5,\n 'NOLSO SA DE CV': 0,\n 'GRUPO FIRME DE MEXICO SA DE CV': 0,\n 'ADK CONSTRUCCIONES, SA. DE CV.': 0,\n 'GOBIERNO DEL ESTADO DE NUEVO LEON': 5,\n 'TESORERIA DE LA FEDERACION': 0,\n 'SERVICIOS DE AGUA Y DRENAJE DE MONTERREY, IPD.': 5,\n 'CAMARA MEXICANA DE LA INDUSTRIA DE LA CONSTRUCCION': 5,\n 'PT CAR CENTER, S.A. DE C.V.': 5,\n 'F/4086906 BBVA BANCOMER, SA.': 5,\n 'DEPROX MEXICO, S.A. DE C.V.': 3,\n 'CONSTRUCTORA Y URBANIZADORA REGIOMONTANA, S.A. DE C.V.': 5,\n 'SERVICIOS INDUSTRIALES DMX, S.A. DE C.V.': 5,\n 'INMOBILIARIA HFM, S.A. DE C.V.': 5,\n 'CONSTRUCTORA MYKOS, S.A. DE C.V.': 0,\n 'INFRAESTRUCTURA MQ, SA. DE CV.': 5,\n 'GONZALEZ GOMEZ OSVALDO': 3,\n 'CONSTRUCTORA XILOFACTOS, S.A. DE C.V.': 0,\n 'JARDINERIA ESMA, S DE R.L. DE C.V.': 5,\n 'GRUPO WELDOT, S.A. DE C.V.': 5,\n 'LUMINET WAN, S.A. DE C.V.': 5,\n 'CCVEGO, S.A. DE C.V.': 5,\n 'INMOBILIARIA TORRE M S.A. DE C.V.': 5,\n 'INVERSIONES VILLARREAL S.A. DE C.V.': 5,\n 'ACOSTA PEÑA JOSE CAMILO': 3,\n 'TECON TECNOLOGIA AVANZADA PARA CONSTRUCCION, S.A. DE C.V.': 0,\n 'GONZALEZ HERRERA ABRAHAM': 0,\n 'PIÑA INGENIERIA, S.A. DE C.V.': 5,\n 'CONSTRUCCIONES Y PAVIMENTOS ROCASA, S.A. DE C.V.': 3,\n 'CONSTRUCTORA NANABI XOÑIJUMU, S.A. DE C.V.': 0,\n 'CAR COLOR BODY SHOP, S.A. DE C.V.': 5,\n 'CARE PROYECTOS, S.A. DE C.V.': 5,\n 'CONSTRUCCIONES Y MAQUINARIA GUTIERREZ, S.A. DE C.V.': 5,\n 'ELIZONDO VAZQUEZ JORGE BERNARDO': 3,\n 'ARANGUA MORALES MARCO ANTONIO': 3,\n 'HINOJOSA CANTU LUIS ARMANDO': 5,\n 'ZAPATA CHAVIRA HOMERO ARTURO': 0,\n 'DEL CAMPO ABADIANO JOSE ANTONIO': 3,\n 'RENDON PEREZ LUIS ADRIAN': 5,\n 'SEPULVEDA BALANDRAN ROBERTO': 5,\n 'ABUNDIS  ALBERTO': 0,\n 'ORTEGA VAZQUEZ ANDRES JAIME': 0,\n 'ROCAMONTES RAMOS MARCO ANTONIO': 5,\n 'MARTINEZ MAGALLANES CONSULTORES, S.C.': 5,\n 'GRUPO PAAT SA DE CV': 5,\n 'MANAGEMENT TECHNOLOGY INNOVATIONS, S.C.': 0,\n 'CANTU FLORES FERNANDO': 0,\n 'AVALOS FLORES JORGE ALBERTO': 0,\n 'TREVIZO RIVAS ARTURO MANUEL': 5,\n 'GARCIA VILLANUEVA GUILLERMO': 0,\n 'NAVARRETE REYES RICARDO': 5,\n 'GRUPO REGIOMONTANO EN INVESTIGACION, S.C.': 0,\n 'CHAPA CABRERA RUBEN EDUARDO': 0,\n 'SOLUCIONES EMPRESARIALES Y FORMACION, S.A. DE C.V.': 0,\n 'GRUPO EMPRESARIAL ESTRATEGIA, S.A. DE C.V.': 5,\n 'SYCNOS SERVICIOS Y CONSULTORIA ESTRATEGICA S.A. DE C.V.': 5,\n 'EDITORA EL SOL, S.A. DE C.V.': 5,\n 'GRUPO MASS COMUNICACIONES S.A. DE C.V.': 0,\n 'CONSULTORIA EN COMUNICACION POLITICA CPM S.C.': 0,\n 'MEXQUITIC CORONADO BEATRIZ JANETH': 0,\n 'EL HORIZONTE MULTIMEDIA, S.A. DE C.V.': 5,\n 'GENERANDO VENTAS, S. DE R.L DE C.V.': 5,\n 'PUBLICACIONES METROPOLITANAS, S.A.P.I. DE C.V.': 0,\n 'VERBO LIBRE EDITORES, S.A. DE C.V.': 0,\n 'AVILES GARZA RENE IVAN': 3,\n 'MULTIMEDIOS, S.A. DE C.V.': 5,\n 'PUBLIMAX, S.A. DE C.V.': 5,\n 'LA POLITICA ONLINE MEXICO, S.A. DE C.V.': 3,\n 'EN LINEA, COMUNICACION CERTEZA INFORMATIVA, S.A. DE C.V.': 5,\n 'ATARAXIA CONTENIDOS, S.A.S. DE C.V.': 3,\n 'CUELLAR CARDONA FRANCISCO': 3,\n 'DESARROLLOS DE SISTEMAS DE TELEVISION, S.A. DE C.V.': 5,\n 'LUGO PERALES BLANCA ELIZABETH': 5,\n 'AVILA HERNANDEZ LINDA GUADALUPE': 3,\n 'MONUMENTOS PUBLICITARIOS, S DE R.L. DE C.V.': 3,\n 'ELLA MARKETING, S.A. DE C.V.': 5,\n 'SERVICIOS INTEGRADOS DEL NORESTE, S.A. DE C.V.': 3,\n 'RIOS MARTINEZ DINORAH NEITAKRIT': 5,\n 'WHITECK, S.A. DE C.V.': 5,\n 'HERNANDEZ VALLADARES GANDHY SOL ANTONIO': 3,\n 'MARROQUIN LARA SILVIA': 3,\n 'GARZA RODRIGUEZ JOSE LUIS': 3,\n 'TRANSMISORA REGIONAL RADIO FORMULA, S.A. DE C.V.': 5,\n 'YAPAU CONSULTING, S DE R.L. DE C.V.': 5,\n 'ACEVES MANCILLAS MIGUEL ANGEL': 3,\n 'ALBARRAN BAHENA NESTOR': 0,\n 'ALMAGUER OROZCO FIDEL': 0,\n 'ALMARAZ MONTEMAYOR CLEMENTE MARTIN': 5,\n 'ALVAREZ GAONA NUBIA YANETH': 5,\n 'ANTONIO VIRUEL MARIA DE JESUS': 5,\n 'ARELLANO MARTINEZ JESUS ALBERTO': 5,\n 'ARRIETA LEYVA KENIA': 5,\n 'BALDERRAMA MARTINEZ NORMA ANABEL': 5,\n 'BARAJAS OROZCO MONICA COLUMBA': 0,\n 'BERLANGA DE LA ROSA ROSAISELA': 5,\n 'BRIONES HERNANDEZ MARIA JULIETA': 5,\n 'CABRERA GARCIA CLEMENTE': 0,\n 'CALVILLO GARCIA JUAN DE DIOS': 0,\n 'CAMPOS CASTILLO MARVIN ALEJANDRO': 5,\n 'CANO CARREON JOSE HUMBERTO': 0,\n 'CANTU POMPA ALEJANDRO': 0,\n 'CARDONA LOPEZ JULIETA AIDEE': 5,\n 'CASTAÑEDA TRISTAN OLGA': 0,\n 'CHAVARRIA TAMEZ NORA ALEJANDRA': 5,\n 'CHAVEZ DIAZ DE LEON DIANA DOLORES': 5,\n 'CHAVEZ JIMENEZ JOSE DE JESUS': 5,\n 'CISNEROS QUIROZ ROSA ISELA': 5,\n 'CORTES GONZALEZ RODRIGO FERNANDO': 5,\n 'DE LA CRUZ MARTINEZ JOSE ANTONIO': 5,\n 'DE LA RIVA RODRIGUEZ EFREN JONATHAN': 5,\n 'DE LA ROSA GUTIERREZ ANDRES': 0,\n 'DE LEON RODRIGUEZ LORENA YAHAIRA': 0,\n 'ESPINOSA MARES MARIA MAGDALENA': 5,\n 'FLORES ESCOBAR SANJUANA': 5,\n 'FLORES GUTIERREZ BRANDON DIONEY': 0,\n 'FLORES RAMIREZ MARIA GUADALUPE': 0,\n 'FLORES REYNA MARTIN': 0,\n 'FLORES RODRIGUEZ SANDRA YANETH': 5,\n 'GAMEZ TORRES SERGIO ALEJANDRO': 0,\n 'GARCIA DUQUE JUAN RAMON': 3,\n 'GARCIA GAMEZ MIRIAM LISSETH': 3,\n 'GARCIA MARTINEZ RICARDO': 5,\n 'GARZA CISNEROS MIRALDA AGLAETT': 0,\n 'GARZA ESQUIVEL DIEGO GERARDO': 3,\n 'GARZA RODRIGUEZ MARCO ANTONIO': 3,\n 'GARZA RUIZ ALEJANDRO': 0,\n 'GERARDO VENANCIO MARIO AARON': 5,\n 'GONZALEZ AGUILERA RUBEN HUMBERTO': 0,\n 'GONZALEZ GARZA ANDREA CAROLINA': 3,\n 'GONZALEZ GONZALEZ ESPERANZA': 0,\n 'GONZALEZ HERRERA ERICK': 0,\n 'GONZALEZ LOZANO CARLOS EDUARDO': 0,\n 'GUERECA GUZMAN MIRTZA DAYANNE': 5,\n 'GUERRERO GUERRERO RUBEN HECTOR': 5,\n 'GUTIERREZ MORALES MARIA FERNANDA': 5,\n 'HERNANDEZ AREVALO MELISSA KASHANDRA': 0,\n 'HERNANDEZ DIAZ JUAN ALBERTO': 0,\n 'HERNANDEZ MARTINEZ HECTOR HUGO': 5,\n 'HERRERA VILLANUEVA RAFAEL': 0,\n 'JIMENEZ ARELLANES SERGIO RICARDO': 5,\n 'JINES RENOVATO ANITA': 5,\n 'JOSE DE LOS SANTOS JORGE ARMANDO': 0,\n 'LARA GONZALEZ ENRIQUE ULISES': 0,\n 'LEAL GONZALEZ ABELARDO': 5,\n 'LEAL RIVAS JORGE EDGARDO': 0,\n 'LEIJA ALVARADO JUAN CARLOS': 5,\n 'LEOS BORTONI JORGE EUGENIO': 3,\n 'LUJANO DE LA ROSA JOSE ANTONIO': 3,\n 'MADRIGAL MORALES KEVIN ANDRES': 3,\n 'MALDONADO SANCHEZ ISSAC': 5,\n 'MALO CANALES EDSON JAIR': 5,\n 'MARES RODRIGUEZ ANABEL ABIGAIL': 5,\n 'MARTINEZ GONZALEZ IVAN': 5,\n 'MARTINEZ PEREZ DE LEON ANDRES': 5,\n 'MARTINEZ ROMAN CRISTOFER DANIEL': 5,\n 'MEDINA ISLAS LAURA ESTELA': 3,\n 'MEDINA MENDEZ JUAN JESUS': 0,\n 'MENDOZA CASTILLO SILVESTRE': 0,\n 'MIRANDA GOMEZ HECTOR JONATHAN': 3,\n 'MORALES FERRER OSCAR ARTURO': 0,\n 'MORENO PEÑA JUAN': 5,\n 'NACIANCENO SOLIS NAHOMY': 5,\n 'NAVA JIMENEZ SABAS': 5,\n 'NUÑEZ RODRIGUEZ MIGUEL EDUARDO': 3,\n 'OLIVO DIMAS CARLOS RUBEN': 0,\n 'ORDOÑEZ FLORIDO RODOLFO ERNESTO': 3,\n 'PALACIOS GONZALEZ DIANA KAREN': 5,\n 'PARDO SANCHEZ JULIETA ISABEL': 5,\n 'RAMIREZ BELMARES MARIO ANTONIO': 0,\n 'RAMIREZ MENDOZA LAURA PAMELA': 3,\n 'REYES RINCONI CRISTIAN': 5,\n 'REYNA JIMENEZ GABRIELA ALEJANDRA': 5,\n 'RODRIGUEZ CHAPA JULIO CESAR': 3,\n 'RODRIGUEZ CHAVEZ JOSE FRANCISCO': 3,\n 'RODRIGUEZ HERNANDEZ MARIA DEL CARMEN': 5,\n 'RODRIGUEZ ZAMARRIPA AGUSTIN ISRAEL': 5,\n 'ROSALES LLANAS FAUSTO': 3,\n 'SALAS PANTOJA JESUS ENRIQUE': 5,\n 'SALAS SALAS CANDELARIO': 0,\n 'SALAZAR BARBOZA JUAN FRANCISCO': 0,\n 'SANCHEZ CAMACHO TANYA DENISSE': 5,\n 'SANCHEZ MARES CARLOS GUILLERMO': 0,\n 'SANCHEZ MARTINEZ GENARO': 5,\n 'SANCHEZ REGALADO JOSE RAPHAEL': 0,\n 'SERRANO ARRAZOLA ADRIAN': 5,\n 'TELLO RODRIGUEZ JONATHAN ALEXANDER': 5,\n 'TORRES ZAVALA LUISA FERNANDA': 0,\n 'TREVIÑO CASTILLO ANA LUISA YAZMIN': 5,\n 'TREVIÑO PUENTE LIZBETH ALEJANDRA': 5,\n 'URDIALES RUIZ JOSE JAVIER': 5,\n 'VALLEJO CORONA CARMEN LETICIA': 0,\n 'VALLEJO RAMOS JUAN MANUEL': 5,\n 'VARELA PARDO LILIANA ESMERALDA': 5,\n 'VAZQUEZ GARCIA JOSE ANTONIO': 3,\n 'VELAZCO LOPEZ ROSA ISELA LIZBETH': 5,\n 'VILLARREAL FRESE ADRIAN': 5,\n 'ZAPATA CERDA LILIANA AIDE': 5,\n 'ZUÑIGA MARTINEZ ANAYELY': 5,\n 'AGUILERA ACEVEDO ARISTEO': 0,\n 'AGUILERA ACEVEDO ENRIQUE': 0,\n 'AGUILERA ACEVEDO JOSE GUADALUPE': 0,\n 'AGUILERA ACEVEDO MARIA ANDREA': 5,\n 'ALVARADO ZUNIGA IRMA PATRICIA': 5,\n 'ANTONIO MEMIJE JUAN CARLOS': 5,\n 'AREVALOS ALVAREZ LILIANA ALEJANDRA': 5,\n 'ARRIOLA OCHOA MARIA ISABEL': 3,\n 'AYALA MORALES FAVIO': 5,\n 'BARRIENTOS MENDOZA SARA': 5,\n 'BECERRA ARAIZA OLGA LIDIA': 3,\n 'BELTRAN LOERA MA. EPIFANIA': 0,\n 'BERVER CAMARA CINTYA MARISOL': 3,\n 'BRIONES GAMEZ MONICA LORENA': 5,\n 'CALDERON GOMEZ GABRIEL EDUARDO': 3,\n 'CANDELA MARTINEZ MARIA JULIANA': 5,\n 'CARRILLO RODRIGUEZ MARCO ANTONIO': 3,\n 'CASTELLANOS POXTAN HUMBERTO': 5,\n 'CASTILLO ESPINOZA EMILIO': 0,\n 'CENICEROS DEL RIO ALEJANDRO': 0,\n 'CENICEROS DEL RIO ALVARO': 0,\n 'CENICEROS DEL RIO RENE MARGARITA': 5,\n 'CEPEDA MARTINEZ JAVIER ALEJANDRO': 5,\n 'CERVANTES RAMIREZ JESUS HONORIO': 3,\n 'CERVANTES RAMIREZ LAURA TERESA': 3,\n 'COELLO RODRIGUEZ APRIL STEPHANIE': 5,\n 'CONTRERAS REYNA CATALINA': 0,\n 'CORTES RAMOS HECTOR MIGUEL': 5,\n 'CRUZ DE LA CRUZ MARIA GUADALUPE': 0,\n 'DAVALOS SOLANO SILVIA EUNICE': 3,\n 'DE LA FUENTE CASTRO JORGE ALBERTO': 0,\n 'DEL CARMEN ALVAREZ JESUS': 5,\n 'DIAZ MORALES LIZBETH KARINA': 5,\n 'DUEÑAZ ALCOCER GERARDO GUADALUPE': 3,\n 'ESCOBEDO SOTO MARIA GLORIA': 0,\n 'ESPARZA CAMPOS MARIA OFELIA': 0,\n 'FABELA CARRIZALES JAEL ESMERALDA': 0,\n 'FLORES CRUZ MANUEL ALEJANDRO': 0,\n 'FRANCO TREVIÑO JOSE DE JESUS': 5,\n 'FUENTES CORTEZ MARIO ALBERTO': 5,\n 'GALLEGOS BARBOZA FERNANDO': 3,\n 'GALLEGOS REYES HILARIO ALEJANDRO': 0,\n 'GARCIA MONTEMAYOR NORMA ELIA': 0,\n 'GARZA OVIEDO JULIO CESAR': 0,\n 'GONZALEZ HERNANDEZ TERESA DE JESUS': 3,\n 'GONZALEZ SOLIS ROGELIO': 0,\n 'GRANADOS CARRANCO MELISA JETZAGELY': 5,\n 'GUERRA GARZA LILIA SOFIA': 0,\n 'GUERRA PEREZ ELISA': 5,\n 'GUERRERO CUEVAS EDGAR RAMCES': 0,\n 'GUEVARA MARTINEZ LORENA YAZMIN': 5,\n 'GUTIERREZ VILLEGAS JULIANA': 0,\n 'HERNANDEZ CABRERA CLAUDIA EDITH': 5,\n 'HERNANDEZ CALDERON ROSALINDA': 5,\n 'HERNANDEZ COVARRUBIAS JESUS SALVADOR': 3,\n 'HERNANDEZ GALINDO MIGUEL DE JESUS': 3,\n 'HERNANDEZ LARA PAOLA JANETH': 3,\n 'HERNANDEZ LOPEZ LUCIA DE LOS ANGELES': 0,\n 'HERNANDEZ MALDONADO MAGDALENA': 5,\n 'HERNANDEZ PERALES ARMINDA ALEJANDRINA': 3,\n 'IBARRA BARRERA MARTINA': 5,\n 'JIMENEZ LOPEZ ALEXIA EDITH': 5,\n 'JUAREZ ESPINOZA SERVANDO': 5,\n 'LOPEZ REGULES ADRIAN': 5,\n 'LOPEZ VILLEGAS JAHAIRA ANA ALEJANDRA': 5,\n 'LUIS RAYMUNDO BEATRIZ': 0,\n 'MACIEL HERNANDEZ ESTELA XITLALI': 5,\n 'MALDONADO LOPEZ JOE LEWIS': 5,\n 'MARISCAL RODRIGUEZ VERONICA': 0,\n 'MARROQUIN GARCIA YOLANDA': 5,\n 'MARTINEZ BUSTOS JOSE': 5,\n 'MARTINEZ MOLINA EDUARDO ANTONIO': 3,\n 'MATA DELGADO JOSE': 0,\n 'MATA DELGADO JUAN MANUEL': 0,\n 'MIJANGOS DE JESUS FERNANDO': 5,\n 'MONREAL LOPEZ NANCY AURELIA': 5,\n 'OLIVO RESENDIZ JUAN GERARDO': 5,\n 'OROZCO ROCHA EDELMIRO': 0,\n 'PEÑA VILLALOBOS MARTHA YADIRA': 5,\n 'PEÑA VILLALOBOS ROBERTO': 5,\n 'PEYRANO GARZA ENRIQUE ANGEL': 3,\n 'QUIROZ RUIZ MERCEDES': 5,\n 'RAMIREZ BADILLO CARLOS ALBERTO': 0,\n 'RANGEL BRIBIESCA MA. JOVITA': 5,\n 'RANGEL VENEGAS JOEL ANGEL': 5,\n 'RENDON JIMENEZ CORINA': 5,\n 'RENDON JIMENEZ VICTOR ALEJANDRO': 0,\n 'RENTERIA ROSALES JUAN ANTONIO': 3,\n 'RESENDIZ CANTU JOSE GUADALUPE': 3,\n 'REZA FLORES MARIA DE JESUS': 0,\n 'RIOS CABRERA ELVIRA': 5,\n 'RODRIGUEZ CARRIZALES CYNTHIA GUADALUPE': 0,\n 'RODRIGUEZ PEREZ MARIA GUADALUPE': 5,\n 'RODRIGUEZ VALERO RODRIGO ARIEL': 5,\n 'ROJAS CABAÑAS ANDREA': 5,\n 'RUBIO BARBOZA PAULINA ELIZABETH': 5,\n 'SAAVEDRA MUNOZ DOMINGO GERARDO': 0,\n 'SALAS SANCHEZ MARIA TRINIDAD': 5,\n 'SALAZAR RODRIGUEZ ANDREA': 5,\n 'SALINAS GARCIA MAURICIO': 5,\n 'SANCHEZ CARVAJAL MARIA TERESA': 3,\n 'SANCHEZ TORRES KORINA LISET': 0,\n 'SANDOVAL TAMEZ MARIA ROSA': 5,\n 'SAUCEDO FLORES OSCAR': 0,\n 'SILVA MARTINEZ LUIS VIVIANO': 3,\n 'SOLANO TOVAR JAMILETH': 0,\n 'SOTO CONTRERAS ANDRES': 3,\n 'TAMEZ ANDRADE JORGE IRVING': 0,\n 'TAMEZ SERRATO ANGEL FILIBERTO': 0,\n 'TORRES CONTRERAS SANDRA': 0,\n 'TOVAR CEDILLO JAVIER ALFONSO': 5,\n 'TREVIÑO MURILLO BIANCA': 5,\n 'VAZQUEZ ROJAS ALDO': 5,\n 'VEGA CHAVARRIA NORMA SOCORRO': 5,\n 'VELAZQUEZ BARRIOS WANDA YARESY': 0,\n 'VENEGAS ANTUNES FRANCISCA': 0,\n 'VILLARAUZ NIETO HEBER JAIR': 3,\n 'ZAMORANO ROJAS ROLANDO CESAR': 5,\n 'ZAPATA MURILLO RICARDO': 5,\n 'ZARAZUA FLORES VICENTE': 5,\n 'ZENTENO SALAZAR CLAUDIA VICTORIA': 5}"
     },
     "metadata": {}
    }
   ],
   "execution_count": null
  },
  {
   "cell_type": "code",
   "source": "compras_df['CLUSTER_NAME'] = compras_df['BENEFICIARIO'].apply(lambda x: business_cluster[x])",
   "metadata": {
    "cell_id": "f2ea0429e2414213a8ffc7e4049da2a7",
    "tags": [],
    "deepnote_to_be_reexecuted": false,
    "source_hash": "f7c63d3f",
    "execution_start": 1659508869748,
    "execution_millis": 6,
    "deepnote_cell_type": "code",
    "deepnote_cell_height": 81
   },
   "outputs": [],
   "execution_count": null
  },
  {
   "cell_type": "code",
   "source": "compras_df['CLUSTER_NAME'].value_counts()",
   "metadata": {
    "cell_id": "22411bc1ee15498dbf8151a112d211ce",
    "tags": [],
    "deepnote_to_be_reexecuted": false,
    "source_hash": "385bc1da",
    "execution_start": 1659509233566,
    "execution_millis": 19,
    "deepnote_cell_type": "code",
    "deepnote_cell_height": 170.75,
    "deepnote_output_heights": [
     78.75
    ]
   },
   "outputs": [
    {
     "output_type": "execute_result",
     "execution_count": 44,
     "data": {
      "text/plain": "5    918\n0    429\n3    217\nName: CLUSTER_NAME, dtype: int64"
     },
     "metadata": {}
    }
   ],
   "execution_count": null
  },
  {
   "cell_type": "code",
   "source": "compras_df.groupby('CLUSTER_NAME')['IMPORTE'].mean().plot.bar()",
   "metadata": {
    "cell_id": "3a7ff45735204ed3a0e61949ecef4731",
    "tags": [],
    "deepnote_to_be_reexecuted": false,
    "source_hash": "de9bb0eb",
    "execution_start": 1659509330104,
    "execution_millis": 741,
    "deepnote_cell_type": "code",
    "deepnote_cell_height": 406.1875,
    "deepnote_output_heights": [
     21.1875,
     262
    ]
   },
   "outputs": [
    {
     "output_type": "execute_result",
     "execution_count": 45,
     "data": {
      "text/plain": "<AxesSubplot:xlabel='CLUSTER_NAME'>"
     },
     "metadata": {}
    },
    {
     "data": {
      "text/plain": "<Figure size 432x288 with 1 Axes>",
      "image/png": "[encoded data removed]"
     },
     "metadata": {
      "needs_background": "light",
      "image/png": {
       "width": 393,
       "height": 260
      }
     },
     "output_type": "display_data"
    }
   ],
   "execution_count": null
  },
  {
   "cell_type": "markdown",
   "source": "## Probar un Modelo No Supervisado de Anomalías en importes",
   "metadata": {
    "cell_id": "a03f9e30264d492bb8e1c648b42a0802",
    "tags": [],
    "deepnote_cell_type": "markdown",
    "deepnote_cell_height": 82.78125
   }
  },
  {
   "cell_type": "code",
   "source": "import numpy as np\nfrom scipy.stats import norm",
   "metadata": {
    "cell_id": "10f183a048484ca4a7145a23ca733342",
    "tags": [],
    "deepnote_to_be_reexecuted": false,
    "source_hash": "161241af",
    "execution_start": 1659509480032,
    "execution_millis": 2,
    "deepnote_cell_type": "code",
    "deepnote_cell_height": 94
   },
   "outputs": [],
   "execution_count": null
  },
  {
   "cell_type": "code",
   "source": "params = norm.fit(compras_df['IMPORTE'])\nparams",
   "metadata": {
    "cell_id": "949f526ea8b64f099275d14d12541a78",
    "tags": [],
    "deepnote_to_be_reexecuted": false,
    "source_hash": "7a18644e",
    "execution_start": 1659509504509,
    "execution_millis": 7,
    "deepnote_cell_type": "code",
    "deepnote_cell_height": 131.1875,
    "deepnote_output_heights": [
     21.1875
    ]
   },
   "outputs": [
    {
     "output_type": "execute_result",
     "execution_count": 47,
     "data": {
      "text/plain": "(387731.5618286445, 1887299.1646918366)"
     },
     "metadata": {}
    }
   ],
   "execution_count": null
  },
  {
   "cell_type": "code",
   "source": "compras_df['PROB_TOTAL'] = [norm(params[0], params[1]).cdf(x) for x in compras_df['IMPORTE']]",
   "metadata": {
    "cell_id": "4ca082313de44f97ba123ddc65ee99ed",
    "tags": [],
    "deepnote_to_be_reexecuted": false,
    "source_hash": "d838979e",
    "execution_start": 1659509602352,
    "execution_millis": 1373,
    "deepnote_cell_type": "code",
    "deepnote_cell_height": 81
   },
   "outputs": [],
   "execution_count": null
  },
  {
   "cell_type": "code",
   "source": "compras_df[compras_df['PROB_TOTAL']>0.95]",
   "metadata": {
    "cell_id": "74f5b48f246b4f5182690c38fa789bba",
    "tags": [],
    "deepnote_to_be_reexecuted": false,
    "source_hash": "b3c75bc6",
    "execution_start": 1659509682933,
    "execution_millis": 111,
    "deepnote_cell_type": "code",
    "deepnote_cell_height": 612,
    "deepnote_output_heights": [
     21,
     250
    ]
   },
   "outputs": [
    {
     "output_type": "execute_result",
     "execution_count": 50,
     "data": {
      "application/vnd.deepnote.dataframe.v3+json": {
       "column_count": 19,
       "row_count": 42,
       "columns": [
        {
         "name": "CVE BEN",
         "dtype": "int64",
         "stats": {
          "unique_count": 28,
          "nan_count": 0,
          "min": "112290",
          "max": "330700",
          "histogram": [
           {
            "bin_start": 112290,
            "bin_end": 134131,
            "count": 22
           },
           {
            "bin_start": 134131,
            "bin_end": 155972,
            "count": 0
           },
           {
            "bin_start": 155972,
            "bin_end": 177813,
            "count": 0
           },
           {
            "bin_start": 177813,
            "bin_end": 199654,
            "count": 0
           },
           {
            "bin_start": 199654,
            "bin_end": 221495,
            "count": 11
           },
           {
            "bin_start": 221495,
            "bin_end": 243336,
            "count": 0
           },
           {
            "bin_start": 243336,
            "bin_end": 265177,
            "count": 0
           },
           {
            "bin_start": 265177,
            "bin_end": 287018,
            "count": 0
           },
           {
            "bin_start": 287018,
            "bin_end": 308859,
            "count": 0
           },
           {
            "bin_start": 308859,
            "bin_end": 330700,
            "count": 9
           }
          ]
         }
        },
        {
         "name": "BENEFICIARIO",
         "dtype": "object",
         "stats": {
          "unique_count": 28,
          "nan_count": 0,
          "categories": [
           {
            "name": "MUNICIPIO DE LA CIUDAD DE MONTERREY",
            "count": 7
           },
           {
            "name": "HISA FARMACEUTICA, S.A. DE C.V.",
            "count": 4
           },
           {
            "name": "26 others",
            "count": 31
           }
          ]
         }
        },
        {
         "name": "RFC",
         "dtype": "object",
         "stats": {
          "unique_count": 28,
          "nan_count": 0,
          "categories": [
           {
            "name": "MCM610101PT2",
            "count": 7
           },
           {
            "name": "CHI990710I32",
            "count": 4
           },
           {
            "name": "26 others",
            "count": 31
           }
          ]
         }
        },
        {
         "name": "FACTURAS",
         "dtype": "object",
         "stats": {
          "unique_count": 42,
          "nan_count": 0,
          "categories": [
           {
            "name": "A5397-183011-2151",
            "count": 1
           },
           {
            "name": "M106161-183011-1917",
            "count": 1
           },
           {
            "name": "40 others",
            "count": 40
           }
          ]
         }
        },
        {
         "name": "CONTRATO",
         "dtype": "object",
         "stats": {
          "unique_count": 21,
          "nan_count": 0,
          "categories": [
           {
            "name": "NO APLICA",
            "count": 17
           },
           {
            "name": "SFA-039-2022",
            "count": 4
           },
           {
            "name": "19 others",
            "count": 21
           }
          ]
         }
        },
        {
         "name": "CONCEPTO",
         "dtype": "object",
         "stats": {
          "unique_count": 41,
          "nan_count": 0,
          "categories": [
           {
            "name": "PLANEACION Y COORDINACION DEL EVENTO \"AHORA NOS DIVERTIMOS JUNTOS\" EN LOS PARQUES ESPAÑA, AZTLAN Y TUCAN",
            "count": 2
           },
           {
            "name": "CONSUMO DE MEDICAMENTOS DEL 1 AL 8 DE ABRIL 2022, UNIDAD CUMBRES",
            "count": 1
           },
           {
            "name": "39 others",
            "count": 39
           }
          ]
         }
        },
        {
         "name": "TIPO",
         "dtype": "object",
         "stats": {
          "unique_count": 2,
          "nan_count": 0,
          "categories": [
           {
            "name": "TR",
            "count": 41
           },
           {
            "name": "CH",
            "count": 1
           }
          ]
         }
        },
        {
         "name": "FDO-#OP",
         "dtype": "float64",
         "stats": {
          "unique_count": 37,
          "nan_count": 0,
          "min": "1022677.0",
          "max": "604000082.0",
          "histogram": [
           {
            "bin_start": 1022677,
            "bin_end": 61320417.5,
            "count": 23
           },
           {
            "bin_start": 61320417.5,
            "bin_end": 121618158,
            "count": 0
           },
           {
            "bin_start": 121618158,
            "bin_end": 181915898.5,
            "count": 0
           },
           {
            "bin_start": 181915898.5,
            "bin_end": 242213639,
            "count": 3
           },
           {
            "bin_start": 242213639,
            "bin_end": 302511379.5,
            "count": 1
           },
           {
            "bin_start": 302511379.5,
            "bin_end": 362809120,
            "count": 10
           },
           {
            "bin_start": 362809120,
            "bin_end": 423106860.5,
            "count": 0
           },
           {
            "bin_start": 423106860.5,
            "bin_end": 483404601,
            "count": 0
           },
           {
            "bin_start": 483404601,
            "bin_end": 543702341.5,
            "count": 0
           },
           {
            "bin_start": 543702341.5,
            "bin_end": 604000082,
            "count": 5
           }
          ]
         }
        },
        {
         "name": "FECHA",
         "dtype": "object",
         "stats": {
          "unique_count": 11,
          "nan_count": 0,
          "categories": [
           {
            "name": "2022-06-10",
            "count": 12
           },
           {
            "name": "2022-06-03",
            "count": 6
           },
           {
            "name": "9 others",
            "count": 24
           }
          ]
         }
        },
        {
         "name": "IMPORTE",
         "dtype": "float64",
         "stats": {
          "unique_count": 40,
          "nan_count": 0,
          "min": "3505654.2",
          "max": "32447591.98",
          "histogram": [
           {
            "bin_start": 3505654.2,
            "bin_end": 6399847.978,
            "count": 22
           },
           {
            "bin_start": 6399847.978,
            "bin_end": 9294041.756000001,
            "count": 7
           },
           {
            "bin_start": 9294041.756000001,
            "bin_end": 12188235.533999998,
            "count": 2
           },
           {
            "bin_start": 12188235.533999998,
            "bin_end": 15082429.311999999,
            "count": 4
           },
           {
            "bin_start": 15082429.311999999,
            "bin_end": 17976623.09,
            "count": 1
           },
           {
            "bin_start": 17976623.09,
            "bin_end": 20870816.867999997,
            "count": 3
           },
           {
            "bin_start": 20870816.867999997,
            "bin_end": 23765010.645999998,
            "count": 1
           },
           {
            "bin_start": 23765010.645999998,
            "bin_end": 26659204.424,
            "count": 1
           },
           {
            "bin_start": 26659204.424,
            "bin_end": 29553398.202,
            "count": 0
           },
           {
            "bin_start": 29553398.202,
            "bin_end": 32447591.98,
            "count": 1
           }
          ]
         }
        },
        {
         "name": "SHEET",
         "dtype": "object",
         "stats": {
          "unique_count": 3,
          "nan_count": 0,
          "categories": [
           {
            "name": "GASTOS VARIOS",
            "count": 25
           },
           {
            "name": "OBRA PUBLICA Y GV FDOS. ESP",
            "count": 16
           },
           {
            "name": "SERV PROV",
            "count": 1
           }
          ]
         }
        },
        {
         "name": "DIA",
         "dtype": "int64",
         "stats": {
          "unique_count": 11,
          "nan_count": 0,
          "min": "3",
          "max": "30",
          "histogram": [
           {
            "bin_start": 3,
            "bin_end": 5.7,
            "count": 6
           },
           {
            "bin_start": 5.7,
            "bin_end": 8.4,
            "count": 0
           },
           {
            "bin_start": 8.4,
            "bin_end": 11.100000000000001,
            "count": 12
           },
           {
            "bin_start": 11.100000000000001,
            "bin_end": 13.8,
            "count": 0
           },
           {
            "bin_start": 13.8,
            "bin_end": 16.5,
            "count": 5
           },
           {
            "bin_start": 16.5,
            "bin_end": 19.200000000000003,
            "count": 1
           },
           {
            "bin_start": 19.200000000000003,
            "bin_end": 21.900000000000002,
            "count": 0
           },
           {
            "bin_start": 21.900000000000002,
            "bin_end": 24.6,
            "count": 11
           },
           {
            "bin_start": 24.6,
            "bin_end": 27.3,
            "count": 0
           },
           {
            "bin_start": 27.3,
            "bin_end": 30,
            "count": 7
           }
          ]
         }
        },
        {
         "name": "MES",
         "dtype": "int64",
         "stats": {
          "unique_count": 1,
          "nan_count": 0,
          "min": "6",
          "max": "6",
          "histogram": [
           {
            "bin_start": 5.5,
            "bin_end": 5.6,
            "count": 0
           },
           {
            "bin_start": 5.6,
            "bin_end": 5.7,
            "count": 0
           },
           {
            "bin_start": 5.7,
            "bin_end": 5.8,
            "count": 0
           },
           {
            "bin_start": 5.8,
            "bin_end": 5.9,
            "count": 0
           },
           {
            "bin_start": 5.9,
            "bin_end": 6,
            "count": 0
           },
           {
            "bin_start": 6,
            "bin_end": 6.1,
            "count": 42
           },
           {
            "bin_start": 6.1,
            "bin_end": 6.2,
            "count": 0
           },
           {
            "bin_start": 6.2,
            "bin_end": 6.3,
            "count": 0
           },
           {
            "bin_start": 6.3,
            "bin_end": 6.4,
            "count": 0
           },
           {
            "bin_start": 6.4,
            "bin_end": 6.5,
            "count": 0
           }
          ]
         }
        },
        {
         "name": "ANO",
         "dtype": "int64",
         "stats": {
          "unique_count": 1,
          "nan_count": 0,
          "min": "2022",
          "max": "2022",
          "histogram": [
           {
            "bin_start": 2021.5,
            "bin_end": 2021.6,
            "count": 0
           },
           {
            "bin_start": 2021.6,
            "bin_end": 2021.7,
            "count": 0
           },
           {
            "bin_start": 2021.7,
            "bin_end": 2021.8,
            "count": 0
           },
           {
            "bin_start": 2021.8,
            "bin_end": 2021.9,
            "count": 0
           },
           {
            "bin_start": 2021.9,
            "bin_end": 2022,
            "count": 0
           },
           {
            "bin_start": 2022,
            "bin_end": 2022.1,
            "count": 42
           },
           {
            "bin_start": 2022.1,
            "bin_end": 2022.2,
            "count": 0
           },
           {
            "bin_start": 2022.2,
            "bin_end": 2022.3,
            "count": 0
           },
           {
            "bin_start": 2022.3,
            "bin_end": 2022.4,
            "count": 0
           },
           {
            "bin_start": 2022.4,
            "bin_end": 2022.5,
            "count": 0
           }
          ]
         }
        },
        {
         "name": "BENEFICIARIO_SALES",
         "dtype": "int64",
         "stats": {
          "unique_count": 9,
          "nan_count": 0,
          "min": "1",
          "max": "40",
          "histogram": [
           {
            "bin_start": 1,
            "bin_end": 4.9,
            "count": 27
           },
           {
            "bin_start": 4.9,
            "bin_end": 8.8,
            "count": 2
           },
           {
            "bin_start": 8.8,
            "bin_end": 12.7,
            "count": 0
           },
           {
            "bin_start": 12.7,
            "bin_end": 16.6,
            "count": 8
           },
           {
            "bin_start": 16.6,
            "bin_end": 20.5,
            "count": 0
           },
           {
            "bin_start": 20.5,
            "bin_end": 24.4,
            "count": 1
           },
           {
            "bin_start": 24.4,
            "bin_end": 28.3,
            "count": 0
           },
           {
            "bin_start": 28.3,
            "bin_end": 32.2,
            "count": 0
           },
           {
            "bin_start": 32.2,
            "bin_end": 36.1,
            "count": 0
           },
           {
            "bin_start": 36.1,
            "bin_end": 40,
            "count": 4
           }
          ]
         }
        },
        {
         "name": "IMPORTE_GASTOS_PROMEDIO",
         "dtype": "float64",
         "stats": {
          "unique_count": 3,
          "nan_count": 0,
          "min": "210406.06879310345",
          "max": "583159.3705128209",
          "histogram": [
           {
            "bin_start": 210406.06879310345,
            "bin_end": 247681.3989650752,
            "count": 1
           },
           {
            "bin_start": 247681.3989650752,
            "bin_end": 284956.72913704696,
            "count": 0
           },
           {
            "bin_start": 284956.72913704696,
            "bin_end": 322232.05930901866,
            "count": 0
           },
           {
            "bin_start": 322232.05930901866,
            "bin_end": 359507.3894809904,
            "count": 0
           },
           {
            "bin_start": 359507.3894809904,
            "bin_end": 396782.7196529622,
            "count": 0
           },
           {
            "bin_start": 396782.7196529622,
            "bin_end": 434058.04982493387,
            "count": 0
           },
           {
            "bin_start": 434058.04982493387,
            "bin_end": 471333.3799969056,
            "count": 0
           },
           {
            "bin_start": 471333.3799969056,
            "bin_end": 508608.7101688774,
            "count": 16
           },
           {
            "bin_start": 508608.7101688774,
            "bin_end": 545884.0403408492,
            "count": 0
           },
           {
            "bin_start": 545884.0403408492,
            "bin_end": 583159.3705128209,
            "count": 25
           }
          ]
         }
        },
        {
         "name": "HAS_LINKEDIN_SITE",
         "dtype": "object",
         "stats": {
          "unique_count": 1,
          "nan_count": 0,
          "categories": [
           {
            "name": "{'Rosa Lorena Valdez Miranda': True, 'Roque Yañez Ramos': True, 'Laura Perla Cordova Rodriguez': True, 'Rosa Ofelia Coronado Flores': True, 'Alvaro Flores Palomo': True, 'Liliana Tijerina Cantu': True, 'Ruben Basaldua Moyeda': True, 'Maria Cristina Muñoz Rios': True, 'Gerardo Guerrero Adame': True, 'Mayela Maria De Lourdes Quiroga Tamez': True, 'Humberto Arturo Garza De Hoyos': True, 'Irma Montero Solis': True, 'Jorge Alejandro Alvarado Martinez': True, 'Ana Lilia Coronado Araiza': True, 'Francisco Salazar Guadiana': True, 'Maria Thalina Almaraz Gonzalez': True, 'Diego Armando Arellano Aguilar': True, 'Jorge Adrian Ayala Cantu': True, 'Adriana Paola Coronado Ramirez': True, 'LLANTAS Y SERVICIOS SERNA ANAHUAC,S.A. DE C.V.': True, 'GH MAQUINARIA Y EQUIPO, S.A.DE C.V.': True, 'PLOMIFERRETERA EL TORNILLO, S.A. DE C.V.': False, 'EQUIPOS Y ACCESORIOS CANTU, S.A. DE C.V.': True, 'PRAXAIR MEXICO S. DE R.L. DE C.V.': True, 'COMERCIALIZADORA HNOS.ALVAREZ FLORES,S.A.DE C.V.': False, 'DISTRIBUIDORA DE FRUTAS Y LEGUMBRES LA HORTALIZA,S.A.DE C.V.': False, 'NUÑEZ LOPEZ VIRGINIA': True, 'S.I.M.E.P.R.O.D.E.': False, 'TRACTORES Y MAQUINARIA REAL, S.A. DE C.V.': True, 'TELEFONOS DE MEXICO,S.A.B DE C.V.': True, 'MERCANTIL DISTRIBUIDORA, S.A. DE C.V.': True, 'GRANA,S.A.': True, 'CLUB INTERNACIONAL DE MONTERREY,A.C.': True, 'EMPACADORA Y DISTR.DE CARNES FINAS SAN JUAN,S.A.DE C.V.': False, 'VIVERO EL ESCORIAL, S.A. DE C.V.': True, 'CAR ONE AMERICANA,S.A.DE C.V.': True, 'MANTENIMIENTO ELECTRICO DE POTENCIA,S.A.DE C.V.': True, 'AUTOKAM REGIOMONTANA,S.A.DE C.V.': True, 'CLIMEEZ DEL NORTE,S.A.DE C.V.': True, 'VALUE ARRENDADORA,S.A.DE C.V. SOFOM ER VALUE GPO.FIN.': False, 'SEGUROS AFIRME, S.A. DE C.V. AFIRME GRUPO FINANCIERO': True, 'DESARROLLOS CONSTRUCTIVOS NACIONALES,S.A.DE C.V.': True, 'BIOANALISIS Y SERVICIOS HEMATOLOGICOS , S.A. DE C.V.': True, 'SUAREZ MOBILIARIO INTERNACIONAL,S.A.DE C.V.': True, 'FORTE COMUNICACIONES,S.A.DE C.V.': True, 'NAUDIN WILLIAMS JORGE TOMAS': False, 'BIENES AW, S.A. DE C.V.': True, 'CAR ONE MONTERREY, S.A. DE C.V.': True, 'DESARROLLOS HUINALA, S.A. DE C.V.': True, 'SALAZAR GARZA ADRIANA': True, 'FULL TECHNOLOGY, S.A. DE C.V.': True, 'COLLENZI COLONNELLO CLARISSA': False, 'SUPERMERCADOS INTERNACIONALES HEB, S.A. DE C.V.': True, 'SEGUROS BANORTE, S.A. DE C.V. GRUPO FINANCIERO BANORTE': True, 'SAG GRUPO AUTOMOTRIZ, S.A. DE C.V.': True, 'SAMPOGNA GARZA JESUS IGNACIO': True, 'SI VALE MEXICO, S.A. DE C.V.': True, 'INTERLAMPARAS, S.A. DE C.V.': True, 'CONSTRUCTORA NEG, S.A. DE C.V.': True, 'MALDONADO GONZALEZ ARTURO GUILLERMO': True, 'VG MAYOREO DE MONTERREY, S.A. DE C.V.': True, 'DESARROLLOS INMOBILIARIOS JAJEMI, S.A. DE C.V.': False, 'GRANTE INMOBILIARIA, S.A. DE C.V.': True, 'LARRALDE LAGUERA MARGARITA': False, 'PINEDA GUERRERO OSCAR': True, 'INTERASFALTOS, S.A. DE C.V.': True, 'M.S. COMERCIALIZADORA E IMPORTADORA, S.A. DE C.V.': True, 'ANGIO MEDICAL, S.A. DE C.V.': True, 'GRUPO PRO CREA, S.A. DE C.V.': True, 'INTEGRACION DE SISTEMAS DE AVANZADA TECNOLOGIA, S.A. DE C.V.': True, 'HEGV INDUSTRIAL, S.A. DE C.V.': True, 'GRUPO COYOTE MONTERREY, S.A. DE C.V.': True, 'INDUSTRIAS SOLA BASIC, S.A. DE C.V.': True, 'EDIFICIOS DIANA DEL NORTE, S.A. DE C.V.': True, 'LOGOMUNDO, S.A. DE C.V.': True, 'PEREZ RIOS RAMIRO': True, 'CANTU LOGISTICS, S.A. DE C.V.': True, 'ESPECIALIDADES MEDICAS INTERNACIONALES Y EQUIPO MEDICO SA': True, 'CANTU ELIZONDO DANIELA': True, 'BENITES VALDES JOSE LUCIO': True, 'HOSP.UNIVERSITARIO DR.JOSE E.GONZALEZ': False, 'BANCO MULTIVA, SA. G.F.M.': True, 'ASOCIACION DE COLONOS CONTRY LA SILLA A.C.': True, 'BANCO BANCREA,S.A. ,FIDEICOMISO NUMERO BP417': False, 'FIDEICOMISO DISTRITO TEC NUM-1718': False, 'CIUDADANOS EN APOYO A LOS DERECHOS HUMANOS, AC.': True, 'LOZANO SADA MARIA AMALIA': True, 'S.U.T.S.M.M.': False, 'CENTRO INTERNACIONAL DE NEGOCIOS MONTERREY, A.C.': True, 'BANCO MERCANTIL DEL NORTE S.A. IBM GFB': True, 'MUNICIPIO DE LA CIUDAD DE MONTERREY': True, 'MUSEO DE ARTE CONTEMPORANEO DE MONTERREY, AC.': True, 'CFE SUMINISTRADOR DE SERVICIOS BASICOS': True, 'NATURGY MEXICO, S.A. DE C.V.': True, 'SERVICIOS DE AGUA Y DRENAJE DE MONTERREY, IPD.': True, 'ACEROS Y OVEROLLINGS DE MEXICO, SA. DE CV.': True, 'AUTO CENTRO CAMIONERO, SA. DE CV.': True, 'BENAVIDES GONZALEZ LAURA ELENA': True, 'CENICEROS GARCIA MARIA MAGDALENA': True, 'CERVEZAS CUAUHTEMOC MOCTEZUMA, SA. DE CV.': True, 'CINEPOLIS DE MEXICO,S.A. DE C.V.': True, 'ECOTAXI DE MONTERREY, SA. DE CV.': True, 'GARZA TREVIÑO JOSE MARIA': True, 'GOMEZ MEJIA ELSA MARIA': True, 'GONZALEZ VAZQUEZ EDGAR CECILIO': True, 'IIRSACERO, SA. DE CV.': True, 'LAS CERVEZAS MODELO EN NUEVO LEON, SA. DE CV.': True, 'MARCATEL COM, SA. DE CV.': True, 'NERI SANCHEZ MARCELO': True, 'PAEZ YRIGOYEN MARIA DE LOURDES': True, 'PATENA PUENTE LORENA MIREYA': False, 'PEREZ FLORES MARIA DEL ROSARIO': True, 'PEREZ IBARRA ROLANDO ED MISAEL': True, 'RESTAURANTES TOKS. SA. DE CV.': True, 'RODRIGUEZ AGUIRRE LIBRADO': True, 'RODRIGUEZ GOMEZ PAMELA': True, 'SALAS HERNANDEZ ROBERTO KEVIN': True, 'TRANSPORTES PROGRESO, SA.': True, 'TREVIÑO ELIZONDO JOSE HUMBERTO': True, 'TREVIÑO YAÑEZ JOSE HUMBERTO': True, 'VAZQUEZ FLORES ELVIRA': True, 'VELA GONZALEZ OCTAVIO': True, 'VERGARA CASTELLANOS BALDEMAR ALEJANDRO': True, 'VILLARREAL DE LEON BERTHA': True, 'ALIANZA AUTOMOTRIZ RIVERO, SA. DE CV.': True, 'CANO ZAPATA NATALIA': True, 'CHUBB SEGUROS MEXICO, S.A.': True, 'CORPUS MORALES CLAUDIA': True, 'DECO SEGUROS, SA. DE CV.': True, 'DOMENE ZAMBRANO MARIA DEL ROCIO': True, 'EMERGENCIA MEDICA PROFESIONAL, S.C.': True, 'ESTRADA CASTILLO HILDA LETICIA': True, 'GARCIA REYES ANA MARIA': True, 'GONZALEZ CORREA DOLORES DEL CARMEN': True, 'GONZALEZ SANCHEZ MARIA DE LA LUZ': True, 'IMPULSORA PROMOBIEN, SA. DE CV.': True, 'INFONACOT': True, 'INSTITUTO DE CONTROL VEHICULAR': True, 'LOMAS LOZANO CLAUDIA PATRICIA': True, 'MADERA HOLTEN MARIA TERESA': False, 'METLIFE MEXICO, S.A.': True, 'MORENO MARTINEZ SONIA': True, 'OLDER GARCIA CARLOS ALBERTO': True, 'PADILLA QUINTANILLA RUBI': True, 'PATRIMONIO S.A. DE C.V. SOFOM ENR': True, 'RODRIGUEZ ONTIVEROS GLORIA ISABEL': True, 'SECRETARIA DE FINANZAS Y TESORERIA GRAL DEL EDO DE NL': True, 'SEGUROS ARGOS, SA. DE CV.': True, 'SEGUROS VE POR MAS, SA. GRUPO FINANCIERO VE POR MAS': True, 'TORRES RANGEL ANA MARIA': True, 'UNIVERSAL DE SERVICIOS PATRIMONIALES, SAPI DE CV SOFOM ENR': True, 'CHAO CASTRUITA CARMEN': False, 'CORONEL GONZALEZ MARIA LUISA': True, 'FLORES ROBLEDO GUADALUPE CONCEPCION': True, 'LARA SEGURA SINDY MELIZA': True, 'RAMIREZ CUELLAR JONATHAN JOSHUA': True, 'RIOS GOMEZ YENNIFER ITZEL': True, 'PENSIONES Y JUBILACIONES EMPL. MONTERREY': True, 'HERNANDEZ JIMENEZ EDUARDO': True, 'GONZALEZ CANTU ALEXANDRO': True, 'HERRERA GARCIA ADRIANA HORTENCIA': True, 'GARCIA NACIANCENO FELIX MANUEL': True, 'TIJERINA GOMEZ LUCAS OCTAVIO': False, 'GARCIA ORTIZ ALMA ALICIA': True, 'LARA SALAZAR LUZ ADRIANA': True, 'TELLEZ ZOLEZZI CARLOS ALBERTO': True, 'RAMIREZ ORTIZ RAQUEL ADELA': True, 'ESPINOSA RODRIGUEZ MARIA JOSE': True, 'CERECERO MEDINA ZULLY JANETT': False, 'VARGAS ANTILLON MARCOS': True, 'GONZALEZ SALINAS ALAN GERARDO': True, 'GARCIA ALEJANDRO ANALY': True, 'VALLEJO RAMOS JUAN MANUEL': True, 'PT CAR CENTER, S.A. DE C.V.': True, 'LINARES TORRES FERNANDO MANUEL': True, 'SERVICIO TECNICO CHURUBUSCO, S.A. DE C.V.': True, 'INMOBILIARIA HFM, S.A. DE C.V.': True, 'FORTERRA, S.A. DE C.V.': True, 'CONSTRUCCIONES Y URBANIZACIONES VILLA, S.A. DE C.V.': True, 'CONSTRUCTORA Y ARRENDADORA SAN SEBASTIAN, S.A. DE C.V.': True, 'INVESTMENT CAPITAL PARTNERS, S.A. DE C.V.': True, 'GARCIA ZAVALA EDGAR ALEJANDRO JOBERAGAN': False, 'GARIBALDI FRECH MARCELO ANDRES': True, 'TREVIÑO CORREA VALENTIN MARCELO': False, 'SERVICIOS BROXEL, S.A.P.I. DE C.V.': True, 'CORDERO MACIAS SILVESTRE GUADALUPE': True, 'OPERBES, S.A. DE C.V.': True, 'INFRAESTRUCTURA MQ, SA. DE CV.': True, 'MANUFACTURAS RECOVERY, S.A. DE C.V.': True, '235 PROYECTOS, S.A. DE C.V.': True, 'MOTOR DEAL, S.A. DE C.V.': True, 'BOMBEROS DE NUEVO LEON, A.B.P.': True, 'RECYMET SERVICIOS DE MEXICO, S.A. DE C.V.': True, 'PRODUCTORA PROCESADORA AGRICOLA DE MEXICO S.A DE C.V.': True, 'CONSTRUCTORA XILOFACTOS, S.A. DE C.V.': False, 'GAS GARZA SADA, S.A. DE C.V.': True, 'GASOLINERA NUEVO LEON, S.A. DE C.V.': True, 'PINEDA OSORIO JOSE NAZARIO': True, 'GAS HUINALA, S.A. DE C.V.': True, 'SERVICIO GAS LINCOLN, S.A. DE C.V.': True, 'GS GAS Q, S.A. DE C.V.': False, 'GONZALEZ GARZA ROSA LILA': True, 'BUFETE URBANISTICO, S.A. DE C.V.': True, 'TOOLS & SERVICES DE MEXICO, S.A. DE C.V.': True, 'SOLUCIONES Y OPCIONES DE SEGURIDAD PRIVADA,S.A.DE C.V.': True, 'EOLICA SANTA CATARINA, S. DE R.L. DE C.V.': True, 'URBANIZACIONES AGV, S.A. DE C.V.': True, 'RED RECOLECTOR, S.A. DE C.V.': True, 'RAR SMART NETWORKS, S.A. DE C.V.': True, 'RAMIREZ VERASTEGUI ISIDRO RAMON': True, 'CHAPA RIOS RAUL': True, 'PICO INFRAESTRUCTURA URBANA, SA. DE CV.': True, 'GUERRERO SEGURA NESTOR': True, 'PAVIMENTOS Y CONSTRUCCIONES GARCAN, SA. DE CV.': True, 'GUAJARDO Y ASOCS.CONSTRUCTORA, S.A. DE CV.': True, 'ABC Y CONSTRUCCIONES, SA. DE CV.': True, 'CONSTRUCCIONES DYNAMO, SA. DE CV.': True, 'CONSTRUCTORA JOMABE, SA. DE CV.': True, 'CONSTRUCCIONES Y URBANIZACIONES DEL PONIENTE, SA. DE CV.': True, 'INFRAESTRUCTURA Y CONSTRUCCIONES GARCIA, SA. DE CV.': True, 'CONSTRUCTORA POLITEZZA, SA. DE CV.': True, 'URBANISMOS ROSALES, SA. DE CV.': True, 'ARQUITECTURA E INGENIERIA 2000, SA. DE CV.': True, 'RICE OBRAS, SA. DE CV.': True, 'ORTIZ MONTOYA HUGO': True, 'PROVEEDORA PARA LA CONSTRUCCION REGIOMONTANA, S.A. DE C.V.': True, 'BUILDTECH PAVIMENTOS ESTAMPADOS Y CONSTRUCCIONES, SA. DE CV.': True, 'DESARROLLO CONSTRUCTIVO Y URBANISTICO, SA. DE CV.': True, 'CONSORCIO CONSTRUCTIVO Y PROYECTOS, SA. DE CV.': True, 'MONQ CONSTRUCTORES, SA. DE CV.': True, 'PROYECTOS Y DESARROLLOS SALVE, SA. DE CV.': True, 'CEREZO TORRES RAUL': True, 'CONSTRUCCIONES PAVIMENTO Y EDIFICACIONES COPESA, S.A. DE C.V.': True, 'CONSTRUCCIONES Y MANTENIMIENTO GAME, SA. DE CV.': True, 'CONSTRUCTORA Y ARRENDADORA SAN SEBASTIAN, SA. DE CV.': True, 'HUAJUCO CONSTRUCCIONES, S.A. DE C.V.': True, 'CONSTRUCCION Y DIRECCION DE OBRA AM, SA. DE CV.': True, 'CONSTRUCTORA LAZO, S.DE RL. DE CV.': True, 'DESARROLLOS MAFERSA, SA. DE CV.': True, 'HTR INFRAESTRUCTURA, SA. DE CV.': True, 'CKT EDIFICACIONES, SA. DE CV.': True, 'REGIO ASFALTOS Y CONCRETOS, SA. DE CV.': True, 'CONSTRUCTORA Y COMERCIALIZADORA IMPERIAL, SA DE CV.': True, 'SERVICIOS DE AGUA DLO, SA. DE CV.': True, 'INSTITUTO MUNICIPAL DE LAS MUJERES REGIAS': True, 'SOLUCION ARTE EN CONSTRUCCION, SA. DE CV.': True, 'INSTITUTO DE INV.INNOV.Y EST.DE POSG.P/LA EDU.DEL EDO DE NL.': False, 'UNIVERSIDAD AUTONOMA DE NUEVO LEON': True, 'CONTRERAS MONSIVAIS DANIEL': True, 'CAMARA MEXICANA DE LA INDUSTRIA DE LA CONSTRUCCION': True, 'F/4086906 BBVA BANCOMER, SA.': False, 'BS CAR SERVICES, S.A. DE C.V.': True, 'RAMIREZ PEÑA ALEJANDRO': True, 'INMOBILIARIA ESTRUCTURAL, S.A. DE C.V.': True, 'UNION POR EL DESARROLLO DE CORAZONES MEXICANOS, A.C.': True, 'EDIFICACIONES Y TERRACERIAS DEL NORTE, S.A. DE C.V.': True, 'ADQUISICIONES INTELIGENTES, S.A. DE C.V.': True, 'CENTRO DE ATENCION, PREVENCION Y SEGURIDAD SOCIAL, S.C.': True, 'GOBIERNO DEL ESTADO DE DURANGO': True, 'DESARROLLO Y CONSTRUCCIONES URBANAS, S.A. DE C.V.': True, 'SIERRA MADRE RACING, S.A. DE C.V.': True, 'EDDS MANTENIMIENTO, S.A. DE C.V.': True, 'CONSTRUCTORA MAIZ MIER,S.A. DE C.V.': True, 'ARMOR LIFE LAB, S.A. DE C.V.': True, 'INSTITUTO ESTATAL DE CIENCIAS PENALES Y SEGURIDAD PUBLICA': True, 'UNIVERSIDAD REGIOMONTANA, A.C.': True, 'ZAPATA CHAVIRA HOMERO ARTURO': True, 'ORTEGA VAZQUEZ ANDRES JAIME': True, 'INTEGRACION TECNOLOGICA FISCAL, S. DE RL DE C.V.': True, 'MANAGEMENT TECHNOLOGY INNOVATIONS, S.C.': True, 'G&B SOLUTIONS, S.A. DE C.V.': True, 'VELEZ VALDES ALBERTO': True, 'NUCLEO RADIO MONTERREY,S.A.DE C.V.': True, 'SISTEMEDIOS, S.A. DE C.V.': True, 'RTV & PRESS NEWS,S.A.DE C.V': True, 'TV DE LOS MOCHIS,S.A.DE C.V.': True, 'SCRIPTAMTY, S.A. DE C.V.': True, 'LOZANO CAVAZOS REYNALDO RAMON': True, 'STEREOREY MEXICO, S.A.': True, 'VERBO LIBRE EDITORES, S.A. DE C.V.': True, 'MULTIMEDIOS, S.A. DE C.V.': True, 'MARQUEZ GOMEZ ISAI': True, 'MILENIO DIARIO, S.A. DE C.V.': True, 'MELCHOR GUERRERO PERLA GUADALUPE': True, 'OVIEDO RODRIGUEZ MARILU': True, 'M58, S.A. DE C.V.': True, 'TEAM ONE 2018, S.A. DE C.V.': True, 'MAGENTA MULTIMEDIA, S.A.P.I. DE C.V.': False, 'CYAN MEDIA LAB, S.A. DE C.V.': True, 'MAYORGA CONSULTORES, S.C.': True, 'PUBLIGAB COMUNICACIONES, S.A. DE C.V.': False, 'ARRIAGA PEREZ ROCIO JAZMIN': True, 'AYALA SALAZAR GABRIEL': True, 'BRANDI ELGUEZABAL MARCELO': False, 'BRAVO GARZA CARLOS ALBERTO': True, 'BRAVO MENDOZA JOEL': True, 'CELEDONIO BECERRA JUAN MIGUEL': True, 'CORTES SANCHEZ VICTOR MANUEL': True, 'GALVAN GUERRERO ANDRES': True, 'GAMEZ RODRIGUEZ PABLO': True, 'GARCIA GONZALEZ ARTURO': True, 'GONZALEZ AGUILERA CRISTINA MIROSLAVA': True, 'GUERRERO MARTINEZ EDGAR FEDERICO': True, 'HERNANDEZ SOTO BRENDA NATALIA': True, 'ORDAZ ARANJO JOSE ANTONIO': True, 'RAMOS DE LA GARZA RAFAEL EDUARDO': True, 'RAMOS MARROQUIN FRANCISCO JAVIER': True, 'RODRIGUEZ JUAREZ DANIELA BERENICE': True, 'RODRIGUEZ MORALES CYNTHIA ESTHER': True, 'SANCHEZ DAVILA GERARDO RAUL': True, 'TORRES ACOSTA ROBERTO CARLOS': True, 'VARGAS GARCIA ALHINNA BERENICE': False, 'VILLARREAL CARDENAS JUAN IGNACIO': True, 'VILLARREAL CARDENAS NANCY ESTHER': True, 'GODOY SANCHEZ RICARDO': True, 'MIJANGOS DE JESUS FERNANDO': True, 'MORENO GARCIA JOSE ARTURO': True, 'SANCHEZ HERNANDEZ SEBASTIAN': True, 'SEGOVIA PAEZ MARCELO': True, 'TOVAR CEDILLO JAVIER ALFONSO': True}",
            "count": 42
           }
          ]
         }
        },
        {
         "name": "CLUSTER_NAME",
         "dtype": "int64",
         "stats": {
          "unique_count": 3,
          "nan_count": 0,
          "min": "0",
          "max": "5",
          "histogram": [
           {
            "bin_start": 0,
            "bin_end": 0.5,
            "count": 11
           },
           {
            "bin_start": 0.5,
            "bin_end": 1,
            "count": 0
           },
           {
            "bin_start": 1,
            "bin_end": 1.5,
            "count": 0
           },
           {
            "bin_start": 1.5,
            "bin_end": 2,
            "count": 0
           },
           {
            "bin_start": 2,
            "bin_end": 2.5,
            "count": 0
           },
           {
            "bin_start": 2.5,
            "bin_end": 3,
            "count": 0
           },
           {
            "bin_start": 3,
            "bin_end": 3.5,
            "count": 2
           },
           {
            "bin_start": 3.5,
            "bin_end": 4,
            "count": 0
           },
           {
            "bin_start": 4,
            "bin_end": 4.5,
            "count": 0
           },
           {
            "bin_start": 4.5,
            "bin_end": 5,
            "count": 29
           }
          ]
         }
        },
        {
         "name": "PROB_TOTAL",
         "dtype": "float64",
         "stats": {
          "unique_count": 35,
          "nan_count": 0,
          "min": "0.9507383636509277",
          "max": "1.0",
          "histogram": [
           {
            "bin_start": 0.9507383636509277,
            "bin_end": 0.955664527285835,
            "count": 5
           },
           {
            "bin_start": 0.955664527285835,
            "bin_end": 0.9605906909207421,
            "count": 3
           },
           {
            "bin_start": 0.9605906909207421,
            "bin_end": 0.9655168545556494,
            "count": 0
           },
           {
            "bin_start": 0.9655168545556494,
            "bin_end": 0.9704430181905566,
            "count": 2
           },
           {
            "bin_start": 0.9704430181905566,
            "bin_end": 0.9753691818254638,
            "count": 1
           },
           {
            "bin_start": 0.9753691818254638,
            "bin_end": 0.9802953454603711,
            "count": 2
           },
           {
            "bin_start": 0.9802953454603711,
            "bin_end": 0.9852215090952783,
            "count": 1
           },
           {
            "bin_start": 0.9852215090952783,
            "bin_end": 0.9901476727301856,
            "count": 0
           },
           {
            "bin_start": 0.9901476727301856,
            "bin_end": 0.9950738363650927,
            "count": 2
           },
           {
            "bin_start": 0.9950738363650927,
            "bin_end": 1,
            "count": 26
           }
          ]
         }
        },
        {
         "name": "_deepnote_index_column",
         "dtype": "int64"
        }
       ],
       "rows": [
        {
         "CVE BEN": 112290,
         "BENEFICIARIO": "IMPULSORA DE RENTAS Y SERVICIOS, S.A. DE C.V.",
         "RFC": "IRS940928BK7",
         "FACTURAS": "A5397-183011-2151",
         "CONTRATO": "SSP-294-2022",
         "CONCEPTO": "PLANEACION Y COORDINACION DEL EVENTO \"AHORA NOS DIVERTIMOS JUNTOS\" EN LOS PARQUES ESPAÑA, AZTLAN Y TUCAN",
         "TIPO": "TR",
         "FDO-#OP": 1022794,
         "FECHA": "2022-06-10",
         "IMPORTE": 7308000,
         "SHEET": "GASTOS VARIOS",
         "DIA": 10,
         "MES": 6,
         "ANO": 2022,
         "BENEFICIARIO_SALES": 1,
         "IMPORTE_GASTOS_PROMEDIO": 583159.3705128209,
         "HAS_LINKEDIN_SITE": "{'Rosa Lorena Valdez Miranda': True, 'Roque Yañez Ramos': True, 'Laura Perla Cordova Rodriguez': True, 'Rosa Ofelia Coronado Flores': True, 'Alvaro Flores Palomo': True, 'Liliana Tijerina Cantu': True, 'Ruben Basaldua Moyeda': True, 'Maria Cristina Muñoz Rios': True, 'Gerardo Guerrero Adame': True, 'Mayela Maria De Lourdes Quiroga Tamez': True, 'Humberto Arturo Garza De Hoyos': True, 'Irma Montero Solis': True, 'Jorge Alejandro Alvarado Martinez': True, 'Ana Lilia Coronado Araiza': True, 'Francisco Salazar Guadiana': True, 'Maria Thalina Almaraz Gonzalez': True, 'Diego Armando Arellano Aguilar': True, 'Jorge Adrian Ayala Cantu': True, 'Adriana Paola Coronado Ramirez': True, 'LLANTAS Y SERVICIOS SERNA ANAHUAC,S.A. DE C.V.': True, 'GH MAQUINARIA Y EQUIPO, S.A.DE C.V.': True, 'PLOMIFERRETERA EL TORNILLO, S.A. DE C.V.': False, 'EQUIPOS Y ACCESORIOS CANTU, S.A. DE C.V.': True, 'PRAXAIR MEXICO S. DE R.L. DE C.V.': True, 'COMERCIALIZADORA HNOS.ALVAREZ FLORES,S.A.DE C.V.': False, 'DISTRIBUIDO…",
         "CLUSTER_NAME": 5,
         "PROB_TOTAL": 0.9998771772454915,
         "_deepnote_index_column": 14
        },
        {
         "CVE BEN": 115789,
         "BENEFICIARIO": "HISA FARMACEUTICA, S.A. DE C.V.",
         "RFC": "CHI990710I32",
         "FACTURAS": "M106161-183011-1917",
         "CONTRATO": "SFA-039-2022",
         "CONCEPTO": "CONSUMO DE MEDICAMENTOS DEL 1 AL 8 DE ABRIL 2022, UNIDAD CUMBRES",
         "TIPO": "TR",
         "FDO-#OP": 1022704,
         "FECHA": "2022-06-03",
         "IMPORTE": 4220621.01,
         "SHEET": "GASTOS VARIOS",
         "DIA": 3,
         "MES": 6,
         "ANO": 2022,
         "BENEFICIARIO_SALES": 40,
         "IMPORTE_GASTOS_PROMEDIO": 583159.3705128209,
         "HAS_LINKEDIN_SITE": "{'Rosa Lorena Valdez Miranda': True, 'Roque Yañez Ramos': True, 'Laura Perla Cordova Rodriguez': True, 'Rosa Ofelia Coronado Flores': True, 'Alvaro Flores Palomo': True, 'Liliana Tijerina Cantu': True, 'Ruben Basaldua Moyeda': True, 'Maria Cristina Muñoz Rios': True, 'Gerardo Guerrero Adame': True, 'Mayela Maria De Lourdes Quiroga Tamez': True, 'Humberto Arturo Garza De Hoyos': True, 'Irma Montero Solis': True, 'Jorge Alejandro Alvarado Martinez': True, 'Ana Lilia Coronado Araiza': True, 'Francisco Salazar Guadiana': True, 'Maria Thalina Almaraz Gonzalez': True, 'Diego Armando Arellano Aguilar': True, 'Jorge Adrian Ayala Cantu': True, 'Adriana Paola Coronado Ramirez': True, 'LLANTAS Y SERVICIOS SERNA ANAHUAC,S.A. DE C.V.': True, 'GH MAQUINARIA Y EQUIPO, S.A.DE C.V.': True, 'PLOMIFERRETERA EL TORNILLO, S.A. DE C.V.': False, 'EQUIPOS Y ACCESORIOS CANTU, S.A. DE C.V.': True, 'PRAXAIR MEXICO S. DE R.L. DE C.V.': True, 'COMERCIALIZADORA HNOS.ALVAREZ FLORES,S.A.DE C.V.': False, 'DISTRIBUIDO…",
         "CLUSTER_NAME": 5,
         "PROB_TOTAL": 0.9788667197710583,
         "_deepnote_index_column": 59
        },
        {
         "CVE BEN": 115789,
         "BENEFICIARIO": "HISA FARMACEUTICA, S.A. DE C.V.",
         "RFC": "CHI990710I32",
         "FACTURAS": "M106526-183011-1921",
         "CONTRATO": "SFA-039-2022",
         "CONCEPTO": "CONSUMO DE MEDICAMENTOS DEL 18 AL 22 DE ABRIL 2022, UNIDAD CUMBRES",
         "TIPO": "TR",
         "FDO-#OP": 1022704,
         "FECHA": "2022-06-03",
         "IMPORTE": 3596997.84,
         "SHEET": "GASTOS VARIOS",
         "DIA": 3,
         "MES": 6,
         "ANO": 2022,
         "BENEFICIARIO_SALES": 40,
         "IMPORTE_GASTOS_PROMEDIO": 583159.3705128209,
         "HAS_LINKEDIN_SITE": "{'Rosa Lorena Valdez Miranda': True, 'Roque Yañez Ramos': True, 'Laura Perla Cordova Rodriguez': True, 'Rosa Ofelia Coronado Flores': True, 'Alvaro Flores Palomo': True, 'Liliana Tijerina Cantu': True, 'Ruben Basaldua Moyeda': True, 'Maria Cristina Muñoz Rios': True, 'Gerardo Guerrero Adame': True, 'Mayela Maria De Lourdes Quiroga Tamez': True, 'Humberto Arturo Garza De Hoyos': True, 'Irma Montero Solis': True, 'Jorge Alejandro Alvarado Martinez': True, 'Ana Lilia Coronado Araiza': True, 'Francisco Salazar Guadiana': True, 'Maria Thalina Almaraz Gonzalez': True, 'Diego Armando Arellano Aguilar': True, 'Jorge Adrian Ayala Cantu': True, 'Adriana Paola Coronado Ramirez': True, 'LLANTAS Y SERVICIOS SERNA ANAHUAC,S.A. DE C.V.': True, 'GH MAQUINARIA Y EQUIPO, S.A.DE C.V.': True, 'PLOMIFERRETERA EL TORNILLO, S.A. DE C.V.': False, 'EQUIPOS Y ACCESORIOS CANTU, S.A. DE C.V.': True, 'PRAXAIR MEXICO S. DE R.L. DE C.V.': True, 'COMERCIALIZADORA HNOS.ALVAREZ FLORES,S.A.DE C.V.': False, 'DISTRIBUIDO…",
         "CLUSTER_NAME": 5,
         "PROB_TOTAL": 0.9554772620888898,
         "_deepnote_index_column": 69
        },
        {
         "CVE BEN": 116381,
         "BENEFICIARIO": "EPSILON ENTERTAINMENT, S.A. DE C.V.",
         "RFC": "EEN140122A99",
         "FACTURAS": "EEN239-183011-2152",
         "CONTRATO": "SSP-298-2022",
         "CONCEPTO": "PLANEACION Y COORDINACION DEL EVENTO \"AHORA NOS DIVERTIMOS JUNTOS\" EN LOS PARQUES ESPAÑA, AZTLAN Y TUCAN",
         "TIPO": "TR",
         "FDO-#OP": 1022780,
         "FECHA": "2022-06-10",
         "IMPORTE": 8660281.48,
         "SHEET": "GASTOS VARIOS",
         "DIA": 10,
         "MES": 6,
         "ANO": 2022,
         "BENEFICIARIO_SALES": 1,
         "IMPORTE_GASTOS_PROMEDIO": 583159.3705128209,
         "HAS_LINKEDIN_SITE": "{'Rosa Lorena Valdez Miranda': True, 'Roque Yañez Ramos': True, 'Laura Perla Cordova Rodriguez': True, 'Rosa Ofelia Coronado Flores': True, 'Alvaro Flores Palomo': True, 'Liliana Tijerina Cantu': True, 'Ruben Basaldua Moyeda': True, 'Maria Cristina Muñoz Rios': True, 'Gerardo Guerrero Adame': True, 'Mayela Maria De Lourdes Quiroga Tamez': True, 'Humberto Arturo Garza De Hoyos': True, 'Irma Montero Solis': True, 'Jorge Alejandro Alvarado Martinez': True, 'Ana Lilia Coronado Araiza': True, 'Francisco Salazar Guadiana': True, 'Maria Thalina Almaraz Gonzalez': True, 'Diego Armando Arellano Aguilar': True, 'Jorge Adrian Ayala Cantu': True, 'Adriana Paola Coronado Ramirez': True, 'LLANTAS Y SERVICIOS SERNA ANAHUAC,S.A. DE C.V.': True, 'GH MAQUINARIA Y EQUIPO, S.A.DE C.V.': True, 'PLOMIFERRETERA EL TORNILLO, S.A. DE C.V.': False, 'EQUIPOS Y ACCESORIOS CANTU, S.A. DE C.V.': True, 'PRAXAIR MEXICO S. DE R.L. DE C.V.': True, 'COMERCIALIZADORA HNOS.ALVAREZ FLORES,S.A.DE C.V.': False, 'DISTRIBUIDO…",
         "CLUSTER_NAME": 5,
         "PROB_TOTAL": 0.9999941545618656,
         "_deepnote_index_column": 131
        },
        {
         "CVE BEN": 116684,
         "BENEFICIARIO": "INDUSTRIAS SOLA BASIC, S.A. DE C.V.",
         "RFC": "ISB840628IB2",
         "FACTURAS": "GS147003-183011-2244",
         "CONTRATO": "SSP-189-2017",
         "CONCEPTO": "MANTENIMIENTO PREVENTIVO Y CORRECTIVO DE LOS TRABAJOS DE MODERNIZACION DEL PARQUE LUMINARIO DE ALUMBRADO PUBLICO PERIODO DEL 21 DE ABRIL AL 20 DE MAYO 2022 (MODERNIZACION)",
         "TIPO": "TR",
         "FDO-#OP": 604000081,
         "FECHA": "2022-06-22",
         "IMPORTE": 9000000,
         "SHEET": "GASTOS VARIOS",
         "DIA": 22,
         "MES": 6,
         "ANO": 2022,
         "BENEFICIARIO_SALES": 4,
         "IMPORTE_GASTOS_PROMEDIO": 583159.3705128209,
         "HAS_LINKEDIN_SITE": "{'Rosa Lorena Valdez Miranda': True, 'Roque Yañez Ramos': True, 'Laura Perla Cordova Rodriguez': True, 'Rosa Ofelia Coronado Flores': True, 'Alvaro Flores Palomo': True, 'Liliana Tijerina Cantu': True, 'Ruben Basaldua Moyeda': True, 'Maria Cristina Muñoz Rios': True, 'Gerardo Guerrero Adame': True, 'Mayela Maria De Lourdes Quiroga Tamez': True, 'Humberto Arturo Garza De Hoyos': True, 'Irma Montero Solis': True, 'Jorge Alejandro Alvarado Martinez': True, 'Ana Lilia Coronado Araiza': True, 'Francisco Salazar Guadiana': True, 'Maria Thalina Almaraz Gonzalez': True, 'Diego Armando Arellano Aguilar': True, 'Jorge Adrian Ayala Cantu': True, 'Adriana Paola Coronado Ramirez': True, 'LLANTAS Y SERVICIOS SERNA ANAHUAC,S.A. DE C.V.': True, 'GH MAQUINARIA Y EQUIPO, S.A.DE C.V.': True, 'PLOMIFERRETERA EL TORNILLO, S.A. DE C.V.': False, 'EQUIPOS Y ACCESORIOS CANTU, S.A. DE C.V.': True, 'PRAXAIR MEXICO S. DE R.L. DE C.V.': True, 'COMERCIALIZADORA HNOS.ALVAREZ FLORES,S.A.DE C.V.': False, 'DISTRIBUIDO…",
         "CLUSTER_NAME": 0,
         "PROB_TOTAL": 0.9999974819323427,
         "_deepnote_index_column": 166
        },
        {
         "CVE BEN": 116684,
         "BENEFICIARIO": "INDUSTRIAS SOLA BASIC, S.A. DE C.V.",
         "RFC": "ISB840628IB2",
         "FACTURAS": "GS147005-183011-2246",
         "CONTRATO": "SSP-189-2017",
         "CONCEPTO": "MANTENIMIENTO PREVENTIVO Y CORRECTIVO DE LOS TRABAJOS DE MODERNIZACION DEL PARQUE LUMINARIO DE ALUMBRADO PUBLICO PERIODO DEL 21 DE ABRIL AL 20 DE MAYO DE 2022 (CALIDAD DEL SERVICIO)",
         "TIPO": "TR",
         "FDO-#OP": 604000081,
         "FECHA": "2022-06-22",
         "IMPORTE": 3854000,
         "SHEET": "GASTOS VARIOS",
         "DIA": 22,
         "MES": 6,
         "ANO": 2022,
         "BENEFICIARIO_SALES": 4,
         "IMPORTE_GASTOS_PROMEDIO": 583159.3705128209,
         "HAS_LINKEDIN_SITE": "{'Rosa Lorena Valdez Miranda': True, 'Roque Yañez Ramos': True, 'Laura Perla Cordova Rodriguez': True, 'Rosa Ofelia Coronado Flores': True, 'Alvaro Flores Palomo': True, 'Liliana Tijerina Cantu': True, 'Ruben Basaldua Moyeda': True, 'Maria Cristina Muñoz Rios': True, 'Gerardo Guerrero Adame': True, 'Mayela Maria De Lourdes Quiroga Tamez': True, 'Humberto Arturo Garza De Hoyos': True, 'Irma Montero Solis': True, 'Jorge Alejandro Alvarado Martinez': True, 'Ana Lilia Coronado Araiza': True, 'Francisco Salazar Guadiana': True, 'Maria Thalina Almaraz Gonzalez': True, 'Diego Armando Arellano Aguilar': True, 'Jorge Adrian Ayala Cantu': True, 'Adriana Paola Coronado Ramirez': True, 'LLANTAS Y SERVICIOS SERNA ANAHUAC,S.A. DE C.V.': True, 'GH MAQUINARIA Y EQUIPO, S.A.DE C.V.': True, 'PLOMIFERRETERA EL TORNILLO, S.A. DE C.V.': False, 'EQUIPOS Y ACCESORIOS CANTU, S.A. DE C.V.': True, 'PRAXAIR MEXICO S. DE R.L. DE C.V.': True, 'COMERCIALIZADORA HNOS.ALVAREZ FLORES,S.A.DE C.V.': False, 'DISTRIBUIDO…",
         "CLUSTER_NAME": 0,
         "PROB_TOTAL": 0.96686766079471,
         "_deepnote_index_column": 167
        },
        {
         "CVE BEN": 116684,
         "BENEFICIARIO": "INDUSTRIAS SOLA BASIC, S.A. DE C.V.",
         "RFC": "ISB840628IB2",
         "FACTURAS": "GS149020-183011-2763",
         "CONTRATO": "NO APLICA",
         "CONCEPTO": "MANTENIMIENTO PREVENTIVO Y CORRECTIVO DE LOS TRABAJOS DE MODERNIZACION DEL PARQUE LUMINARIO DE ALUMBRADO PUBLICO PERIODO DEL 21 DE MAYO AL 20 DE JUNIO 2022 (MODERNIZACION)",
         "TIPO": "TR",
         "FDO-#OP": 604000082,
         "FECHA": "2022-06-30",
         "IMPORTE": 9000000,
         "SHEET": "GASTOS VARIOS",
         "DIA": 30,
         "MES": 6,
         "ANO": 2022,
         "BENEFICIARIO_SALES": 4,
         "IMPORTE_GASTOS_PROMEDIO": 583159.3705128209,
         "HAS_LINKEDIN_SITE": "{'Rosa Lorena Valdez Miranda': True, 'Roque Yañez Ramos': True, 'Laura Perla Cordova Rodriguez': True, 'Rosa Ofelia Coronado Flores': True, 'Alvaro Flores Palomo': True, 'Liliana Tijerina Cantu': True, 'Ruben Basaldua Moyeda': True, 'Maria Cristina Muñoz Rios': True, 'Gerardo Guerrero Adame': True, 'Mayela Maria De Lourdes Quiroga Tamez': True, 'Humberto Arturo Garza De Hoyos': True, 'Irma Montero Solis': True, 'Jorge Alejandro Alvarado Martinez': True, 'Ana Lilia Coronado Araiza': True, 'Francisco Salazar Guadiana': True, 'Maria Thalina Almaraz Gonzalez': True, 'Diego Armando Arellano Aguilar': True, 'Jorge Adrian Ayala Cantu': True, 'Adriana Paola Coronado Ramirez': True, 'LLANTAS Y SERVICIOS SERNA ANAHUAC,S.A. DE C.V.': True, 'GH MAQUINARIA Y EQUIPO, S.A.DE C.V.': True, 'PLOMIFERRETERA EL TORNILLO, S.A. DE C.V.': False, 'EQUIPOS Y ACCESORIOS CANTU, S.A. DE C.V.': True, 'PRAXAIR MEXICO S. DE R.L. DE C.V.': True, 'COMERCIALIZADORA HNOS.ALVAREZ FLORES,S.A.DE C.V.': False, 'DISTRIBUIDO…",
         "CLUSTER_NAME": 0,
         "PROB_TOTAL": 0.9999974819323427,
         "_deepnote_index_column": 168
        },
        {
         "CVE BEN": 116684,
         "BENEFICIARIO": "INDUSTRIAS SOLA BASIC, S.A. DE C.V.",
         "RFC": "ISB840628IB2",
         "FACTURAS": "GS149021-183011-2762",
         "CONTRATO": "NO APLICA",
         "CONCEPTO": "MANTENIMIENTO PREVENTIVO Y CORRECTIVO DE LOS TRABAJOS DE MODERNIZACION DEL PARQUE LUMINARIO DE ALUMBRADO PUBLICO PERIODO DEL 21 DE MAYO AL 20 DE JUNIO DE 2022 (CALIDAD DEL SERVICIO)",
         "TIPO": "TR",
         "FDO-#OP": 604000082,
         "FECHA": "2022-06-30",
         "IMPORTE": 3854000,
         "SHEET": "GASTOS VARIOS",
         "DIA": 30,
         "MES": 6,
         "ANO": 2022,
         "BENEFICIARIO_SALES": 4,
         "IMPORTE_GASTOS_PROMEDIO": 583159.3705128209,
         "HAS_LINKEDIN_SITE": "{'Rosa Lorena Valdez Miranda': True, 'Roque Yañez Ramos': True, 'Laura Perla Cordova Rodriguez': True, 'Rosa Ofelia Coronado Flores': True, 'Alvaro Flores Palomo': True, 'Liliana Tijerina Cantu': True, 'Ruben Basaldua Moyeda': True, 'Maria Cristina Muñoz Rios': True, 'Gerardo Guerrero Adame': True, 'Mayela Maria De Lourdes Quiroga Tamez': True, 'Humberto Arturo Garza De Hoyos': True, 'Irma Montero Solis': True, 'Jorge Alejandro Alvarado Martinez': True, 'Ana Lilia Coronado Araiza': True, 'Francisco Salazar Guadiana': True, 'Maria Thalina Almaraz Gonzalez': True, 'Diego Armando Arellano Aguilar': True, 'Jorge Adrian Ayala Cantu': True, 'Adriana Paola Coronado Ramirez': True, 'LLANTAS Y SERVICIOS SERNA ANAHUAC,S.A. DE C.V.': True, 'GH MAQUINARIA Y EQUIPO, S.A.DE C.V.': True, 'PLOMIFERRETERA EL TORNILLO, S.A. DE C.V.': False, 'EQUIPOS Y ACCESORIOS CANTU, S.A. DE C.V.': True, 'PRAXAIR MEXICO S. DE R.L. DE C.V.': True, 'COMERCIALIZADORA HNOS.ALVAREZ FLORES,S.A.DE C.V.': False, 'DISTRIBUIDO…",
         "CLUSTER_NAME": 0,
         "PROB_TOTAL": 0.96686766079471,
         "_deepnote_index_column": 169
        },
        {
         "CVE BEN": 126224,
         "BENEFICIARIO": "BANCO MULTIVA, SA. G.F.M.",
         "RFC": "BMI061005NY5",
         "FACTURAS": "FS-11-2022-183010-1656",
         "CONTRATO": "NO APLICA",
         "CONCEPTO": "FONDO SAPS QUINCENA 11-2022",
         "TIPO": "TR",
         "FDO-#OP": 1022798,
         "FECHA": "2022-06-14",
         "IMPORTE": 7343658.4,
         "SHEET": "GASTOS VARIOS",
         "DIA": 14,
         "MES": 6,
         "ANO": 2022,
         "BENEFICIARIO_SALES": 2,
         "IMPORTE_GASTOS_PROMEDIO": 583159.3705128209,
         "HAS_LINKEDIN_SITE": "{'Rosa Lorena Valdez Miranda': True, 'Roque Yañez Ramos': True, 'Laura Perla Cordova Rodriguez': True, 'Rosa Ofelia Coronado Flores': True, 'Alvaro Flores Palomo': True, 'Liliana Tijerina Cantu': True, 'Ruben Basaldua Moyeda': True, 'Maria Cristina Muñoz Rios': True, 'Gerardo Guerrero Adame': True, 'Mayela Maria De Lourdes Quiroga Tamez': True, 'Humberto Arturo Garza De Hoyos': True, 'Irma Montero Solis': True, 'Jorge Alejandro Alvarado Martinez': True, 'Ana Lilia Coronado Araiza': True, 'Francisco Salazar Guadiana': True, 'Maria Thalina Almaraz Gonzalez': True, 'Diego Armando Arellano Aguilar': True, 'Jorge Adrian Ayala Cantu': True, 'Adriana Paola Coronado Ramirez': True, 'LLANTAS Y SERVICIOS SERNA ANAHUAC,S.A. DE C.V.': True, 'GH MAQUINARIA Y EQUIPO, S.A.DE C.V.': True, 'PLOMIFERRETERA EL TORNILLO, S.A. DE C.V.': False, 'EQUIPOS Y ACCESORIOS CANTU, S.A. DE C.V.': True, 'PRAXAIR MEXICO S. DE R.L. DE C.V.': True, 'COMERCIALIZADORA HNOS.ALVAREZ FLORES,S.A.DE C.V.': False, 'DISTRIBUIDO…",
         "CLUSTER_NAME": 5,
         "PROB_TOTAL": 0.9998859407961516,
         "_deepnote_index_column": 180
        },
        {
         "CVE BEN": 126224,
         "BENEFICIARIO": "BANCO MULTIVA, SA. G.F.M.",
         "RFC": "BMI061005NY5",
         "FACTURAS": "FS-12-2022-183010-1814",
         "CONTRATO": "NO APLICA",
         "CONCEPTO": "FONDO SAPS QUINCENA 12-2022",
         "TIPO": "TR",
         "FDO-#OP": 1022928,
         "FECHA": "2022-06-29",
         "IMPORTE": 7312801.19,
         "SHEET": "GASTOS VARIOS",
         "DIA": 29,
         "MES": 6,
         "ANO": 2022,
         "BENEFICIARIO_SALES": 2,
         "IMPORTE_GASTOS_PROMEDIO": 583159.3705128209,
         "HAS_LINKEDIN_SITE": "{'Rosa Lorena Valdez Miranda': True, 'Roque Yañez Ramos': True, 'Laura Perla Cordova Rodriguez': True, 'Rosa Ofelia Coronado Flores': True, 'Alvaro Flores Palomo': True, 'Liliana Tijerina Cantu': True, 'Ruben Basaldua Moyeda': True, 'Maria Cristina Muñoz Rios': True, 'Gerardo Guerrero Adame': True, 'Mayela Maria De Lourdes Quiroga Tamez': True, 'Humberto Arturo Garza De Hoyos': True, 'Irma Montero Solis': True, 'Jorge Alejandro Alvarado Martinez': True, 'Ana Lilia Coronado Araiza': True, 'Francisco Salazar Guadiana': True, 'Maria Thalina Almaraz Gonzalez': True, 'Diego Armando Arellano Aguilar': True, 'Jorge Adrian Ayala Cantu': True, 'Adriana Paola Coronado Ramirez': True, 'LLANTAS Y SERVICIOS SERNA ANAHUAC,S.A. DE C.V.': True, 'GH MAQUINARIA Y EQUIPO, S.A.DE C.V.': True, 'PLOMIFERRETERA EL TORNILLO, S.A. DE C.V.': False, 'EQUIPOS Y ACCESORIOS CANTU, S.A. DE C.V.': True, 'PRAXAIR MEXICO S. DE R.L. DE C.V.': True, 'COMERCIALIZADORA HNOS.ALVAREZ FLORES,S.A.DE C.V.': False, 'DISTRIBUIDO…",
         "CLUSTER_NAME": 5,
         "PROB_TOTAL": 0.9998783929416293,
         "_deepnote_index_column": 181
        }
       ]
      },
      "text/plain": "      CVE BEN                                       BENEFICIARIO  \\\n14     112290      IMPULSORA DE RENTAS Y SERVICIOS, S.A. DE C.V.   \n59     115789                    HISA FARMACEUTICA, S.A. DE C.V.   \n69     115789                    HISA FARMACEUTICA, S.A. DE C.V.   \n131    116381                EPSILON ENTERTAINMENT, S.A. DE C.V.   \n166    116684                INDUSTRIAS SOLA BASIC, S.A. DE C.V.   \n167    116684                INDUSTRIAS SOLA BASIC, S.A. DE C.V.   \n168    116684                INDUSTRIAS SOLA BASIC, S.A. DE C.V.   \n169    116684                INDUSTRIAS SOLA BASIC, S.A. DE C.V.   \n180    126224                          BANCO MULTIVA, SA. G.F.M.   \n181    126224                          BANCO MULTIVA, SA. G.F.M.   \n182    126371  INSTITUTO MPAL.DE PLANEAC.URB.Y CONVIVENCIA DE...   \n184    126704              SERVICIO DE ADMINISTRACION TRIBUTARIA   \n189    206019                                       S.U.T.S.M.M.   \n194    206311  SECRETARIA DE FINANZAS Y TESORERIA GRAL DEL ED...   \n197    206894                MUNICIPIO DE LA CIUDAD DE MONTERREY   \n199    206894                MUNICIPIO DE LA CIUDAD DE MONTERREY   \n200    206894                MUNICIPIO DE LA CIUDAD DE MONTERREY   \n202    206894                MUNICIPIO DE LA CIUDAD DE MONTERREY   \n203    206894                MUNICIPIO DE LA CIUDAD DE MONTERREY   \n204    206894                MUNICIPIO DE LA CIUDAD DE MONTERREY   \n205    206894                MUNICIPIO DE LA CIUDAD DE MONTERREY   \n246    214872                   INMUEBLES NUEVO LEON, SA. DE CV.   \n343    318568                 SERVICIOS BROXEL, S.A.P.I. DE C.V.   \n346    318568                 SERVICIOS BROXEL, S.A.P.I. DE C.V.   \n386    320014                NEXT ENERGY DE MEXICO, S.A. DE C.V.   \n553    115789                    HISA FARMACEUTICA, S.A. DE C.V.   \n555    115789                    HISA FARMACEUTICA, S.A. DE C.V.   \n595    116217                       RED RECOLECTOR, S.A. DE C.V.   \n604    116391                REALIA CONSTRUCCIONES, S.A. DE C.V.   \n698    116699                    RAMIREZ VERASTEGUI ISIDRO RAMON   \n756    123262                  CONSTRUCCIONES DYNAMO, SA. DE CV.   \n757    123318              STRUCTOR CONSTRUCCIONES, S.A. DE C.V.   \n763    123530                SERVICIOS POLISEMICOS, S.A. DE C.V.   \n800    123753                    KAWAC CONSTRUCCIONES SA. DE CV.   \n811    123762        PROYECTOS CONSTRUCTIVOS PEREZ LEAL SA DE CV   \n826    210000             CFE SUMINISTRADOR DE SERVICIOS BASICOS   \n947    318600                   CONSTRUCTORA MYKOS, S.A. DE C.V.   \n950    318662                     INFRAESTRUCTURA MQ, SA. DE CV.   \n1050   320435  TECON TECNOLOGIA AVANZADA PARA CONSTRUCCION, S...   \n1060   320570   CONSTRUCCIONES Y PAVIMENTOS ROCASA, S.A. DE C.V.   \n1061   320571         CONSTRUCTORA NANABI XOÑIJUMU, S.A. DE C.V.   \n1143   330700  SYCNOS SERVICIOS Y CONSULTORIA ESTRATEGICA S.A...   \n\n                RFC                  FACTURAS      CONTRATO  \\\n14     IRS940928BK7         A5397-183011-2151  SSP-294-2022   \n59     CHI990710I32       M106161-183011-1917  SFA-039-2022   \n69     CHI990710I32       M106526-183011-1921  SFA-039-2022   \n131    EEN140122A99        EEN239-183011-2152  SSP-298-2022   \n166    ISB840628IB2      GS147003-183011-2244  SSP-189-2017   \n167    ISB840628IB2      GS147005-183011-2246  SSP-189-2017   \n168    ISB840628IB2      GS149020-183011-2763     NO APLICA   \n169    ISB840628IB2      GS149021-183011-2762     NO APLICA   \n180    BMI061005NY5    FS-11-2022-183010-1656     NO APLICA   \n181    BMI061005NY5    FS-12-2022-183010-1814     NO APLICA   \n182    IMP130214DJ0            172-183001-110     NO APLICA   \n184    SAT970701NN4        ISRS0522-183006-41     NO APLICA   \n189   XAXX010101000      DS110622-183010-1687     NO APLICA   \n194    GEN620601DTA       ISN052022-183006-39     NO APLICA   \n197    MCM610101PT2     2022-11-A-183010-1672     NO APLICA   \n199    MCM610101PT2     2022-11-B-183010-1674     NO APLICA   \n200    MCM610101PT2  2022-11-BBVA-183010-1673     NO APLICA   \n202    MCM610101PT2     2022-12-A-183010-1827     NO APLICA   \n203    MCM610101PT2     2022-12-C-183010-1826     NO APLICA   \n204    MCM610101PT2     2022-12-B-183010-1829     NO APLICA   \n205    MCM610101PT2  2022-12-BBVA-183010-1828     NO APLICA   \n246    INL6306062W5       170/2019-183004-103     NO APLICA   \n343    SBR130327HU9       AM20645-183010-1561  SFA-033-2022   \n346    SBR130327HU9       AM20643-183010-1546  SFA-033-2022   \n386    NEM091002T28           342-183011-2235  TES-217-2020   \n553    CHI990710I32       M105469-183011-1129  SFA-039-2022   \n555    CHI990710I32       M105663-183011-1296  SFA-039-2022   \n595    RRE9712222V9   FVRM0266221-183011-1997    SSP-157-13   \n604    RCO090722Q58        MTY3467-185004-589  SIS-053-2022   \n698   RAVI6505157N0          F2390-185004-608  SIS-052-2022   \n756    CDY980323MA8           1151-185004-655  SIS-072-2022   \n757    SCO010914CD8           A925-185004-627  SIS-054-2022   \n763    SPO011004F27            468-185004-596  SIS-051-2022   \n800    KCO110823CE0          A-131-185004-629  SIS-057-2022   \n811    PCP1012155E6           2142-185004-626  SIS-056-2022   \n826    CSS160330CP7    84DD12A-05-183011-2587     NO APLICA   \n947    CMY131216Q4A           F136-185004-618  SIS-058-2022   \n950    IMQ0603119L0           A940-185004-619  SIS-050-2022   \n1050   TTA200521RQ3           F108-185004-628  SIS-055-2022   \n1060   CPR1307166N5          A2080-185004-630  SIS-059-2022   \n1061   CNX091021386           T589-185004-650  SIS-067-2022   \n1143   SSY121219LG5          2252-183011-2478  SPP-377-2022   \n\n                                               CONCEPTO TIPO      FDO-#OP  \\\n14    PLANEACION Y COORDINACION DEL EVENTO \"AHORA NO...   TR    1022794.0   \n59    CONSUMO DE MEDICAMENTOS DEL 1 AL 8 DE ABRIL 20...   TR    1022704.0   \n69    CONSUMO DE MEDICAMENTOS DEL 18 AL 22 DE ABRIL ...   TR    1022704.0   \n131   PLANEACION Y COORDINACION DEL EVENTO \"AHORA NO...   TR    1022780.0   \n166   MANTENIMIENTO PREVENTIVO Y CORRECTIVO DE LOS T...   TR  604000081.0   \n167   MANTENIMIENTO PREVENTIVO Y CORRECTIVO DE LOS T...   TR  604000081.0   \n168   MANTENIMIENTO PREVENTIVO Y CORRECTIVO DE LOS T...   TR  604000082.0   \n169   MANTENIMIENTO PREVENTIVO Y CORRECTIVO DE LOS T...   TR  604000082.0   \n180                         FONDO SAPS QUINCENA 11-2022   TR    1022798.0   \n181                         FONDO SAPS QUINCENA 12-2022   TR    1022928.0   \n182   CUARTA AMPLIACIÓN AL PRESUPUESTO AUTORIZADO PA...   TR    1022882.0   \n184   PAGO DE IMPUESTOS POR SALARIOS Y ASIMILADOS DE...   TR    1022799.0   \n189   DESCUENTO SOBRE NÓMINA CORRESPONDIENTE A LA PR...   TR    1022866.0   \n194   PAGO DEL 3% SOBRE NOMINA CORRESPONDIENTE AL ME...   TR    1022801.0   \n197   PAGO DE NÓMINA PERIODO: 11-2022, BANCO: BANCA ...   TR   11000252.0   \n199   PAGO DE NÓMINA PERIODO: 11-2022, BANCO: BANCO ...   TR  231000159.0   \n200   PAGO DE NÓMINA PERIODO: 11-2022, BANCO: BBVA B...   TR  328000022.0   \n202   PAGO DE NÓMINA PERIODO: 12-2022, BANCO: BANCA ...   TR   11000253.0   \n203   PAGO DE NÓMINA PERIODO: 12-2022, BANCO: BANCO ...   TR  240000180.0   \n204   PAGO DE NÓMINA PERIODO: 12-2022, BANCO: BANCO ...   TR  231000160.0   \n205   PAGO DE NÓMINA PERIODO: 12-2022, BANCO: BBVA B...   TR  328000023.0   \n246   JUICIO CONTENCIOSO ADVO. 170/2019 PERMISO DE U...   CH    1108254.0   \n343   BONOS DE DESPENSA PERSONAL JUBILADO Y PENSIONA...   TR    1022901.0   \n346   BONOS DE DESPENSA PERSONAL SINDICALIZADO - MAY...   TR    1022901.0   \n386   PAGO DE CONTRAPRESTACION MENSUAL DEL MES DE MA...   TR  604000080.0   \n553   CONSUMO DE MEDICAMENTOS DEL 7 AL 11 DE MARZO 2...   TR  330000251.0   \n555   CONSUMO DE MEDICAMENTOS DEL 14 AL 18 DE MARZO ...   TR  330000251.0   \n595   SERVICIO DE RECOLECCION DE RESIDUOS NO PELIGRO...   TR  330000237.0   \n604   RP-2020 30% ANT. SIS-RP-28/22-CP CONSTRUCCION ...   TR    1022680.0   \n698   FDOS-DESC DE SEG ISN 2020 30% ANT. SIS-RP-27/2...   TR  300000133.0   \n756   FISM-2022 30% ANT. SIS-FISM-13/22-CP CONSTRUCC...   TR  333000003.0   \n757   RP-2022 EXCEDENTES 30% ANT. SIS-RP-34/22-CP  R...   TR    1022760.0   \n763   RP-2022 30% ANT. SIS-RP-26/22-CP CONSTRUCCIÓN ...   TR    1022677.0   \n800   RP-2022 EXCEDENTES 30% ANT. SIS-RP-30/22-CP  R...   TR    1022757.0   \n811   RP-2022 EXCEDENTES 30% ANT. SIS-RP-29/22-CP  R...   TR    1022754.0   \n826   CONSUMO DE ENERGIA ELECTRICA DE ALUMBRADO PÚBL...   TR  332000061.0   \n947   RP-2022 EXCEDENTES 30% ANT. SIS-RP-31/22-CP  R...   TR    1022756.0   \n950   RP-2022 30% ANT. SIS-RP-25/22-CP CONSTRUCCION ...   TR    1022758.0   \n1050  RP-2022 EXCEDENTES 30% ANT. SIS-RP-33/22-CP  R...   TR    1022761.0   \n1060  EXC-R28-PARTICIPABLE 2022 30% ANT. SIS-RP-32/2...   TR  330000243.0   \n1061  FISM-2022 30% ANT. SIS-FISM-08/22-CP CONSTRUCC...   TR  333000007.0   \n1143  SERVICIOS DE PLATAFORMA ANALITICA DE VIDEO BAS...   TR  334000088.0   \n\n           FECHA      IMPORTE                        SHEET  DIA  MES   ANO  \\\n14    2022-06-10   7308000.00                GASTOS VARIOS   10    6  2022   \n59    2022-06-03   4220621.01                GASTOS VARIOS    3    6  2022   \n69    2022-06-03   3596997.84                GASTOS VARIOS    3    6  2022   \n131   2022-06-10   8660281.48                GASTOS VARIOS   10    6  2022   \n166   2022-06-22   9000000.00                GASTOS VARIOS   22    6  2022   \n167   2022-06-22   3854000.00                GASTOS VARIOS   22    6  2022   \n168   2022-06-30   9000000.00                GASTOS VARIOS   30    6  2022   \n169   2022-06-30   3854000.00                GASTOS VARIOS   30    6  2022   \n180   2022-06-14   7343658.40                GASTOS VARIOS   14    6  2022   \n181   2022-06-29   7312801.19                GASTOS VARIOS   29    6  2022   \n182   2022-06-24   4063321.31                GASTOS VARIOS   24    6  2022   \n184   2022-06-15  13860525.00                GASTOS VARIOS   15    6  2022   \n189   2022-06-22   3588212.90                GASTOS VARIOS   22    6  2022   \n194   2022-06-15   3698921.00                GASTOS VARIOS   15    6  2022   \n197   2022-06-23  32447591.98                GASTOS VARIOS   23    6  2022   \n199   2022-06-23  18267383.32                GASTOS VARIOS   23    6  2022   \n200   2022-06-23   6155023.82                GASTOS VARIOS   23    6  2022   \n202   2022-06-30  26291231.21                GASTOS VARIOS   30    6  2022   \n203   2022-06-30   3640632.24                GASTOS VARIOS   30    6  2022   \n204   2022-06-30  14808118.15                GASTOS VARIOS   30    6  2022   \n205   2022-06-30   5853328.72                GASTOS VARIOS   30    6  2022   \n246   2022-06-23   4844183.55                GASTOS VARIOS   23    6  2022   \n343   2022-06-24   3579407.01                GASTOS VARIOS   24    6  2022   \n346   2022-06-24   5563588.28                GASTOS VARIOS   24    6  2022   \n386   2022-06-14  11233750.00                GASTOS VARIOS   14    6  2022   \n553   2022-06-10   3679705.64  OBRA PUBLICA Y GV FDOS. ESP   10    6  2022   \n555   2022-06-10   3543808.74  OBRA PUBLICA Y GV FDOS. ESP   10    6  2022   \n595   2022-06-03  22318285.73  OBRA PUBLICA Y GV FDOS. ESP    3    6  2022   \n604   2022-06-03  18598772.13  OBRA PUBLICA Y GV FDOS. ESP    3    6  2022   \n698   2022-06-03   4114370.64  OBRA PUBLICA Y GV FDOS. ESP    3    6  2022   \n756   2022-06-10   4289578.99  OBRA PUBLICA Y GV FDOS. ESP   10    6  2022   \n757   2022-06-10  13784986.59  OBRA PUBLICA Y GV FDOS. ESP   10    6  2022   \n763   2022-06-03   5372030.66  OBRA PUBLICA Y GV FDOS. ESP    3    6  2022   \n800   2022-06-10  12929981.41  OBRA PUBLICA Y GV FDOS. ESP   10    6  2022   \n811   2022-06-10   8159910.00  OBRA PUBLICA Y GV FDOS. ESP   10    6  2022   \n826   2022-06-23   4812056.00  OBRA PUBLICA Y GV FDOS. ESP   23    6  2022   \n947   2022-06-10  19739711.53  OBRA PUBLICA Y GV FDOS. ESP   10    6  2022   \n950   2022-06-10   5744883.14  OBRA PUBLICA Y GV FDOS. ESP   10    6  2022   \n1050  2022-06-10  11759412.05  OBRA PUBLICA Y GV FDOS. ESP   10    6  2022   \n1060  2022-06-10  15328929.19  OBRA PUBLICA Y GV FDOS. ESP   10    6  2022   \n1061  2022-06-17   3505654.20  OBRA PUBLICA Y GV FDOS. ESP   17    6  2022   \n1143  2022-06-16   5803016.00                    SERV PROV   16    6  2022   \n\n      BENEFICIARIO_SALES  IMPORTE_GASTOS_PROMEDIO  \\\n14                     1            583159.370513   \n59                    40            583159.370513   \n69                    40            583159.370513   \n131                    1            583159.370513   \n166                    4            583159.370513   \n167                    4            583159.370513   \n168                    4            583159.370513   \n169                    4            583159.370513   \n180                    2            583159.370513   \n181                    2            583159.370513   \n182                    2            583159.370513   \n184                    2            583159.370513   \n189                    3            583159.370513   \n194                   14            583159.370513   \n197                   14            583159.370513   \n199                   14            583159.370513   \n200                   14            583159.370513   \n202                   14            583159.370513   \n203                   14            583159.370513   \n204                   14            583159.370513   \n205                   14            583159.370513   \n246                    1            583159.370513   \n343                    4            583159.370513   \n346                    4            583159.370513   \n386                    1            583159.370513   \n553                   40            484493.743558   \n555                   40            484493.743558   \n595                    1            484493.743558   \n604                    3            484493.743558   \n698                    1            484493.743558   \n756                    1            484493.743558   \n757                    3            484493.743558   \n763                    6            484493.743558   \n800                    2            484493.743558   \n811                    1            484493.743558   \n826                   24            484493.743558   \n947                    1            484493.743558   \n950                    5            484493.743558   \n1050                   1            484493.743558   \n1060                   2            484493.743558   \n1061                   1            484493.743558   \n1143                   1            210406.068793   \n\n                                      HAS_LINKEDIN_SITE  CLUSTER_NAME  \\\n14    {'Rosa Lorena Valdez Miranda': True, 'Roque Ya...             5   \n59    {'Rosa Lorena Valdez Miranda': True, 'Roque Ya...             5   \n69    {'Rosa Lorena Valdez Miranda': True, 'Roque Ya...             5   \n131   {'Rosa Lorena Valdez Miranda': True, 'Roque Ya...             5   \n166   {'Rosa Lorena Valdez Miranda': True, 'Roque Ya...             0   \n167   {'Rosa Lorena Valdez Miranda': True, 'Roque Ya...             0   \n168   {'Rosa Lorena Valdez Miranda': True, 'Roque Ya...             0   \n169   {'Rosa Lorena Valdez Miranda': True, 'Roque Ya...             0   \n180   {'Rosa Lorena Valdez Miranda': True, 'Roque Ya...             5   \n181   {'Rosa Lorena Valdez Miranda': True, 'Roque Ya...             5   \n182   {'Rosa Lorena Valdez Miranda': True, 'Roque Ya...             5   \n184   {'Rosa Lorena Valdez Miranda': True, 'Roque Ya...             0   \n189   {'Rosa Lorena Valdez Miranda': True, 'Roque Ya...             5   \n194   {'Rosa Lorena Valdez Miranda': True, 'Roque Ya...             5   \n197   {'Rosa Lorena Valdez Miranda': True, 'Roque Ya...             5   \n199   {'Rosa Lorena Valdez Miranda': True, 'Roque Ya...             5   \n200   {'Rosa Lorena Valdez Miranda': True, 'Roque Ya...             5   \n202   {'Rosa Lorena Valdez Miranda': True, 'Roque Ya...             5   \n203   {'Rosa Lorena Valdez Miranda': True, 'Roque Ya...             5   \n204   {'Rosa Lorena Valdez Miranda': True, 'Roque Ya...             5   \n205   {'Rosa Lorena Valdez Miranda': True, 'Roque Ya...             5   \n246   {'Rosa Lorena Valdez Miranda': True, 'Roque Ya...             5   \n343   {'Rosa Lorena Valdez Miranda': True, 'Roque Ya...             5   \n346   {'Rosa Lorena Valdez Miranda': True, 'Roque Ya...             5   \n386   {'Rosa Lorena Valdez Miranda': True, 'Roque Ya...             5   \n553   {'Rosa Lorena Valdez Miranda': True, 'Roque Ya...             5   \n555   {'Rosa Lorena Valdez Miranda': True, 'Roque Ya...             5   \n595   {'Rosa Lorena Valdez Miranda': True, 'Roque Ya...             3   \n604   {'Rosa Lorena Valdez Miranda': True, 'Roque Ya...             0   \n698   {'Rosa Lorena Valdez Miranda': True, 'Roque Ya...             0   \n756   {'Rosa Lorena Valdez Miranda': True, 'Roque Ya...             5   \n757   {'Rosa Lorena Valdez Miranda': True, 'Roque Ya...             0   \n763   {'Rosa Lorena Valdez Miranda': True, 'Roque Ya...             5   \n800   {'Rosa Lorena Valdez Miranda': True, 'Roque Ya...             5   \n811   {'Rosa Lorena Valdez Miranda': True, 'Roque Ya...             5   \n826   {'Rosa Lorena Valdez Miranda': True, 'Roque Ya...             5   \n947   {'Rosa Lorena Valdez Miranda': True, 'Roque Ya...             0   \n950   {'Rosa Lorena Valdez Miranda': True, 'Roque Ya...             5   \n1050  {'Rosa Lorena Valdez Miranda': True, 'Roque Ya...             0   \n1060  {'Rosa Lorena Valdez Miranda': True, 'Roque Ya...             3   \n1061  {'Rosa Lorena Valdez Miranda': True, 'Roque Ya...             0   \n1143  {'Rosa Lorena Valdez Miranda': True, 'Roque Ya...             5   \n\n      PROB_TOTAL  \n14      0.999877  \n59      0.978867  \n69      0.955477  \n131     0.999994  \n166     0.999997  \n167     0.966868  \n168     0.999997  \n169     0.966868  \n180     0.999886  \n181     0.999878  \n182     0.974265  \n184     1.000000  \n189     0.955038  \n194     0.960324  \n197     1.000000  \n199     1.000000  \n200     0.998878  \n202     1.000000  \n203     0.957608  \n204     1.000000  \n205     0.998110  \n246     0.990894  \n343     0.954594  \n346     0.996951  \n386     1.000000  \n553     0.959445  \n555     0.952765  \n595     1.000000  \n604     1.000000  \n698     0.975843  \n756     0.980653  \n757     1.000000  \n763     0.995867  \n800     1.000000  \n811     0.999981  \n826     0.990468  \n947     1.000000  \n950     0.997734  \n1050    1.000000  \n1060    1.000000  \n1061    0.950738  \n1143    0.997943  ",
      "text/html": "<div>\n<style scoped>\n    .dataframe tbody tr th:only-of-type {\n        vertical-align: middle;\n    }\n\n    .dataframe tbody tr th {\n        vertical-align: top;\n    }\n\n    .dataframe thead th {\n        text-align: right;\n    }\n</style>\n<table border=\"1\" class=\"dataframe\">\n  <thead>\n    <tr style=\"text-align: right;\">\n      <th></th>\n      <th>CVE BEN</th>\n      <th>BENEFICIARIO</th>\n      <th>RFC</th>\n      <th>FACTURAS</th>\n      <th>CONTRATO</th>\n      <th>CONCEPTO</th>\n      <th>TIPO</th>\n      <th>FDO-#OP</th>\n      <th>FECHA</th>\n      <th>IMPORTE</th>\n      <th>SHEET</th>\n      <th>DIA</th>\n      <th>MES</th>\n      <th>ANO</th>\n      <th>BENEFICIARIO_SALES</th>\n      <th>IMPORTE_GASTOS_PROMEDIO</th>\n      <th>HAS_LINKEDIN_SITE</th>\n      <th>CLUSTER_NAME</th>\n      <th>PROB_TOTAL</th>\n    </tr>\n  </thead>\n  <tbody>\n    <tr>\n      <th>14</th>\n      <td>112290</td>\n      <td>IMPULSORA DE RENTAS Y SERVICIOS, S.A. DE C.V.</td>\n      <td>IRS940928BK7</td>\n      <td>A5397-183011-2151</td>\n      <td>SSP-294-2022</td>\n      <td>PLANEACION Y COORDINACION DEL EVENTO \"AHORA NO...</td>\n      <td>TR</td>\n      <td>1022794.0</td>\n      <td>2022-06-10</td>\n      <td>7308000.00</td>\n      <td>GASTOS VARIOS</td>\n      <td>10</td>\n      <td>6</td>\n      <td>2022</td>\n      <td>1</td>\n      <td>583159.370513</td>\n      <td>{'Rosa Lorena Valdez Miranda': True, 'Roque Ya...</td>\n      <td>5</td>\n      <td>0.999877</td>\n    </tr>\n    <tr>\n      <th>59</th>\n      <td>115789</td>\n      <td>HISA FARMACEUTICA, S.A. DE C.V.</td>\n      <td>CHI990710I32</td>\n      <td>M106161-183011-1917</td>\n      <td>SFA-039-2022</td>\n      <td>CONSUMO DE MEDICAMENTOS DEL 1 AL 8 DE ABRIL 20...</td>\n      <td>TR</td>\n      <td>1022704.0</td>\n      <td>2022-06-03</td>\n      <td>4220621.01</td>\n      <td>GASTOS VARIOS</td>\n      <td>3</td>\n      <td>6</td>\n      <td>2022</td>\n      <td>40</td>\n      <td>583159.370513</td>\n      <td>{'Rosa Lorena Valdez Miranda': True, 'Roque Ya...</td>\n      <td>5</td>\n      <td>0.978867</td>\n    </tr>\n    <tr>\n      <th>69</th>\n      <td>115789</td>\n      <td>HISA FARMACEUTICA, S.A. DE C.V.</td>\n      <td>CHI990710I32</td>\n      <td>M106526-183011-1921</td>\n      <td>SFA-039-2022</td>\n      <td>CONSUMO DE MEDICAMENTOS DEL 18 AL 22 DE ABRIL ...</td>\n      <td>TR</td>\n      <td>1022704.0</td>\n      <td>2022-06-03</td>\n      <td>3596997.84</td>\n      <td>GASTOS VARIOS</td>\n      <td>3</td>\n      <td>6</td>\n      <td>2022</td>\n      <td>40</td>\n      <td>583159.370513</td>\n      <td>{'Rosa Lorena Valdez Miranda': True, 'Roque Ya...</td>\n      <td>5</td>\n      <td>0.955477</td>\n    </tr>\n    <tr>\n      <th>131</th>\n      <td>116381</td>\n      <td>EPSILON ENTERTAINMENT, S.A. DE C.V.</td>\n      <td>EEN140122A99</td>\n      <td>EEN239-183011-2152</td>\n      <td>SSP-298-2022</td>\n      <td>PLANEACION Y COORDINACION DEL EVENTO \"AHORA NO...</td>\n      <td>TR</td>\n      <td>1022780.0</td>\n      <td>2022-06-10</td>\n      <td>8660281.48</td>\n      <td>GASTOS VARIOS</td>\n      <td>10</td>\n      <td>6</td>\n      <td>2022</td>\n      <td>1</td>\n      <td>583159.370513</td>\n      <td>{'Rosa Lorena Valdez Miranda': True, 'Roque Ya...</td>\n      <td>5</td>\n      <td>0.999994</td>\n    </tr>\n    <tr>\n      <th>166</th>\n      <td>116684</td>\n      <td>INDUSTRIAS SOLA BASIC, S.A. DE C.V.</td>\n      <td>ISB840628IB2</td>\n      <td>GS147003-183011-2244</td>\n      <td>SSP-189-2017</td>\n      <td>MANTENIMIENTO PREVENTIVO Y CORRECTIVO DE LOS T...</td>\n      <td>TR</td>\n      <td>604000081.0</td>\n      <td>2022-06-22</td>\n      <td>9000000.00</td>\n      <td>GASTOS VARIOS</td>\n      <td>22</td>\n      <td>6</td>\n      <td>2022</td>\n      <td>4</td>\n      <td>583159.370513</td>\n      <td>{'Rosa Lorena Valdez Miranda': True, 'Roque Ya...</td>\n      <td>0</td>\n      <td>0.999997</td>\n    </tr>\n    <tr>\n      <th>167</th>\n      <td>116684</td>\n      <td>INDUSTRIAS SOLA BASIC, S.A. DE C.V.</td>\n      <td>ISB840628IB2</td>\n      <td>GS147005-183011-2246</td>\n      <td>SSP-189-2017</td>\n      <td>MANTENIMIENTO PREVENTIVO Y CORRECTIVO DE LOS T...</td>\n      <td>TR</td>\n      <td>604000081.0</td>\n      <td>2022-06-22</td>\n      <td>3854000.00</td>\n      <td>GASTOS VARIOS</td>\n      <td>22</td>\n      <td>6</td>\n      <td>2022</td>\n      <td>4</td>\n      <td>583159.370513</td>\n      <td>{'Rosa Lorena Valdez Miranda': True, 'Roque Ya...</td>\n      <td>0</td>\n      <td>0.966868</td>\n    </tr>\n    <tr>\n      <th>168</th>\n      <td>116684</td>\n      <td>INDUSTRIAS SOLA BASIC, S.A. DE C.V.</td>\n      <td>ISB840628IB2</td>\n      <td>GS149020-183011-2763</td>\n      <td>NO APLICA</td>\n      <td>MANTENIMIENTO PREVENTIVO Y CORRECTIVO DE LOS T...</td>\n      <td>TR</td>\n      <td>604000082.0</td>\n      <td>2022-06-30</td>\n      <td>9000000.00</td>\n      <td>GASTOS VARIOS</td>\n      <td>30</td>\n      <td>6</td>\n      <td>2022</td>\n      <td>4</td>\n      <td>583159.370513</td>\n      <td>{'Rosa Lorena Valdez Miranda': True, 'Roque Ya...</td>\n      <td>0</td>\n      <td>0.999997</td>\n    </tr>\n    <tr>\n      <th>169</th>\n      <td>116684</td>\n      <td>INDUSTRIAS SOLA BASIC, S.A. DE C.V.</td>\n      <td>ISB840628IB2</td>\n      <td>GS149021-183011-2762</td>\n      <td>NO APLICA</td>\n      <td>MANTENIMIENTO PREVENTIVO Y CORRECTIVO DE LOS T...</td>\n      <td>TR</td>\n      <td>604000082.0</td>\n      <td>2022-06-30</td>\n      <td>3854000.00</td>\n      <td>GASTOS VARIOS</td>\n      <td>30</td>\n      <td>6</td>\n      <td>2022</td>\n      <td>4</td>\n      <td>583159.370513</td>\n      <td>{'Rosa Lorena Valdez Miranda': True, 'Roque Ya...</td>\n      <td>0</td>\n      <td>0.966868</td>\n    </tr>\n    <tr>\n      <th>180</th>\n      <td>126224</td>\n      <td>BANCO MULTIVA, SA. G.F.M.</td>\n      <td>BMI061005NY5</td>\n      <td>FS-11-2022-183010-1656</td>\n      <td>NO APLICA</td>\n      <td>FONDO SAPS QUINCENA 11-2022</td>\n      <td>TR</td>\n      <td>1022798.0</td>\n      <td>2022-06-14</td>\n      <td>7343658.40</td>\n      <td>GASTOS VARIOS</td>\n      <td>14</td>\n      <td>6</td>\n      <td>2022</td>\n      <td>2</td>\n      <td>583159.370513</td>\n      <td>{'Rosa Lorena Valdez Miranda': True, 'Roque Ya...</td>\n      <td>5</td>\n      <td>0.999886</td>\n    </tr>\n    <tr>\n      <th>181</th>\n      <td>126224</td>\n      <td>BANCO MULTIVA, SA. G.F.M.</td>\n      <td>BMI061005NY5</td>\n      <td>FS-12-2022-183010-1814</td>\n      <td>NO APLICA</td>\n      <td>FONDO SAPS QUINCENA 12-2022</td>\n      <td>TR</td>\n      <td>1022928.0</td>\n      <td>2022-06-29</td>\n      <td>7312801.19</td>\n      <td>GASTOS VARIOS</td>\n      <td>29</td>\n      <td>6</td>\n      <td>2022</td>\n      <td>2</td>\n      <td>583159.370513</td>\n      <td>{'Rosa Lorena Valdez Miranda': True, 'Roque Ya...</td>\n      <td>5</td>\n      <td>0.999878</td>\n    </tr>\n    <tr>\n      <th>182</th>\n      <td>126371</td>\n      <td>INSTITUTO MPAL.DE PLANEAC.URB.Y CONVIVENCIA DE...</td>\n      <td>IMP130214DJ0</td>\n      <td>172-183001-110</td>\n      <td>NO APLICA</td>\n      <td>CUARTA AMPLIACIÓN AL PRESUPUESTO AUTORIZADO PA...</td>\n      <td>TR</td>\n      <td>1022882.0</td>\n      <td>2022-06-24</td>\n      <td>4063321.31</td>\n      <td>GASTOS VARIOS</td>\n      <td>24</td>\n      <td>6</td>\n      <td>2022</td>\n      <td>2</td>\n      <td>583159.370513</td>\n      <td>{'Rosa Lorena Valdez Miranda': True, 'Roque Ya...</td>\n      <td>5</td>\n      <td>0.974265</td>\n    </tr>\n    <tr>\n      <th>184</th>\n      <td>126704</td>\n      <td>SERVICIO DE ADMINISTRACION TRIBUTARIA</td>\n      <td>SAT970701NN4</td>\n      <td>ISRS0522-183006-41</td>\n      <td>NO APLICA</td>\n      <td>PAGO DE IMPUESTOS POR SALARIOS Y ASIMILADOS DE...</td>\n      <td>TR</td>\n      <td>1022799.0</td>\n      <td>2022-06-15</td>\n      <td>13860525.00</td>\n      <td>GASTOS VARIOS</td>\n      <td>15</td>\n      <td>6</td>\n      <td>2022</td>\n      <td>2</td>\n      <td>583159.370513</td>\n      <td>{'Rosa Lorena Valdez Miranda': True, 'Roque Ya...</td>\n      <td>0</td>\n      <td>1.000000</td>\n    </tr>\n    <tr>\n      <th>189</th>\n      <td>206019</td>\n      <td>S.U.T.S.M.M.</td>\n      <td>XAXX010101000</td>\n      <td>DS110622-183010-1687</td>\n      <td>NO APLICA</td>\n      <td>DESCUENTO SOBRE NÓMINA CORRESPONDIENTE A LA PR...</td>\n      <td>TR</td>\n      <td>1022866.0</td>\n      <td>2022-06-22</td>\n      <td>3588212.90</td>\n      <td>GASTOS VARIOS</td>\n      <td>22</td>\n      <td>6</td>\n      <td>2022</td>\n      <td>3</td>\n      <td>583159.370513</td>\n      <td>{'Rosa Lorena Valdez Miranda': True, 'Roque Ya...</td>\n      <td>5</td>\n      <td>0.955038</td>\n    </tr>\n    <tr>\n      <th>194</th>\n      <td>206311</td>\n      <td>SECRETARIA DE FINANZAS Y TESORERIA GRAL DEL ED...</td>\n      <td>GEN620601DTA</td>\n      <td>ISN052022-183006-39</td>\n      <td>NO APLICA</td>\n      <td>PAGO DEL 3% SOBRE NOMINA CORRESPONDIENTE AL ME...</td>\n      <td>TR</td>\n      <td>1022801.0</td>\n      <td>2022-06-15</td>\n      <td>3698921.00</td>\n      <td>GASTOS VARIOS</td>\n      <td>15</td>\n      <td>6</td>\n      <td>2022</td>\n      <td>14</td>\n      <td>583159.370513</td>\n      <td>{'Rosa Lorena Valdez Miranda': True, 'Roque Ya...</td>\n      <td>5</td>\n      <td>0.960324</td>\n    </tr>\n    <tr>\n      <th>197</th>\n      <td>206894</td>\n      <td>MUNICIPIO DE LA CIUDAD DE MONTERREY</td>\n      <td>MCM610101PT2</td>\n      <td>2022-11-A-183010-1672</td>\n      <td>NO APLICA</td>\n      <td>PAGO DE NÓMINA PERIODO: 11-2022, BANCO: BANCA ...</td>\n      <td>TR</td>\n      <td>11000252.0</td>\n      <td>2022-06-23</td>\n      <td>32447591.98</td>\n      <td>GASTOS VARIOS</td>\n      <td>23</td>\n      <td>6</td>\n      <td>2022</td>\n      <td>14</td>\n      <td>583159.370513</td>\n      <td>{'Rosa Lorena Valdez Miranda': True, 'Roque Ya...</td>\n      <td>5</td>\n      <td>1.000000</td>\n    </tr>\n    <tr>\n      <th>199</th>\n      <td>206894</td>\n      <td>MUNICIPIO DE LA CIUDAD DE MONTERREY</td>\n      <td>MCM610101PT2</td>\n      <td>2022-11-B-183010-1674</td>\n      <td>NO APLICA</td>\n      <td>PAGO DE NÓMINA PERIODO: 11-2022, BANCO: BANCO ...</td>\n      <td>TR</td>\n      <td>231000159.0</td>\n      <td>2022-06-23</td>\n      <td>18267383.32</td>\n      <td>GASTOS VARIOS</td>\n      <td>23</td>\n      <td>6</td>\n      <td>2022</td>\n      <td>14</td>\n      <td>583159.370513</td>\n      <td>{'Rosa Lorena Valdez Miranda': True, 'Roque Ya...</td>\n      <td>5</td>\n      <td>1.000000</td>\n    </tr>\n    <tr>\n      <th>200</th>\n      <td>206894</td>\n      <td>MUNICIPIO DE LA CIUDAD DE MONTERREY</td>\n      <td>MCM610101PT2</td>\n      <td>2022-11-BBVA-183010-1673</td>\n      <td>NO APLICA</td>\n      <td>PAGO DE NÓMINA PERIODO: 11-2022, BANCO: BBVA B...</td>\n      <td>TR</td>\n      <td>328000022.0</td>\n      <td>2022-06-23</td>\n      <td>6155023.82</td>\n      <td>GASTOS VARIOS</td>\n      <td>23</td>\n      <td>6</td>\n      <td>2022</td>\n      <td>14</td>\n      <td>583159.370513</td>\n      <td>{'Rosa Lorena Valdez Miranda': True, 'Roque Ya...</td>\n      <td>5</td>\n      <td>0.998878</td>\n    </tr>\n    <tr>\n      <th>202</th>\n      <td>206894</td>\n      <td>MUNICIPIO DE LA CIUDAD DE MONTERREY</td>\n      <td>MCM610101PT2</td>\n      <td>2022-12-A-183010-1827</td>\n      <td>NO APLICA</td>\n      <td>PAGO DE NÓMINA PERIODO: 12-2022, BANCO: BANCA ...</td>\n      <td>TR</td>\n      <td>11000253.0</td>\n      <td>2022-06-30</td>\n      <td>26291231.21</td>\n      <td>GASTOS VARIOS</td>\n      <td>30</td>\n      <td>6</td>\n      <td>2022</td>\n      <td>14</td>\n      <td>583159.370513</td>\n      <td>{'Rosa Lorena Valdez Miranda': True, 'Roque Ya...</td>\n      <td>5</td>\n      <td>1.000000</td>\n    </tr>\n    <tr>\n      <th>203</th>\n      <td>206894</td>\n      <td>MUNICIPIO DE LA CIUDAD DE MONTERREY</td>\n      <td>MCM610101PT2</td>\n      <td>2022-12-C-183010-1826</td>\n      <td>NO APLICA</td>\n      <td>PAGO DE NÓMINA PERIODO: 12-2022, BANCO: BANCO ...</td>\n      <td>TR</td>\n      <td>240000180.0</td>\n      <td>2022-06-30</td>\n      <td>3640632.24</td>\n      <td>GASTOS VARIOS</td>\n      <td>30</td>\n      <td>6</td>\n      <td>2022</td>\n      <td>14</td>\n      <td>583159.370513</td>\n      <td>{'Rosa Lorena Valdez Miranda': True, 'Roque Ya...</td>\n      <td>5</td>\n      <td>0.957608</td>\n    </tr>\n    <tr>\n      <th>204</th>\n      <td>206894</td>\n      <td>MUNICIPIO DE LA CIUDAD DE MONTERREY</td>\n      <td>MCM610101PT2</td>\n      <td>2022-12-B-183010-1829</td>\n      <td>NO APLICA</td>\n      <td>PAGO DE NÓMINA PERIODO: 12-2022, BANCO: BANCO ...</td>\n      <td>TR</td>\n      <td>231000160.0</td>\n      <td>2022-06-30</td>\n      <td>14808118.15</td>\n      <td>GASTOS VARIOS</td>\n      <td>30</td>\n      <td>6</td>\n      <td>2022</td>\n      <td>14</td>\n      <td>583159.370513</td>\n      <td>{'Rosa Lorena Valdez Miranda': True, 'Roque Ya...</td>\n      <td>5</td>\n      <td>1.000000</td>\n    </tr>\n    <tr>\n      <th>205</th>\n      <td>206894</td>\n      <td>MUNICIPIO DE LA CIUDAD DE MONTERREY</td>\n      <td>MCM610101PT2</td>\n      <td>2022-12-BBVA-183010-1828</td>\n      <td>NO APLICA</td>\n      <td>PAGO DE NÓMINA PERIODO: 12-2022, BANCO: BBVA B...</td>\n      <td>TR</td>\n      <td>328000023.0</td>\n      <td>2022-06-30</td>\n      <td>5853328.72</td>\n      <td>GASTOS VARIOS</td>\n      <td>30</td>\n      <td>6</td>\n      <td>2022</td>\n      <td>14</td>\n      <td>583159.370513</td>\n      <td>{'Rosa Lorena Valdez Miranda': True, 'Roque Ya...</td>\n      <td>5</td>\n      <td>0.998110</td>\n    </tr>\n    <tr>\n      <th>246</th>\n      <td>214872</td>\n      <td>INMUEBLES NUEVO LEON, SA. DE CV.</td>\n      <td>INL6306062W5</td>\n      <td>170/2019-183004-103</td>\n      <td>NO APLICA</td>\n      <td>JUICIO CONTENCIOSO ADVO. 170/2019 PERMISO DE U...</td>\n      <td>CH</td>\n      <td>1108254.0</td>\n      <td>2022-06-23</td>\n      <td>4844183.55</td>\n      <td>GASTOS VARIOS</td>\n      <td>23</td>\n      <td>6</td>\n      <td>2022</td>\n      <td>1</td>\n      <td>583159.370513</td>\n      <td>{'Rosa Lorena Valdez Miranda': True, 'Roque Ya...</td>\n      <td>5</td>\n      <td>0.990894</td>\n    </tr>\n    <tr>\n      <th>343</th>\n      <td>318568</td>\n      <td>SERVICIOS BROXEL, S.A.P.I. DE C.V.</td>\n      <td>SBR130327HU9</td>\n      <td>AM20645-183010-1561</td>\n      <td>SFA-033-2022</td>\n      <td>BONOS DE DESPENSA PERSONAL JUBILADO Y PENSIONA...</td>\n      <td>TR</td>\n      <td>1022901.0</td>\n      <td>2022-06-24</td>\n      <td>3579407.01</td>\n      <td>GASTOS VARIOS</td>\n      <td>24</td>\n      <td>6</td>\n      <td>2022</td>\n      <td>4</td>\n      <td>583159.370513</td>\n      <td>{'Rosa Lorena Valdez Miranda': True, 'Roque Ya...</td>\n      <td>5</td>\n      <td>0.954594</td>\n    </tr>\n    <tr>\n      <th>346</th>\n      <td>318568</td>\n      <td>SERVICIOS BROXEL, S.A.P.I. DE C.V.</td>\n      <td>SBR130327HU9</td>\n      <td>AM20643-183010-1546</td>\n      <td>SFA-033-2022</td>\n      <td>BONOS DE DESPENSA PERSONAL SINDICALIZADO - MAY...</td>\n      <td>TR</td>\n      <td>1022901.0</td>\n      <td>2022-06-24</td>\n      <td>5563588.28</td>\n      <td>GASTOS VARIOS</td>\n      <td>24</td>\n      <td>6</td>\n      <td>2022</td>\n      <td>4</td>\n      <td>583159.370513</td>\n      <td>{'Rosa Lorena Valdez Miranda': True, 'Roque Ya...</td>\n      <td>5</td>\n      <td>0.996951</td>\n    </tr>\n    <tr>\n      <th>386</th>\n      <td>320014</td>\n      <td>NEXT ENERGY DE MEXICO, S.A. DE C.V.</td>\n      <td>NEM091002T28</td>\n      <td>342-183011-2235</td>\n      <td>TES-217-2020</td>\n      <td>PAGO DE CONTRAPRESTACION MENSUAL DEL MES DE MA...</td>\n      <td>TR</td>\n      <td>604000080.0</td>\n      <td>2022-06-14</td>\n      <td>11233750.00</td>\n      <td>GASTOS VARIOS</td>\n      <td>14</td>\n      <td>6</td>\n      <td>2022</td>\n      <td>1</td>\n      <td>583159.370513</td>\n      <td>{'Rosa Lorena Valdez Miranda': True, 'Roque Ya...</td>\n      <td>5</td>\n      <td>1.000000</td>\n    </tr>\n    <tr>\n      <th>553</th>\n      <td>115789</td>\n      <td>HISA FARMACEUTICA, S.A. DE C.V.</td>\n      <td>CHI990710I32</td>\n      <td>M105469-183011-1129</td>\n      <td>SFA-039-2022</td>\n      <td>CONSUMO DE MEDICAMENTOS DEL 7 AL 11 DE MARZO 2...</td>\n      <td>TR</td>\n      <td>330000251.0</td>\n      <td>2022-06-10</td>\n      <td>3679705.64</td>\n      <td>OBRA PUBLICA Y GV FDOS. ESP</td>\n      <td>10</td>\n      <td>6</td>\n      <td>2022</td>\n      <td>40</td>\n      <td>484493.743558</td>\n      <td>{'Rosa Lorena Valdez Miranda': True, 'Roque Ya...</td>\n      <td>5</td>\n      <td>0.959445</td>\n    </tr>\n    <tr>\n      <th>555</th>\n      <td>115789</td>\n      <td>HISA FARMACEUTICA, S.A. DE C.V.</td>\n      <td>CHI990710I32</td>\n      <td>M105663-183011-1296</td>\n      <td>SFA-039-2022</td>\n      <td>CONSUMO DE MEDICAMENTOS DEL 14 AL 18 DE MARZO ...</td>\n      <td>TR</td>\n      <td>330000251.0</td>\n      <td>2022-06-10</td>\n      <td>3543808.74</td>\n      <td>OBRA PUBLICA Y GV FDOS. ESP</td>\n      <td>10</td>\n      <td>6</td>\n      <td>2022</td>\n      <td>40</td>\n      <td>484493.743558</td>\n      <td>{'Rosa Lorena Valdez Miranda': True, 'Roque Ya...</td>\n      <td>5</td>\n      <td>0.952765</td>\n    </tr>\n    <tr>\n      <th>595</th>\n      <td>116217</td>\n      <td>RED RECOLECTOR, S.A. DE C.V.</td>\n      <td>RRE9712222V9</td>\n      <td>FVRM0266221-183011-1997</td>\n      <td>SSP-157-13</td>\n      <td>SERVICIO DE RECOLECCION DE RESIDUOS NO PELIGRO...</td>\n      <td>TR</td>\n      <td>330000237.0</td>\n      <td>2022-06-03</td>\n      <td>22318285.73</td>\n      <td>OBRA PUBLICA Y GV FDOS. ESP</td>\n      <td>3</td>\n      <td>6</td>\n      <td>2022</td>\n      <td>1</td>\n      <td>484493.743558</td>\n      <td>{'Rosa Lorena Valdez Miranda': True, 'Roque Ya...</td>\n      <td>3</td>\n      <td>1.000000</td>\n    </tr>\n    <tr>\n      <th>604</th>\n      <td>116391</td>\n      <td>REALIA CONSTRUCCIONES, S.A. DE C.V.</td>\n      <td>RCO090722Q58</td>\n      <td>MTY3467-185004-589</td>\n      <td>SIS-053-2022</td>\n      <td>RP-2020 30% ANT. SIS-RP-28/22-CP CONSTRUCCION ...</td>\n      <td>TR</td>\n      <td>1022680.0</td>\n      <td>2022-06-03</td>\n      <td>18598772.13</td>\n      <td>OBRA PUBLICA Y GV FDOS. ESP</td>\n      <td>3</td>\n      <td>6</td>\n      <td>2022</td>\n      <td>3</td>\n      <td>484493.743558</td>\n      <td>{'Rosa Lorena Valdez Miranda': True, 'Roque Ya...</td>\n      <td>0</td>\n      <td>1.000000</td>\n    </tr>\n    <tr>\n      <th>698</th>\n      <td>116699</td>\n      <td>RAMIREZ VERASTEGUI ISIDRO RAMON</td>\n      <td>RAVI6505157N0</td>\n      <td>F2390-185004-608</td>\n      <td>SIS-052-2022</td>\n      <td>FDOS-DESC DE SEG ISN 2020 30% ANT. SIS-RP-27/2...</td>\n      <td>TR</td>\n      <td>300000133.0</td>\n      <td>2022-06-03</td>\n      <td>4114370.64</td>\n      <td>OBRA PUBLICA Y GV FDOS. ESP</td>\n      <td>3</td>\n      <td>6</td>\n      <td>2022</td>\n      <td>1</td>\n      <td>484493.743558</td>\n      <td>{'Rosa Lorena Valdez Miranda': True, 'Roque Ya...</td>\n      <td>0</td>\n      <td>0.975843</td>\n    </tr>\n    <tr>\n      <th>756</th>\n      <td>123262</td>\n      <td>CONSTRUCCIONES DYNAMO, SA. DE CV.</td>\n      <td>CDY980323MA8</td>\n      <td>1151-185004-655</td>\n      <td>SIS-072-2022</td>\n      <td>FISM-2022 30% ANT. SIS-FISM-13/22-CP CONSTRUCC...</td>\n      <td>TR</td>\n      <td>333000003.0</td>\n      <td>2022-06-10</td>\n      <td>4289578.99</td>\n      <td>OBRA PUBLICA Y GV FDOS. ESP</td>\n      <td>10</td>\n      <td>6</td>\n      <td>2022</td>\n      <td>1</td>\n      <td>484493.743558</td>\n      <td>{'Rosa Lorena Valdez Miranda': True, 'Roque Ya...</td>\n      <td>5</td>\n      <td>0.980653</td>\n    </tr>\n    <tr>\n      <th>757</th>\n      <td>123318</td>\n      <td>STRUCTOR CONSTRUCCIONES, S.A. DE C.V.</td>\n      <td>SCO010914CD8</td>\n      <td>A925-185004-627</td>\n      <td>SIS-054-2022</td>\n      <td>RP-2022 EXCEDENTES 30% ANT. SIS-RP-34/22-CP  R...</td>\n      <td>TR</td>\n      <td>1022760.0</td>\n      <td>2022-06-10</td>\n      <td>13784986.59</td>\n      <td>OBRA PUBLICA Y GV FDOS. ESP</td>\n      <td>10</td>\n      <td>6</td>\n      <td>2022</td>\n      <td>3</td>\n      <td>484493.743558</td>\n      <td>{'Rosa Lorena Valdez Miranda': True, 'Roque Ya...</td>\n      <td>0</td>\n      <td>1.000000</td>\n    </tr>\n    <tr>\n      <th>763</th>\n      <td>123530</td>\n      <td>SERVICIOS POLISEMICOS, S.A. DE C.V.</td>\n      <td>SPO011004F27</td>\n      <td>468-185004-596</td>\n      <td>SIS-051-2022</td>\n      <td>RP-2022 30% ANT. SIS-RP-26/22-CP CONSTRUCCIÓN ...</td>\n      <td>TR</td>\n      <td>1022677.0</td>\n      <td>2022-06-03</td>\n      <td>5372030.66</td>\n      <td>OBRA PUBLICA Y GV FDOS. ESP</td>\n      <td>3</td>\n      <td>6</td>\n      <td>2022</td>\n      <td>6</td>\n      <td>484493.743558</td>\n      <td>{'Rosa Lorena Valdez Miranda': True, 'Roque Ya...</td>\n      <td>5</td>\n      <td>0.995867</td>\n    </tr>\n    <tr>\n      <th>800</th>\n      <td>123753</td>\n      <td>KAWAC CONSTRUCCIONES SA. DE CV.</td>\n      <td>KCO110823CE0</td>\n      <td>A-131-185004-629</td>\n      <td>SIS-057-2022</td>\n      <td>RP-2022 EXCEDENTES 30% ANT. SIS-RP-30/22-CP  R...</td>\n      <td>TR</td>\n      <td>1022757.0</td>\n      <td>2022-06-10</td>\n      <td>12929981.41</td>\n      <td>OBRA PUBLICA Y GV FDOS. ESP</td>\n      <td>10</td>\n      <td>6</td>\n      <td>2022</td>\n      <td>2</td>\n      <td>484493.743558</td>\n      <td>{'Rosa Lorena Valdez Miranda': True, 'Roque Ya...</td>\n      <td>5</td>\n      <td>1.000000</td>\n    </tr>\n    <tr>\n      <th>811</th>\n      <td>123762</td>\n      <td>PROYECTOS CONSTRUCTIVOS PEREZ LEAL SA DE CV</td>\n      <td>PCP1012155E6</td>\n      <td>2142-185004-626</td>\n      <td>SIS-056-2022</td>\n      <td>RP-2022 EXCEDENTES 30% ANT. SIS-RP-29/22-CP  R...</td>\n      <td>TR</td>\n      <td>1022754.0</td>\n      <td>2022-06-10</td>\n      <td>8159910.00</td>\n      <td>OBRA PUBLICA Y GV FDOS. ESP</td>\n      <td>10</td>\n      <td>6</td>\n      <td>2022</td>\n      <td>1</td>\n      <td>484493.743558</td>\n      <td>{'Rosa Lorena Valdez Miranda': True, 'Roque Ya...</td>\n      <td>5</td>\n      <td>0.999981</td>\n    </tr>\n    <tr>\n      <th>826</th>\n      <td>210000</td>\n      <td>CFE SUMINISTRADOR DE SERVICIOS BASICOS</td>\n      <td>CSS160330CP7</td>\n      <td>84DD12A-05-183011-2587</td>\n      <td>NO APLICA</td>\n      <td>CONSUMO DE ENERGIA ELECTRICA DE ALUMBRADO PÚBL...</td>\n      <td>TR</td>\n      <td>332000061.0</td>\n      <td>2022-06-23</td>\n      <td>4812056.00</td>\n      <td>OBRA PUBLICA Y GV FDOS. ESP</td>\n      <td>23</td>\n      <td>6</td>\n      <td>2022</td>\n      <td>24</td>\n      <td>484493.743558</td>\n      <td>{'Rosa Lorena Valdez Miranda': True, 'Roque Ya...</td>\n      <td>5</td>\n      <td>0.990468</td>\n    </tr>\n    <tr>\n      <th>947</th>\n      <td>318600</td>\n      <td>CONSTRUCTORA MYKOS, S.A. DE C.V.</td>\n      <td>CMY131216Q4A</td>\n      <td>F136-185004-618</td>\n      <td>SIS-058-2022</td>\n      <td>RP-2022 EXCEDENTES 30% ANT. SIS-RP-31/22-CP  R...</td>\n      <td>TR</td>\n      <td>1022756.0</td>\n      <td>2022-06-10</td>\n      <td>19739711.53</td>\n      <td>OBRA PUBLICA Y GV FDOS. ESP</td>\n      <td>10</td>\n      <td>6</td>\n      <td>2022</td>\n      <td>1</td>\n      <td>484493.743558</td>\n      <td>{'Rosa Lorena Valdez Miranda': True, 'Roque Ya...</td>\n      <td>0</td>\n      <td>1.000000</td>\n    </tr>\n    <tr>\n      <th>950</th>\n      <td>318662</td>\n      <td>INFRAESTRUCTURA MQ, SA. DE CV.</td>\n      <td>IMQ0603119L0</td>\n      <td>A940-185004-619</td>\n      <td>SIS-050-2022</td>\n      <td>RP-2022 30% ANT. SIS-RP-25/22-CP CONSTRUCCION ...</td>\n      <td>TR</td>\n      <td>1022758.0</td>\n      <td>2022-06-10</td>\n      <td>5744883.14</td>\n      <td>OBRA PUBLICA Y GV FDOS. ESP</td>\n      <td>10</td>\n      <td>6</td>\n      <td>2022</td>\n      <td>5</td>\n      <td>484493.743558</td>\n      <td>{'Rosa Lorena Valdez Miranda': True, 'Roque Ya...</td>\n      <td>5</td>\n      <td>0.997734</td>\n    </tr>\n    <tr>\n      <th>1050</th>\n      <td>320435</td>\n      <td>TECON TECNOLOGIA AVANZADA PARA CONSTRUCCION, S...</td>\n      <td>TTA200521RQ3</td>\n      <td>F108-185004-628</td>\n      <td>SIS-055-2022</td>\n      <td>RP-2022 EXCEDENTES 30% ANT. SIS-RP-33/22-CP  R...</td>\n      <td>TR</td>\n      <td>1022761.0</td>\n      <td>2022-06-10</td>\n      <td>11759412.05</td>\n      <td>OBRA PUBLICA Y GV FDOS. ESP</td>\n      <td>10</td>\n      <td>6</td>\n      <td>2022</td>\n      <td>1</td>\n      <td>484493.743558</td>\n      <td>{'Rosa Lorena Valdez Miranda': True, 'Roque Ya...</td>\n      <td>0</td>\n      <td>1.000000</td>\n    </tr>\n    <tr>\n      <th>1060</th>\n      <td>320570</td>\n      <td>CONSTRUCCIONES Y PAVIMENTOS ROCASA, S.A. DE C.V.</td>\n      <td>CPR1307166N5</td>\n      <td>A2080-185004-630</td>\n      <td>SIS-059-2022</td>\n      <td>EXC-R28-PARTICIPABLE 2022 30% ANT. SIS-RP-32/2...</td>\n      <td>TR</td>\n      <td>330000243.0</td>\n      <td>2022-06-10</td>\n      <td>15328929.19</td>\n      <td>OBRA PUBLICA Y GV FDOS. ESP</td>\n      <td>10</td>\n      <td>6</td>\n      <td>2022</td>\n      <td>2</td>\n      <td>484493.743558</td>\n      <td>{'Rosa Lorena Valdez Miranda': True, 'Roque Ya...</td>\n      <td>3</td>\n      <td>1.000000</td>\n    </tr>\n    <tr>\n      <th>1061</th>\n      <td>320571</td>\n      <td>CONSTRUCTORA NANABI XOÑIJUMU, S.A. DE C.V.</td>\n      <td>CNX091021386</td>\n      <td>T589-185004-650</td>\n      <td>SIS-067-2022</td>\n      <td>FISM-2022 30% ANT. SIS-FISM-08/22-CP CONSTRUCC...</td>\n      <td>TR</td>\n      <td>333000007.0</td>\n      <td>2022-06-17</td>\n      <td>3505654.20</td>\n      <td>OBRA PUBLICA Y GV FDOS. ESP</td>\n      <td>17</td>\n      <td>6</td>\n      <td>2022</td>\n      <td>1</td>\n      <td>484493.743558</td>\n      <td>{'Rosa Lorena Valdez Miranda': True, 'Roque Ya...</td>\n      <td>0</td>\n      <td>0.950738</td>\n    </tr>\n    <tr>\n      <th>1143</th>\n      <td>330700</td>\n      <td>SYCNOS SERVICIOS Y CONSULTORIA ESTRATEGICA S.A...</td>\n      <td>SSY121219LG5</td>\n      <td>2252-183011-2478</td>\n      <td>SPP-377-2022</td>\n      <td>SERVICIOS DE PLATAFORMA ANALITICA DE VIDEO BAS...</td>\n      <td>TR</td>\n      <td>334000088.0</td>\n      <td>2022-06-16</td>\n      <td>5803016.00</td>\n      <td>SERV PROV</td>\n      <td>16</td>\n      <td>6</td>\n      <td>2022</td>\n      <td>1</td>\n      <td>210406.068793</td>\n      <td>{'Rosa Lorena Valdez Miranda': True, 'Roque Ya...</td>\n      <td>5</td>\n      <td>0.997943</td>\n    </tr>\n  </tbody>\n</table>\n</div>"
     },
     "metadata": {}
    }
   ],
   "execution_count": null
  },
  {
   "cell_type": "code",
   "source": "models_sheet = {}\nfor sheet in list(compras_df['SHEET'].unique()):\n    sheet_compras = compras_df[compras_df['SHEET'] == sheet]\n    params = norm.fit(sheet_compras['IMPORTE'])\n    models_sheet[sheet] = norm(params[0], params[1])",
   "metadata": {
    "cell_id": "f1c1692534874bbd861dd4325296ce9c",
    "tags": [],
    "deepnote_to_be_reexecuted": false,
    "source_hash": "7b8c51dd",
    "execution_start": 1659509862371,
    "execution_millis": 8,
    "deepnote_cell_type": "code",
    "deepnote_cell_height": 148
   },
   "outputs": [],
   "execution_count": null
  },
  {
   "cell_type": "code",
   "source": "sheet_prob = []\nfor i, row in compras_df.iterrows():\n    sheet_prob.append(models_sheet[row['SHEET']].cdf(row['IMPORTE']))\ncompras_df['PROB_SHEET'] = sheet_prob",
   "metadata": {
    "cell_id": "f1d4244d8dfa468587fce84959cf2049",
    "tags": [],
    "deepnote_to_be_reexecuted": false,
    "source_hash": "d5c384af",
    "execution_start": 1659510453782,
    "execution_millis": 793,
    "deepnote_cell_type": "code",
    "deepnote_cell_height": 135
   },
   "outputs": [],
   "execution_count": null
  },
  {
   "cell_type": "code",
   "source": "compras_df[compras_df['PROB_SHEET']>0.95]",
   "metadata": {
    "cell_id": "74a730a73ec246deb2a308360482e799",
    "tags": [],
    "deepnote_to_be_reexecuted": false,
    "source_hash": "3fc35c75",
    "execution_start": 1659510598905,
    "execution_millis": 67,
    "deepnote_cell_type": "code",
    "deepnote_cell_height": 394.1875,
    "deepnote_output_heights": [
     21.1875,
     250
    ]
   },
   "outputs": [
    {
     "output_type": "execute_result",
     "execution_count": 58,
     "data": {
      "application/vnd.deepnote.dataframe.v3+json": {
       "column_count": 20,
       "row_count": 44,
       "columns": [
        {
         "name": "CVE BEN",
         "dtype": "int64",
         "stats": {
          "unique_count": 29,
          "nan_count": 0,
          "min": "110820",
          "max": "330700",
          "histogram": [
           {
            "bin_start": 110820,
            "bin_end": 132808,
            "count": 20
           },
           {
            "bin_start": 132808,
            "bin_end": 154796,
            "count": 0
           },
           {
            "bin_start": 154796,
            "bin_end": 176784,
            "count": 0
           },
           {
            "bin_start": 176784,
            "bin_end": 198772,
            "count": 0
           },
           {
            "bin_start": 198772,
            "bin_end": 220760,
            "count": 13
           },
           {
            "bin_start": 220760,
            "bin_end": 242748,
            "count": 0
           },
           {
            "bin_start": 242748,
            "bin_end": 264736,
            "count": 0
           },
           {
            "bin_start": 264736,
            "bin_end": 286724,
            "count": 0
           },
           {
            "bin_start": 286724,
            "bin_end": 308712,
            "count": 0
           },
           {
            "bin_start": 308712,
            "bin_end": 330700,
            "count": 11
           }
          ]
         }
        },
        {
         "name": "BENEFICIARIO",
         "dtype": "object",
         "stats": {
          "unique_count": 33,
          "nan_count": 0,
          "categories": [
           {
            "name": "MUNICIPIO DE LA CIUDAD DE MONTERREY",
            "count": 6
           },
           {
            "name": "MULTIMEDIOS, S.A. DE C.V.",
            "count": 4
           },
           {
            "name": "31 others",
            "count": 34
           }
          ]
         }
        },
        {
         "name": "RFC",
         "dtype": "object",
         "stats": {
          "unique_count": 33,
          "nan_count": 0,
          "categories": [
           {
            "name": "MCM610101PT2",
            "count": 6
           },
           {
            "name": "MUL0711147NA",
            "count": 4
           },
           {
            "name": "31 others",
            "count": 34
           }
          ]
         }
        },
        {
         "name": "FACTURAS",
         "dtype": "object",
         "stats": {
          "unique_count": 44,
          "nan_count": 0,
          "categories": [
           {
            "name": "A5397-183011-2151",
            "count": 1
           },
           {
            "name": "EEN239-183011-2152",
            "count": 1
           },
           {
            "name": "42 others",
            "count": 42
           }
          ]
         }
        },
        {
         "name": "CONTRATO",
         "dtype": "object",
         "stats": {
          "unique_count": 24,
          "nan_count": 0,
          "categories": [
           {
            "name": "NO APLICA",
            "count": 17
           },
           {
            "name": "SEP-030-2022",
            "count": 4
           },
           {
            "name": "22 others",
            "count": 23
           }
          ]
         }
        },
        {
         "name": "CONCEPTO",
         "dtype": "object",
         "stats": {
          "unique_count": 43,
          "nan_count": 0,
          "categories": [
           {
            "name": "PLANEACION Y COORDINACION DEL EVENTO \"AHORA NOS DIVERTIMOS JUNTOS\" EN LOS PARQUES ESPAÑA, AZTLAN Y TUCAN",
            "count": 2
           },
           {
            "name": "MANTENIMIENTO PREVENTIVO Y CORRECTIVO DE LOS TRABAJOS DE MODERNIZACION DEL PARQUE LUMINARIO DE ALUMBRADO PUBLICO PERIODO DEL 21 DE ABRIL AL 20 DE MAYO 2022 (MODERNIZACION)",
            "count": 1
           },
           {
            "name": "41 others",
            "count": 41
           }
          ]
         }
        },
        {
         "name": "TIPO",
         "dtype": "object",
         "stats": {
          "unique_count": 2,
          "nan_count": 0,
          "categories": [
           {
            "name": "TR",
            "count": 38
           },
           {
            "name": "CH",
            "count": 6
           }
          ]
         }
        },
        {
         "name": "FDO-#OP",
         "dtype": "float64",
         "stats": {
          "unique_count": 40,
          "nan_count": 0,
          "min": "1022677.0",
          "max": "604000082.0",
          "histogram": [
           {
            "bin_start": 1022677,
            "bin_end": 61320417.5,
            "count": 31
           },
           {
            "bin_start": 61320417.5,
            "bin_end": 121618158,
            "count": 0
           },
           {
            "bin_start": 121618158,
            "bin_end": 181915898.5,
            "count": 0
           },
           {
            "bin_start": 181915898.5,
            "bin_end": 242213639,
            "count": 2
           },
           {
            "bin_start": 242213639,
            "bin_end": 302511379.5,
            "count": 1
           },
           {
            "bin_start": 302511379.5,
            "bin_end": 362809120,
            "count": 7
           },
           {
            "bin_start": 362809120,
            "bin_end": 423106860.5,
            "count": 0
           },
           {
            "bin_start": 423106860.5,
            "bin_end": 483404601,
            "count": 0
           },
           {
            "bin_start": 483404601,
            "bin_end": 543702341.5,
            "count": 0
           },
           {
            "bin_start": 543702341.5,
            "bin_end": 604000082,
            "count": 3
           }
          ]
         }
        },
        {
         "name": "FECHA",
         "dtype": "object",
         "stats": {
          "unique_count": 14,
          "nan_count": 0,
          "categories": [
           {
            "name": "2022-06-10",
            "count": 11
           },
           {
            "name": "2022-06-17",
            "count": 7
           },
           {
            "name": "12 others",
            "count": 26
           }
          ]
         }
        },
        {
         "name": "IMPORTE",
         "dtype": "float64",
         "stats": {
          "unique_count": 42,
          "nan_count": 0,
          "min": "236456.2",
          "max": "32447591.98",
          "histogram": [
           {
            "bin_start": 236456.2,
            "bin_end": 3457569.7780000004,
            "count": 14
           },
           {
            "bin_start": 3457569.7780000004,
            "bin_end": 6678683.356000001,
            "count": 10
           },
           {
            "bin_start": 6678683.356000001,
            "bin_end": 9899796.934,
            "count": 7
           },
           {
            "bin_start": 9899796.934,
            "bin_end": 13120910.512,
            "count": 3
           },
           {
            "bin_start": 13120910.512,
            "bin_end": 16342024.09,
            "count": 4
           },
           {
            "bin_start": 16342024.09,
            "bin_end": 19563137.668,
            "count": 2
           },
           {
            "bin_start": 19563137.668,
            "bin_end": 22784251.246,
            "count": 2
           },
           {
            "bin_start": 22784251.246,
            "bin_end": 26005364.824,
            "count": 0
           },
           {
            "bin_start": 26005364.824,
            "bin_end": 29226478.402000003,
            "count": 1
           },
           {
            "bin_start": 29226478.402000003,
            "bin_end": 32447591.98,
            "count": 1
           }
          ]
         }
        },
        {
         "name": "SHEET",
         "dtype": "object",
         "stats": {
          "unique_count": 5,
          "nan_count": 0,
          "categories": [
           {
            "name": "GASTOS VARIOS",
            "count": 16
           },
           {
            "name": "OBRA PUBLICA Y GV FDOS. ESP",
            "count": 13
           },
           {
            "name": "3 others",
            "count": 15
           }
          ]
         }
        },
        {
         "name": "DIA",
         "dtype": "int64",
         "stats": {
          "unique_count": 14,
          "nan_count": 0,
          "min": "3",
          "max": "30",
          "histogram": [
           {
            "bin_start": 3,
            "bin_end": 5.7,
            "count": 5
           },
           {
            "bin_start": 5.7,
            "bin_end": 8.4,
            "count": 1
           },
           {
            "bin_start": 8.4,
            "bin_end": 11.100000000000001,
            "count": 11
           },
           {
            "bin_start": 11.100000000000001,
            "bin_end": 13.8,
            "count": 0
           },
           {
            "bin_start": 13.8,
            "bin_end": 16.5,
            "count": 5
           },
           {
            "bin_start": 16.5,
            "bin_end": 19.200000000000003,
            "count": 7
           },
           {
            "bin_start": 19.200000000000003,
            "bin_end": 21.900000000000002,
            "count": 1
           },
           {
            "bin_start": 21.900000000000002,
            "bin_end": 24.6,
            "count": 8
           },
           {
            "bin_start": 24.6,
            "bin_end": 27.3,
            "count": 1
           },
           {
            "bin_start": 27.3,
            "bin_end": 30,
            "count": 5
           }
          ]
         }
        },
        {
         "name": "MES",
         "dtype": "int64",
         "stats": {
          "unique_count": 1,
          "nan_count": 0,
          "min": "6",
          "max": "6",
          "histogram": [
           {
            "bin_start": 5.5,
            "bin_end": 5.6,
            "count": 0
           },
           {
            "bin_start": 5.6,
            "bin_end": 5.7,
            "count": 0
           },
           {
            "bin_start": 5.7,
            "bin_end": 5.8,
            "count": 0
           },
           {
            "bin_start": 5.8,
            "bin_end": 5.9,
            "count": 0
           },
           {
            "bin_start": 5.9,
            "bin_end": 6,
            "count": 0
           },
           {
            "bin_start": 6,
            "bin_end": 6.1,
            "count": 44
           },
           {
            "bin_start": 6.1,
            "bin_end": 6.2,
            "count": 0
           },
           {
            "bin_start": 6.2,
            "bin_end": 6.3,
            "count": 0
           },
           {
            "bin_start": 6.3,
            "bin_end": 6.4,
            "count": 0
           },
           {
            "bin_start": 6.4,
            "bin_end": 6.5,
            "count": 0
           }
          ]
         }
        },
        {
         "name": "ANO",
         "dtype": "int64",
         "stats": {
          "unique_count": 1,
          "nan_count": 0,
          "min": "2022",
          "max": "2022",
          "histogram": [
           {
            "bin_start": 2021.5,
            "bin_end": 2021.6,
            "count": 0
           },
           {
            "bin_start": 2021.6,
            "bin_end": 2021.7,
            "count": 0
           },
           {
            "bin_start": 2021.7,
            "bin_end": 2021.8,
            "count": 0
           },
           {
            "bin_start": 2021.8,
            "bin_end": 2021.9,
            "count": 0
           },
           {
            "bin_start": 2021.9,
            "bin_end": 2022,
            "count": 0
           },
           {
            "bin_start": 2022,
            "bin_end": 2022.1,
            "count": 44
           },
           {
            "bin_start": 2022.1,
            "bin_end": 2022.2,
            "count": 0
           },
           {
            "bin_start": 2022.2,
            "bin_end": 2022.3,
            "count": 0
           },
           {
            "bin_start": 2022.3,
            "bin_end": 2022.4,
            "count": 0
           },
           {
            "bin_start": 2022.4,
            "bin_end": 2022.5,
            "count": 0
           }
          ]
         }
        },
        {
         "name": "BENEFICIARIO_SALES",
         "dtype": "int64",
         "stats": {
          "unique_count": 10,
          "nan_count": 0,
          "min": "1",
          "max": "36",
          "histogram": [
           {
            "bin_start": 1,
            "bin_end": 4.5,
            "count": 30
           },
           {
            "bin_start": 4.5,
            "bin_end": 8,
            "count": 2
           },
           {
            "bin_start": 8,
            "bin_end": 11.5,
            "count": 4
           },
           {
            "bin_start": 11.5,
            "bin_end": 15,
            "count": 6
           },
           {
            "bin_start": 15,
            "bin_end": 18.5,
            "count": 0
           },
           {
            "bin_start": 18.5,
            "bin_end": 22,
            "count": 0
           },
           {
            "bin_start": 22,
            "bin_end": 25.5,
            "count": 1
           },
           {
            "bin_start": 25.5,
            "bin_end": 29,
            "count": 0
           },
           {
            "bin_start": 29,
            "bin_end": 32.5,
            "count": 0
           },
           {
            "bin_start": 32.5,
            "bin_end": 36,
            "count": 1
           }
          ]
         }
        },
        {
         "name": "IMPORTE_GASTOS_PROMEDIO",
         "dtype": "float64",
         "stats": {
          "unique_count": 5,
          "nan_count": 0,
          "min": "33521.136633663366",
          "max": "583159.3705128209",
          "histogram": [
           {
            "bin_start": 33521.136633663366,
            "bin_end": 88484.96002157911,
            "count": 14
           },
           {
            "bin_start": 88484.96002157911,
            "bin_end": 143448.78340949488,
            "count": 0
           },
           {
            "bin_start": 143448.78340949488,
            "bin_end": 198412.60679741064,
            "count": 0
           },
           {
            "bin_start": 198412.60679741064,
            "bin_end": 253376.43018532638,
            "count": 1
           },
           {
            "bin_start": 253376.43018532638,
            "bin_end": 308340.25357324217,
            "count": 0
           },
           {
            "bin_start": 308340.25357324217,
            "bin_end": 363304.0769611579,
            "count": 0
           },
           {
            "bin_start": 363304.0769611579,
            "bin_end": 418267.9003490737,
            "count": 0
           },
           {
            "bin_start": 418267.9003490737,
            "bin_end": 473231.7237369894,
            "count": 0
           },
           {
            "bin_start": 473231.7237369894,
            "bin_end": 528195.5471249052,
            "count": 13
           },
           {
            "bin_start": 528195.5471249052,
            "bin_end": 583159.3705128209,
            "count": 16
           }
          ]
         }
        },
        {
         "name": "HAS_LINKEDIN_SITE",
         "dtype": "object",
         "stats": {
          "unique_count": 1,
          "nan_count": 0,
          "categories": [
           {
            "name": "{'Rosa Lorena Valdez Miranda': True, 'Roque Yañez Ramos': True, 'Laura Perla Cordova Rodriguez': True, 'Rosa Ofelia Coronado Flores': True, 'Alvaro Flores Palomo': True, 'Liliana Tijerina Cantu': True, 'Ruben Basaldua Moyeda': True, 'Maria Cristina Muñoz Rios': True, 'Gerardo Guerrero Adame': True, 'Mayela Maria De Lourdes Quiroga Tamez': True, 'Humberto Arturo Garza De Hoyos': True, 'Irma Montero Solis': True, 'Jorge Alejandro Alvarado Martinez': True, 'Ana Lilia Coronado Araiza': True, 'Francisco Salazar Guadiana': True, 'Maria Thalina Almaraz Gonzalez': True, 'Diego Armando Arellano Aguilar': True, 'Jorge Adrian Ayala Cantu': True, 'Adriana Paola Coronado Ramirez': True, 'LLANTAS Y SERVICIOS SERNA ANAHUAC,S.A. DE C.V.': True, 'GH MAQUINARIA Y EQUIPO, S.A.DE C.V.': True, 'PLOMIFERRETERA EL TORNILLO, S.A. DE C.V.': False, 'EQUIPOS Y ACCESORIOS CANTU, S.A. DE C.V.': True, 'PRAXAIR MEXICO S. DE R.L. DE C.V.': True, 'COMERCIALIZADORA HNOS.ALVAREZ FLORES,S.A.DE C.V.': False, 'DISTRIBUIDORA DE FRUTAS Y LEGUMBRES LA HORTALIZA,S.A.DE C.V.': False, 'NUÑEZ LOPEZ VIRGINIA': True, 'S.I.M.E.P.R.O.D.E.': False, 'TRACTORES Y MAQUINARIA REAL, S.A. DE C.V.': True, 'TELEFONOS DE MEXICO,S.A.B DE C.V.': True, 'MERCANTIL DISTRIBUIDORA, S.A. DE C.V.': True, 'GRANA,S.A.': True, 'CLUB INTERNACIONAL DE MONTERREY,A.C.': True, 'EMPACADORA Y DISTR.DE CARNES FINAS SAN JUAN,S.A.DE C.V.': False, 'VIVERO EL ESCORIAL, S.A. DE C.V.': True, 'CAR ONE AMERICANA,S.A.DE C.V.': True, 'MANTENIMIENTO ELECTRICO DE POTENCIA,S.A.DE C.V.': True, 'AUTOKAM REGIOMONTANA,S.A.DE C.V.': True, 'CLIMEEZ DEL NORTE,S.A.DE C.V.': True, 'VALUE ARRENDADORA,S.A.DE C.V. SOFOM ER VALUE GPO.FIN.': False, 'SEGUROS AFIRME, S.A. DE C.V. AFIRME GRUPO FINANCIERO': True, 'DESARROLLOS CONSTRUCTIVOS NACIONALES,S.A.DE C.V.': True, 'BIOANALISIS Y SERVICIOS HEMATOLOGICOS , S.A. DE C.V.': True, 'SUAREZ MOBILIARIO INTERNACIONAL,S.A.DE C.V.': True, 'FORTE COMUNICACIONES,S.A.DE C.V.': True, 'NAUDIN WILLIAMS JORGE TOMAS': False, 'BIENES AW, S.A. DE C.V.': True, 'CAR ONE MONTERREY, S.A. DE C.V.': True, 'DESARROLLOS HUINALA, S.A. DE C.V.': True, 'SALAZAR GARZA ADRIANA': True, 'FULL TECHNOLOGY, S.A. DE C.V.': True, 'COLLENZI COLONNELLO CLARISSA': False, 'SUPERMERCADOS INTERNACIONALES HEB, S.A. DE C.V.': True, 'SEGUROS BANORTE, S.A. DE C.V. GRUPO FINANCIERO BANORTE': True, 'SAG GRUPO AUTOMOTRIZ, S.A. DE C.V.': True, 'SAMPOGNA GARZA JESUS IGNACIO': True, 'SI VALE MEXICO, S.A. DE C.V.': True, 'INTERLAMPARAS, S.A. DE C.V.': True, 'CONSTRUCTORA NEG, S.A. DE C.V.': True, 'MALDONADO GONZALEZ ARTURO GUILLERMO': True, 'VG MAYOREO DE MONTERREY, S.A. DE C.V.': True, 'DESARROLLOS INMOBILIARIOS JAJEMI, S.A. DE C.V.': False, 'GRANTE INMOBILIARIA, S.A. DE C.V.': True, 'LARRALDE LAGUERA MARGARITA': False, 'PINEDA GUERRERO OSCAR': True, 'INTERASFALTOS, S.A. DE C.V.': True, 'M.S. COMERCIALIZADORA E IMPORTADORA, S.A. DE C.V.': True, 'ANGIO MEDICAL, S.A. DE C.V.': True, 'GRUPO PRO CREA, S.A. DE C.V.': True, 'INTEGRACION DE SISTEMAS DE AVANZADA TECNOLOGIA, S.A. DE C.V.': True, 'HEGV INDUSTRIAL, S.A. DE C.V.': True, 'GRUPO COYOTE MONTERREY, S.A. DE C.V.': True, 'INDUSTRIAS SOLA BASIC, S.A. DE C.V.': True, 'EDIFICIOS DIANA DEL NORTE, S.A. DE C.V.': True, 'LOGOMUNDO, S.A. DE C.V.': True, 'PEREZ RIOS RAMIRO': True, 'CANTU LOGISTICS, S.A. DE C.V.': True, 'ESPECIALIDADES MEDICAS INTERNACIONALES Y EQUIPO MEDICO SA': True, 'CANTU ELIZONDO DANIELA': True, 'BENITES VALDES JOSE LUCIO': True, 'HOSP.UNIVERSITARIO DR.JOSE E.GONZALEZ': False, 'BANCO MULTIVA, SA. G.F.M.': True, 'ASOCIACION DE COLONOS CONTRY LA SILLA A.C.': True, 'BANCO BANCREA,S.A. ,FIDEICOMISO NUMERO BP417': False, 'FIDEICOMISO DISTRITO TEC NUM-1718': False, 'CIUDADANOS EN APOYO A LOS DERECHOS HUMANOS, AC.': True, 'LOZANO SADA MARIA AMALIA': True, 'S.U.T.S.M.M.': False, 'CENTRO INTERNACIONAL DE NEGOCIOS MONTERREY, A.C.': True, 'BANCO MERCANTIL DEL NORTE S.A. IBM GFB': True, 'MUNICIPIO DE LA CIUDAD DE MONTERREY': True, 'MUSEO DE ARTE CONTEMPORANEO DE MONTERREY, AC.': True, 'CFE SUMINISTRADOR DE SERVICIOS BASICOS': True, 'NATURGY MEXICO, S.A. DE C.V.': True, 'SERVICIOS DE AGUA Y DRENAJE DE MONTERREY, IPD.': True, 'ACEROS Y OVEROLLINGS DE MEXICO, SA. DE CV.': True, 'AUTO CENTRO CAMIONERO, SA. DE CV.': True, 'BENAVIDES GONZALEZ LAURA ELENA': True, 'CENICEROS GARCIA MARIA MAGDALENA': True, 'CERVEZAS CUAUHTEMOC MOCTEZUMA, SA. DE CV.': True, 'CINEPOLIS DE MEXICO,S.A. DE C.V.': True, 'ECOTAXI DE MONTERREY, SA. DE CV.': True, 'GARZA TREVIÑO JOSE MARIA': True, 'GOMEZ MEJIA ELSA MARIA': True, 'GONZALEZ VAZQUEZ EDGAR CECILIO': True, 'IIRSACERO, SA. DE CV.': True, 'LAS CERVEZAS MODELO EN NUEVO LEON, SA. DE CV.': True, 'MARCATEL COM, SA. DE CV.': True, 'NERI SANCHEZ MARCELO': True, 'PAEZ YRIGOYEN MARIA DE LOURDES': True, 'PATENA PUENTE LORENA MIREYA': False, 'PEREZ FLORES MARIA DEL ROSARIO': True, 'PEREZ IBARRA ROLANDO ED MISAEL': True, 'RESTAURANTES TOKS. SA. DE CV.': True, 'RODRIGUEZ AGUIRRE LIBRADO': True, 'RODRIGUEZ GOMEZ PAMELA': True, 'SALAS HERNANDEZ ROBERTO KEVIN': True, 'TRANSPORTES PROGRESO, SA.': True, 'TREVIÑO ELIZONDO JOSE HUMBERTO': True, 'TREVIÑO YAÑEZ JOSE HUMBERTO': True, 'VAZQUEZ FLORES ELVIRA': True, 'VELA GONZALEZ OCTAVIO': True, 'VERGARA CASTELLANOS BALDEMAR ALEJANDRO': True, 'VILLARREAL DE LEON BERTHA': True, 'ALIANZA AUTOMOTRIZ RIVERO, SA. DE CV.': True, 'CANO ZAPATA NATALIA': True, 'CHUBB SEGUROS MEXICO, S.A.': True, 'CORPUS MORALES CLAUDIA': True, 'DECO SEGUROS, SA. DE CV.': True, 'DOMENE ZAMBRANO MARIA DEL ROCIO': True, 'EMERGENCIA MEDICA PROFESIONAL, S.C.': True, 'ESTRADA CASTILLO HILDA LETICIA': True, 'GARCIA REYES ANA MARIA': True, 'GONZALEZ CORREA DOLORES DEL CARMEN': True, 'GONZALEZ SANCHEZ MARIA DE LA LUZ': True, 'IMPULSORA PROMOBIEN, SA. DE CV.': True, 'INFONACOT': True, 'INSTITUTO DE CONTROL VEHICULAR': True, 'LOMAS LOZANO CLAUDIA PATRICIA': True, 'MADERA HOLTEN MARIA TERESA': False, 'METLIFE MEXICO, S.A.': True, 'MORENO MARTINEZ SONIA': True, 'OLDER GARCIA CARLOS ALBERTO': True, 'PADILLA QUINTANILLA RUBI': True, 'PATRIMONIO S.A. DE C.V. SOFOM ENR': True, 'RODRIGUEZ ONTIVEROS GLORIA ISABEL': True, 'SECRETARIA DE FINANZAS Y TESORERIA GRAL DEL EDO DE NL': True, 'SEGUROS ARGOS, SA. DE CV.': True, 'SEGUROS VE POR MAS, SA. GRUPO FINANCIERO VE POR MAS': True, 'TORRES RANGEL ANA MARIA': True, 'UNIVERSAL DE SERVICIOS PATRIMONIALES, SAPI DE CV SOFOM ENR': True, 'CHAO CASTRUITA CARMEN': False, 'CORONEL GONZALEZ MARIA LUISA': True, 'FLORES ROBLEDO GUADALUPE CONCEPCION': True, 'LARA SEGURA SINDY MELIZA': True, 'RAMIREZ CUELLAR JONATHAN JOSHUA': True, 'RIOS GOMEZ YENNIFER ITZEL': True, 'PENSIONES Y JUBILACIONES EMPL. MONTERREY': True, 'HERNANDEZ JIMENEZ EDUARDO': True, 'GONZALEZ CANTU ALEXANDRO': True, 'HERRERA GARCIA ADRIANA HORTENCIA': True, 'GARCIA NACIANCENO FELIX MANUEL': True, 'TIJERINA GOMEZ LUCAS OCTAVIO': False, 'GARCIA ORTIZ ALMA ALICIA': True, 'LARA SALAZAR LUZ ADRIANA': True, 'TELLEZ ZOLEZZI CARLOS ALBERTO': True, 'RAMIREZ ORTIZ RAQUEL ADELA': True, 'ESPINOSA RODRIGUEZ MARIA JOSE': True, 'CERECERO MEDINA ZULLY JANETT': False, 'VARGAS ANTILLON MARCOS': True, 'GONZALEZ SALINAS ALAN GERARDO': True, 'GARCIA ALEJANDRO ANALY': True, 'VALLEJO RAMOS JUAN MANUEL': True, 'PT CAR CENTER, S.A. DE C.V.': True, 'LINARES TORRES FERNANDO MANUEL': True, 'SERVICIO TECNICO CHURUBUSCO, S.A. DE C.V.': True, 'INMOBILIARIA HFM, S.A. DE C.V.': True, 'FORTERRA, S.A. DE C.V.': True, 'CONSTRUCCIONES Y URBANIZACIONES VILLA, S.A. DE C.V.': True, 'CONSTRUCTORA Y ARRENDADORA SAN SEBASTIAN, S.A. DE C.V.': True, 'INVESTMENT CAPITAL PARTNERS, S.A. DE C.V.': True, 'GARCIA ZAVALA EDGAR ALEJANDRO JOBERAGAN': False, 'GARIBALDI FRECH MARCELO ANDRES': True, 'TREVIÑO CORREA VALENTIN MARCELO': False, 'SERVICIOS BROXEL, S.A.P.I. DE C.V.': True, 'CORDERO MACIAS SILVESTRE GUADALUPE': True, 'OPERBES, S.A. DE C.V.': True, 'INFRAESTRUCTURA MQ, SA. DE CV.': True, 'MANUFACTURAS RECOVERY, S.A. DE C.V.': True, '235 PROYECTOS, S.A. DE C.V.': True, 'MOTOR DEAL, S.A. DE C.V.': True, 'BOMBEROS DE NUEVO LEON, A.B.P.': True, 'RECYMET SERVICIOS DE MEXICO, S.A. DE C.V.': True, 'PRODUCTORA PROCESADORA AGRICOLA DE MEXICO S.A DE C.V.': True, 'CONSTRUCTORA XILOFACTOS, S.A. DE C.V.': False, 'GAS GARZA SADA, S.A. DE C.V.': True, 'GASOLINERA NUEVO LEON, S.A. DE C.V.': True, 'PINEDA OSORIO JOSE NAZARIO': True, 'GAS HUINALA, S.A. DE C.V.': True, 'SERVICIO GAS LINCOLN, S.A. DE C.V.': True, 'GS GAS Q, S.A. DE C.V.': False, 'GONZALEZ GARZA ROSA LILA': True, 'BUFETE URBANISTICO, S.A. DE C.V.': True, 'TOOLS & SERVICES DE MEXICO, S.A. DE C.V.': True, 'SOLUCIONES Y OPCIONES DE SEGURIDAD PRIVADA,S.A.DE C.V.': True, 'EOLICA SANTA CATARINA, S. DE R.L. DE C.V.': True, 'URBANIZACIONES AGV, S.A. DE C.V.': True, 'RED RECOLECTOR, S.A. DE C.V.': True, 'RAR SMART NETWORKS, S.A. DE C.V.': True, 'RAMIREZ VERASTEGUI ISIDRO RAMON': True, 'CHAPA RIOS RAUL': True, 'PICO INFRAESTRUCTURA URBANA, SA. DE CV.': True, 'GUERRERO SEGURA NESTOR': True, 'PAVIMENTOS Y CONSTRUCCIONES GARCAN, SA. DE CV.': True, 'GUAJARDO Y ASOCS.CONSTRUCTORA, S.A. DE CV.': True, 'ABC Y CONSTRUCCIONES, SA. DE CV.': True, 'CONSTRUCCIONES DYNAMO, SA. DE CV.': True, 'CONSTRUCTORA JOMABE, SA. DE CV.': True, 'CONSTRUCCIONES Y URBANIZACIONES DEL PONIENTE, SA. DE CV.': True, 'INFRAESTRUCTURA Y CONSTRUCCIONES GARCIA, SA. DE CV.': True, 'CONSTRUCTORA POLITEZZA, SA. DE CV.': True, 'URBANISMOS ROSALES, SA. DE CV.': True, 'ARQUITECTURA E INGENIERIA 2000, SA. DE CV.': True, 'RICE OBRAS, SA. DE CV.': True, 'ORTIZ MONTOYA HUGO': True, 'PROVEEDORA PARA LA CONSTRUCCION REGIOMONTANA, S.A. DE C.V.': True, 'BUILDTECH PAVIMENTOS ESTAMPADOS Y CONSTRUCCIONES, SA. DE CV.': True, 'DESARROLLO CONSTRUCTIVO Y URBANISTICO, SA. DE CV.': True, 'CONSORCIO CONSTRUCTIVO Y PROYECTOS, SA. DE CV.': True, 'MONQ CONSTRUCTORES, SA. DE CV.': True, 'PROYECTOS Y DESARROLLOS SALVE, SA. DE CV.': True, 'CEREZO TORRES RAUL': True, 'CONSTRUCCIONES PAVIMENTO Y EDIFICACIONES COPESA, S.A. DE C.V.': True, 'CONSTRUCCIONES Y MANTENIMIENTO GAME, SA. DE CV.': True, 'CONSTRUCTORA Y ARRENDADORA SAN SEBASTIAN, SA. DE CV.': True, 'HUAJUCO CONSTRUCCIONES, S.A. DE C.V.': True, 'CONSTRUCCION Y DIRECCION DE OBRA AM, SA. DE CV.': True, 'CONSTRUCTORA LAZO, S.DE RL. DE CV.': True, 'DESARROLLOS MAFERSA, SA. DE CV.': True, 'HTR INFRAESTRUCTURA, SA. DE CV.': True, 'CKT EDIFICACIONES, SA. DE CV.': True, 'REGIO ASFALTOS Y CONCRETOS, SA. DE CV.': True, 'CONSTRUCTORA Y COMERCIALIZADORA IMPERIAL, SA DE CV.': True, 'SERVICIOS DE AGUA DLO, SA. DE CV.': True, 'INSTITUTO MUNICIPAL DE LAS MUJERES REGIAS': True, 'SOLUCION ARTE EN CONSTRUCCION, SA. DE CV.': True, 'INSTITUTO DE INV.INNOV.Y EST.DE POSG.P/LA EDU.DEL EDO DE NL.': False, 'UNIVERSIDAD AUTONOMA DE NUEVO LEON': True, 'CONTRERAS MONSIVAIS DANIEL': True, 'CAMARA MEXICANA DE LA INDUSTRIA DE LA CONSTRUCCION': True, 'F/4086906 BBVA BANCOMER, SA.': False, 'BS CAR SERVICES, S.A. DE C.V.': True, 'RAMIREZ PEÑA ALEJANDRO': True, 'INMOBILIARIA ESTRUCTURAL, S.A. DE C.V.': True, 'UNION POR EL DESARROLLO DE CORAZONES MEXICANOS, A.C.': True, 'EDIFICACIONES Y TERRACERIAS DEL NORTE, S.A. DE C.V.': True, 'ADQUISICIONES INTELIGENTES, S.A. DE C.V.': True, 'CENTRO DE ATENCION, PREVENCION Y SEGURIDAD SOCIAL, S.C.': True, 'GOBIERNO DEL ESTADO DE DURANGO': True, 'DESARROLLO Y CONSTRUCCIONES URBANAS, S.A. DE C.V.': True, 'SIERRA MADRE RACING, S.A. DE C.V.': True, 'EDDS MANTENIMIENTO, S.A. DE C.V.': True, 'CONSTRUCTORA MAIZ MIER,S.A. DE C.V.': True, 'ARMOR LIFE LAB, S.A. DE C.V.': True, 'INSTITUTO ESTATAL DE CIENCIAS PENALES Y SEGURIDAD PUBLICA': True, 'UNIVERSIDAD REGIOMONTANA, A.C.': True, 'ZAPATA CHAVIRA HOMERO ARTURO': True, 'ORTEGA VAZQUEZ ANDRES JAIME': True, 'INTEGRACION TECNOLOGICA FISCAL, S. DE RL DE C.V.': True, 'MANAGEMENT TECHNOLOGY INNOVATIONS, S.C.': True, 'G&B SOLUTIONS, S.A. DE C.V.': True, 'VELEZ VALDES ALBERTO': True, 'NUCLEO RADIO MONTERREY,S.A.DE C.V.': True, 'SISTEMEDIOS, S.A. DE C.V.': True, 'RTV & PRESS NEWS,S.A.DE C.V': True, 'TV DE LOS MOCHIS,S.A.DE C.V.': True, 'SCRIPTAMTY, S.A. DE C.V.': True, 'LOZANO CAVAZOS REYNALDO RAMON': True, 'STEREOREY MEXICO, S.A.': True, 'VERBO LIBRE EDITORES, S.A. DE C.V.': True, 'MULTIMEDIOS, S.A. DE C.V.': True, 'MARQUEZ GOMEZ ISAI': True, 'MILENIO DIARIO, S.A. DE C.V.': True, 'MELCHOR GUERRERO PERLA GUADALUPE': True, 'OVIEDO RODRIGUEZ MARILU': True, 'M58, S.A. DE C.V.': True, 'TEAM ONE 2018, S.A. DE C.V.': True, 'MAGENTA MULTIMEDIA, S.A.P.I. DE C.V.': False, 'CYAN MEDIA LAB, S.A. DE C.V.': True, 'MAYORGA CONSULTORES, S.C.': True, 'PUBLIGAB COMUNICACIONES, S.A. DE C.V.': False, 'ARRIAGA PEREZ ROCIO JAZMIN': True, 'AYALA SALAZAR GABRIEL': True, 'BRANDI ELGUEZABAL MARCELO': False, 'BRAVO GARZA CARLOS ALBERTO': True, 'BRAVO MENDOZA JOEL': True, 'CELEDONIO BECERRA JUAN MIGUEL': True, 'CORTES SANCHEZ VICTOR MANUEL': True, 'GALVAN GUERRERO ANDRES': True, 'GAMEZ RODRIGUEZ PABLO': True, 'GARCIA GONZALEZ ARTURO': True, 'GONZALEZ AGUILERA CRISTINA MIROSLAVA': True, 'GUERRERO MARTINEZ EDGAR FEDERICO': True, 'HERNANDEZ SOTO BRENDA NATALIA': True, 'ORDAZ ARANJO JOSE ANTONIO': True, 'RAMOS DE LA GARZA RAFAEL EDUARDO': True, 'RAMOS MARROQUIN FRANCISCO JAVIER': True, 'RODRIGUEZ JUAREZ DANIELA BERENICE': True, 'RODRIGUEZ MORALES CYNTHIA ESTHER': True, 'SANCHEZ DAVILA GERARDO RAUL': True, 'TORRES ACOSTA ROBERTO CARLOS': True, 'VARGAS GARCIA ALHINNA BERENICE': False, 'VILLARREAL CARDENAS JUAN IGNACIO': True, 'VILLARREAL CARDENAS NANCY ESTHER': True, 'GODOY SANCHEZ RICARDO': True, 'MIJANGOS DE JESUS FERNANDO': True, 'MORENO GARCIA JOSE ARTURO': True, 'SANCHEZ HERNANDEZ SEBASTIAN': True, 'SEGOVIA PAEZ MARCELO': True, 'TOVAR CEDILLO JAVIER ALFONSO': True}",
            "count": 44
           }
          ]
         }
        },
        {
         "name": "CLUSTER_NAME",
         "dtype": "int64",
         "stats": {
          "unique_count": 3,
          "nan_count": 0,
          "min": "0",
          "max": "5",
          "histogram": [
           {
            "bin_start": 0,
            "bin_end": 0.5,
            "count": 10
           },
           {
            "bin_start": 0.5,
            "bin_end": 1,
            "count": 0
           },
           {
            "bin_start": 1,
            "bin_end": 1.5,
            "count": 0
           },
           {
            "bin_start": 1.5,
            "bin_end": 2,
            "count": 0
           },
           {
            "bin_start": 2,
            "bin_end": 2.5,
            "count": 0
           },
           {
            "bin_start": 2.5,
            "bin_end": 3,
            "count": 0
           },
           {
            "bin_start": 3,
            "bin_end": 3.5,
            "count": 4
           },
           {
            "bin_start": 3.5,
            "bin_end": 4,
            "count": 0
           },
           {
            "bin_start": 4,
            "bin_end": 4.5,
            "count": 0
           },
           {
            "bin_start": 4.5,
            "bin_end": 5,
            "count": 30
           }
          ]
         }
        },
        {
         "name": "PROB_TOTAL",
         "dtype": "float64",
         "stats": {
          "unique_count": 37,
          "nan_count": 0,
          "min": "0.4680572222217505",
          "max": "1.0",
          "histogram": [
           {
            "bin_start": 0.4680572222217505,
            "bin_end": 0.5212514999995754,
            "count": 9
           },
           {
            "bin_start": 0.5212514999995754,
            "bin_end": 0.5744457777774004,
            "count": 2
           },
           {
            "bin_start": 0.5744457777774004,
            "bin_end": 0.6276400555552253,
            "count": 2
           },
           {
            "bin_start": 0.6276400555552253,
            "bin_end": 0.6808343333330503,
            "count": 1
           },
           {
            "bin_start": 0.6808343333330503,
            "bin_end": 0.7340286111108753,
            "count": 0
           },
           {
            "bin_start": 0.7340286111108753,
            "bin_end": 0.7872228888887002,
            "count": 0
           },
           {
            "bin_start": 0.7872228888887002,
            "bin_end": 0.8404171666665252,
            "count": 0
           },
           {
            "bin_start": 0.8404171666665252,
            "bin_end": 0.8936114444443501,
            "count": 0
           },
           {
            "bin_start": 0.8936114444443501,
            "bin_end": 0.9468057222221751,
            "count": 0
           },
           {
            "bin_start": 0.9468057222221751,
            "bin_end": 1,
            "count": 30
           }
          ]
         }
        },
        {
         "name": "PROB_SHEET",
         "dtype": "float64",
         "stats": {
          "unique_count": 36,
          "nan_count": 0,
          "min": "0.9538405426123475",
          "max": "1.0",
          "histogram": [
           {
            "bin_start": 0.9538405426123475,
            "bin_end": 0.9584564883511127,
            "count": 2
           },
           {
            "bin_start": 0.9584564883511127,
            "bin_end": 0.963072434089878,
            "count": 0
           },
           {
            "bin_start": 0.963072434089878,
            "bin_end": 0.9676883798286433,
            "count": 1
           },
           {
            "bin_start": 0.9676883798286433,
            "bin_end": 0.9723043255674085,
            "count": 0
           },
           {
            "bin_start": 0.9723043255674085,
            "bin_end": 0.9769202713061738,
            "count": 2
           },
           {
            "bin_start": 0.9769202713061738,
            "bin_end": 0.981536217044939,
            "count": 1
           },
           {
            "bin_start": 0.981536217044939,
            "bin_end": 0.9861521627837042,
            "count": 3
           },
           {
            "bin_start": 0.9861521627837042,
            "bin_end": 0.9907681085224695,
            "count": 1
           },
           {
            "bin_start": 0.9907681085224695,
            "bin_end": 0.9953840542612348,
            "count": 3
           },
           {
            "bin_start": 0.9953840542612348,
            "bin_end": 1,
            "count": 31
           }
          ]
         }
        },
        {
         "name": "_deepnote_index_column",
         "dtype": "int64"
        }
       ],
       "rows": [
        {
         "CVE BEN": 112290,
         "BENEFICIARIO": "IMPULSORA DE RENTAS Y SERVICIOS, S.A. DE C.V.",
         "RFC": "IRS940928BK7",
         "FACTURAS": "A5397-183011-2151",
         "CONTRATO": "SSP-294-2022",
         "CONCEPTO": "PLANEACION Y COORDINACION DEL EVENTO \"AHORA NOS DIVERTIMOS JUNTOS\" EN LOS PARQUES ESPAÑA, AZTLAN Y TUCAN",
         "TIPO": "TR",
         "FDO-#OP": 1022794,
         "FECHA": "2022-06-10",
         "IMPORTE": 7308000,
         "SHEET": "GASTOS VARIOS",
         "DIA": 10,
         "MES": 6,
         "ANO": 2022,
         "BENEFICIARIO_SALES": 1,
         "IMPORTE_GASTOS_PROMEDIO": 583159.3705128209,
         "HAS_LINKEDIN_SITE": "{'Rosa Lorena Valdez Miranda': True, 'Roque Yañez Ramos': True, 'Laura Perla Cordova Rodriguez': True, 'Rosa Ofelia Coronado Flores': True, 'Alvaro Flores Palomo': True, 'Liliana Tijerina Cantu': True, 'Ruben Basaldua Moyeda': True, 'Maria Cristina Muñoz Rios': True, 'Gerardo Guerrero Adame': True, 'Mayela Maria De Lourdes Quiroga Tamez': True, 'Humberto Arturo Garza De Hoyos': True, 'Irma Montero Solis': True, 'Jorge Alejandro Alvarado Martinez': True, 'Ana Lilia Coronado Araiza': True, 'Francisco Salazar Guadiana': True, 'Maria Thalina Almaraz Gonzalez': True, 'Diego Armando Arellano Aguilar': True, 'Jorge Adrian Ayala Cantu': True, 'Adriana Paola Coronado Ramirez': True, 'LLANTAS Y SERVICIOS SERNA ANAHUAC,S.A. DE C.V.': True, 'GH MAQUINARIA Y EQUIPO, S.A.DE C.V.': True, 'PLOMIFERRETERA EL TORNILLO, S.A. DE C.V.': False, 'EQUIPOS Y ACCESORIOS CANTU, S.A. DE C.V.': True, 'PRAXAIR MEXICO S. DE R.L. DE C.V.': True, 'COMERCIALIZADORA HNOS.ALVAREZ FLORES,S.A.DE C.V.': False, 'DISTRIBUIDO…",
         "CLUSTER_NAME": 5,
         "PROB_TOTAL": 0.9998771772454915,
         "PROB_SHEET": 0.99623612413486,
         "_deepnote_index_column": 14
        },
        {
         "CVE BEN": 116381,
         "BENEFICIARIO": "EPSILON ENTERTAINMENT, S.A. DE C.V.",
         "RFC": "EEN140122A99",
         "FACTURAS": "EEN239-183011-2152",
         "CONTRATO": "SSP-298-2022",
         "CONCEPTO": "PLANEACION Y COORDINACION DEL EVENTO \"AHORA NOS DIVERTIMOS JUNTOS\" EN LOS PARQUES ESPAÑA, AZTLAN Y TUCAN",
         "TIPO": "TR",
         "FDO-#OP": 1022780,
         "FECHA": "2022-06-10",
         "IMPORTE": 8660281.48,
         "SHEET": "GASTOS VARIOS",
         "DIA": 10,
         "MES": 6,
         "ANO": 2022,
         "BENEFICIARIO_SALES": 1,
         "IMPORTE_GASTOS_PROMEDIO": 583159.3705128209,
         "HAS_LINKEDIN_SITE": "{'Rosa Lorena Valdez Miranda': True, 'Roque Yañez Ramos': True, 'Laura Perla Cordova Rodriguez': True, 'Rosa Ofelia Coronado Flores': True, 'Alvaro Flores Palomo': True, 'Liliana Tijerina Cantu': True, 'Ruben Basaldua Moyeda': True, 'Maria Cristina Muñoz Rios': True, 'Gerardo Guerrero Adame': True, 'Mayela Maria De Lourdes Quiroga Tamez': True, 'Humberto Arturo Garza De Hoyos': True, 'Irma Montero Solis': True, 'Jorge Alejandro Alvarado Martinez': True, 'Ana Lilia Coronado Araiza': True, 'Francisco Salazar Guadiana': True, 'Maria Thalina Almaraz Gonzalez': True, 'Diego Armando Arellano Aguilar': True, 'Jorge Adrian Ayala Cantu': True, 'Adriana Paola Coronado Ramirez': True, 'LLANTAS Y SERVICIOS SERNA ANAHUAC,S.A. DE C.V.': True, 'GH MAQUINARIA Y EQUIPO, S.A.DE C.V.': True, 'PLOMIFERRETERA EL TORNILLO, S.A. DE C.V.': False, 'EQUIPOS Y ACCESORIOS CANTU, S.A. DE C.V.': True, 'PRAXAIR MEXICO S. DE R.L. DE C.V.': True, 'COMERCIALIZADORA HNOS.ALVAREZ FLORES,S.A.DE C.V.': False, 'DISTRIBUIDO…",
         "CLUSTER_NAME": 5,
         "PROB_TOTAL": 0.9999941545618656,
         "PROB_SHEET": 0.9993362431596183,
         "_deepnote_index_column": 131
        },
        {
         "CVE BEN": 116684,
         "BENEFICIARIO": "INDUSTRIAS SOLA BASIC, S.A. DE C.V.",
         "RFC": "ISB840628IB2",
         "FACTURAS": "GS147003-183011-2244",
         "CONTRATO": "SSP-189-2017",
         "CONCEPTO": "MANTENIMIENTO PREVENTIVO Y CORRECTIVO DE LOS TRABAJOS DE MODERNIZACION DEL PARQUE LUMINARIO DE ALUMBRADO PUBLICO PERIODO DEL 21 DE ABRIL AL 20 DE MAYO 2022 (MODERNIZACION)",
         "TIPO": "TR",
         "FDO-#OP": 604000081,
         "FECHA": "2022-06-22",
         "IMPORTE": 9000000,
         "SHEET": "GASTOS VARIOS",
         "DIA": 22,
         "MES": 6,
         "ANO": 2022,
         "BENEFICIARIO_SALES": 4,
         "IMPORTE_GASTOS_PROMEDIO": 583159.3705128209,
         "HAS_LINKEDIN_SITE": "{'Rosa Lorena Valdez Miranda': True, 'Roque Yañez Ramos': True, 'Laura Perla Cordova Rodriguez': True, 'Rosa Ofelia Coronado Flores': True, 'Alvaro Flores Palomo': True, 'Liliana Tijerina Cantu': True, 'Ruben Basaldua Moyeda': True, 'Maria Cristina Muñoz Rios': True, 'Gerardo Guerrero Adame': True, 'Mayela Maria De Lourdes Quiroga Tamez': True, 'Humberto Arturo Garza De Hoyos': True, 'Irma Montero Solis': True, 'Jorge Alejandro Alvarado Martinez': True, 'Ana Lilia Coronado Araiza': True, 'Francisco Salazar Guadiana': True, 'Maria Thalina Almaraz Gonzalez': True, 'Diego Armando Arellano Aguilar': True, 'Jorge Adrian Ayala Cantu': True, 'Adriana Paola Coronado Ramirez': True, 'LLANTAS Y SERVICIOS SERNA ANAHUAC,S.A. DE C.V.': True, 'GH MAQUINARIA Y EQUIPO, S.A.DE C.V.': True, 'PLOMIFERRETERA EL TORNILLO, S.A. DE C.V.': False, 'EQUIPOS Y ACCESORIOS CANTU, S.A. DE C.V.': True, 'PRAXAIR MEXICO S. DE R.L. DE C.V.': True, 'COMERCIALIZADORA HNOS.ALVAREZ FLORES,S.A.DE C.V.': False, 'DISTRIBUIDO…",
         "CLUSTER_NAME": 0,
         "PROB_TOTAL": 0.9999974819323427,
         "PROB_SHEET": 0.9995885478702936,
         "_deepnote_index_column": 166
        },
        {
         "CVE BEN": 116684,
         "BENEFICIARIO": "INDUSTRIAS SOLA BASIC, S.A. DE C.V.",
         "RFC": "ISB840628IB2",
         "FACTURAS": "GS149020-183011-2763",
         "CONTRATO": "NO APLICA",
         "CONCEPTO": "MANTENIMIENTO PREVENTIVO Y CORRECTIVO DE LOS TRABAJOS DE MODERNIZACION DEL PARQUE LUMINARIO DE ALUMBRADO PUBLICO PERIODO DEL 21 DE MAYO AL 20 DE JUNIO 2022 (MODERNIZACION)",
         "TIPO": "TR",
         "FDO-#OP": 604000082,
         "FECHA": "2022-06-30",
         "IMPORTE": 9000000,
         "SHEET": "GASTOS VARIOS",
         "DIA": 30,
         "MES": 6,
         "ANO": 2022,
         "BENEFICIARIO_SALES": 4,
         "IMPORTE_GASTOS_PROMEDIO": 583159.3705128209,
         "HAS_LINKEDIN_SITE": "{'Rosa Lorena Valdez Miranda': True, 'Roque Yañez Ramos': True, 'Laura Perla Cordova Rodriguez': True, 'Rosa Ofelia Coronado Flores': True, 'Alvaro Flores Palomo': True, 'Liliana Tijerina Cantu': True, 'Ruben Basaldua Moyeda': True, 'Maria Cristina Muñoz Rios': True, 'Gerardo Guerrero Adame': True, 'Mayela Maria De Lourdes Quiroga Tamez': True, 'Humberto Arturo Garza De Hoyos': True, 'Irma Montero Solis': True, 'Jorge Alejandro Alvarado Martinez': True, 'Ana Lilia Coronado Araiza': True, 'Francisco Salazar Guadiana': True, 'Maria Thalina Almaraz Gonzalez': True, 'Diego Armando Arellano Aguilar': True, 'Jorge Adrian Ayala Cantu': True, 'Adriana Paola Coronado Ramirez': True, 'LLANTAS Y SERVICIOS SERNA ANAHUAC,S.A. DE C.V.': True, 'GH MAQUINARIA Y EQUIPO, S.A.DE C.V.': True, 'PLOMIFERRETERA EL TORNILLO, S.A. DE C.V.': False, 'EQUIPOS Y ACCESORIOS CANTU, S.A. DE C.V.': True, 'PRAXAIR MEXICO S. DE R.L. DE C.V.': True, 'COMERCIALIZADORA HNOS.ALVAREZ FLORES,S.A.DE C.V.': False, 'DISTRIBUIDO…",
         "CLUSTER_NAME": 0,
         "PROB_TOTAL": 0.9999974819323427,
         "PROB_SHEET": 0.9995885478702936,
         "_deepnote_index_column": 168
        },
        {
         "CVE BEN": 126224,
         "BENEFICIARIO": "BANCO MULTIVA, SA. G.F.M.",
         "RFC": "BMI061005NY5",
         "FACTURAS": "FS-11-2022-183010-1656",
         "CONTRATO": "NO APLICA",
         "CONCEPTO": "FONDO SAPS QUINCENA 11-2022",
         "TIPO": "TR",
         "FDO-#OP": 1022798,
         "FECHA": "2022-06-14",
         "IMPORTE": 7343658.4,
         "SHEET": "GASTOS VARIOS",
         "DIA": 14,
         "MES": 6,
         "ANO": 2022,
         "BENEFICIARIO_SALES": 2,
         "IMPORTE_GASTOS_PROMEDIO": 583159.3705128209,
         "HAS_LINKEDIN_SITE": "{'Rosa Lorena Valdez Miranda': True, 'Roque Yañez Ramos': True, 'Laura Perla Cordova Rodriguez': True, 'Rosa Ofelia Coronado Flores': True, 'Alvaro Flores Palomo': True, 'Liliana Tijerina Cantu': True, 'Ruben Basaldua Moyeda': True, 'Maria Cristina Muñoz Rios': True, 'Gerardo Guerrero Adame': True, 'Mayela Maria De Lourdes Quiroga Tamez': True, 'Humberto Arturo Garza De Hoyos': True, 'Irma Montero Solis': True, 'Jorge Alejandro Alvarado Martinez': True, 'Ana Lilia Coronado Araiza': True, 'Francisco Salazar Guadiana': True, 'Maria Thalina Almaraz Gonzalez': True, 'Diego Armando Arellano Aguilar': True, 'Jorge Adrian Ayala Cantu': True, 'Adriana Paola Coronado Ramirez': True, 'LLANTAS Y SERVICIOS SERNA ANAHUAC,S.A. DE C.V.': True, 'GH MAQUINARIA Y EQUIPO, S.A.DE C.V.': True, 'PLOMIFERRETERA EL TORNILLO, S.A. DE C.V.': False, 'EQUIPOS Y ACCESORIOS CANTU, S.A. DE C.V.': True, 'PRAXAIR MEXICO S. DE R.L. DE C.V.': True, 'COMERCIALIZADORA HNOS.ALVAREZ FLORES,S.A.DE C.V.': False, 'DISTRIBUIDO…",
         "CLUSTER_NAME": 5,
         "PROB_TOTAL": 0.9998859407961516,
         "PROB_SHEET": 0.9963921244997167,
         "_deepnote_index_column": 180
        },
        {
         "CVE BEN": 126224,
         "BENEFICIARIO": "BANCO MULTIVA, SA. G.F.M.",
         "RFC": "BMI061005NY5",
         "FACTURAS": "FS-12-2022-183010-1814",
         "CONTRATO": "NO APLICA",
         "CONCEPTO": "FONDO SAPS QUINCENA 12-2022",
         "TIPO": "TR",
         "FDO-#OP": 1022928,
         "FECHA": "2022-06-29",
         "IMPORTE": 7312801.19,
         "SHEET": "GASTOS VARIOS",
         "DIA": 29,
         "MES": 6,
         "ANO": 2022,
         "BENEFICIARIO_SALES": 2,
         "IMPORTE_GASTOS_PROMEDIO": 583159.3705128209,
         "HAS_LINKEDIN_SITE": "{'Rosa Lorena Valdez Miranda': True, 'Roque Yañez Ramos': True, 'Laura Perla Cordova Rodriguez': True, 'Rosa Ofelia Coronado Flores': True, 'Alvaro Flores Palomo': True, 'Liliana Tijerina Cantu': True, 'Ruben Basaldua Moyeda': True, 'Maria Cristina Muñoz Rios': True, 'Gerardo Guerrero Adame': True, 'Mayela Maria De Lourdes Quiroga Tamez': True, 'Humberto Arturo Garza De Hoyos': True, 'Irma Montero Solis': True, 'Jorge Alejandro Alvarado Martinez': True, 'Ana Lilia Coronado Araiza': True, 'Francisco Salazar Guadiana': True, 'Maria Thalina Almaraz Gonzalez': True, 'Diego Armando Arellano Aguilar': True, 'Jorge Adrian Ayala Cantu': True, 'Adriana Paola Coronado Ramirez': True, 'LLANTAS Y SERVICIOS SERNA ANAHUAC,S.A. DE C.V.': True, 'GH MAQUINARIA Y EQUIPO, S.A.DE C.V.': True, 'PLOMIFERRETERA EL TORNILLO, S.A. DE C.V.': False, 'EQUIPOS Y ACCESORIOS CANTU, S.A. DE C.V.': True, 'PRAXAIR MEXICO S. DE R.L. DE C.V.': True, 'COMERCIALIZADORA HNOS.ALVAREZ FLORES,S.A.DE C.V.': False, 'DISTRIBUIDO…",
         "CLUSTER_NAME": 5,
         "PROB_TOTAL": 0.9998783929416293,
         "PROB_SHEET": 0.9962574751254344,
         "_deepnote_index_column": 181
        },
        {
         "CVE BEN": 126704,
         "BENEFICIARIO": "SERVICIO DE ADMINISTRACION TRIBUTARIA",
         "RFC": "SAT970701NN4",
         "FACTURAS": "ISRS0522-183006-41",
         "CONTRATO": "NO APLICA",
         "CONCEPTO": "PAGO DE IMPUESTOS POR SALARIOS Y ASIMILADOS DE SALARIOS CORRESPONDIENTE AL MES DE MAYO DEL 2022",
         "TIPO": "TR",
         "FDO-#OP": 1022799,
         "FECHA": "2022-06-15",
         "IMPORTE": 13860525,
         "SHEET": "GASTOS VARIOS",
         "DIA": 15,
         "MES": 6,
         "ANO": 2022,
         "BENEFICIARIO_SALES": 2,
         "IMPORTE_GASTOS_PROMEDIO": 583159.3705128209,
         "HAS_LINKEDIN_SITE": "{'Rosa Lorena Valdez Miranda': True, 'Roque Yañez Ramos': True, 'Laura Perla Cordova Rodriguez': True, 'Rosa Ofelia Coronado Flores': True, 'Alvaro Flores Palomo': True, 'Liliana Tijerina Cantu': True, 'Ruben Basaldua Moyeda': True, 'Maria Cristina Muñoz Rios': True, 'Gerardo Guerrero Adame': True, 'Mayela Maria De Lourdes Quiroga Tamez': True, 'Humberto Arturo Garza De Hoyos': True, 'Irma Montero Solis': True, 'Jorge Alejandro Alvarado Martinez': True, 'Ana Lilia Coronado Araiza': True, 'Francisco Salazar Guadiana': True, 'Maria Thalina Almaraz Gonzalez': True, 'Diego Armando Arellano Aguilar': True, 'Jorge Adrian Ayala Cantu': True, 'Adriana Paola Coronado Ramirez': True, 'LLANTAS Y SERVICIOS SERNA ANAHUAC,S.A. DE C.V.': True, 'GH MAQUINARIA Y EQUIPO, S.A.DE C.V.': True, 'PLOMIFERRETERA EL TORNILLO, S.A. DE C.V.': False, 'EQUIPOS Y ACCESORIOS CANTU, S.A. DE C.V.': True, 'PRAXAIR MEXICO S. DE R.L. DE C.V.': True, 'COMERCIALIZADORA HNOS.ALVAREZ FLORES,S.A.DE C.V.': False, 'DISTRIBUIDO…",
         "CLUSTER_NAME": 0,
         "PROB_TOTAL": 0.9999999999995288,
         "PROB_SHEET": 0.9999999342044092,
         "_deepnote_index_column": 184
        },
        {
         "CVE BEN": 206894,
         "BENEFICIARIO": "MUNICIPIO DE LA CIUDAD DE MONTERREY",
         "RFC": "MCM610101PT2",
         "FACTURAS": "2022-11-A-183010-1672",
         "CONTRATO": "NO APLICA",
         "CONCEPTO": "PAGO DE NÓMINA PERIODO: 11-2022, BANCO: BANCA AFIRME, S.A., TIPO DE PAGO: TRANSFERENCIA",
         "TIPO": "TR",
         "FDO-#OP": 11000252,
         "FECHA": "2022-06-23",
         "IMPORTE": 32447591.98,
         "SHEET": "GASTOS VARIOS",
         "DIA": 23,
         "MES": 6,
         "ANO": 2022,
         "BENEFICIARIO_SALES": 14,
         "IMPORTE_GASTOS_PROMEDIO": 583159.3705128209,
         "HAS_LINKEDIN_SITE": "{'Rosa Lorena Valdez Miranda': True, 'Roque Yañez Ramos': True, 'Laura Perla Cordova Rodriguez': True, 'Rosa Ofelia Coronado Flores': True, 'Alvaro Flores Palomo': True, 'Liliana Tijerina Cantu': True, 'Ruben Basaldua Moyeda': True, 'Maria Cristina Muñoz Rios': True, 'Gerardo Guerrero Adame': True, 'Mayela Maria De Lourdes Quiroga Tamez': True, 'Humberto Arturo Garza De Hoyos': True, 'Irma Montero Solis': True, 'Jorge Alejandro Alvarado Martinez': True, 'Ana Lilia Coronado Araiza': True, 'Francisco Salazar Guadiana': True, 'Maria Thalina Almaraz Gonzalez': True, 'Diego Armando Arellano Aguilar': True, 'Jorge Adrian Ayala Cantu': True, 'Adriana Paola Coronado Ramirez': True, 'LLANTAS Y SERVICIOS SERNA ANAHUAC,S.A. DE C.V.': True, 'GH MAQUINARIA Y EQUIPO, S.A.DE C.V.': True, 'PLOMIFERRETERA EL TORNILLO, S.A. DE C.V.': False, 'EQUIPOS Y ACCESORIOS CANTU, S.A. DE C.V.': True, 'PRAXAIR MEXICO S. DE R.L. DE C.V.': True, 'COMERCIALIZADORA HNOS.ALVAREZ FLORES,S.A.DE C.V.': False, 'DISTRIBUIDO…",
         "CLUSTER_NAME": 5,
         "PROB_TOTAL": 1,
         "PROB_SHEET": 1,
         "_deepnote_index_column": 197
        },
        {
         "CVE BEN": 206894,
         "BENEFICIARIO": "MUNICIPIO DE LA CIUDAD DE MONTERREY",
         "RFC": "MCM610101PT2",
         "FACTURAS": "2022-11-B-183010-1674",
         "CONTRATO": "NO APLICA",
         "CONCEPTO": "PAGO DE NÓMINA PERIODO: 11-2022, BANCO: BANCO MERCANTIL DEL NORTE S.A., TIPO DE PAGO: TRANSFERENCIA",
         "TIPO": "TR",
         "FDO-#OP": 231000159,
         "FECHA": "2022-06-23",
         "IMPORTE": 18267383.32,
         "SHEET": "GASTOS VARIOS",
         "DIA": 23,
         "MES": 6,
         "ANO": 2022,
         "BENEFICIARIO_SALES": 14,
         "IMPORTE_GASTOS_PROMEDIO": 583159.3705128209,
         "HAS_LINKEDIN_SITE": "{'Rosa Lorena Valdez Miranda': True, 'Roque Yañez Ramos': True, 'Laura Perla Cordova Rodriguez': True, 'Rosa Ofelia Coronado Flores': True, 'Alvaro Flores Palomo': True, 'Liliana Tijerina Cantu': True, 'Ruben Basaldua Moyeda': True, 'Maria Cristina Muñoz Rios': True, 'Gerardo Guerrero Adame': True, 'Mayela Maria De Lourdes Quiroga Tamez': True, 'Humberto Arturo Garza De Hoyos': True, 'Irma Montero Solis': True, 'Jorge Alejandro Alvarado Martinez': True, 'Ana Lilia Coronado Araiza': True, 'Francisco Salazar Guadiana': True, 'Maria Thalina Almaraz Gonzalez': True, 'Diego Armando Arellano Aguilar': True, 'Jorge Adrian Ayala Cantu': True, 'Adriana Paola Coronado Ramirez': True, 'LLANTAS Y SERVICIOS SERNA ANAHUAC,S.A. DE C.V.': True, 'GH MAQUINARIA Y EQUIPO, S.A.DE C.V.': True, 'PLOMIFERRETERA EL TORNILLO, S.A. DE C.V.': False, 'EQUIPOS Y ACCESORIOS CANTU, S.A. DE C.V.': True, 'PRAXAIR MEXICO S. DE R.L. DE C.V.': True, 'COMERCIALIZADORA HNOS.ALVAREZ FLORES,S.A.DE C.V.': False, 'DISTRIBUIDO…",
         "CLUSTER_NAME": 5,
         "PROB_TOTAL": 1,
         "PROB_SHEET": 0.9999999999989522,
         "_deepnote_index_column": 199
        },
        {
         "CVE BEN": 206894,
         "BENEFICIARIO": "MUNICIPIO DE LA CIUDAD DE MONTERREY",
         "RFC": "MCM610101PT2",
         "FACTURAS": "2022-11-BBVA-183010-1673",
         "CONTRATO": "NO APLICA",
         "CONCEPTO": "PAGO DE NÓMINA PERIODO: 11-2022, BANCO: BBVA BANCOMER, S.A., TIPO DE PAGO: TRANSFERENCIA",
         "TIPO": "TR",
         "FDO-#OP": 328000022,
         "FECHA": "2022-06-23",
         "IMPORTE": 6155023.82,
         "SHEET": "GASTOS VARIOS",
         "DIA": 23,
         "MES": 6,
         "ANO": 2022,
         "BENEFICIARIO_SALES": 14,
         "IMPORTE_GASTOS_PROMEDIO": 583159.3705128209,
         "HAS_LINKEDIN_SITE": "{'Rosa Lorena Valdez Miranda': True, 'Roque Yañez Ramos': True, 'Laura Perla Cordova Rodriguez': True, 'Rosa Ofelia Coronado Flores': True, 'Alvaro Flores Palomo': True, 'Liliana Tijerina Cantu': True, 'Ruben Basaldua Moyeda': True, 'Maria Cristina Muñoz Rios': True, 'Gerardo Guerrero Adame': True, 'Mayela Maria De Lourdes Quiroga Tamez': True, 'Humberto Arturo Garza De Hoyos': True, 'Irma Montero Solis': True, 'Jorge Alejandro Alvarado Martinez': True, 'Ana Lilia Coronado Araiza': True, 'Francisco Salazar Guadiana': True, 'Maria Thalina Almaraz Gonzalez': True, 'Diego Armando Arellano Aguilar': True, 'Jorge Adrian Ayala Cantu': True, 'Adriana Paola Coronado Ramirez': True, 'LLANTAS Y SERVICIOS SERNA ANAHUAC,S.A. DE C.V.': True, 'GH MAQUINARIA Y EQUIPO, S.A.DE C.V.': True, 'PLOMIFERRETERA EL TORNILLO, S.A. DE C.V.': False, 'EQUIPOS Y ACCESORIOS CANTU, S.A. DE C.V.': True, 'PRAXAIR MEXICO S. DE R.L. DE C.V.': True, 'COMERCIALIZADORA HNOS.ALVAREZ FLORES,S.A.DE C.V.': False, 'DISTRIBUIDO…",
         "CLUSTER_NAME": 5,
         "PROB_TOTAL": 0.9988778608978339,
         "PROB_SHEET": 0.9865972685590472,
         "_deepnote_index_column": 200
        }
       ]
      },
      "text/plain": "      CVE BEN                                       BENEFICIARIO  \\\n14     112290      IMPULSORA DE RENTAS Y SERVICIOS, S.A. DE C.V.   \n131    116381                EPSILON ENTERTAINMENT, S.A. DE C.V.   \n166    116684                INDUSTRIAS SOLA BASIC, S.A. DE C.V.   \n168    116684                INDUSTRIAS SOLA BASIC, S.A. DE C.V.   \n180    126224                          BANCO MULTIVA, SA. G.F.M.   \n181    126224                          BANCO MULTIVA, SA. G.F.M.   \n184    126704              SERVICIO DE ADMINISTRACION TRIBUTARIA   \n197    206894                MUNICIPIO DE LA CIUDAD DE MONTERREY   \n199    206894                MUNICIPIO DE LA CIUDAD DE MONTERREY   \n200    206894                MUNICIPIO DE LA CIUDAD DE MONTERREY   \n202    206894                MUNICIPIO DE LA CIUDAD DE MONTERREY   \n204    206894                MUNICIPIO DE LA CIUDAD DE MONTERREY   \n205    206894                MUNICIPIO DE LA CIUDAD DE MONTERREY   \n246    214872                   INMUEBLES NUEVO LEON, SA. DE CV.   \n346    318568                 SERVICIOS BROXEL, S.A.P.I. DE C.V.   \n386    320014                NEXT ENERGY DE MEXICO, S.A. DE C.V.   \n595    116217                       RED RECOLECTOR, S.A. DE C.V.   \n604    116391                REALIA CONSTRUCCIONES, S.A. DE C.V.   \n698    116699                    RAMIREZ VERASTEGUI ISIDRO RAMON   \n756    123262                  CONSTRUCCIONES DYNAMO, SA. DE CV.   \n757    123318              STRUCTOR CONSTRUCCIONES, S.A. DE C.V.   \n763    123530                SERVICIOS POLISEMICOS, S.A. DE C.V.   \n800    123753                    KAWAC CONSTRUCCIONES SA. DE CV.   \n811    123762        PROYECTOS CONSTRUCTIVOS PEREZ LEAL SA DE CV   \n826    210000             CFE SUMINISTRADOR DE SERVICIOS BASICOS   \n947    318600                   CONSTRUCTORA MYKOS, S.A. DE C.V.   \n950    318662                     INFRAESTRUCTURA MQ, SA. DE CV.   \n1050   320435  TECON TECNOLOGIA AVANZADA PARA CONSTRUCCION, S...   \n1060   320570   CONSTRUCCIONES Y PAVIMENTOS ROCASA, S.A. DE C.V.   \n1143   330700  SYCNOS SERVICIOS Y CONSULTORIA ESTRATEGICA S.A...   \n1153   110820                       EDITORA EL SOL, S.A. DE C.V.   \n1213   116439                          MULTIMEDIOS, S.A. DE C.V.   \n1214   116439                          MULTIMEDIOS, S.A. DE C.V.   \n1215   116439                          MULTIMEDIOS, S.A. DE C.V.   \n1216   116439                          MULTIMEDIOS, S.A. DE C.V.   \n1245   320244                       ELLA MARKETING, S.A. DE C.V.   \n1246   320244                       ELLA MARKETING, S.A. DE C.V.   \n1247   320257     SERVICIOS INTEGRADOS DEL NORESTE, S.A. DE C.V.   \n1260   320576                YAPAU CONSULTING, S DE R.L. DE C.V.   \n1270   203013                      BARAJAS OROZCO MONICA COLUMBA   \n1310   203013                     GUERRERO GUERRERO RUBEN HECTOR   \n1312   203013                HERNANDEZ AREVALO MELISSA KASHANDRA   \n1353   203013                              ROSALES LLANAS FAUSTO   \n1359   203013                            SANCHEZ MARTINEZ GENARO   \n\n                RFC                  FACTURAS      CONTRATO  \\\n14     IRS940928BK7         A5397-183011-2151  SSP-294-2022   \n131    EEN140122A99        EEN239-183011-2152  SSP-298-2022   \n166    ISB840628IB2      GS147003-183011-2244  SSP-189-2017   \n168    ISB840628IB2      GS149020-183011-2763     NO APLICA   \n180    BMI061005NY5    FS-11-2022-183010-1656     NO APLICA   \n181    BMI061005NY5    FS-12-2022-183010-1814     NO APLICA   \n184    SAT970701NN4        ISRS0522-183006-41     NO APLICA   \n197    MCM610101PT2     2022-11-A-183010-1672     NO APLICA   \n199    MCM610101PT2     2022-11-B-183010-1674     NO APLICA   \n200    MCM610101PT2  2022-11-BBVA-183010-1673     NO APLICA   \n202    MCM610101PT2     2022-12-A-183010-1827     NO APLICA   \n204    MCM610101PT2     2022-12-B-183010-1829     NO APLICA   \n205    MCM610101PT2  2022-12-BBVA-183010-1828     NO APLICA   \n246    INL6306062W5       170/2019-183004-103     NO APLICA   \n346    SBR130327HU9       AM20643-183010-1546  SFA-033-2022   \n386    NEM091002T28           342-183011-2235  TES-217-2020   \n595    RRE9712222V9   FVRM0266221-183011-1997    SSP-157-13   \n604    RCO090722Q58        MTY3467-185004-589  SIS-053-2022   \n698   RAVI6505157N0          F2390-185004-608  SIS-052-2022   \n756    CDY980323MA8           1151-185004-655  SIS-072-2022   \n757    SCO010914CD8           A925-185004-627  SIS-054-2022   \n763    SPO011004F27            468-185004-596  SIS-051-2022   \n800    KCO110823CE0          A-131-185004-629  SIS-057-2022   \n811    PCP1012155E6           2142-185004-626  SIS-056-2022   \n826    CSS160330CP7    84DD12A-05-183011-2587     NO APLICA   \n947    CMY131216Q4A           F136-185004-618  SIS-058-2022   \n950    IMQ0603119L0           A940-185004-619  SIS-050-2022   \n1050   TTA200521RQ3           F108-185004-628  SIS-055-2022   \n1060   CPR1307166N5          A2080-185004-630  SIS-059-2022   \n1143   SSY121219LG5          2252-183011-2478  SPP-377-2022   \n1153   ESO851126P67        GM3419-183011-2199  SEP-031-2022   \n1213   MUL0711147NA    MYA 101051-183011-2119  SEP-030-2022   \n1214   MUL0711147NA    MYA 101052-183011-2120  SEP-030-2022   \n1215   MUL0711147NA    MYA 101053-183011-2121  SEP-030-2022   \n1216   MUL0711147NA    MYA 101054-183011-2122  SEP-030-2022   \n1245   EMA1507214N1           569-183011-2091  SEP-003-2022   \n1246   EMA1507214N1           570-183011-2092  SEP-003-2022   \n1247   SIN871229IF6           758-183011-2093  SEP-043-2022   \n1260   YCO150126QU3           239-183011-2096  SEP-032-2022   \n1270  BAOM710115AXA         80394-183010-1700     NO APLICA   \n1310  GUGR800417PS8         73056-183010-1637     NO APLICA   \n1312  HEAM910820AT1        113159-183010-1576     NO APLICA   \n1353  ROLF760818PI9         82523-183010-1668     NO APLICA   \n1359  SAMG920415AP6        112241-183010-1511     NO APLICA   \n\n                                               CONCEPTO TIPO      FDO-#OP  \\\n14    PLANEACION Y COORDINACION DEL EVENTO \"AHORA NO...   TR    1022794.0   \n131   PLANEACION Y COORDINACION DEL EVENTO \"AHORA NO...   TR    1022780.0   \n166   MANTENIMIENTO PREVENTIVO Y CORRECTIVO DE LOS T...   TR  604000081.0   \n168   MANTENIMIENTO PREVENTIVO Y CORRECTIVO DE LOS T...   TR  604000082.0   \n180                         FONDO SAPS QUINCENA 11-2022   TR    1022798.0   \n181                         FONDO SAPS QUINCENA 12-2022   TR    1022928.0   \n184   PAGO DE IMPUESTOS POR SALARIOS Y ASIMILADOS DE...   TR    1022799.0   \n197   PAGO DE NÓMINA PERIODO: 11-2022, BANCO: BANCA ...   TR   11000252.0   \n199   PAGO DE NÓMINA PERIODO: 11-2022, BANCO: BANCO ...   TR  231000159.0   \n200   PAGO DE NÓMINA PERIODO: 11-2022, BANCO: BBVA B...   TR  328000022.0   \n202   PAGO DE NÓMINA PERIODO: 12-2022, BANCO: BANCA ...   TR   11000253.0   \n204   PAGO DE NÓMINA PERIODO: 12-2022, BANCO: BANCO ...   TR  231000160.0   \n205   PAGO DE NÓMINA PERIODO: 12-2022, BANCO: BBVA B...   TR  328000023.0   \n246   JUICIO CONTENCIOSO ADVO. 170/2019 PERMISO DE U...   CH    1108254.0   \n346   BONOS DE DESPENSA PERSONAL SINDICALIZADO - MAY...   TR    1022901.0   \n386   PAGO DE CONTRAPRESTACION MENSUAL DEL MES DE MA...   TR  604000080.0   \n595   SERVICIO DE RECOLECCION DE RESIDUOS NO PELIGRO...   TR  330000237.0   \n604   RP-2020 30% ANT. SIS-RP-28/22-CP CONSTRUCCION ...   TR    1022680.0   \n698   FDOS-DESC DE SEG ISN 2020 30% ANT. SIS-RP-27/2...   TR  300000133.0   \n756   FISM-2022 30% ANT. SIS-FISM-13/22-CP CONSTRUCC...   TR  333000003.0   \n757   RP-2022 EXCEDENTES 30% ANT. SIS-RP-34/22-CP  R...   TR    1022760.0   \n763   RP-2022 30% ANT. SIS-RP-26/22-CP CONSTRUCCIÓN ...   TR    1022677.0   \n800   RP-2022 EXCEDENTES 30% ANT. SIS-RP-30/22-CP  R...   TR    1022757.0   \n811   RP-2022 EXCEDENTES 30% ANT. SIS-RP-29/22-CP  R...   TR    1022754.0   \n826   CONSUMO DE ENERGIA ELECTRICA DE ALUMBRADO PÚBL...   TR  332000061.0   \n947   RP-2022 EXCEDENTES 30% ANT. SIS-RP-31/22-CP  R...   TR    1022756.0   \n950   RP-2022 30% ANT. SIS-RP-25/22-CP CONSTRUCCION ...   TR    1022758.0   \n1050  RP-2022 EXCEDENTES 30% ANT. SIS-RP-33/22-CP  R...   TR    1022761.0   \n1060  EXC-R28-PARTICIPABLE 2022 30% ANT. SIS-RP-32/2...   TR  330000243.0   \n1143  SERVICIOS DE PLATAFORMA ANALITICA DE VIDEO BAS...   TR  334000088.0   \n1153  DESPLEGADO ( PLANA 53CM X 27.5CM) EN EL PERIOD...   TR    1022764.0   \n1213  TRANSMISION DE SPOT DE 30SEG. EN DIFERENTES ES...   TR    1022823.0   \n1214  TRANSMISION DE SPOT DE 20SEG. EN DIFERENTES ES...   TR    1022823.0   \n1215  TRANSMISION DE SPOT DE 30SEG. EN DIFERENTES PR...   TR    1022823.0   \n1216  TRANSMISION DE SPOT DE 20SEG. EN DIFERENTES PR...   TR    1022823.0   \n1245  SERVICIOS DE COMUNICACION CONSISTENTES EN CONT...   TR    1022821.0   \n1246  SERVICIOS DE COMUNICACION CONSISTENTES EN CONT...   TR    1022821.0   \n1247  538 CASOS DE ENCUESTA DE CAMPO, DE LA CAMPAÑA ...   TR    1022920.0   \n1260  SERVICIOS DE COMUNICACION CONSISTENTES EN ESTR...   TR    1022848.0   \n1270                 JUICIO CONTENCIOSO 391/2017  80394   CH    1108283.0   \n1310                            JUICIO AMPARO 1428/2019   CH    1108169.0   \n1312                     JUICIO AMPARO 648/2021  113159   CH    1108110.0   \n1353                 JUICIO CONTENCIOSO 847/2018  82523   CH    1108229.0   \n1359  PAGO JUICIO AMPARO 1085/2020  C. GENARO SANCHE...   CH    1108095.0   \n\n           FECHA      IMPORTE                        SHEET  DIA  MES   ANO  \\\n14    2022-06-10   7308000.00                GASTOS VARIOS   10    6  2022   \n131   2022-06-10   8660281.48                GASTOS VARIOS   10    6  2022   \n166   2022-06-22   9000000.00                GASTOS VARIOS   22    6  2022   \n168   2022-06-30   9000000.00                GASTOS VARIOS   30    6  2022   \n180   2022-06-14   7343658.40                GASTOS VARIOS   14    6  2022   \n181   2022-06-29   7312801.19                GASTOS VARIOS   29    6  2022   \n184   2022-06-15  13860525.00                GASTOS VARIOS   15    6  2022   \n197   2022-06-23  32447591.98                GASTOS VARIOS   23    6  2022   \n199   2022-06-23  18267383.32                GASTOS VARIOS   23    6  2022   \n200   2022-06-23   6155023.82                GASTOS VARIOS   23    6  2022   \n202   2022-06-30  26291231.21                GASTOS VARIOS   30    6  2022   \n204   2022-06-30  14808118.15                GASTOS VARIOS   30    6  2022   \n205   2022-06-30   5853328.72                GASTOS VARIOS   30    6  2022   \n246   2022-06-23   4844183.55                GASTOS VARIOS   23    6  2022   \n346   2022-06-24   5563588.28                GASTOS VARIOS   24    6  2022   \n386   2022-06-14  11233750.00                GASTOS VARIOS   14    6  2022   \n595   2022-06-03  22318285.73  OBRA PUBLICA Y GV FDOS. ESP    3    6  2022   \n604   2022-06-03  18598772.13  OBRA PUBLICA Y GV FDOS. ESP    3    6  2022   \n698   2022-06-03   4114370.64  OBRA PUBLICA Y GV FDOS. ESP    3    6  2022   \n756   2022-06-10   4289578.99  OBRA PUBLICA Y GV FDOS. ESP   10    6  2022   \n757   2022-06-10  13784986.59  OBRA PUBLICA Y GV FDOS. ESP   10    6  2022   \n763   2022-06-03   5372030.66  OBRA PUBLICA Y GV FDOS. ESP    3    6  2022   \n800   2022-06-10  12929981.41  OBRA PUBLICA Y GV FDOS. ESP   10    6  2022   \n811   2022-06-10   8159910.00  OBRA PUBLICA Y GV FDOS. ESP   10    6  2022   \n826   2022-06-23   4812056.00  OBRA PUBLICA Y GV FDOS. ESP   23    6  2022   \n947   2022-06-10  19739711.53  OBRA PUBLICA Y GV FDOS. ESP   10    6  2022   \n950   2022-06-10   5744883.14  OBRA PUBLICA Y GV FDOS. ESP   10    6  2022   \n1050  2022-06-10  11759412.05  OBRA PUBLICA Y GV FDOS. ESP   10    6  2022   \n1060  2022-06-10  15328929.19  OBRA PUBLICA Y GV FDOS. ESP   10    6  2022   \n1143  2022-06-16   5803016.00                    SERV PROV   16    6  2022   \n1153  2022-06-10    284914.56                      COMUNIC   10    6  2022   \n1213  2022-06-17    599488.00                      COMUNIC   17    6  2022   \n1214  2022-06-17    353568.00                      COMUNIC   17    6  2022   \n1215  2022-06-17    438804.80                      COMUNIC   17    6  2022   \n1216  2022-06-17    438828.00                      COMUNIC   17    6  2022   \n1245  2022-06-17    343333.33                      COMUNIC   17    6  2022   \n1246  2022-06-17    343333.33                      COMUNIC   17    6  2022   \n1247  2022-06-24    249632.00                      COMUNIC   24    6  2022   \n1260  2022-06-17    500000.00                      COMUNIC   17    6  2022   \n1270  2022-06-27    854979.07                    SERV PERS   27    6  2022   \n1310  2022-06-15   1007150.53                    SERV PERS   15    6  2022   \n1312  2022-06-08    285870.27                    SERV PERS    8    6  2022   \n1353  2022-06-20    756988.64                    SERV PERS   20    6  2022   \n1359  2022-06-03    236456.20                    SERV PERS    3    6  2022   \n\n      BENEFICIARIO_SALES  IMPORTE_GASTOS_PROMEDIO  \\\n14                     1            583159.370513   \n131                    1            583159.370513   \n166                    4            583159.370513   \n168                    4            583159.370513   \n180                    2            583159.370513   \n181                    2            583159.370513   \n184                    2            583159.370513   \n197                   14            583159.370513   \n199                   14            583159.370513   \n200                   14            583159.370513   \n202                   14            583159.370513   \n204                   14            583159.370513   \n205                   14            583159.370513   \n246                    1            583159.370513   \n346                    4            583159.370513   \n386                    1            583159.370513   \n595                    1            484493.743558   \n604                    3            484493.743558   \n698                    1            484493.743558   \n756                    1            484493.743558   \n757                    3            484493.743558   \n763                    6            484493.743558   \n800                    2            484493.743558   \n811                    1            484493.743558   \n826                   24            484493.743558   \n947                    1            484493.743558   \n950                    5            484493.743558   \n1050                   1            484493.743558   \n1060                   2            484493.743558   \n1143                   1            210406.068793   \n1153                  36             67248.102051   \n1213                   8             67248.102051   \n1214                   8             67248.102051   \n1215                   8             67248.102051   \n1216                   8             67248.102051   \n1245                   2             67248.102051   \n1246                   2             67248.102051   \n1247                   1             67248.102051   \n1260                   1             67248.102051   \n1270                   1             33521.136634   \n1310                   1             33521.136634   \n1312                   1             33521.136634   \n1353                   1             33521.136634   \n1359                   1             33521.136634   \n\n                                      HAS_LINKEDIN_SITE  CLUSTER_NAME  \\\n14    {'Rosa Lorena Valdez Miranda': True, 'Roque Ya...             5   \n131   {'Rosa Lorena Valdez Miranda': True, 'Roque Ya...             5   \n166   {'Rosa Lorena Valdez Miranda': True, 'Roque Ya...             0   \n168   {'Rosa Lorena Valdez Miranda': True, 'Roque Ya...             0   \n180   {'Rosa Lorena Valdez Miranda': True, 'Roque Ya...             5   \n181   {'Rosa Lorena Valdez Miranda': True, 'Roque Ya...             5   \n184   {'Rosa Lorena Valdez Miranda': True, 'Roque Ya...             0   \n197   {'Rosa Lorena Valdez Miranda': True, 'Roque Ya...             5   \n199   {'Rosa Lorena Valdez Miranda': True, 'Roque Ya...             5   \n200   {'Rosa Lorena Valdez Miranda': True, 'Roque Ya...             5   \n202   {'Rosa Lorena Valdez Miranda': True, 'Roque Ya...             5   \n204   {'Rosa Lorena Valdez Miranda': True, 'Roque Ya...             5   \n205   {'Rosa Lorena Valdez Miranda': True, 'Roque Ya...             5   \n246   {'Rosa Lorena Valdez Miranda': True, 'Roque Ya...             5   \n346   {'Rosa Lorena Valdez Miranda': True, 'Roque Ya...             5   \n386   {'Rosa Lorena Valdez Miranda': True, 'Roque Ya...             5   \n595   {'Rosa Lorena Valdez Miranda': True, 'Roque Ya...             3   \n604   {'Rosa Lorena Valdez Miranda': True, 'Roque Ya...             0   \n698   {'Rosa Lorena Valdez Miranda': True, 'Roque Ya...             0   \n756   {'Rosa Lorena Valdez Miranda': True, 'Roque Ya...             5   \n757   {'Rosa Lorena Valdez Miranda': True, 'Roque Ya...             0   \n763   {'Rosa Lorena Valdez Miranda': True, 'Roque Ya...             5   \n800   {'Rosa Lorena Valdez Miranda': True, 'Roque Ya...             5   \n811   {'Rosa Lorena Valdez Miranda': True, 'Roque Ya...             5   \n826   {'Rosa Lorena Valdez Miranda': True, 'Roque Ya...             5   \n947   {'Rosa Lorena Valdez Miranda': True, 'Roque Ya...             0   \n950   {'Rosa Lorena Valdez Miranda': True, 'Roque Ya...             5   \n1050  {'Rosa Lorena Valdez Miranda': True, 'Roque Ya...             0   \n1060  {'Rosa Lorena Valdez Miranda': True, 'Roque Ya...             3   \n1143  {'Rosa Lorena Valdez Miranda': True, 'Roque Ya...             5   \n1153  {'Rosa Lorena Valdez Miranda': True, 'Roque Ya...             5   \n1213  {'Rosa Lorena Valdez Miranda': True, 'Roque Ya...             5   \n1214  {'Rosa Lorena Valdez Miranda': True, 'Roque Ya...             5   \n1215  {'Rosa Lorena Valdez Miranda': True, 'Roque Ya...             5   \n1216  {'Rosa Lorena Valdez Miranda': True, 'Roque Ya...             5   \n1245  {'Rosa Lorena Valdez Miranda': True, 'Roque Ya...             5   \n1246  {'Rosa Lorena Valdez Miranda': True, 'Roque Ya...             5   \n1247  {'Rosa Lorena Valdez Miranda': True, 'Roque Ya...             3   \n1260  {'Rosa Lorena Valdez Miranda': True, 'Roque Ya...             5   \n1270  {'Rosa Lorena Valdez Miranda': True, 'Roque Ya...             0   \n1310  {'Rosa Lorena Valdez Miranda': True, 'Roque Ya...             5   \n1312  {'Rosa Lorena Valdez Miranda': True, 'Roque Ya...             0   \n1353  {'Rosa Lorena Valdez Miranda': True, 'Roque Ya...             3   \n1359  {'Rosa Lorena Valdez Miranda': True, 'Roque Ya...             5   \n\n      PROB_TOTAL  PROB_SHEET  \n14      0.999877    0.996236  \n131     0.999994    0.999336  \n166     0.999997    0.999589  \n168     0.999997    0.999589  \n180     0.999886    0.996392  \n181     0.999878    0.996257  \n184     1.000000    1.000000  \n197     1.000000    1.000000  \n199     1.000000    1.000000  \n200     0.998878    0.986597  \n202     1.000000    1.000000  \n204     1.000000    1.000000  \n205     0.998110    0.981890  \n246     0.990894    0.954810  \n346     0.996951    0.976109  \n386     1.000000    0.999988  \n595     1.000000    1.000000  \n604     1.000000    1.000000  \n698     0.975843    0.967327  \n756     0.980653    0.973311  \n757     1.000000    1.000000  \n763     0.995867    0.993457  \n800     1.000000    1.000000  \n811     0.999981    0.999951  \n826     0.990468    0.985994  \n947     1.000000    1.000000  \n950     0.997734    0.996215  \n1050    1.000000    1.000000  \n1060    1.000000    1.000000  \n1143    0.997943    1.000000  \n1153    0.478277    0.977728  \n1213    0.544668    1.000000  \n1214    0.492779    0.995886  \n1215    0.510795    0.999697  \n1216    0.510800    0.999698  \n1245    0.490616    0.994584  \n1246    0.490616    0.994584  \n1247    0.470834    0.953841  \n1260    0.523718    0.999968  \n1270    0.597768    1.000000  \n1310    0.628621    1.000000  \n1312    0.478479    0.996797  \n1353    0.577559    1.000000  \n1359    0.468057    0.985826  ",
      "text/html": "<div>\n<style scoped>\n    .dataframe tbody tr th:only-of-type {\n        vertical-align: middle;\n    }\n\n    .dataframe tbody tr th {\n        vertical-align: top;\n    }\n\n    .dataframe thead th {\n        text-align: right;\n    }\n</style>\n<table border=\"1\" class=\"dataframe\">\n  <thead>\n    <tr style=\"text-align: right;\">\n      <th></th>\n      <th>CVE BEN</th>\n      <th>BENEFICIARIO</th>\n      <th>RFC</th>\n      <th>FACTURAS</th>\n      <th>CONTRATO</th>\n      <th>CONCEPTO</th>\n      <th>TIPO</th>\n      <th>FDO-#OP</th>\n      <th>FECHA</th>\n      <th>IMPORTE</th>\n      <th>SHEET</th>\n      <th>DIA</th>\n      <th>MES</th>\n      <th>ANO</th>\n      <th>BENEFICIARIO_SALES</th>\n      <th>IMPORTE_GASTOS_PROMEDIO</th>\n      <th>HAS_LINKEDIN_SITE</th>\n      <th>CLUSTER_NAME</th>\n      <th>PROB_TOTAL</th>\n      <th>PROB_SHEET</th>\n    </tr>\n  </thead>\n  <tbody>\n    <tr>\n      <th>14</th>\n      <td>112290</td>\n      <td>IMPULSORA DE RENTAS Y SERVICIOS, S.A. DE C.V.</td>\n      <td>IRS940928BK7</td>\n      <td>A5397-183011-2151</td>\n      <td>SSP-294-2022</td>\n      <td>PLANEACION Y COORDINACION DEL EVENTO \"AHORA NO...</td>\n      <td>TR</td>\n      <td>1022794.0</td>\n      <td>2022-06-10</td>\n      <td>7308000.00</td>\n      <td>GASTOS VARIOS</td>\n      <td>10</td>\n      <td>6</td>\n      <td>2022</td>\n      <td>1</td>\n      <td>583159.370513</td>\n      <td>{'Rosa Lorena Valdez Miranda': True, 'Roque Ya...</td>\n      <td>5</td>\n      <td>0.999877</td>\n      <td>0.996236</td>\n    </tr>\n    <tr>\n      <th>131</th>\n      <td>116381</td>\n      <td>EPSILON ENTERTAINMENT, S.A. DE C.V.</td>\n      <td>EEN140122A99</td>\n      <td>EEN239-183011-2152</td>\n      <td>SSP-298-2022</td>\n      <td>PLANEACION Y COORDINACION DEL EVENTO \"AHORA NO...</td>\n      <td>TR</td>\n      <td>1022780.0</td>\n      <td>2022-06-10</td>\n      <td>8660281.48</td>\n      <td>GASTOS VARIOS</td>\n      <td>10</td>\n      <td>6</td>\n      <td>2022</td>\n      <td>1</td>\n      <td>583159.370513</td>\n      <td>{'Rosa Lorena Valdez Miranda': True, 'Roque Ya...</td>\n      <td>5</td>\n      <td>0.999994</td>\n      <td>0.999336</td>\n    </tr>\n    <tr>\n      <th>166</th>\n      <td>116684</td>\n      <td>INDUSTRIAS SOLA BASIC, S.A. DE C.V.</td>\n      <td>ISB840628IB2</td>\n      <td>GS147003-183011-2244</td>\n      <td>SSP-189-2017</td>\n      <td>MANTENIMIENTO PREVENTIVO Y CORRECTIVO DE LOS T...</td>\n      <td>TR</td>\n      <td>604000081.0</td>\n      <td>2022-06-22</td>\n      <td>9000000.00</td>\n      <td>GASTOS VARIOS</td>\n      <td>22</td>\n      <td>6</td>\n      <td>2022</td>\n      <td>4</td>\n      <td>583159.370513</td>\n      <td>{'Rosa Lorena Valdez Miranda': True, 'Roque Ya...</td>\n      <td>0</td>\n      <td>0.999997</td>\n      <td>0.999589</td>\n    </tr>\n    <tr>\n      <th>168</th>\n      <td>116684</td>\n      <td>INDUSTRIAS SOLA BASIC, S.A. DE C.V.</td>\n      <td>ISB840628IB2</td>\n      <td>GS149020-183011-2763</td>\n      <td>NO APLICA</td>\n      <td>MANTENIMIENTO PREVENTIVO Y CORRECTIVO DE LOS T...</td>\n      <td>TR</td>\n      <td>604000082.0</td>\n      <td>2022-06-30</td>\n      <td>9000000.00</td>\n      <td>GASTOS VARIOS</td>\n      <td>30</td>\n      <td>6</td>\n      <td>2022</td>\n      <td>4</td>\n      <td>583159.370513</td>\n      <td>{'Rosa Lorena Valdez Miranda': True, 'Roque Ya...</td>\n      <td>0</td>\n      <td>0.999997</td>\n      <td>0.999589</td>\n    </tr>\n    <tr>\n      <th>180</th>\n      <td>126224</td>\n      <td>BANCO MULTIVA, SA. G.F.M.</td>\n      <td>BMI061005NY5</td>\n      <td>FS-11-2022-183010-1656</td>\n      <td>NO APLICA</td>\n      <td>FONDO SAPS QUINCENA 11-2022</td>\n      <td>TR</td>\n      <td>1022798.0</td>\n      <td>2022-06-14</td>\n      <td>7343658.40</td>\n      <td>GASTOS VARIOS</td>\n      <td>14</td>\n      <td>6</td>\n      <td>2022</td>\n      <td>2</td>\n      <td>583159.370513</td>\n      <td>{'Rosa Lorena Valdez Miranda': True, 'Roque Ya...</td>\n      <td>5</td>\n      <td>0.999886</td>\n      <td>0.996392</td>\n    </tr>\n    <tr>\n      <th>181</th>\n      <td>126224</td>\n      <td>BANCO MULTIVA, SA. G.F.M.</td>\n      <td>BMI061005NY5</td>\n      <td>FS-12-2022-183010-1814</td>\n      <td>NO APLICA</td>\n      <td>FONDO SAPS QUINCENA 12-2022</td>\n      <td>TR</td>\n      <td>1022928.0</td>\n      <td>2022-06-29</td>\n      <td>7312801.19</td>\n      <td>GASTOS VARIOS</td>\n      <td>29</td>\n      <td>6</td>\n      <td>2022</td>\n      <td>2</td>\n      <td>583159.370513</td>\n      <td>{'Rosa Lorena Valdez Miranda': True, 'Roque Ya...</td>\n      <td>5</td>\n      <td>0.999878</td>\n      <td>0.996257</td>\n    </tr>\n    <tr>\n      <th>184</th>\n      <td>126704</td>\n      <td>SERVICIO DE ADMINISTRACION TRIBUTARIA</td>\n      <td>SAT970701NN4</td>\n      <td>ISRS0522-183006-41</td>\n      <td>NO APLICA</td>\n      <td>PAGO DE IMPUESTOS POR SALARIOS Y ASIMILADOS DE...</td>\n      <td>TR</td>\n      <td>1022799.0</td>\n      <td>2022-06-15</td>\n      <td>13860525.00</td>\n      <td>GASTOS VARIOS</td>\n      <td>15</td>\n      <td>6</td>\n      <td>2022</td>\n      <td>2</td>\n      <td>583159.370513</td>\n      <td>{'Rosa Lorena Valdez Miranda': True, 'Roque Ya...</td>\n      <td>0</td>\n      <td>1.000000</td>\n      <td>1.000000</td>\n    </tr>\n    <tr>\n      <th>197</th>\n      <td>206894</td>\n      <td>MUNICIPIO DE LA CIUDAD DE MONTERREY</td>\n      <td>MCM610101PT2</td>\n      <td>2022-11-A-183010-1672</td>\n      <td>NO APLICA</td>\n      <td>PAGO DE NÓMINA PERIODO: 11-2022, BANCO: BANCA ...</td>\n      <td>TR</td>\n      <td>11000252.0</td>\n      <td>2022-06-23</td>\n      <td>32447591.98</td>\n      <td>GASTOS VARIOS</td>\n      <td>23</td>\n      <td>6</td>\n      <td>2022</td>\n      <td>14</td>\n      <td>583159.370513</td>\n      <td>{'Rosa Lorena Valdez Miranda': True, 'Roque Ya...</td>\n      <td>5</td>\n      <td>1.000000</td>\n      <td>1.000000</td>\n    </tr>\n    <tr>\n      <th>199</th>\n      <td>206894</td>\n      <td>MUNICIPIO DE LA CIUDAD DE MONTERREY</td>\n      <td>MCM610101PT2</td>\n      <td>2022-11-B-183010-1674</td>\n      <td>NO APLICA</td>\n      <td>PAGO DE NÓMINA PERIODO: 11-2022, BANCO: BANCO ...</td>\n      <td>TR</td>\n      <td>231000159.0</td>\n      <td>2022-06-23</td>\n      <td>18267383.32</td>\n      <td>GASTOS VARIOS</td>\n      <td>23</td>\n      <td>6</td>\n      <td>2022</td>\n      <td>14</td>\n      <td>583159.370513</td>\n      <td>{'Rosa Lorena Valdez Miranda': True, 'Roque Ya...</td>\n      <td>5</td>\n      <td>1.000000</td>\n      <td>1.000000</td>\n    </tr>\n    <tr>\n      <th>200</th>\n      <td>206894</td>\n      <td>MUNICIPIO DE LA CIUDAD DE MONTERREY</td>\n      <td>MCM610101PT2</td>\n      <td>2022-11-BBVA-183010-1673</td>\n      <td>NO APLICA</td>\n      <td>PAGO DE NÓMINA PERIODO: 11-2022, BANCO: BBVA B...</td>\n      <td>TR</td>\n      <td>328000022.0</td>\n      <td>2022-06-23</td>\n      <td>6155023.82</td>\n      <td>GASTOS VARIOS</td>\n      <td>23</td>\n      <td>6</td>\n      <td>2022</td>\n      <td>14</td>\n      <td>583159.370513</td>\n      <td>{'Rosa Lorena Valdez Miranda': True, 'Roque Ya...</td>\n      <td>5</td>\n      <td>0.998878</td>\n      <td>0.986597</td>\n    </tr>\n    <tr>\n      <th>202</th>\n      <td>206894</td>\n      <td>MUNICIPIO DE LA CIUDAD DE MONTERREY</td>\n      <td>MCM610101PT2</td>\n      <td>2022-12-A-183010-1827</td>\n      <td>NO APLICA</td>\n      <td>PAGO DE NÓMINA PERIODO: 12-2022, BANCO: BANCA ...</td>\n      <td>TR</td>\n      <td>11000253.0</td>\n      <td>2022-06-30</td>\n      <td>26291231.21</td>\n      <td>GASTOS VARIOS</td>\n      <td>30</td>\n      <td>6</td>\n      <td>2022</td>\n      <td>14</td>\n      <td>583159.370513</td>\n      <td>{'Rosa Lorena Valdez Miranda': True, 'Roque Ya...</td>\n      <td>5</td>\n      <td>1.000000</td>\n      <td>1.000000</td>\n    </tr>\n    <tr>\n      <th>204</th>\n      <td>206894</td>\n      <td>MUNICIPIO DE LA CIUDAD DE MONTERREY</td>\n      <td>MCM610101PT2</td>\n      <td>2022-12-B-183010-1829</td>\n      <td>NO APLICA</td>\n      <td>PAGO DE NÓMINA PERIODO: 12-2022, BANCO: BANCO ...</td>\n      <td>TR</td>\n      <td>231000160.0</td>\n      <td>2022-06-30</td>\n      <td>14808118.15</td>\n      <td>GASTOS VARIOS</td>\n      <td>30</td>\n      <td>6</td>\n      <td>2022</td>\n      <td>14</td>\n      <td>583159.370513</td>\n      <td>{'Rosa Lorena Valdez Miranda': True, 'Roque Ya...</td>\n      <td>5</td>\n      <td>1.000000</td>\n      <td>1.000000</td>\n    </tr>\n    <tr>\n      <th>205</th>\n      <td>206894</td>\n      <td>MUNICIPIO DE LA CIUDAD DE MONTERREY</td>\n      <td>MCM610101PT2</td>\n      <td>2022-12-BBVA-183010-1828</td>\n      <td>NO APLICA</td>\n      <td>PAGO DE NÓMINA PERIODO: 12-2022, BANCO: BBVA B...</td>\n      <td>TR</td>\n      <td>328000023.0</td>\n      <td>2022-06-30</td>\n      <td>5853328.72</td>\n      <td>GASTOS VARIOS</td>\n      <td>30</td>\n      <td>6</td>\n      <td>2022</td>\n      <td>14</td>\n      <td>583159.370513</td>\n      <td>{'Rosa Lorena Valdez Miranda': True, 'Roque Ya...</td>\n      <td>5</td>\n      <td>0.998110</td>\n      <td>0.981890</td>\n    </tr>\n    <tr>\n      <th>246</th>\n      <td>214872</td>\n      <td>INMUEBLES NUEVO LEON, SA. DE CV.</td>\n      <td>INL6306062W5</td>\n      <td>170/2019-183004-103</td>\n      <td>NO APLICA</td>\n      <td>JUICIO CONTENCIOSO ADVO. 170/2019 PERMISO DE U...</td>\n      <td>CH</td>\n      <td>1108254.0</td>\n      <td>2022-06-23</td>\n      <td>4844183.55</td>\n      <td>GASTOS VARIOS</td>\n      <td>23</td>\n      <td>6</td>\n      <td>2022</td>\n      <td>1</td>\n      <td>583159.370513</td>\n      <td>{'Rosa Lorena Valdez Miranda': True, 'Roque Ya...</td>\n      <td>5</td>\n      <td>0.990894</td>\n      <td>0.954810</td>\n    </tr>\n    <tr>\n      <th>346</th>\n      <td>318568</td>\n      <td>SERVICIOS BROXEL, S.A.P.I. DE C.V.</td>\n      <td>SBR130327HU9</td>\n      <td>AM20643-183010-1546</td>\n      <td>SFA-033-2022</td>\n      <td>BONOS DE DESPENSA PERSONAL SINDICALIZADO - MAY...</td>\n      <td>TR</td>\n      <td>1022901.0</td>\n      <td>2022-06-24</td>\n      <td>5563588.28</td>\n      <td>GASTOS VARIOS</td>\n      <td>24</td>\n      <td>6</td>\n      <td>2022</td>\n      <td>4</td>\n      <td>583159.370513</td>\n      <td>{'Rosa Lorena Valdez Miranda': True, 'Roque Ya...</td>\n      <td>5</td>\n      <td>0.996951</td>\n      <td>0.976109</td>\n    </tr>\n    <tr>\n      <th>386</th>\n      <td>320014</td>\n      <td>NEXT ENERGY DE MEXICO, S.A. DE C.V.</td>\n      <td>NEM091002T28</td>\n      <td>342-183011-2235</td>\n      <td>TES-217-2020</td>\n      <td>PAGO DE CONTRAPRESTACION MENSUAL DEL MES DE MA...</td>\n      <td>TR</td>\n      <td>604000080.0</td>\n      <td>2022-06-14</td>\n      <td>11233750.00</td>\n      <td>GASTOS VARIOS</td>\n      <td>14</td>\n      <td>6</td>\n      <td>2022</td>\n      <td>1</td>\n      <td>583159.370513</td>\n      <td>{'Rosa Lorena Valdez Miranda': True, 'Roque Ya...</td>\n      <td>5</td>\n      <td>1.000000</td>\n      <td>0.999988</td>\n    </tr>\n    <tr>\n      <th>595</th>\n      <td>116217</td>\n      <td>RED RECOLECTOR, S.A. DE C.V.</td>\n      <td>RRE9712222V9</td>\n      <td>FVRM0266221-183011-1997</td>\n      <td>SSP-157-13</td>\n      <td>SERVICIO DE RECOLECCION DE RESIDUOS NO PELIGRO...</td>\n      <td>TR</td>\n      <td>330000237.0</td>\n      <td>2022-06-03</td>\n      <td>22318285.73</td>\n      <td>OBRA PUBLICA Y GV FDOS. ESP</td>\n      <td>3</td>\n      <td>6</td>\n      <td>2022</td>\n      <td>1</td>\n      <td>484493.743558</td>\n      <td>{'Rosa Lorena Valdez Miranda': True, 'Roque Ya...</td>\n      <td>3</td>\n      <td>1.000000</td>\n      <td>1.000000</td>\n    </tr>\n    <tr>\n      <th>604</th>\n      <td>116391</td>\n      <td>REALIA CONSTRUCCIONES, S.A. DE C.V.</td>\n      <td>RCO090722Q58</td>\n      <td>MTY3467-185004-589</td>\n      <td>SIS-053-2022</td>\n      <td>RP-2020 30% ANT. SIS-RP-28/22-CP CONSTRUCCION ...</td>\n      <td>TR</td>\n      <td>1022680.0</td>\n      <td>2022-06-03</td>\n      <td>18598772.13</td>\n      <td>OBRA PUBLICA Y GV FDOS. ESP</td>\n      <td>3</td>\n      <td>6</td>\n      <td>2022</td>\n      <td>3</td>\n      <td>484493.743558</td>\n      <td>{'Rosa Lorena Valdez Miranda': True, 'Roque Ya...</td>\n      <td>0</td>\n      <td>1.000000</td>\n      <td>1.000000</td>\n    </tr>\n    <tr>\n      <th>698</th>\n      <td>116699</td>\n      <td>RAMIREZ VERASTEGUI ISIDRO RAMON</td>\n      <td>RAVI6505157N0</td>\n      <td>F2390-185004-608</td>\n      <td>SIS-052-2022</td>\n      <td>FDOS-DESC DE SEG ISN 2020 30% ANT. SIS-RP-27/2...</td>\n      <td>TR</td>\n      <td>300000133.0</td>\n      <td>2022-06-03</td>\n      <td>4114370.64</td>\n      <td>OBRA PUBLICA Y GV FDOS. ESP</td>\n      <td>3</td>\n      <td>6</td>\n      <td>2022</td>\n      <td>1</td>\n      <td>484493.743558</td>\n      <td>{'Rosa Lorena Valdez Miranda': True, 'Roque Ya...</td>\n      <td>0</td>\n      <td>0.975843</td>\n      <td>0.967327</td>\n    </tr>\n    <tr>\n      <th>756</th>\n      <td>123262</td>\n      <td>CONSTRUCCIONES DYNAMO, SA. DE CV.</td>\n      <td>CDY980323MA8</td>\n      <td>1151-185004-655</td>\n      <td>SIS-072-2022</td>\n      <td>FISM-2022 30% ANT. SIS-FISM-13/22-CP CONSTRUCC...</td>\n      <td>TR</td>\n      <td>333000003.0</td>\n      <td>2022-06-10</td>\n      <td>4289578.99</td>\n      <td>OBRA PUBLICA Y GV FDOS. ESP</td>\n      <td>10</td>\n      <td>6</td>\n      <td>2022</td>\n      <td>1</td>\n      <td>484493.743558</td>\n      <td>{'Rosa Lorena Valdez Miranda': True, 'Roque Ya...</td>\n      <td>5</td>\n      <td>0.980653</td>\n      <td>0.973311</td>\n    </tr>\n    <tr>\n      <th>757</th>\n      <td>123318</td>\n      <td>STRUCTOR CONSTRUCCIONES, S.A. DE C.V.</td>\n      <td>SCO010914CD8</td>\n      <td>A925-185004-627</td>\n      <td>SIS-054-2022</td>\n      <td>RP-2022 EXCEDENTES 30% ANT. SIS-RP-34/22-CP  R...</td>\n      <td>TR</td>\n      <td>1022760.0</td>\n      <td>2022-06-10</td>\n      <td>13784986.59</td>\n      <td>OBRA PUBLICA Y GV FDOS. ESP</td>\n      <td>10</td>\n      <td>6</td>\n      <td>2022</td>\n      <td>3</td>\n      <td>484493.743558</td>\n      <td>{'Rosa Lorena Valdez Miranda': True, 'Roque Ya...</td>\n      <td>0</td>\n      <td>1.000000</td>\n      <td>1.000000</td>\n    </tr>\n    <tr>\n      <th>763</th>\n      <td>123530</td>\n      <td>SERVICIOS POLISEMICOS, S.A. DE C.V.</td>\n      <td>SPO011004F27</td>\n      <td>468-185004-596</td>\n      <td>SIS-051-2022</td>\n      <td>RP-2022 30% ANT. SIS-RP-26/22-CP CONSTRUCCIÓN ...</td>\n      <td>TR</td>\n      <td>1022677.0</td>\n      <td>2022-06-03</td>\n      <td>5372030.66</td>\n      <td>OBRA PUBLICA Y GV FDOS. ESP</td>\n      <td>3</td>\n      <td>6</td>\n      <td>2022</td>\n      <td>6</td>\n      <td>484493.743558</td>\n      <td>{'Rosa Lorena Valdez Miranda': True, 'Roque Ya...</td>\n      <td>5</td>\n      <td>0.995867</td>\n      <td>0.993457</td>\n    </tr>\n    <tr>\n      <th>800</th>\n      <td>123753</td>\n      <td>KAWAC CONSTRUCCIONES SA. DE CV.</td>\n      <td>KCO110823CE0</td>\n      <td>A-131-185004-629</td>\n      <td>SIS-057-2022</td>\n      <td>RP-2022 EXCEDENTES 30% ANT. SIS-RP-30/22-CP  R...</td>\n      <td>TR</td>\n      <td>1022757.0</td>\n      <td>2022-06-10</td>\n      <td>12929981.41</td>\n      <td>OBRA PUBLICA Y GV FDOS. ESP</td>\n      <td>10</td>\n      <td>6</td>\n      <td>2022</td>\n      <td>2</td>\n      <td>484493.743558</td>\n      <td>{'Rosa Lorena Valdez Miranda': True, 'Roque Ya...</td>\n      <td>5</td>\n      <td>1.000000</td>\n      <td>1.000000</td>\n    </tr>\n    <tr>\n      <th>811</th>\n      <td>123762</td>\n      <td>PROYECTOS CONSTRUCTIVOS PEREZ LEAL SA DE CV</td>\n      <td>PCP1012155E6</td>\n      <td>2142-185004-626</td>\n      <td>SIS-056-2022</td>\n      <td>RP-2022 EXCEDENTES 30% ANT. SIS-RP-29/22-CP  R...</td>\n      <td>TR</td>\n      <td>1022754.0</td>\n      <td>2022-06-10</td>\n      <td>8159910.00</td>\n      <td>OBRA PUBLICA Y GV FDOS. ESP</td>\n      <td>10</td>\n      <td>6</td>\n      <td>2022</td>\n      <td>1</td>\n      <td>484493.743558</td>\n      <td>{'Rosa Lorena Valdez Miranda': True, 'Roque Ya...</td>\n      <td>5</td>\n      <td>0.999981</td>\n      <td>0.999951</td>\n    </tr>\n    <tr>\n      <th>826</th>\n      <td>210000</td>\n      <td>CFE SUMINISTRADOR DE SERVICIOS BASICOS</td>\n      <td>CSS160330CP7</td>\n      <td>84DD12A-05-183011-2587</td>\n      <td>NO APLICA</td>\n      <td>CONSUMO DE ENERGIA ELECTRICA DE ALUMBRADO PÚBL...</td>\n      <td>TR</td>\n      <td>332000061.0</td>\n      <td>2022-06-23</td>\n      <td>4812056.00</td>\n      <td>OBRA PUBLICA Y GV FDOS. ESP</td>\n      <td>23</td>\n      <td>6</td>\n      <td>2022</td>\n      <td>24</td>\n      <td>484493.743558</td>\n      <td>{'Rosa Lorena Valdez Miranda': True, 'Roque Ya...</td>\n      <td>5</td>\n      <td>0.990468</td>\n      <td>0.985994</td>\n    </tr>\n    <tr>\n      <th>947</th>\n      <td>318600</td>\n      <td>CONSTRUCTORA MYKOS, S.A. DE C.V.</td>\n      <td>CMY131216Q4A</td>\n      <td>F136-185004-618</td>\n      <td>SIS-058-2022</td>\n      <td>RP-2022 EXCEDENTES 30% ANT. SIS-RP-31/22-CP  R...</td>\n      <td>TR</td>\n      <td>1022756.0</td>\n      <td>2022-06-10</td>\n      <td>19739711.53</td>\n      <td>OBRA PUBLICA Y GV FDOS. ESP</td>\n      <td>10</td>\n      <td>6</td>\n      <td>2022</td>\n      <td>1</td>\n      <td>484493.743558</td>\n      <td>{'Rosa Lorena Valdez Miranda': True, 'Roque Ya...</td>\n      <td>0</td>\n      <td>1.000000</td>\n      <td>1.000000</td>\n    </tr>\n    <tr>\n      <th>950</th>\n      <td>318662</td>\n      <td>INFRAESTRUCTURA MQ, SA. DE CV.</td>\n      <td>IMQ0603119L0</td>\n      <td>A940-185004-619</td>\n      <td>SIS-050-2022</td>\n      <td>RP-2022 30% ANT. SIS-RP-25/22-CP CONSTRUCCION ...</td>\n      <td>TR</td>\n      <td>1022758.0</td>\n      <td>2022-06-10</td>\n      <td>5744883.14</td>\n      <td>OBRA PUBLICA Y GV FDOS. ESP</td>\n      <td>10</td>\n      <td>6</td>\n      <td>2022</td>\n      <td>5</td>\n      <td>484493.743558</td>\n      <td>{'Rosa Lorena Valdez Miranda': True, 'Roque Ya...</td>\n      <td>5</td>\n      <td>0.997734</td>\n      <td>0.996215</td>\n    </tr>\n    <tr>\n      <th>1050</th>\n      <td>320435</td>\n      <td>TECON TECNOLOGIA AVANZADA PARA CONSTRUCCION, S...</td>\n      <td>TTA200521RQ3</td>\n      <td>F108-185004-628</td>\n      <td>SIS-055-2022</td>\n      <td>RP-2022 EXCEDENTES 30% ANT. SIS-RP-33/22-CP  R...</td>\n      <td>TR</td>\n      <td>1022761.0</td>\n      <td>2022-06-10</td>\n      <td>11759412.05</td>\n      <td>OBRA PUBLICA Y GV FDOS. ESP</td>\n      <td>10</td>\n      <td>6</td>\n      <td>2022</td>\n      <td>1</td>\n      <td>484493.743558</td>\n      <td>{'Rosa Lorena Valdez Miranda': True, 'Roque Ya...</td>\n      <td>0</td>\n      <td>1.000000</td>\n      <td>1.000000</td>\n    </tr>\n    <tr>\n      <th>1060</th>\n      <td>320570</td>\n      <td>CONSTRUCCIONES Y PAVIMENTOS ROCASA, S.A. DE C.V.</td>\n      <td>CPR1307166N5</td>\n      <td>A2080-185004-630</td>\n      <td>SIS-059-2022</td>\n      <td>EXC-R28-PARTICIPABLE 2022 30% ANT. SIS-RP-32/2...</td>\n      <td>TR</td>\n      <td>330000243.0</td>\n      <td>2022-06-10</td>\n      <td>15328929.19</td>\n      <td>OBRA PUBLICA Y GV FDOS. ESP</td>\n      <td>10</td>\n      <td>6</td>\n      <td>2022</td>\n      <td>2</td>\n      <td>484493.743558</td>\n      <td>{'Rosa Lorena Valdez Miranda': True, 'Roque Ya...</td>\n      <td>3</td>\n      <td>1.000000</td>\n      <td>1.000000</td>\n    </tr>\n    <tr>\n      <th>1143</th>\n      <td>330700</td>\n      <td>SYCNOS SERVICIOS Y CONSULTORIA ESTRATEGICA S.A...</td>\n      <td>SSY121219LG5</td>\n      <td>2252-183011-2478</td>\n      <td>SPP-377-2022</td>\n      <td>SERVICIOS DE PLATAFORMA ANALITICA DE VIDEO BAS...</td>\n      <td>TR</td>\n      <td>334000088.0</td>\n      <td>2022-06-16</td>\n      <td>5803016.00</td>\n      <td>SERV PROV</td>\n      <td>16</td>\n      <td>6</td>\n      <td>2022</td>\n      <td>1</td>\n      <td>210406.068793</td>\n      <td>{'Rosa Lorena Valdez Miranda': True, 'Roque Ya...</td>\n      <td>5</td>\n      <td>0.997943</td>\n      <td>1.000000</td>\n    </tr>\n    <tr>\n      <th>1153</th>\n      <td>110820</td>\n      <td>EDITORA EL SOL, S.A. DE C.V.</td>\n      <td>ESO851126P67</td>\n      <td>GM3419-183011-2199</td>\n      <td>SEP-031-2022</td>\n      <td>DESPLEGADO ( PLANA 53CM X 27.5CM) EN EL PERIOD...</td>\n      <td>TR</td>\n      <td>1022764.0</td>\n      <td>2022-06-10</td>\n      <td>284914.56</td>\n      <td>COMUNIC</td>\n      <td>10</td>\n      <td>6</td>\n      <td>2022</td>\n      <td>36</td>\n      <td>67248.102051</td>\n      <td>{'Rosa Lorena Valdez Miranda': True, 'Roque Ya...</td>\n      <td>5</td>\n      <td>0.478277</td>\n      <td>0.977728</td>\n    </tr>\n    <tr>\n      <th>1213</th>\n      <td>116439</td>\n      <td>MULTIMEDIOS, S.A. DE C.V.</td>\n      <td>MUL0711147NA</td>\n      <td>MYA 101051-183011-2119</td>\n      <td>SEP-030-2022</td>\n      <td>TRANSMISION DE SPOT DE 30SEG. EN DIFERENTES ES...</td>\n      <td>TR</td>\n      <td>1022823.0</td>\n      <td>2022-06-17</td>\n      <td>599488.00</td>\n      <td>COMUNIC</td>\n      <td>17</td>\n      <td>6</td>\n      <td>2022</td>\n      <td>8</td>\n      <td>67248.102051</td>\n      <td>{'Rosa Lorena Valdez Miranda': True, 'Roque Ya...</td>\n      <td>5</td>\n      <td>0.544668</td>\n      <td>1.000000</td>\n    </tr>\n    <tr>\n      <th>1214</th>\n      <td>116439</td>\n      <td>MULTIMEDIOS, S.A. DE C.V.</td>\n      <td>MUL0711147NA</td>\n      <td>MYA 101052-183011-2120</td>\n      <td>SEP-030-2022</td>\n      <td>TRANSMISION DE SPOT DE 20SEG. EN DIFERENTES ES...</td>\n      <td>TR</td>\n      <td>1022823.0</td>\n      <td>2022-06-17</td>\n      <td>353568.00</td>\n      <td>COMUNIC</td>\n      <td>17</td>\n      <td>6</td>\n      <td>2022</td>\n      <td>8</td>\n      <td>67248.102051</td>\n      <td>{'Rosa Lorena Valdez Miranda': True, 'Roque Ya...</td>\n      <td>5</td>\n      <td>0.492779</td>\n      <td>0.995886</td>\n    </tr>\n    <tr>\n      <th>1215</th>\n      <td>116439</td>\n      <td>MULTIMEDIOS, S.A. DE C.V.</td>\n      <td>MUL0711147NA</td>\n      <td>MYA 101053-183011-2121</td>\n      <td>SEP-030-2022</td>\n      <td>TRANSMISION DE SPOT DE 30SEG. EN DIFERENTES PR...</td>\n      <td>TR</td>\n      <td>1022823.0</td>\n      <td>2022-06-17</td>\n      <td>438804.80</td>\n      <td>COMUNIC</td>\n      <td>17</td>\n      <td>6</td>\n      <td>2022</td>\n      <td>8</td>\n      <td>67248.102051</td>\n      <td>{'Rosa Lorena Valdez Miranda': True, 'Roque Ya...</td>\n      <td>5</td>\n      <td>0.510795</td>\n      <td>0.999697</td>\n    </tr>\n    <tr>\n      <th>1216</th>\n      <td>116439</td>\n      <td>MULTIMEDIOS, S.A. DE C.V.</td>\n      <td>MUL0711147NA</td>\n      <td>MYA 101054-183011-2122</td>\n      <td>SEP-030-2022</td>\n      <td>TRANSMISION DE SPOT DE 20SEG. EN DIFERENTES PR...</td>\n      <td>TR</td>\n      <td>1022823.0</td>\n      <td>2022-06-17</td>\n      <td>438828.00</td>\n      <td>COMUNIC</td>\n      <td>17</td>\n      <td>6</td>\n      <td>2022</td>\n      <td>8</td>\n      <td>67248.102051</td>\n      <td>{'Rosa Lorena Valdez Miranda': True, 'Roque Ya...</td>\n      <td>5</td>\n      <td>0.510800</td>\n      <td>0.999698</td>\n    </tr>\n    <tr>\n      <th>1245</th>\n      <td>320244</td>\n      <td>ELLA MARKETING, S.A. DE C.V.</td>\n      <td>EMA1507214N1</td>\n      <td>569-183011-2091</td>\n      <td>SEP-003-2022</td>\n      <td>SERVICIOS DE COMUNICACION CONSISTENTES EN CONT...</td>\n      <td>TR</td>\n      <td>1022821.0</td>\n      <td>2022-06-17</td>\n      <td>343333.33</td>\n      <td>COMUNIC</td>\n      <td>17</td>\n      <td>6</td>\n      <td>2022</td>\n      <td>2</td>\n      <td>67248.102051</td>\n      <td>{'Rosa Lorena Valdez Miranda': True, 'Roque Ya...</td>\n      <td>5</td>\n      <td>0.490616</td>\n      <td>0.994584</td>\n    </tr>\n    <tr>\n      <th>1246</th>\n      <td>320244</td>\n      <td>ELLA MARKETING, S.A. DE C.V.</td>\n      <td>EMA1507214N1</td>\n      <td>570-183011-2092</td>\n      <td>SEP-003-2022</td>\n      <td>SERVICIOS DE COMUNICACION CONSISTENTES EN CONT...</td>\n      <td>TR</td>\n      <td>1022821.0</td>\n      <td>2022-06-17</td>\n      <td>343333.33</td>\n      <td>COMUNIC</td>\n      <td>17</td>\n      <td>6</td>\n      <td>2022</td>\n      <td>2</td>\n      <td>67248.102051</td>\n      <td>{'Rosa Lorena Valdez Miranda': True, 'Roque Ya...</td>\n      <td>5</td>\n      <td>0.490616</td>\n      <td>0.994584</td>\n    </tr>\n    <tr>\n      <th>1247</th>\n      <td>320257</td>\n      <td>SERVICIOS INTEGRADOS DEL NORESTE, S.A. DE C.V.</td>\n      <td>SIN871229IF6</td>\n      <td>758-183011-2093</td>\n      <td>SEP-043-2022</td>\n      <td>538 CASOS DE ENCUESTA DE CAMPO, DE LA CAMPAÑA ...</td>\n      <td>TR</td>\n      <td>1022920.0</td>\n      <td>2022-06-24</td>\n      <td>249632.00</td>\n      <td>COMUNIC</td>\n      <td>24</td>\n      <td>6</td>\n      <td>2022</td>\n      <td>1</td>\n      <td>67248.102051</td>\n      <td>{'Rosa Lorena Valdez Miranda': True, 'Roque Ya...</td>\n      <td>3</td>\n      <td>0.470834</td>\n      <td>0.953841</td>\n    </tr>\n    <tr>\n      <th>1260</th>\n      <td>320576</td>\n      <td>YAPAU CONSULTING, S DE R.L. DE C.V.</td>\n      <td>YCO150126QU3</td>\n      <td>239-183011-2096</td>\n      <td>SEP-032-2022</td>\n      <td>SERVICIOS DE COMUNICACION CONSISTENTES EN ESTR...</td>\n      <td>TR</td>\n      <td>1022848.0</td>\n      <td>2022-06-17</td>\n      <td>500000.00</td>\n      <td>COMUNIC</td>\n      <td>17</td>\n      <td>6</td>\n      <td>2022</td>\n      <td>1</td>\n      <td>67248.102051</td>\n      <td>{'Rosa Lorena Valdez Miranda': True, 'Roque Ya...</td>\n      <td>5</td>\n      <td>0.523718</td>\n      <td>0.999968</td>\n    </tr>\n    <tr>\n      <th>1270</th>\n      <td>203013</td>\n      <td>BARAJAS OROZCO MONICA COLUMBA</td>\n      <td>BAOM710115AXA</td>\n      <td>80394-183010-1700</td>\n      <td>NO APLICA</td>\n      <td>JUICIO CONTENCIOSO 391/2017  80394</td>\n      <td>CH</td>\n      <td>1108283.0</td>\n      <td>2022-06-27</td>\n      <td>854979.07</td>\n      <td>SERV PERS</td>\n      <td>27</td>\n      <td>6</td>\n      <td>2022</td>\n      <td>1</td>\n      <td>33521.136634</td>\n      <td>{'Rosa Lorena Valdez Miranda': True, 'Roque Ya...</td>\n      <td>0</td>\n      <td>0.597768</td>\n      <td>1.000000</td>\n    </tr>\n    <tr>\n      <th>1310</th>\n      <td>203013</td>\n      <td>GUERRERO GUERRERO RUBEN HECTOR</td>\n      <td>GUGR800417PS8</td>\n      <td>73056-183010-1637</td>\n      <td>NO APLICA</td>\n      <td>JUICIO AMPARO 1428/2019</td>\n      <td>CH</td>\n      <td>1108169.0</td>\n      <td>2022-06-15</td>\n      <td>1007150.53</td>\n      <td>SERV PERS</td>\n      <td>15</td>\n      <td>6</td>\n      <td>2022</td>\n      <td>1</td>\n      <td>33521.136634</td>\n      <td>{'Rosa Lorena Valdez Miranda': True, 'Roque Ya...</td>\n      <td>5</td>\n      <td>0.628621</td>\n      <td>1.000000</td>\n    </tr>\n    <tr>\n      <th>1312</th>\n      <td>203013</td>\n      <td>HERNANDEZ AREVALO MELISSA KASHANDRA</td>\n      <td>HEAM910820AT1</td>\n      <td>113159-183010-1576</td>\n      <td>NO APLICA</td>\n      <td>JUICIO AMPARO 648/2021  113159</td>\n      <td>CH</td>\n      <td>1108110.0</td>\n      <td>2022-06-08</td>\n      <td>285870.27</td>\n      <td>SERV PERS</td>\n      <td>8</td>\n      <td>6</td>\n      <td>2022</td>\n      <td>1</td>\n      <td>33521.136634</td>\n      <td>{'Rosa Lorena Valdez Miranda': True, 'Roque Ya...</td>\n      <td>0</td>\n      <td>0.478479</td>\n      <td>0.996797</td>\n    </tr>\n    <tr>\n      <th>1353</th>\n      <td>203013</td>\n      <td>ROSALES LLANAS FAUSTO</td>\n      <td>ROLF760818PI9</td>\n      <td>82523-183010-1668</td>\n      <td>NO APLICA</td>\n      <td>JUICIO CONTENCIOSO 847/2018  82523</td>\n      <td>CH</td>\n      <td>1108229.0</td>\n      <td>2022-06-20</td>\n      <td>756988.64</td>\n      <td>SERV PERS</td>\n      <td>20</td>\n      <td>6</td>\n      <td>2022</td>\n      <td>1</td>\n      <td>33521.136634</td>\n      <td>{'Rosa Lorena Valdez Miranda': True, 'Roque Ya...</td>\n      <td>3</td>\n      <td>0.577559</td>\n      <td>1.000000</td>\n    </tr>\n    <tr>\n      <th>1359</th>\n      <td>203013</td>\n      <td>SANCHEZ MARTINEZ GENARO</td>\n      <td>SAMG920415AP6</td>\n      <td>112241-183010-1511</td>\n      <td>NO APLICA</td>\n      <td>PAGO JUICIO AMPARO 1085/2020  C. GENARO SANCHE...</td>\n      <td>CH</td>\n      <td>1108095.0</td>\n      <td>2022-06-03</td>\n      <td>236456.20</td>\n      <td>SERV PERS</td>\n      <td>3</td>\n      <td>6</td>\n      <td>2022</td>\n      <td>1</td>\n      <td>33521.136634</td>\n      <td>{'Rosa Lorena Valdez Miranda': True, 'Roque Ya...</td>\n      <td>5</td>\n      <td>0.468057</td>\n      <td>0.985826</td>\n    </tr>\n  </tbody>\n</table>\n</div>"
     },
     "metadata": {}
    }
   ],
   "execution_count": null
  },
  {
   "cell_type": "markdown",
   "source": "<a style='text-decoration:none;line-height:16px;display:flex;color:#5B5B62;padding:10px;justify-content:end;' href='https://deepnote.com?utm_source=created-in-deepnote-cell&projectId=6853f152-0228-4c63-98bd-f29aa5103223' target=\"_blank\">\n<img alt='Created in deepnote.com' style='display:inline;max-height:16px;margin:0px;margin-right:7.5px;' src='data:image/svg+xml;base64,PD94bWwgdmVyc2lvbj0iMS4wIiBlbmNvZGluZz0iVVRGLTgiPz4KPHN2ZyB3aWR0aD0iODBweCIgaGVpZ2h0PSI4MHB4IiB2aWV3Qm94PSIwIDAgODAgODAiIHZlcnNpb249IjEuMSIgeG1sbnM9Imh0dHA6Ly93d3cudzMub3JnLzIwMDAvc3ZnIiB4bWxuczp4bGluaz0iaHR0cDovL3d3dy53My5vcmcvMTk5OS94bGluayI+CiAgICA8IS0tIEdlbmVyYXRvcjogU2tldGNoIDU0LjEgKDc2NDkwKSAtIGh0dHBzOi8vc2tldGNoYXBwLmNvbSAtLT4KICAgIDx0aXRsZT5Hcm91cCAzPC90aXRsZT4KICAgIDxkZXNjPkNyZWF0ZWQgd2l0aCBTa2V0Y2guPC9kZXNjPgogICAgPGcgaWQ9IkxhbmRpbmciIHN0cm9rZT0ibm9uZSIgc3Ryb2tlLXdpZHRoPSIxIiBmaWxsPSJub25lIiBmaWxsLXJ1bGU9ImV2ZW5vZGQiPgogICAgICAgIDxnIGlkPSJBcnRib2FyZCIgdHJhbnNmb3JtPSJ0cmFuc2xhdGUoLTEyMzUuMDAwMDAwLCAtNzkuMDAwMDAwKSI+CiAgICAgICAgICAgIDxnIGlkPSJHcm91cC0zIiB0cmFuc2Zvcm09InRyYW5zbGF0ZSgxMjM1LjAwMDAwMCwgNzkuMDAwMDAwKSI+CiAgICAgICAgICAgICAgICA8cG9seWdvbiBpZD0iUGF0aC0yMCIgZmlsbD0iIzAyNjVCNCIgcG9pbnRzPSIyLjM3NjIzNzYyIDgwIDM4LjA0NzY2NjcgODAgNTcuODIxNzgyMiA3My44MDU3NTkyIDU3LjgyMTc4MjIgMzIuNzU5MjczOSAzOS4xNDAyMjc4IDMxLjY4MzE2ODMiPjwvcG9seWdvbj4KICAgICAgICAgICAgICAgIDxwYXRoIGQ9Ik0zNS4wMDc3MTgsODAgQzQyLjkwNjIwMDcsNzYuNDU0OTM1OCA0Ny41NjQ5MTY3LDcxLjU0MjI2NzEgNDguOTgzODY2LDY1LjI2MTk5MzkgQzUxLjExMjI4OTksNTUuODQxNTg0MiA0MS42NzcxNzk1LDQ5LjIxMjIyODQgMjUuNjIzOTg0Niw0OS4yMTIyMjg0IEMyNS40ODQ5Mjg5LDQ5LjEyNjg0NDggMjkuODI2MTI5Niw0My4yODM4MjQ4IDM4LjY0NzU4NjksMzEuNjgzMTY4MyBMNzIuODcxMjg3MSwzMi41NTQ0MjUgTDY1LjI4MDk3Myw2Ny42NzYzNDIxIEw1MS4xMTIyODk5LDc3LjM3NjE0NCBMMzUuMDA3NzE4LDgwIFoiIGlkPSJQYXRoLTIyIiBmaWxsPSIjMDAyODY4Ij48L3BhdGg+CiAgICAgICAgICAgICAgICA8cGF0aCBkPSJNMCwzNy43MzA0NDA1IEwyNy4xMTQ1MzcsMC4yNTcxMTE0MzYgQzYyLjM3MTUxMjMsLTEuOTkwNzE3MDEgODAsMTAuNTAwMzkyNyA4MCwzNy43MzA0NDA1IEM4MCw2NC45NjA0ODgyIDY0Ljc3NjUwMzgsNzkuMDUwMzQxNCAzNC4zMjk1MTEzLDgwIEM0Ny4wNTUzNDg5LDc3LjU2NzA4MDggNTMuNDE4MjY3Nyw3MC4zMTM2MTAzIDUzLjQxODI2NzcsNTguMjM5NTg4NSBDNTMuNDE4MjY3Nyw0MC4xMjg1NTU3IDM2LjMwMzk1NDQsMzcuNzMwNDQwNSAyNS4yMjc0MTcsMzcuNzMwNDQwNSBDMTcuODQzMDU4NiwzNy43MzA0NDA1IDkuNDMzOTE5NjYsMzcuNzMwNDQwNSAwLDM3LjczMDQ0MDUgWiIgaWQ9IlBhdGgtMTkiIGZpbGw9IiMzNzkzRUYiPjwvcGF0aD4KICAgICAgICAgICAgPC9nPgogICAgICAgIDwvZz4KICAgIDwvZz4KPC9zdmc+' > </img>\nCreated in <span style='font-weight:600;margin-left:4px;'>Deepnote</span></a>",
   "metadata": {
    "tags": [],
    "created_in_deepnote_cell": true,
    "deepnote_cell_type": "markdown"
   }
  }
 ],
 "nbformat": 4,
 "nbformat_minor": 2,
 "metadata": {
  "orig_nbformat": 2,
  "deepnote": {},
  "deepnote_notebook_id": "ebb9104f-ba62-407e-afaa-1d9911328407",
  "deepnote_execution_queue": []
 }
}