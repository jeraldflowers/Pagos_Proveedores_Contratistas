{
 "cells": [
  {
   "cell_type": "code",
   "source": "%matplotlib inline\nimport pandas as pd",
   "metadata": {
    "tags": [],
    "cell_id": "49cee465-f774-4592-b1b5-9b622ddf5570",
    "deepnote_to_be_reexecuted": false,
    "source_hash": "79ac5c50",
    "execution_start": 1659496901705,
    "execution_millis": 1599,
    "deepnote_cell_type": "code",
    "deepnote_cell_height": 94
   },
   "outputs": [],
   "execution_count": null
  },
  {
   "cell_type": "code",
   "source": "compras_df = pd.read_csv('/work/clean_compras.csv')",
   "metadata": {
    "cell_id": "9dc930508f5b4d39bea448ad0962cc48",
    "tags": [],
    "deepnote_to_be_reexecuted": false,
    "source_hash": "c0b8192b",
    "execution_start": 1659496903314,
    "execution_millis": 21,
    "deepnote_cell_type": "code",
    "deepnote_cell_height": 76
   },
   "outputs": [],
   "execution_count": null
  },
  {
   "cell_type": "code",
   "source": "compras_df.dtypes",
   "metadata": {
    "cell_id": "df03b88898ee4cd8937749140357e1b9",
    "tags": [],
    "deepnote_to_be_reexecuted": false,
    "source_hash": "60c20275",
    "execution_start": 1659496903343,
    "execution_millis": 6,
    "deepnote_cell_type": "code",
    "deepnote_cell_height": 324.25,
    "deepnote_output_heights": [
     232.25
    ]
   },
   "outputs": [
    {
     "output_type": "execute_result",
     "execution_count": 3,
     "data": {
      "text/plain": "CVE BEN           int64\nBENEFICIARIO     object\nRFC              object\nFACTURAS         object\nCONTRATO         object\nCONCEPTO         object\nTIPO             object\nFDO-#OP         float64\nFECHA            object\nIMPORTE         float64\nSHEET            object\ndtype: object"
     },
     "metadata": {}
    }
   ],
   "execution_count": null
  },
  {
   "cell_type": "markdown",
   "source": "## Empezamos con una expansion de datos que tenemos, fecha por ejemplo",
   "metadata": {
    "cell_id": "3cc725a90c2b4a86800f2829d498a271",
    "tags": [],
    "deepnote_cell_type": "markdown",
    "deepnote_cell_height": 82.78125
   }
  },
  {
   "cell_type": "code",
   "source": "compras_df['FECHA'] = pd.to_datetime(compras_df['FECHA'])",
   "metadata": {
    "cell_id": "3bd6b51e28f049e988db61104d0a1ef2",
    "tags": [],
    "deepnote_to_be_reexecuted": false,
    "source_hash": "68af27bb",
    "execution_start": 1659496903355,
    "execution_millis": 8,
    "deepnote_cell_type": "code",
    "deepnote_cell_height": 76
   },
   "outputs": [],
   "execution_count": null
  },
  {
   "cell_type": "code",
   "source": "compras_df['DIA'] = compras_df['FECHA'].apply(lambda x: x.day)",
   "metadata": {
    "cell_id": "432418dea71940d6843babd9983dc691",
    "tags": [],
    "deepnote_to_be_reexecuted": false,
    "source_hash": "5e3db404",
    "execution_start": 1659496903372,
    "execution_millis": 3,
    "deepnote_cell_type": "code",
    "deepnote_cell_height": 76
   },
   "outputs": [],
   "execution_count": null
  },
  {
   "cell_type": "code",
   "source": "compras_df['MES'] = compras_df['FECHA'].apply(lambda x: x.month)",
   "metadata": {
    "cell_id": "4d823397a05448baa039d1e8d737f836",
    "tags": [],
    "deepnote_to_be_reexecuted": false,
    "source_hash": "e4ccf01f",
    "execution_start": 1659496903423,
    "execution_millis": 1,
    "deepnote_cell_type": "code",
    "deepnote_cell_height": 76
   },
   "outputs": [],
   "execution_count": null
  },
  {
   "cell_type": "code",
   "source": "compras_df['ANO'] = compras_df['FECHA'].apply(lambda x: x.year)",
   "metadata": {
    "cell_id": "5ce3ea48877648249001117f400f3436",
    "tags": [],
    "deepnote_to_be_reexecuted": false,
    "source_hash": "d02e5a3f",
    "execution_start": 1659496903457,
    "execution_millis": 1,
    "deepnote_cell_type": "code",
    "deepnote_cell_height": 76
   },
   "outputs": [],
   "execution_count": null
  },
  {
   "cell_type": "markdown",
   "source": "## Proyectamos unas variables contra otras",
   "metadata": {
    "cell_id": "203d05658cfc4802a6b5e70f1883bf3b",
    "tags": [],
    "deepnote_cell_type": "markdown",
    "deepnote_cell_height": 56.390625
   }
  },
  {
   "cell_type": "code",
   "source": "beneficiario_sales = compras_df['BENEFICIARIO'].value_counts().to_dict()",
   "metadata": {
    "cell_id": "8e5a3104bdb0417dac0f5c94ea8c670e",
    "tags": [],
    "deepnote_to_be_reexecuted": false,
    "source_hash": "c713841c",
    "execution_start": 1659496903458,
    "execution_millis": 0,
    "deepnote_cell_type": "code",
    "deepnote_cell_height": 81
   },
   "outputs": [],
   "execution_count": null
  },
  {
   "cell_type": "code",
   "source": "list(beneficiario_sales.keys())[0:5]",
   "metadata": {
    "cell_id": "e002b01a12a9427f81d386223939f01c",
    "tags": [],
    "deepnote_to_be_reexecuted": false,
    "source_hash": "77407f5f",
    "execution_start": 1659496903459,
    "execution_millis": 1,
    "deepnote_cell_type": "code",
    "deepnote_cell_height": 189.9375,
    "deepnote_output_heights": [
     97.9375
    ]
   },
   "outputs": [
    {
     "output_type": "execute_result",
     "execution_count": 9,
     "data": {
      "text/plain": "['CAR ONE MONTERREY, S.A. DE C.V.',\n 'INTERASFALTOS, S.A. DE C.V.',\n 'CAMARA MEXICANA DE LA INDUSTRIA DE LA CONSTRUCCION',\n 'HISA FARMACEUTICA, S.A. DE C.V.',\n 'GRUPO COYOTE MONTERREY, S.A. DE C.V.']"
     },
     "metadata": {}
    }
   ],
   "execution_count": null
  },
  {
   "cell_type": "code",
   "source": "compras_df['BENEFICIARIO_SALES'] = compras_df['BENEFICIARIO'].apply(lambda x: beneficiario_sales[x])",
   "metadata": {
    "cell_id": "dd0ba6d425cd4c629cc4435e847490f4",
    "tags": [],
    "deepnote_to_be_reexecuted": false,
    "source_hash": "511bd6e1",
    "execution_start": 1659496903461,
    "execution_millis": 3,
    "deepnote_cell_type": "code",
    "deepnote_cell_height": 81
   },
   "outputs": [],
   "execution_count": null
  },
  {
   "cell_type": "code",
   "source": "sheet_mean_compras = compras_df.groupby('SHEET')['IMPORTE'].mean()\nsheet_mean_compras",
   "metadata": {
    "cell_id": "ef28cd9794f3440b9d58e8007830dbe3",
    "tags": [],
    "deepnote_to_be_reexecuted": false,
    "source_hash": "8db77642",
    "execution_start": 1659496903468,
    "execution_millis": 10,
    "deepnote_cell_type": "code",
    "deepnote_cell_height": 246.3125,
    "deepnote_output_heights": [
     136.3125
    ]
   },
   "outputs": [
    {
     "output_type": "execute_result",
     "execution_count": 11,
     "data": {
      "text/plain": "SHEET\nCOMUNIC                         67248.102051\nGASTOS VARIOS                  583159.370513\nOBRA PUBLICA Y GV FDOS. ESP    484493.743558\nSERV PERS                       33521.136634\nSERV PROV                      210406.068793\nName: IMPORTE, dtype: float64"
     },
     "metadata": {}
    }
   ],
   "execution_count": null
  },
  {
   "cell_type": "code",
   "source": "sheet_mean_compras.to_dict()",
   "metadata": {
    "cell_id": "68d49f332b3042a5be6f240080e3d62b",
    "tags": [],
    "deepnote_to_be_reexecuted": false,
    "source_hash": "61ae25c5",
    "execution_start": 1659496903485,
    "execution_millis": 3,
    "deepnote_cell_type": "code",
    "deepnote_cell_height": 189.9375,
    "deepnote_output_heights": [
     97.9375
    ]
   },
   "outputs": [
    {
     "output_type": "execute_result",
     "execution_count": 12,
     "data": {
      "text/plain": "{'COMUNIC': 67248.10205128205,\n 'GASTOS VARIOS': 583159.3705128209,\n 'OBRA PUBLICA Y GV FDOS. ESP': 484493.74355785875,\n 'SERV PERS': 33521.136633663366,\n 'SERV PROV': 210406.06879310342}"
     },
     "metadata": {}
    }
   ],
   "execution_count": null
  },
  {
   "cell_type": "code",
   "source": "compras_df['IMPORTE_GASTOS_PROMEDIO'] = compras_df['SHEET'].apply(lambda x: sheet_mean_compras[x])",
   "metadata": {
    "cell_id": "e1d8efbb8884406e9fb339033c1ddae8",
    "tags": [],
    "deepnote_to_be_reexecuted": false,
    "source_hash": "26b02cc8",
    "execution_start": 1659496903534,
    "execution_millis": 0,
    "deepnote_cell_type": "code",
    "deepnote_cell_height": 81
   },
   "outputs": [],
   "execution_count": null
  },
  {
   "cell_type": "markdown",
   "source": "## Traernos información externa, enriquecer los datos usando un tool de páginas de linkedin",
   "metadata": {
    "cell_id": "ff2393763b63467a93c886289fe4852e",
    "tags": [],
    "deepnote_cell_type": "markdown",
    "deepnote_cell_height": 82.78125
   }
  },
  {
   "cell_type": "code",
   "source": "pd.DataFrame(compras_df['BENEFICIARIO'].unique()).to_csv('/work/unique_beneficiarios.csv', index=None)",
   "metadata": {
    "cell_id": "8f7db0e4119c46c6a51b35db850977b3",
    "tags": [],
    "deepnote_to_be_reexecuted": false,
    "source_hash": "ec729abb",
    "execution_start": 1659498266986,
    "execution_millis": 0,
    "deepnote_cell_type": "code",
    "deepnote_cell_height": 81
   },
   "outputs": [],
   "execution_count": null
  },
  {
   "cell_type": "code",
   "source": "linkedin_mty = pd.read_csv('/work/linkedin_mty.csv')",
   "metadata": {
    "cell_id": "59d0de782739469299cd85a8545706d7",
    "tags": [],
    "deepnote_to_be_reexecuted": false,
    "source_hash": "f6a6d5f6",
    "execution_start": 1659498937641,
    "execution_millis": 6,
    "deepnote_cell_type": "code",
    "deepnote_cell_height": 76
   },
   "outputs": [],
   "execution_count": null
  },
  {
   "cell_type": "code",
   "source": "has_site = {}\nfor i, ele in linkedin_mty.fillna(True).iterrows():\n    has_site[ele['query']] = True if ele['error'] == True else False",
   "metadata": {
    "cell_id": "52158dda4d9b4f2d8c61c9fe5ff7a784",
    "tags": [],
    "deepnote_to_be_reexecuted": false,
    "source_hash": "fa13a60d",
    "execution_start": 1659499054262,
    "execution_millis": 27,
    "deepnote_cell_type": "code",
    "deepnote_cell_height": 112
   },
   "outputs": [],
   "execution_count": null
  },
  {
   "cell_type": "code",
   "source": "has_site",
   "metadata": {
    "cell_id": "62fda031fb9d4219bdfb5ba53689e488",
    "tags": [],
    "deepnote_to_be_reexecuted": false,
    "source_hash": "5c89ad50",
    "execution_start": 1659499076192,
    "execution_millis": 712,
    "deepnote_cell_type": "code",
    "deepnote_cell_height": 703,
    "deepnote_output_heights": [
     611
    ]
   },
   "outputs": [
    {
     "output_type": "execute_result",
     "execution_count": 18,
     "data": {
      "text/plain": "{'Rosa Lorena Valdez Miranda': True,\n 'Roque Yañez Ramos': True,\n 'Laura Perla Cordova Rodriguez': True,\n 'Rosa Ofelia Coronado Flores': True,\n 'Alvaro Flores Palomo': True,\n 'Liliana Tijerina Cantu': True,\n 'Ruben Basaldua Moyeda': True,\n 'Maria Cristina Muñoz Rios': True,\n 'Gerardo Guerrero Adame': True,\n 'Mayela Maria De Lourdes Quiroga Tamez': True,\n 'Humberto Arturo Garza De Hoyos': True,\n 'Irma Montero Solis': True,\n 'Jorge Alejandro Alvarado Martinez': True,\n 'Ana Lilia Coronado Araiza': True,\n 'Francisco Salazar Guadiana': True,\n 'Maria Thalina Almaraz Gonzalez': True,\n 'Diego Armando Arellano Aguilar': True,\n 'Jorge Adrian Ayala Cantu': True,\n 'Adriana Paola Coronado Ramirez': True,\n 'LLANTAS Y SERVICIOS SERNA ANAHUAC,S.A. DE C.V.': True,\n 'GH MAQUINARIA Y EQUIPO, S.A.DE C.V.': True,\n 'PLOMIFERRETERA EL TORNILLO, S.A. DE C.V.': False,\n 'EQUIPOS Y ACCESORIOS CANTU, S.A. DE C.V.': True,\n 'PRAXAIR MEXICO S. DE R.L. DE C.V.': True,\n 'COMERCIALIZADORA HNOS.ALVAREZ FLORES,S.A.DE C.V.': False,\n 'DISTRIBUIDORA DE FRUTAS Y LEGUMBRES LA HORTALIZA,S.A.DE C.V.': False,\n 'NUÑEZ LOPEZ VIRGINIA': True,\n 'S.I.M.E.P.R.O.D.E.': False,\n 'TRACTORES Y MAQUINARIA REAL, S.A. DE C.V.': True,\n 'TELEFONOS DE MEXICO,S.A.B DE C.V.': True,\n 'MERCANTIL DISTRIBUIDORA, S.A. DE C.V.': True,\n 'GRANA,S.A.': True,\n 'CLUB INTERNACIONAL DE MONTERREY,A.C.': True,\n 'EMPACADORA Y DISTR.DE CARNES FINAS SAN JUAN,S.A.DE C.V.': False,\n 'VIVERO EL ESCORIAL, S.A. DE C.V.': True,\n 'CAR ONE AMERICANA,S.A.DE C.V.': True,\n 'MANTENIMIENTO ELECTRICO DE POTENCIA,S.A.DE C.V.': True,\n 'AUTOKAM REGIOMONTANA,S.A.DE C.V.': True,\n 'CLIMEEZ DEL NORTE,S.A.DE C.V.': True,\n 'VALUE ARRENDADORA,S.A.DE C.V. SOFOM ER VALUE GPO.FIN.': False,\n 'SEGUROS AFIRME, S.A. DE C.V. AFIRME GRUPO FINANCIERO': True,\n 'DESARROLLOS CONSTRUCTIVOS NACIONALES,S.A.DE C.V.': True,\n 'BIOANALISIS Y SERVICIOS HEMATOLOGICOS , S.A. DE C.V.': True,\n 'SUAREZ MOBILIARIO INTERNACIONAL,S.A.DE C.V.': True,\n 'FORTE COMUNICACIONES,S.A.DE C.V.': True,\n 'NAUDIN WILLIAMS JORGE TOMAS': False,\n 'BIENES AW, S.A. DE C.V.': True,\n 'CAR ONE MONTERREY, S.A. DE C.V.': True,\n 'DESARROLLOS HUINALA, S.A. DE C.V.': True,\n 'SALAZAR GARZA ADRIANA': True,\n 'FULL TECHNOLOGY, S.A. DE C.V.': True,\n 'COLLENZI COLONNELLO CLARISSA': False,\n 'SUPERMERCADOS INTERNACIONALES HEB, S.A. DE C.V.': True,\n 'SEGUROS BANORTE, S.A. DE C.V. GRUPO FINANCIERO BANORTE': True,\n 'SAG GRUPO AUTOMOTRIZ, S.A. DE C.V.': True,\n 'SAMPOGNA GARZA JESUS IGNACIO': True,\n 'SI VALE MEXICO, S.A. DE C.V.': True,\n 'INTERLAMPARAS, S.A. DE C.V.': True,\n 'CONSTRUCTORA NEG, S.A. DE C.V.': True,\n 'MALDONADO GONZALEZ ARTURO GUILLERMO': True,\n 'VG MAYOREO DE MONTERREY, S.A. DE C.V.': True,\n 'DESARROLLOS INMOBILIARIOS JAJEMI, S.A. DE C.V.': False,\n 'GRANTE INMOBILIARIA, S.A. DE C.V.': True,\n 'LARRALDE LAGUERA MARGARITA': False,\n 'PINEDA GUERRERO OSCAR': True,\n 'INTERASFALTOS, S.A. DE C.V.': True,\n 'M.S. COMERCIALIZADORA E IMPORTADORA, S.A. DE C.V.': True,\n 'ANGIO MEDICAL, S.A. DE C.V.': True,\n 'GRUPO PRO CREA, S.A. DE C.V.': True,\n 'INTEGRACION DE SISTEMAS DE AVANZADA TECNOLOGIA, S.A. DE C.V.': True,\n 'HEGV INDUSTRIAL, S.A. DE C.V.': True,\n 'GRUPO COYOTE MONTERREY, S.A. DE C.V.': True,\n 'INDUSTRIAS SOLA BASIC, S.A. DE C.V.': True,\n 'EDIFICIOS DIANA DEL NORTE, S.A. DE C.V.': True,\n 'LOGOMUNDO, S.A. DE C.V.': True,\n 'PEREZ RIOS RAMIRO': True,\n 'CANTU LOGISTICS, S.A. DE C.V.': True,\n 'ESPECIALIDADES MEDICAS INTERNACIONALES Y EQUIPO MEDICO SA': True,\n 'CANTU ELIZONDO DANIELA': True,\n 'BENITES VALDES JOSE LUCIO': True,\n 'HOSP.UNIVERSITARIO DR.JOSE E.GONZALEZ': False,\n 'BANCO MULTIVA, SA. G.F.M.': True,\n 'ASOCIACION DE COLONOS CONTRY LA SILLA A.C.': True,\n 'BANCO BANCREA,S.A. ,FIDEICOMISO NUMERO BP417': False,\n 'FIDEICOMISO DISTRITO TEC NUM-1718': False,\n 'CIUDADANOS EN APOYO A LOS DERECHOS HUMANOS, AC.': True,\n 'LOZANO SADA MARIA AMALIA': True,\n 'S.U.T.S.M.M.': False,\n 'CENTRO INTERNACIONAL DE NEGOCIOS MONTERREY, A.C.': True,\n 'BANCO MERCANTIL DEL NORTE S.A. IBM GFB': True,\n 'MUNICIPIO DE LA CIUDAD DE MONTERREY': True,\n 'MUSEO DE ARTE CONTEMPORANEO DE MONTERREY, AC.': True,\n 'CFE SUMINISTRADOR DE SERVICIOS BASICOS': True,\n 'NATURGY MEXICO, S.A. DE C.V.': True,\n 'SERVICIOS DE AGUA Y DRENAJE DE MONTERREY, IPD.': True,\n 'ACEROS Y OVEROLLINGS DE MEXICO, SA. DE CV.': True,\n 'AUTO CENTRO CAMIONERO, SA. DE CV.': True,\n 'BENAVIDES GONZALEZ LAURA ELENA': True,\n 'CENICEROS GARCIA MARIA MAGDALENA': True,\n 'CERVEZAS CUAUHTEMOC MOCTEZUMA, SA. DE CV.': True,\n 'CINEPOLIS DE MEXICO,S.A. DE C.V.': True,\n 'ECOTAXI DE MONTERREY, SA. DE CV.': True,\n 'GARZA TREVIÑO JOSE MARIA': True,\n 'GOMEZ MEJIA ELSA MARIA': True,\n 'GONZALEZ VAZQUEZ EDGAR CECILIO': True,\n 'IIRSACERO, SA. DE CV.': True,\n 'LAS CERVEZAS MODELO EN NUEVO LEON, SA. DE CV.': True,\n 'MARCATEL COM, SA. DE CV.': True,\n 'NERI SANCHEZ MARCELO': True,\n 'PAEZ YRIGOYEN MARIA DE LOURDES': True,\n 'PATENA PUENTE LORENA MIREYA': False,\n 'PEREZ FLORES MARIA DEL ROSARIO': True,\n 'PEREZ IBARRA ROLANDO ED MISAEL': True,\n 'RESTAURANTES TOKS. SA. DE CV.': True,\n 'RODRIGUEZ AGUIRRE LIBRADO': True,\n 'RODRIGUEZ GOMEZ PAMELA': True,\n 'SALAS HERNANDEZ ROBERTO KEVIN': True,\n 'TRANSPORTES PROGRESO, SA.': True,\n 'TREVIÑO ELIZONDO JOSE HUMBERTO': True,\n 'TREVIÑO YAÑEZ JOSE HUMBERTO': True,\n 'VAZQUEZ FLORES ELVIRA': True,\n 'VELA GONZALEZ OCTAVIO': True,\n 'VERGARA CASTELLANOS BALDEMAR ALEJANDRO': True,\n 'VILLARREAL DE LEON BERTHA': True,\n 'ALIANZA AUTOMOTRIZ RIVERO, SA. DE CV.': True,\n 'CANO ZAPATA NATALIA': True,\n 'CHUBB SEGUROS MEXICO, S.A.': True,\n 'CORPUS MORALES CLAUDIA': True,\n 'DECO SEGUROS, SA. DE CV.': True,\n 'DOMENE ZAMBRANO MARIA DEL ROCIO': True,\n 'EMERGENCIA MEDICA PROFESIONAL, S.C.': True,\n 'ESTRADA CASTILLO HILDA LETICIA': True,\n 'GARCIA REYES ANA MARIA': True,\n 'GONZALEZ CORREA DOLORES DEL CARMEN': True,\n 'GONZALEZ SANCHEZ MARIA DE LA LUZ': True,\n 'IMPULSORA PROMOBIEN, SA. DE CV.': True,\n 'INFONACOT': True,\n 'INSTITUTO DE CONTROL VEHICULAR': True,\n 'LOMAS LOZANO CLAUDIA PATRICIA': True,\n 'MADERA HOLTEN MARIA TERESA': False,\n 'METLIFE MEXICO, S.A.': True,\n 'MORENO MARTINEZ SONIA': True,\n 'OLDER GARCIA CARLOS ALBERTO': True,\n 'PADILLA QUINTANILLA RUBI': True,\n 'PATRIMONIO S.A. DE C.V. SOFOM ENR': True,\n 'RODRIGUEZ ONTIVEROS GLORIA ISABEL': True,\n 'SECRETARIA DE FINANZAS Y TESORERIA GRAL DEL EDO DE NL': True,\n 'SEGUROS ARGOS, SA. DE CV.': True,\n 'SEGUROS VE POR MAS, SA. GRUPO FINANCIERO VE POR MAS': True,\n 'TORRES RANGEL ANA MARIA': True,\n 'UNIVERSAL DE SERVICIOS PATRIMONIALES, SAPI DE CV SOFOM ENR': True,\n 'CHAO CASTRUITA CARMEN': False,\n 'CORONEL GONZALEZ MARIA LUISA': True,\n 'FLORES ROBLEDO GUADALUPE CONCEPCION': True,\n 'LARA SEGURA SINDY MELIZA': True,\n 'RAMIREZ CUELLAR JONATHAN JOSHUA': True,\n 'RIOS GOMEZ YENNIFER ITZEL': True,\n 'PENSIONES Y JUBILACIONES EMPL. MONTERREY': True,\n 'HERNANDEZ JIMENEZ EDUARDO': True,\n 'GONZALEZ CANTU ALEXANDRO': True,\n 'HERRERA GARCIA ADRIANA HORTENCIA': True,\n 'GARCIA NACIANCENO FELIX MANUEL': True,\n 'TIJERINA GOMEZ LUCAS OCTAVIO': False,\n 'GARCIA ORTIZ ALMA ALICIA': True,\n 'LARA SALAZAR LUZ ADRIANA': True,\n 'TELLEZ ZOLEZZI CARLOS ALBERTO': True,\n 'RAMIREZ ORTIZ RAQUEL ADELA': True,\n 'ESPINOSA RODRIGUEZ MARIA JOSE': True,\n 'CERECERO MEDINA ZULLY JANETT': False,\n 'VARGAS ANTILLON MARCOS': True,\n 'GONZALEZ SALINAS ALAN GERARDO': True,\n 'GARCIA ALEJANDRO ANALY': True,\n 'VALLEJO RAMOS JUAN MANUEL': True,\n 'PT CAR CENTER, S.A. DE C.V.': True,\n 'LINARES TORRES FERNANDO MANUEL': True,\n 'SERVICIO TECNICO CHURUBUSCO, S.A. DE C.V.': True,\n 'INMOBILIARIA HFM, S.A. DE C.V.': True,\n 'FORTERRA, S.A. DE C.V.': True,\n 'CONSTRUCCIONES Y URBANIZACIONES VILLA, S.A. DE C.V.': True,\n 'CONSTRUCTORA Y ARRENDADORA SAN SEBASTIAN, S.A. DE C.V.': True,\n 'INVESTMENT CAPITAL PARTNERS, S.A. DE C.V.': True,\n 'GARCIA ZAVALA EDGAR ALEJANDRO JOBERAGAN': False,\n 'GARIBALDI FRECH MARCELO ANDRES': True,\n 'TREVIÑO CORREA VALENTIN MARCELO': False,\n 'SERVICIOS BROXEL, S.A.P.I. DE C.V.': True,\n 'CORDERO MACIAS SILVESTRE GUADALUPE': True,\n 'OPERBES, S.A. DE C.V.': True,\n 'INFRAESTRUCTURA MQ, SA. DE CV.': True,\n 'MANUFACTURAS RECOVERY, S.A. DE C.V.': True,\n '235 PROYECTOS, S.A. DE C.V.': True,\n 'MOTOR DEAL, S.A. DE C.V.': True,\n 'BOMBEROS DE NUEVO LEON, A.B.P.': True,\n 'RECYMET SERVICIOS DE MEXICO, S.A. DE C.V.': True,\n 'PRODUCTORA PROCESADORA AGRICOLA DE MEXICO S.A DE C.V.': True,\n 'CONSTRUCTORA XILOFACTOS, S.A. DE C.V.': False,\n 'GAS GARZA SADA, S.A. DE C.V.': True,\n 'GASOLINERA NUEVO LEON, S.A. DE C.V.': True,\n 'PINEDA OSORIO JOSE NAZARIO': True,\n 'GAS HUINALA, S.A. DE C.V.': True,\n 'SERVICIO GAS LINCOLN, S.A. DE C.V.': True,\n 'GS GAS Q, S.A. DE C.V.': False,\n 'GONZALEZ GARZA ROSA LILA': True,\n 'BUFETE URBANISTICO, S.A. DE C.V.': True,\n 'TOOLS & SERVICES DE MEXICO, S.A. DE C.V.': True,\n 'SOLUCIONES Y OPCIONES DE SEGURIDAD PRIVADA,S.A.DE C.V.': True,\n 'EOLICA SANTA CATARINA, S. DE R.L. DE C.V.': True,\n 'URBANIZACIONES AGV, S.A. DE C.V.': True,\n 'RED RECOLECTOR, S.A. DE C.V.': True,\n 'RAR SMART NETWORKS, S.A. DE C.V.': True,\n 'RAMIREZ VERASTEGUI ISIDRO RAMON': True,\n 'CHAPA RIOS RAUL': True,\n 'PICO INFRAESTRUCTURA URBANA, SA. DE CV.': True,\n 'GUERRERO SEGURA NESTOR': True,\n 'PAVIMENTOS Y CONSTRUCCIONES GARCAN, SA. DE CV.': True,\n 'GUAJARDO Y ASOCS.CONSTRUCTORA, S.A. DE CV.': True,\n 'ABC Y CONSTRUCCIONES, SA. DE CV.': True,\n 'CONSTRUCCIONES DYNAMO, SA. DE CV.': True,\n 'CONSTRUCTORA JOMABE, SA. DE CV.': True,\n 'CONSTRUCCIONES Y URBANIZACIONES DEL PONIENTE, SA. DE CV.': True,\n 'INFRAESTRUCTURA Y CONSTRUCCIONES GARCIA, SA. DE CV.': True,\n 'CONSTRUCTORA POLITEZZA, SA. DE CV.': True,\n 'URBANISMOS ROSALES, SA. DE CV.': True,\n 'ARQUITECTURA E INGENIERIA 2000, SA. DE CV.': True,\n 'RICE OBRAS, SA. DE CV.': True,\n 'ORTIZ MONTOYA HUGO': True,\n 'PROVEEDORA PARA LA CONSTRUCCION REGIOMONTANA, S.A. DE C.V.': True,\n 'BUILDTECH PAVIMENTOS ESTAMPADOS Y CONSTRUCCIONES, SA. DE CV.': True,\n 'DESARROLLO CONSTRUCTIVO Y URBANISTICO, SA. DE CV.': True,\n 'CONSORCIO CONSTRUCTIVO Y PROYECTOS, SA. DE CV.': True,\n 'MONQ CONSTRUCTORES, SA. DE CV.': True,\n 'PROYECTOS Y DESARROLLOS SALVE, SA. DE CV.': True,\n 'CEREZO TORRES RAUL': True,\n 'CONSTRUCCIONES PAVIMENTO Y EDIFICACIONES COPESA, S.A. DE C.V.': True,\n 'CONSTRUCCIONES Y MANTENIMIENTO GAME, SA. DE CV.': True,\n 'CONSTRUCTORA Y ARRENDADORA SAN SEBASTIAN, SA. DE CV.': True,\n 'HUAJUCO CONSTRUCCIONES, S.A. DE C.V.': True,\n 'CONSTRUCCION Y DIRECCION DE OBRA AM, SA. DE CV.': True,\n 'CONSTRUCTORA LAZO, S.DE RL. DE CV.': True,\n 'DESARROLLOS MAFERSA, SA. DE CV.': True,\n 'HTR INFRAESTRUCTURA, SA. DE CV.': True,\n 'CKT EDIFICACIONES, SA. DE CV.': True,\n 'REGIO ASFALTOS Y CONCRETOS, SA. DE CV.': True,\n 'CONSTRUCTORA Y COMERCIALIZADORA IMPERIAL, SA DE CV.': True,\n 'SERVICIOS DE AGUA DLO, SA. DE CV.': True,\n 'INSTITUTO MUNICIPAL DE LAS MUJERES REGIAS': True,\n 'SOLUCION ARTE EN CONSTRUCCION, SA. DE CV.': True,\n 'INSTITUTO DE INV.INNOV.Y EST.DE POSG.P/LA EDU.DEL EDO DE NL.': False,\n 'UNIVERSIDAD AUTONOMA DE NUEVO LEON': True,\n 'CONTRERAS MONSIVAIS DANIEL': True,\n 'CAMARA MEXICANA DE LA INDUSTRIA DE LA CONSTRUCCION': True,\n 'F/4086906 BBVA BANCOMER, SA.': False,\n 'BS CAR SERVICES, S.A. DE C.V.': True,\n 'RAMIREZ PEÑA ALEJANDRO': True,\n 'INMOBILIARIA ESTRUCTURAL, S.A. DE C.V.': True,\n 'UNION POR EL DESARROLLO DE CORAZONES MEXICANOS, A.C.': True,\n 'EDIFICACIONES Y TERRACERIAS DEL NORTE, S.A. DE C.V.': True,\n 'ADQUISICIONES INTELIGENTES, S.A. DE C.V.': True,\n 'CENTRO DE ATENCION, PREVENCION Y SEGURIDAD SOCIAL, S.C.': True,\n 'GOBIERNO DEL ESTADO DE DURANGO': True,\n 'DESARROLLO Y CONSTRUCCIONES URBANAS, S.A. DE C.V.': True,\n 'SIERRA MADRE RACING, S.A. DE C.V.': True,\n 'EDDS MANTENIMIENTO, S.A. DE C.V.': True,\n 'CONSTRUCTORA MAIZ MIER,S.A. DE C.V.': True,\n 'ARMOR LIFE LAB, S.A. DE C.V.': True,\n 'INSTITUTO ESTATAL DE CIENCIAS PENALES Y SEGURIDAD PUBLICA': True,\n 'UNIVERSIDAD REGIOMONTANA, A.C.': True,\n 'ZAPATA CHAVIRA HOMERO ARTURO': True,\n 'ORTEGA VAZQUEZ ANDRES JAIME': True,\n 'INTEGRACION TECNOLOGICA FISCAL, S. DE RL DE C.V.': True,\n 'MANAGEMENT TECHNOLOGY INNOVATIONS, S.C.': True,\n 'G&B SOLUTIONS, S.A. DE C.V.': True,\n 'VELEZ VALDES ALBERTO': True,\n 'NUCLEO RADIO MONTERREY,S.A.DE C.V.': True,\n 'SISTEMEDIOS, S.A. DE C.V.': True,\n 'RTV & PRESS NEWS,S.A.DE C.V': True,\n 'TV DE LOS MOCHIS,S.A.DE C.V.': True,\n 'SCRIPTAMTY, S.A. DE C.V.': True,\n 'LOZANO CAVAZOS REYNALDO RAMON': True,\n 'STEREOREY MEXICO, S.A.': True,\n 'VERBO LIBRE EDITORES, S.A. DE C.V.': True,\n 'MULTIMEDIOS, S.A. DE C.V.': True,\n 'MARQUEZ GOMEZ ISAI': True,\n 'MILENIO DIARIO, S.A. DE C.V.': True,\n 'MELCHOR GUERRERO PERLA GUADALUPE': True,\n 'OVIEDO RODRIGUEZ MARILU': True,\n 'M58, S.A. DE C.V.': True,\n 'TEAM ONE 2018, S.A. DE C.V.': True,\n 'MAGENTA MULTIMEDIA, S.A.P.I. DE C.V.': False,\n 'CYAN MEDIA LAB, S.A. DE C.V.': True,\n 'MAYORGA CONSULTORES, S.C.': True,\n 'PUBLIGAB COMUNICACIONES, S.A. DE C.V.': False,\n 'ARRIAGA PEREZ ROCIO JAZMIN': True,\n 'AYALA SALAZAR GABRIEL': True,\n 'BRANDI ELGUEZABAL MARCELO': False,\n 'BRAVO GARZA CARLOS ALBERTO': True,\n 'BRAVO MENDOZA JOEL': True,\n 'CELEDONIO BECERRA JUAN MIGUEL': True,\n 'CORTES SANCHEZ VICTOR MANUEL': True,\n 'GALVAN GUERRERO ANDRES': True,\n 'GAMEZ RODRIGUEZ PABLO': True,\n 'GARCIA GONZALEZ ARTURO': True,\n 'GONZALEZ AGUILERA CRISTINA MIROSLAVA': True,\n 'GUERRERO MARTINEZ EDGAR FEDERICO': True,\n 'HERNANDEZ SOTO BRENDA NATALIA': True,\n 'ORDAZ ARANJO JOSE ANTONIO': True,\n 'RAMOS DE LA GARZA RAFAEL EDUARDO': True,\n 'RAMOS MARROQUIN FRANCISCO JAVIER': True,\n 'RODRIGUEZ JUAREZ DANIELA BERENICE': True,\n 'RODRIGUEZ MORALES CYNTHIA ESTHER': True,\n 'SANCHEZ DAVILA GERARDO RAUL': True,\n 'TORRES ACOSTA ROBERTO CARLOS': True,\n 'VARGAS GARCIA ALHINNA BERENICE': False,\n 'VILLARREAL CARDENAS JUAN IGNACIO': True,\n 'VILLARREAL CARDENAS NANCY ESTHER': True,\n 'GODOY SANCHEZ RICARDO': True,\n 'MIJANGOS DE JESUS FERNANDO': True,\n 'MORENO GARCIA JOSE ARTURO': True,\n 'SANCHEZ HERNANDEZ SEBASTIAN': True,\n 'SEGOVIA PAEZ MARCELO': True,\n 'TOVAR CEDILLO JAVIER ALFONSO': True}"
     },
     "metadata": {}
    }
   ],
   "execution_count": null
  },
  {
   "cell_type": "code",
   "source": "compras_df['HAS_LINKEDIN_SITE'] = compras_df['BENEFICIARIO'].apply(lambda x: has_site)",
   "metadata": {
    "cell_id": "9e83214196754683b288d653385ab562",
    "tags": [],
    "deepnote_to_be_reexecuted": false,
    "source_hash": "dca760cb",
    "execution_start": 1659502415153,
    "execution_millis": 1,
    "deepnote_cell_type": "code",
    "deepnote_cell_height": 506.5625,
    "deepnote_output_heights": [
     347.375
    ]
   },
   "outputs": [],
   "execution_count": null
  },
  {
   "cell_type": "code",
   "source": "compras_df['HAS_LINKEDIN_SITE']",
   "metadata": {
    "cell_id": "f51ad35eefd84e8b89382221231af3e0",
    "tags": [],
    "deepnote_to_be_reexecuted": false,
    "source_hash": "43a0f26",
    "execution_start": 1659502164618,
    "execution_millis": 4,
    "deepnote_cell_type": "code",
    "deepnote_cell_height": 324.25,
    "deepnote_output_heights": [
     232.25
    ]
   },
   "outputs": [
    {
     "output_type": "execute_result",
     "execution_count": 70,
     "data": {
      "text/plain": "0       {'Rosa Lorena Valdez Miranda': True, 'Roque Ya...\n1       {'Rosa Lorena Valdez Miranda': True, 'Roque Ya...\n2       {'Rosa Lorena Valdez Miranda': True, 'Roque Ya...\n3       {'Rosa Lorena Valdez Miranda': True, 'Roque Ya...\n4       {'Rosa Lorena Valdez Miranda': True, 'Roque Ya...\n                              ...                        \n1559    {'Rosa Lorena Valdez Miranda': True, 'Roque Ya...\n1560    {'Rosa Lorena Valdez Miranda': True, 'Roque Ya...\n1561    {'Rosa Lorena Valdez Miranda': True, 'Roque Ya...\n1562    {'Rosa Lorena Valdez Miranda': True, 'Roque Ya...\n1563    {'Rosa Lorena Valdez Miranda': True, 'Roque Ya...\nName: HAS_LINKEDIN_SITE, Length: 1564, dtype: object"
     },
     "metadata": {}
    }
   ],
   "execution_count": null
  },
  {
   "cell_type": "code",
   "source": "compras_df.to_csv('/work/compras_df_enriched.csv', index=None)",
   "metadata": {
    "cell_id": "63ee8764e7a542eab879dc90d7b99194",
    "tags": [],
    "deepnote_to_be_reexecuted": false,
    "source_hash": "38cf13a",
    "execution_start": 1659502323761,
    "execution_millis": 611,
    "deepnote_cell_type": "code",
    "deepnote_cell_height": 76
   },
   "outputs": [],
   "execution_count": null
  },
  {
   "cell_type": "markdown",
   "source": "<a style='text-decoration:none;line-height:16px;display:flex;color:#5B5B62;padding:10px;justify-content:end;' href='https://deepnote.com?utm_source=created-in-deepnote-cell&projectId=6853f152-0228-4c63-98bd-f29aa5103223' target=\"_blank\">\n<img alt='Created in deepnote.com' style='display:inline;max-height:16px;margin:0px;margin-right:7.5px;' src='data:image/svg+xml;base64,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' > </img>\nCreated in <span style='font-weight:600;margin-left:4px;'>Deepnote</span></a>",
   "metadata": {
    "tags": [],
    "created_in_deepnote_cell": true,
    "deepnote_cell_type": "markdown"
   }
  }
 ],
 "nbformat": 4,
 "nbformat_minor": 2,
 "metadata": {
  "orig_nbformat": 2,
  "deepnote": {},
  "deepnote_notebook_id": "5fe2f683-041f-4be6-8f1a-ff9089bf8299",
  "deepnote_execution_queue": []
 }
}