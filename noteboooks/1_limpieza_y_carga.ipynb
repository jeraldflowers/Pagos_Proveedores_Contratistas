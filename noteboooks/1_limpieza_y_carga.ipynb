{
 "cells": [
  {
   "cell_type": "code",
   "metadata": {
    "tags": [],
    "cell_id": "5a19d181-a956-4d92-af21-9814e2f52832",
    "deepnote_to_be_reexecuted": false,
    "source_hash": "ca95b7f9",
    "execution_start": 1659498162214,
    "execution_millis": 44,
    "deepnote_cell_type": "code",
    "deepnote_cell_height": 94
   },
   "source": "import pandas as pd\nimport os",
   "outputs": [],
   "execution_count": null
  },
  {
   "cell_type": "code",
   "metadata": {
    "cell_id": "48accc94872a44318df9f23cb99a8b54",
    "tags": [],
    "deepnote_to_be_reexecuted": false,
    "source_hash": "3c0db3df",
    "execution_start": 1659498162258,
    "execution_millis": 1,
    "deepnote_cell_type": "code",
    "deepnote_cell_height": 76
   },
   "source": "os.chdir('..')",
   "outputs": [],
   "execution_count": null
  },
  {
   "cell_type": "code",
   "metadata": {
    "cell_id": "4ac863f945cc476199b2bc3bee6a954c",
    "tags": [],
    "deepnote_to_be_reexecuted": false,
    "source_hash": "ad8f3ca4",
    "execution_start": 1659498162259,
    "execution_millis": 641,
    "deepnote_cell_type": "code",
    "deepnote_cell_height": 127.375
   },
   "source": "!ls",
   "outputs": [
    {
     "name": "stdout",
     "text": "06_JUNIO_2022.xlsx  init.ipynb\t    noteboooks\nclean_compras.csv   notebook.ipynb  requirements.txt\n",
     "output_type": "stream"
    }
   ],
   "execution_count": null
  },
  {
   "cell_type": "code",
   "metadata": {
    "cell_id": "26890119a7354aa59e6e677b70216b8c",
    "tags": [],
    "deepnote_to_be_reexecuted": false,
    "source_hash": "71cb3731",
    "execution_start": 1659498162904,
    "execution_millis": 3340,
    "deepnote_cell_type": "code",
    "deepnote_cell_height": 331
   },
   "source": "pip install openpyxl\n",
   "outputs": [
    {
     "name": "stdout",
     "text": "Requirement already satisfied: openpyxl in /root/venv/lib/python3.9/site-packages (3.0.10)\nRequirement already satisfied: et-xmlfile in /root/venv/lib/python3.9/site-packages (from openpyxl) (1.1.0)\n\u001b[33mWARNING: Running pip as the 'root' user can result in broken permissions and conflicting behaviour with the system package manager. It is recommended to use a virtual environment instead: https://pip.pypa.io/warnings/venv\u001b[0m\u001b[33m\n\u001b[0m\u001b[33mWARNING: You are using pip version 22.0.4; however, version 22.2.1 is available.\nYou should consider upgrading via the '/usr/local/bin/python -m pip install --upgrade pip' command.\u001b[0m\u001b[33m\n\u001b[0mNote: you may need to restart the kernel to use updated packages.\n",
     "output_type": "stream"
    }
   ],
   "execution_count": null
  },
  {
   "cell_type": "code",
   "metadata": {
    "cell_id": "9060f49821484faf8a1efc7be7c5a693",
    "tags": [],
    "deepnote_to_be_reexecuted": false,
    "source_hash": "f84fde2",
    "execution_start": 1659498166108,
    "execution_millis": 359,
    "deepnote_cell_type": "code",
    "deepnote_cell_height": 94
   },
   "source": "df_gastos_varios = pd.read_excel('06_JUNIO_2022.xlsx', sheet_name='GASTOS VARIOS', skiprows=5)\ndf_gastos_varios['SHEET'] = 'GASTOS VARIOS'",
   "outputs": [],
   "execution_count": null
  },
  {
   "cell_type": "code",
   "metadata": {
    "cell_id": "f45618231c384d29bb383c0dbd981cd6",
    "tags": [],
    "deepnote_to_be_reexecuted": false,
    "source_hash": "105cca41",
    "execution_start": 1659498166470,
    "execution_millis": 190,
    "deepnote_cell_type": "code",
    "deepnote_cell_height": 94
   },
   "source": "df_contratistas = pd.read_excel('06_JUNIO_2022.xlsx', sheet_name='OBRA PUBLICA Y GV FDOS. ESP', skiprows=5)\ndf_contratistas['SHEET'] = 'OBRA PUBLICA Y GV FDOS. ESP'",
   "outputs": [],
   "execution_count": null
  },
  {
   "cell_type": "code",
   "metadata": {
    "cell_id": "1cb504e9f11f43248326ff0a07bb9816",
    "tags": [],
    "deepnote_to_be_reexecuted": false,
    "source_hash": "39dc356c",
    "execution_start": 1659498166668,
    "execution_millis": 189,
    "deepnote_cell_type": "code",
    "deepnote_cell_height": 94
   },
   "source": "df_servicios = pd.read_excel('06_JUNIO_2022.xlsx', sheet_name='SERV PROV', skiprows=5)\ndf_servicios['SHEET'] = 'SERV PROV'",
   "outputs": [],
   "execution_count": null
  },
  {
   "cell_type": "code",
   "metadata": {
    "cell_id": "accb9148397f44ca9992b95097f1e924",
    "tags": [],
    "deepnote_to_be_reexecuted": false,
    "source_hash": "18de475a",
    "execution_start": 1659498166857,
    "execution_millis": 113,
    "deepnote_cell_type": "code",
    "deepnote_cell_height": 94
   },
   "source": "df_comunicacion = pd.read_excel('06_JUNIO_2022.xlsx', sheet_name='COMUNIC', skiprows=5)\ndf_comunicacion['SHEET'] = 'COMUNIC'",
   "outputs": [],
   "execution_count": null
  },
  {
   "cell_type": "code",
   "metadata": {
    "cell_id": "8796e485a4d24f81aef761509803de02",
    "tags": [],
    "deepnote_to_be_reexecuted": false,
    "source_hash": "c1f026be",
    "execution_start": 1659498166971,
    "execution_millis": 139,
    "deepnote_cell_type": "code",
    "deepnote_cell_height": 94
   },
   "source": "df_personales = pd.read_excel('06_JUNIO_2022.xlsx', sheet_name='SERV PERS', skiprows=5)\ndf_personales['SHEET'] = 'SERV PERS'",
   "outputs": [],
   "execution_count": null
  },
  {
   "cell_type": "code",
   "metadata": {
    "cell_id": "0d8a27b2aace4affa2b0fa98358360b4",
    "tags": [],
    "deepnote_to_be_reexecuted": false,
    "source_hash": "1a8975b0",
    "execution_start": 1659498167113,
    "execution_millis": 9,
    "deepnote_cell_type": "code",
    "deepnote_cell_height": 76
   },
   "source": "df_compras_jun = pd.concat([df_gastos_varios, df_contratistas, df_servicios, df_comunicacion, df_personales])",
   "outputs": [],
   "execution_count": null
  },
  {
   "cell_type": "code",
   "metadata": {
    "cell_id": "a84835d685e44132b4ea2ccf321fcc8b",
    "tags": [],
    "deepnote_to_be_reexecuted": false,
    "source_hash": "63dc4e27",
    "execution_start": 1659498167169,
    "execution_millis": 9,
    "deepnote_cell_type": "code",
    "deepnote_cell_height": 407
   },
   "source": "df_compras_jun.head(5)",
   "outputs": [
    {
     "output_type": "execute_result",
     "execution_count": 11,
     "data": {
      "application/vnd.deepnote.dataframe.v3+json": {
       "column_count": 11,
       "row_count": 5,
       "columns": [
        {
         "name": "CVE BEN",
         "dtype": "object",
         "stats": {
          "unique_count": 3,
          "nan_count": 0,
          "categories": [
           {
            "name": "110741",
            "count": 3
           },
           {
            "name": "110150",
            "count": 1
           },
           {
            "name": "Total 110150",
            "count": 1
           }
          ]
         }
        },
        {
         "name": "BENEFICIARIO",
         "dtype": "object",
         "stats": {
          "unique_count": 2,
          "nan_count": 1,
          "categories": [
           {
            "name": "ALMACEN PAPELERO SALDAÑA, S.A. DE C.V.",
            "count": 3
           },
           {
            "name": "COMPUMARK, S.A. DE C.V.",
            "count": 1
           },
           {
            "name": "Missing",
            "count": 1
           }
          ]
         }
        },
        {
         "name": "RFC",
         "dtype": "object",
         "stats": {
          "unique_count": 2,
          "nan_count": 1,
          "categories": [
           {
            "name": "APS931217911",
            "count": 3
           },
           {
            "name": "CMR9201064P4",
            "count": 1
           },
           {
            "name": "Missing",
            "count": 1
           }
          ]
         }
        },
        {
         "name": "FACTURAS",
         "dtype": "object",
         "stats": {
          "unique_count": 4,
          "nan_count": 1,
          "categories": [
           {
            "name": "A60360-183011-2283",
            "count": 1
           },
           {
            "name": "3 others",
            "count": 3
           },
           {
            "name": "Missing",
            "count": 1
           }
          ]
         }
        },
        {
         "name": "CONTRATO",
         "dtype": "object",
         "stats": {
          "unique_count": 4,
          "nan_count": 1,
          "categories": [
           {
            "name": "ORDEN DE COMPRA 8020",
            "count": 1
           },
           {
            "name": "3 others",
            "count": 3
           },
           {
            "name": "Missing",
            "count": 1
           }
          ]
         }
        },
        {
         "name": "CONCEPTO",
         "dtype": "object",
         "stats": {
          "unique_count": 4,
          "nan_count": 1,
          "categories": [
           {
            "name": "SUMINISTRO DE REQUERIMIENTOS PARA EL EVENTO \"DIA DE LAS MAESTRAS Y LOS MAESTROS 2022\", DESARROLLO HUMANO E IGUALDAD SUSTANTIVA (COMPUTADORA PORTATIL)",
            "count": 1
           },
           {
            "name": "3 others",
            "count": 3
           },
           {
            "name": "Missing",
            "count": 1
           }
          ]
         }
        },
        {
         "name": "TIPO",
         "dtype": "object",
         "stats": {
          "unique_count": 1,
          "nan_count": 1,
          "categories": [
           {
            "name": "TR",
            "count": 4
           },
           {
            "name": "Missing",
            "count": 1
           }
          ]
         }
        },
        {
         "name": "FDO-#OP",
         "dtype": "float64",
         "stats": {
          "unique_count": 2,
          "nan_count": 1,
          "min": "1022770.0",
          "max": "1022838.0",
          "histogram": [
           {
            "bin_start": 1022770,
            "bin_end": 1022776.8,
            "count": 3
           },
           {
            "bin_start": 1022776.8,
            "bin_end": 1022783.6,
            "count": 0
           },
           {
            "bin_start": 1022783.6,
            "bin_end": 1022790.4,
            "count": 0
           },
           {
            "bin_start": 1022790.4,
            "bin_end": 1022797.2,
            "count": 0
           },
           {
            "bin_start": 1022797.2,
            "bin_end": 1022804,
            "count": 0
           },
           {
            "bin_start": 1022804,
            "bin_end": 1022810.8,
            "count": 0
           },
           {
            "bin_start": 1022810.8,
            "bin_end": 1022817.6,
            "count": 0
           },
           {
            "bin_start": 1022817.6,
            "bin_end": 1022824.4,
            "count": 0
           },
           {
            "bin_start": 1022824.4,
            "bin_end": 1022831.2,
            "count": 0
           },
           {
            "bin_start": 1022831.2,
            "bin_end": 1022838,
            "count": 1
           }
          ]
         }
        },
        {
         "name": "FECHA",
         "dtype": "datetime64[ns]",
         "stats": {
          "unique_count": 2,
          "nan_count": 1,
          "min": "2022-06-10 00:00:00",
          "max": "2022-06-17 00:00:00",
          "histogram": [
           {
            "bin_start": 1654819200000000000,
            "bin_end": 1654879680000000000,
            "count": 3
           },
           {
            "bin_start": 1654879680000000000,
            "bin_end": 1654940160000000000,
            "count": 0
           },
           {
            "bin_start": 1654940160000000000,
            "bin_end": 1655000640000000000,
            "count": 0
           },
           {
            "bin_start": 1655000640000000000,
            "bin_end": 1655061120000000000,
            "count": 0
           },
           {
            "bin_start": 1655061120000000000,
            "bin_end": 1655121600000000000,
            "count": 0
           },
           {
            "bin_start": 1655121600000000000,
            "bin_end": 1655182080000000000,
            "count": 0
           },
           {
            "bin_start": 1655182080000000000,
            "bin_end": 1655242560000000000,
            "count": 0
           },
           {
            "bin_start": 1655242560000000000,
            "bin_end": 1655303040000000000,
            "count": 0
           },
           {
            "bin_start": 1655303040000000000,
            "bin_end": 1655363520000000000,
            "count": 0
           },
           {
            "bin_start": 1655363520000000000,
            "bin_end": 1655424000000000000,
            "count": 1
           }
          ]
         }
        },
        {
         "name": "IMPORTE",
         "dtype": "float64",
         "stats": {
          "unique_count": 4,
          "nan_count": 0,
          "min": "3781.6",
          "max": "885080.0",
          "histogram": [
           {
            "bin_start": 3781.6,
            "bin_end": 91911.44,
            "count": 3
           },
           {
            "bin_start": 91911.44,
            "bin_end": 180041.28,
            "count": 0
           },
           {
            "bin_start": 180041.28,
            "bin_end": 268171.12,
            "count": 0
           },
           {
            "bin_start": 268171.12,
            "bin_end": 356300.95999999996,
            "count": 0
           },
           {
            "bin_start": 356300.95999999996,
            "bin_end": 444430.79999999993,
            "count": 0
           },
           {
            "bin_start": 444430.79999999993,
            "bin_end": 532560.64,
            "count": 0
           },
           {
            "bin_start": 532560.64,
            "bin_end": 620690.48,
            "count": 0
           },
           {
            "bin_start": 620690.48,
            "bin_end": 708820.32,
            "count": 0
           },
           {
            "bin_start": 708820.32,
            "bin_end": 796950.1599999999,
            "count": 0
           },
           {
            "bin_start": 796950.1599999999,
            "bin_end": 885080,
            "count": 2
           }
          ]
         }
        },
        {
         "name": "SHEET",
         "dtype": "object",
         "stats": {
          "unique_count": 1,
          "nan_count": 0,
          "categories": [
           {
            "name": "GASTOS VARIOS",
            "count": 5
           }
          ]
         }
        },
        {
         "name": "_deepnote_index_column",
         "dtype": "int64"
        }
       ],
       "rows": [
        {
         "CVE BEN": "110150",
         "BENEFICIARIO": "COMPUMARK, S.A. DE C.V.",
         "RFC": "CMR9201064P4",
         "FACTURAS": "A60360-183011-2283",
         "CONTRATO": "ORDEN DE COMPRA 8020",
         "CONCEPTO": "SUMINISTRO DE REQUERIMIENTOS PARA EL EVENTO \"DIA DE LAS MAESTRAS Y LOS MAESTROS 2022\", DESARROLLO HUMANO E IGUALDAD SUSTANTIVA (COMPUTADORA PORTATIL)",
         "TIPO": "TR",
         "FDO-#OP": 1022838,
         "FECHA": "2022-06-17 00:00:00",
         "IMPORTE": 885080,
         "SHEET": "GASTOS VARIOS",
         "_deepnote_index_column": 0
        },
        {
         "CVE BEN": "Total 110150",
         "BENEFICIARIO": "nan",
         "RFC": "nan",
         "FACTURAS": "nan",
         "CONTRATO": "nan",
         "CONCEPTO": "nan",
         "TIPO": "nan",
         "FDO-#OP": "nan",
         "FECHA": "NaT",
         "IMPORTE": 885080,
         "SHEET": "GASTOS VARIOS",
         "_deepnote_index_column": 1
        },
        {
         "CVE BEN": "110741",
         "BENEFICIARIO": "ALMACEN PAPELERO SALDAÑA, S.A. DE C.V.",
         "RFC": "APS931217911",
         "FACTURAS": "MTY7291-183011-2249",
         "CONTRATO": "ORDEN DE COMPRA 7804",
         "CONCEPTO": "SUMINISTRO DE MATERIALES PARA LOS CENTROS DE BIENESTAR FAMILIAR, DIF DE MONTERREY",
         "TIPO": "TR",
         "FDO-#OP": 1022770,
         "FECHA": "2022-06-10 00:00:00",
         "IMPORTE": 52854.24,
         "SHEET": "GASTOS VARIOS",
         "_deepnote_index_column": 2
        },
        {
         "CVE BEN": "110741",
         "BENEFICIARIO": "ALMACEN PAPELERO SALDAÑA, S.A. DE C.V.",
         "RFC": "APS931217911",
         "FACTURAS": "MTY7274-183011-2226",
         "CONTRATO": "ORDEN DE COMPRA 7840",
         "CONCEPTO": "SUMINISTRO DE PAPEL AUTOCOPIA, SECRETARIA DE SERVICIOS PUBLICOS",
         "TIPO": "TR",
         "FDO-#OP": 1022770,
         "FECHA": "2022-06-10 00:00:00",
         "IMPORTE": 28596.32,
         "SHEET": "GASTOS VARIOS",
         "_deepnote_index_column": 3
        },
        {
         "CVE BEN": "110741",
         "BENEFICIARIO": "ALMACEN PAPELERO SALDAÑA, S.A. DE C.V.",
         "RFC": "APS931217911",
         "FACTURAS": "MTY7153-183011-1776",
         "CONTRATO": "ORDEN DE COMPRA 7556",
         "CONCEPTO": "SUMINISTRO DE PIZARRON DE CORCHO PARA LA DIRECCION DE CENTROS DE BIENESTAR FAMILIAR, DIF DE MONTERREY",
         "TIPO": "TR",
         "FDO-#OP": 1022770,
         "FECHA": "2022-06-10 00:00:00",
         "IMPORTE": 3781.6,
         "SHEET": "GASTOS VARIOS",
         "_deepnote_index_column": 4
        }
       ]
      },
      "text/plain": "        CVE BEN                            BENEFICIARIO           RFC  \\\n0        110150                 COMPUMARK, S.A. DE C.V.  CMR9201064P4   \n1  Total 110150                                     NaN           NaN   \n2        110741  ALMACEN PAPELERO SALDAÑA, S.A. DE C.V.  APS931217911   \n3        110741  ALMACEN PAPELERO SALDAÑA, S.A. DE C.V.  APS931217911   \n4        110741  ALMACEN PAPELERO SALDAÑA, S.A. DE C.V.  APS931217911   \n\n              FACTURAS              CONTRATO  \\\n0   A60360-183011-2283  ORDEN DE COMPRA 8020   \n1                  NaN                   NaN   \n2  MTY7291-183011-2249  ORDEN DE COMPRA 7804   \n3  MTY7274-183011-2226  ORDEN DE COMPRA 7840   \n4  MTY7153-183011-1776  ORDEN DE COMPRA 7556   \n\n                                            CONCEPTO TIPO    FDO-#OP  \\\n0  SUMINISTRO DE REQUERIMIENTOS PARA EL EVENTO \"D...   TR  1022838.0   \n1                                                NaN  NaN        NaN   \n2  SUMINISTRO DE MATERIALES PARA LOS CENTROS DE B...   TR  1022770.0   \n3  SUMINISTRO DE PAPEL AUTOCOPIA, SECRETARIA DE S...   TR  1022770.0   \n4  SUMINISTRO DE PIZARRON DE CORCHO PARA LA DIREC...   TR  1022770.0   \n\n       FECHA    IMPORTE          SHEET  \n0 2022-06-17  885080.00  GASTOS VARIOS  \n1        NaT  885080.00  GASTOS VARIOS  \n2 2022-06-10   52854.24  GASTOS VARIOS  \n3 2022-06-10   28596.32  GASTOS VARIOS  \n4 2022-06-10    3781.60  GASTOS VARIOS  ",
      "text/html": "<div>\n<style scoped>\n    .dataframe tbody tr th:only-of-type {\n        vertical-align: middle;\n    }\n\n    .dataframe tbody tr th {\n        vertical-align: top;\n    }\n\n    .dataframe thead th {\n        text-align: right;\n    }\n</style>\n<table border=\"1\" class=\"dataframe\">\n  <thead>\n    <tr style=\"text-align: right;\">\n      <th></th>\n      <th>CVE BEN</th>\n      <th>BENEFICIARIO</th>\n      <th>RFC</th>\n      <th>FACTURAS</th>\n      <th>CONTRATO</th>\n      <th>CONCEPTO</th>\n      <th>TIPO</th>\n      <th>FDO-#OP</th>\n      <th>FECHA</th>\n      <th>IMPORTE</th>\n      <th>SHEET</th>\n    </tr>\n  </thead>\n  <tbody>\n    <tr>\n      <th>0</th>\n      <td>110150</td>\n      <td>COMPUMARK, S.A. DE C.V.</td>\n      <td>CMR9201064P4</td>\n      <td>A60360-183011-2283</td>\n      <td>ORDEN DE COMPRA 8020</td>\n      <td>SUMINISTRO DE REQUERIMIENTOS PARA EL EVENTO \"D...</td>\n      <td>TR</td>\n      <td>1022838.0</td>\n      <td>2022-06-17</td>\n      <td>885080.00</td>\n      <td>GASTOS VARIOS</td>\n    </tr>\n    <tr>\n      <th>1</th>\n      <td>Total 110150</td>\n      <td>NaN</td>\n      <td>NaN</td>\n      <td>NaN</td>\n      <td>NaN</td>\n      <td>NaN</td>\n      <td>NaN</td>\n      <td>NaN</td>\n      <td>NaT</td>\n      <td>885080.00</td>\n      <td>GASTOS VARIOS</td>\n    </tr>\n    <tr>\n      <th>2</th>\n      <td>110741</td>\n      <td>ALMACEN PAPELERO SALDAÑA, S.A. DE C.V.</td>\n      <td>APS931217911</td>\n      <td>MTY7291-183011-2249</td>\n      <td>ORDEN DE COMPRA 7804</td>\n      <td>SUMINISTRO DE MATERIALES PARA LOS CENTROS DE B...</td>\n      <td>TR</td>\n      <td>1022770.0</td>\n      <td>2022-06-10</td>\n      <td>52854.24</td>\n      <td>GASTOS VARIOS</td>\n    </tr>\n    <tr>\n      <th>3</th>\n      <td>110741</td>\n      <td>ALMACEN PAPELERO SALDAÑA, S.A. DE C.V.</td>\n      <td>APS931217911</td>\n      <td>MTY7274-183011-2226</td>\n      <td>ORDEN DE COMPRA 7840</td>\n      <td>SUMINISTRO DE PAPEL AUTOCOPIA, SECRETARIA DE S...</td>\n      <td>TR</td>\n      <td>1022770.0</td>\n      <td>2022-06-10</td>\n      <td>28596.32</td>\n      <td>GASTOS VARIOS</td>\n    </tr>\n    <tr>\n      <th>4</th>\n      <td>110741</td>\n      <td>ALMACEN PAPELERO SALDAÑA, S.A. DE C.V.</td>\n      <td>APS931217911</td>\n      <td>MTY7153-183011-1776</td>\n      <td>ORDEN DE COMPRA 7556</td>\n      <td>SUMINISTRO DE PIZARRON DE CORCHO PARA LA DIREC...</td>\n      <td>TR</td>\n      <td>1022770.0</td>\n      <td>2022-06-10</td>\n      <td>3781.60</td>\n      <td>GASTOS VARIOS</td>\n    </tr>\n  </tbody>\n</table>\n</div>"
     },
     "metadata": {}
    }
   ],
   "execution_count": null
  },
  {
   "cell_type": "code",
   "metadata": {
    "cell_id": "1df10515e4da4eb49c07f50e90346454",
    "tags": [],
    "deepnote_to_be_reexecuted": false,
    "source_hash": "39ec76a2",
    "execution_start": 1659498167180,
    "execution_millis": 3,
    "deepnote_cell_type": "code",
    "deepnote_cell_height": 113.1875
   },
   "source": "len(df_compras_jun)",
   "outputs": [
    {
     "output_type": "execute_result",
     "execution_count": 12,
     "data": {
      "text/plain": "1854"
     },
     "metadata": {}
    }
   ],
   "execution_count": null
  },
  {
   "cell_type": "code",
   "metadata": {
    "cell_id": "d4ae64ca35bf4e8b90eaee67d9848f7d",
    "tags": [],
    "deepnote_to_be_reexecuted": false,
    "source_hash": "43a7e3cc",
    "execution_start": 1659498167184,
    "execution_millis": 7,
    "deepnote_cell_type": "code",
    "deepnote_cell_height": 76
   },
   "source": "df_compras_jun_comp = df_compras_jun.dropna(how='any')",
   "outputs": [],
   "execution_count": null
  },
  {
   "cell_type": "code",
   "metadata": {
    "cell_id": "127b0d729abf437faa75d876b368f9f8",
    "tags": [],
    "deepnote_to_be_reexecuted": false,
    "source_hash": "24c34733",
    "execution_start": 1659498167228,
    "execution_millis": 7,
    "deepnote_cell_type": "code",
    "deepnote_cell_height": 113.1875
   },
   "source": "len(df_compras_jun_comp)",
   "outputs": [
    {
     "output_type": "execute_result",
     "execution_count": 14,
     "data": {
      "text/plain": "1564"
     },
     "metadata": {}
    }
   ],
   "execution_count": null
  },
  {
   "cell_type": "code",
   "metadata": {
    "cell_id": "46e79e936adc4d4897bb8ed242b82fd5",
    "tags": [],
    "deepnote_to_be_reexecuted": false,
    "source_hash": "18047c51",
    "execution_start": 1659498167230,
    "execution_millis": 5,
    "deepnote_cell_type": "code",
    "deepnote_cell_height": 324.25
   },
   "source": "df_compras_jun_comp.dtypes",
   "outputs": [
    {
     "output_type": "execute_result",
     "execution_count": 15,
     "data": {
      "text/plain": "CVE BEN                 object\nBENEFICIARIO            object\nRFC                     object\nFACTURAS                object\nCONTRATO                object\nCONCEPTO                object\nTIPO                    object\nFDO-#OP                float64\nFECHA           datetime64[ns]\nIMPORTE                float64\nSHEET                   object\ndtype: object"
     },
     "metadata": {}
    }
   ],
   "execution_count": null
  },
  {
   "cell_type": "code",
   "metadata": {
    "cell_id": "4354871e0ab4432296b2467c60b5cac6",
    "tags": [],
    "deepnote_to_be_reexecuted": false,
    "source_hash": "b3890f47",
    "execution_start": 1659498167231,
    "execution_millis": 5,
    "deepnote_cell_type": "code",
    "deepnote_cell_height": 132.375
   },
   "source": "df_compras_jun_comp['FECHA'].apply(lambda x: x.month).value_counts()",
   "outputs": [
    {
     "output_type": "execute_result",
     "execution_count": 16,
     "data": {
      "text/plain": "6    1564\nName: FECHA, dtype: int64"
     },
     "metadata": {}
    }
   ],
   "execution_count": null
  },
  {
   "cell_type": "code",
   "metadata": {
    "cell_id": "8ac2b78350234b718f7579d183131625",
    "tags": [],
    "deepnote_to_be_reexecuted": false,
    "source_hash": "d0d819ce",
    "execution_start": 1659498167266,
    "execution_millis": 7,
    "deepnote_cell_type": "code",
    "deepnote_cell_height": 407
   },
   "source": "df_compras_jun_comp.head(5)",
   "outputs": [
    {
     "output_type": "execute_result",
     "execution_count": 17,
     "data": {
      "application/vnd.deepnote.dataframe.v3+json": {
       "column_count": 11,
       "row_count": 5,
       "columns": [
        {
         "name": "CVE BEN",
         "dtype": "object",
         "stats": {
          "unique_count": 2,
          "nan_count": 0,
          "categories": [
           {
            "name": "110741",
            "count": 4
           },
           {
            "name": "110150",
            "count": 1
           }
          ]
         }
        },
        {
         "name": "BENEFICIARIO",
         "dtype": "object",
         "stats": {
          "unique_count": 2,
          "nan_count": 0,
          "categories": [
           {
            "name": "ALMACEN PAPELERO SALDAÑA, S.A. DE C.V.",
            "count": 4
           },
           {
            "name": "COMPUMARK, S.A. DE C.V.",
            "count": 1
           }
          ]
         }
        },
        {
         "name": "RFC",
         "dtype": "object",
         "stats": {
          "unique_count": 2,
          "nan_count": 0,
          "categories": [
           {
            "name": "APS931217911",
            "count": 4
           },
           {
            "name": "CMR9201064P4",
            "count": 1
           }
          ]
         }
        },
        {
         "name": "FACTURAS",
         "dtype": "object",
         "stats": {
          "unique_count": 5,
          "nan_count": 0,
          "categories": [
           {
            "name": "A60360-183011-2283",
            "count": 1
           },
           {
            "name": "MTY7291-183011-2249",
            "count": 1
           },
           {
            "name": "3 others",
            "count": 3
           }
          ]
         }
        },
        {
         "name": "CONTRATO",
         "dtype": "object",
         "stats": {
          "unique_count": 5,
          "nan_count": 0,
          "categories": [
           {
            "name": "ORDEN DE COMPRA 8020",
            "count": 1
           },
           {
            "name": "ORDEN DE COMPRA 7804",
            "count": 1
           },
           {
            "name": "3 others",
            "count": 3
           }
          ]
         }
        },
        {
         "name": "CONCEPTO",
         "dtype": "object",
         "stats": {
          "unique_count": 5,
          "nan_count": 0,
          "categories": [
           {
            "name": "SUMINISTRO DE REQUERIMIENTOS PARA EL EVENTO \"DIA DE LAS MAESTRAS Y LOS MAESTROS 2022\", DESARROLLO HUMANO E IGUALDAD SUSTANTIVA (COMPUTADORA PORTATIL)",
            "count": 1
           },
           {
            "name": "SUMINISTRO DE MATERIALES PARA LOS CENTROS DE BIENESTAR FAMILIAR, DIF DE MONTERREY",
            "count": 1
           },
           {
            "name": "3 others",
            "count": 3
           }
          ]
         }
        },
        {
         "name": "TIPO",
         "dtype": "object",
         "stats": {
          "unique_count": 1,
          "nan_count": 0,
          "categories": [
           {
            "name": "TR",
            "count": 5
           }
          ]
         }
        },
        {
         "name": "FDO-#OP",
         "dtype": "float64",
         "stats": {
          "unique_count": 3,
          "nan_count": 0,
          "min": "1022770.0",
          "max": "1022838.0",
          "histogram": [
           {
            "bin_start": 1022770,
            "bin_end": 1022776.8,
            "count": 3
           },
           {
            "bin_start": 1022776.8,
            "bin_end": 1022783.6,
            "count": 0
           },
           {
            "bin_start": 1022783.6,
            "bin_end": 1022790.4,
            "count": 0
           },
           {
            "bin_start": 1022790.4,
            "bin_end": 1022797.2,
            "count": 0
           },
           {
            "bin_start": 1022797.2,
            "bin_end": 1022804,
            "count": 0
           },
           {
            "bin_start": 1022804,
            "bin_end": 1022810.8,
            "count": 0
           },
           {
            "bin_start": 1022810.8,
            "bin_end": 1022817.6,
            "count": 1
           },
           {
            "bin_start": 1022817.6,
            "bin_end": 1022824.4,
            "count": 0
           },
           {
            "bin_start": 1022824.4,
            "bin_end": 1022831.2,
            "count": 0
           },
           {
            "bin_start": 1022831.2,
            "bin_end": 1022838,
            "count": 1
           }
          ]
         }
        },
        {
         "name": "FECHA",
         "dtype": "datetime64[ns]",
         "stats": {
          "unique_count": 2,
          "nan_count": 0,
          "min": "2022-06-10 00:00:00",
          "max": "2022-06-17 00:00:00",
          "histogram": [
           {
            "bin_start": 1654819200000000000,
            "bin_end": 1654879680000000000,
            "count": 3
           },
           {
            "bin_start": 1654879680000000000,
            "bin_end": 1654940160000000000,
            "count": 0
           },
           {
            "bin_start": 1654940160000000000,
            "bin_end": 1655000640000000000,
            "count": 0
           },
           {
            "bin_start": 1655000640000000000,
            "bin_end": 1655061120000000000,
            "count": 0
           },
           {
            "bin_start": 1655061120000000000,
            "bin_end": 1655121600000000000,
            "count": 0
           },
           {
            "bin_start": 1655121600000000000,
            "bin_end": 1655182080000000000,
            "count": 0
           },
           {
            "bin_start": 1655182080000000000,
            "bin_end": 1655242560000000000,
            "count": 0
           },
           {
            "bin_start": 1655242560000000000,
            "bin_end": 1655303040000000000,
            "count": 0
           },
           {
            "bin_start": 1655303040000000000,
            "bin_end": 1655363520000000000,
            "count": 0
           },
           {
            "bin_start": 1655363520000000000,
            "bin_end": 1655424000000000000,
            "count": 2
           }
          ]
         }
        },
        {
         "name": "IMPORTE",
         "dtype": "float64",
         "stats": {
          "unique_count": 5,
          "nan_count": 0,
          "min": "2872.1",
          "max": "885080.0",
          "histogram": [
           {
            "bin_start": 2872.1,
            "bin_end": 91092.89000000001,
            "count": 4
           },
           {
            "bin_start": 91092.89000000001,
            "bin_end": 179313.68000000002,
            "count": 0
           },
           {
            "bin_start": 179313.68000000002,
            "bin_end": 267534.47,
            "count": 0
           },
           {
            "bin_start": 267534.47,
            "bin_end": 355755.26,
            "count": 0
           },
           {
            "bin_start": 355755.26,
            "bin_end": 443976.05000000005,
            "count": 0
           },
           {
            "bin_start": 443976.05000000005,
            "bin_end": 532196.84,
            "count": 0
           },
           {
            "bin_start": 532196.84,
            "bin_end": 620417.63,
            "count": 0
           },
           {
            "bin_start": 620417.63,
            "bin_end": 708638.42,
            "count": 0
           },
           {
            "bin_start": 708638.42,
            "bin_end": 796859.2100000001,
            "count": 0
           },
           {
            "bin_start": 796859.2100000001,
            "bin_end": 885080,
            "count": 1
           }
          ]
         }
        },
        {
         "name": "SHEET",
         "dtype": "object",
         "stats": {
          "unique_count": 1,
          "nan_count": 0,
          "categories": [
           {
            "name": "GASTOS VARIOS",
            "count": 5
           }
          ]
         }
        },
        {
         "name": "_deepnote_index_column",
         "dtype": "int64"
        }
       ],
       "rows": [
        {
         "CVE BEN": "110150",
         "BENEFICIARIO": "COMPUMARK, S.A. DE C.V.",
         "RFC": "CMR9201064P4",
         "FACTURAS": "A60360-183011-2283",
         "CONTRATO": "ORDEN DE COMPRA 8020",
         "CONCEPTO": "SUMINISTRO DE REQUERIMIENTOS PARA EL EVENTO \"DIA DE LAS MAESTRAS Y LOS MAESTROS 2022\", DESARROLLO HUMANO E IGUALDAD SUSTANTIVA (COMPUTADORA PORTATIL)",
         "TIPO": "TR",
         "FDO-#OP": 1022838,
         "FECHA": "2022-06-17T00:00:00.000000",
         "IMPORTE": 885080,
         "SHEET": "GASTOS VARIOS",
         "_deepnote_index_column": 0
        },
        {
         "CVE BEN": "110741",
         "BENEFICIARIO": "ALMACEN PAPELERO SALDAÑA, S.A. DE C.V.",
         "RFC": "APS931217911",
         "FACTURAS": "MTY7291-183011-2249",
         "CONTRATO": "ORDEN DE COMPRA 7804",
         "CONCEPTO": "SUMINISTRO DE MATERIALES PARA LOS CENTROS DE BIENESTAR FAMILIAR, DIF DE MONTERREY",
         "TIPO": "TR",
         "FDO-#OP": 1022770,
         "FECHA": "2022-06-10T00:00:00.000000",
         "IMPORTE": 52854.24,
         "SHEET": "GASTOS VARIOS",
         "_deepnote_index_column": 2
        },
        {
         "CVE BEN": "110741",
         "BENEFICIARIO": "ALMACEN PAPELERO SALDAÑA, S.A. DE C.V.",
         "RFC": "APS931217911",
         "FACTURAS": "MTY7274-183011-2226",
         "CONTRATO": "ORDEN DE COMPRA 7840",
         "CONCEPTO": "SUMINISTRO DE PAPEL AUTOCOPIA, SECRETARIA DE SERVICIOS PUBLICOS",
         "TIPO": "TR",
         "FDO-#OP": 1022770,
         "FECHA": "2022-06-10T00:00:00.000000",
         "IMPORTE": 28596.32,
         "SHEET": "GASTOS VARIOS",
         "_deepnote_index_column": 3
        },
        {
         "CVE BEN": "110741",
         "BENEFICIARIO": "ALMACEN PAPELERO SALDAÑA, S.A. DE C.V.",
         "RFC": "APS931217911",
         "FACTURAS": "MTY7153-183011-1776",
         "CONTRATO": "ORDEN DE COMPRA 7556",
         "CONCEPTO": "SUMINISTRO DE PIZARRON DE CORCHO PARA LA DIRECCION DE CENTROS DE BIENESTAR FAMILIAR, DIF DE MONTERREY",
         "TIPO": "TR",
         "FDO-#OP": 1022770,
         "FECHA": "2022-06-10T00:00:00.000000",
         "IMPORTE": 3781.6,
         "SHEET": "GASTOS VARIOS",
         "_deepnote_index_column": 4
        },
        {
         "CVE BEN": "110741",
         "BENEFICIARIO": "ALMACEN PAPELERO SALDAÑA, S.A. DE C.V.",
         "RFC": "APS931217911",
         "FACTURAS": "MTY7250-183011-1971",
         "CONTRATO": "ORDEN DE COMPRA 7805",
         "CONCEPTO": "SUMINISTRO DE TRITURADORA DE PAPEL Y PINTARRON, DIF MONTERREY",
         "TIPO": "TR",
         "FDO-#OP": 1022815,
         "FECHA": "2022-06-17T00:00:00.000000",
         "IMPORTE": 2872.1,
         "SHEET": "GASTOS VARIOS",
         "_deepnote_index_column": 5
        }
       ]
      },
      "text/plain": "  CVE BEN                            BENEFICIARIO           RFC  \\\n0  110150                 COMPUMARK, S.A. DE C.V.  CMR9201064P4   \n2  110741  ALMACEN PAPELERO SALDAÑA, S.A. DE C.V.  APS931217911   \n3  110741  ALMACEN PAPELERO SALDAÑA, S.A. DE C.V.  APS931217911   \n4  110741  ALMACEN PAPELERO SALDAÑA, S.A. DE C.V.  APS931217911   \n5  110741  ALMACEN PAPELERO SALDAÑA, S.A. DE C.V.  APS931217911   \n\n              FACTURAS              CONTRATO  \\\n0   A60360-183011-2283  ORDEN DE COMPRA 8020   \n2  MTY7291-183011-2249  ORDEN DE COMPRA 7804   \n3  MTY7274-183011-2226  ORDEN DE COMPRA 7840   \n4  MTY7153-183011-1776  ORDEN DE COMPRA 7556   \n5  MTY7250-183011-1971  ORDEN DE COMPRA 7805   \n\n                                            CONCEPTO TIPO    FDO-#OP  \\\n0  SUMINISTRO DE REQUERIMIENTOS PARA EL EVENTO \"D...   TR  1022838.0   \n2  SUMINISTRO DE MATERIALES PARA LOS CENTROS DE B...   TR  1022770.0   \n3  SUMINISTRO DE PAPEL AUTOCOPIA, SECRETARIA DE S...   TR  1022770.0   \n4  SUMINISTRO DE PIZARRON DE CORCHO PARA LA DIREC...   TR  1022770.0   \n5  SUMINISTRO DE TRITURADORA DE PAPEL Y PINTARRON...   TR  1022815.0   \n\n       FECHA    IMPORTE          SHEET  \n0 2022-06-17  885080.00  GASTOS VARIOS  \n2 2022-06-10   52854.24  GASTOS VARIOS  \n3 2022-06-10   28596.32  GASTOS VARIOS  \n4 2022-06-10    3781.60  GASTOS VARIOS  \n5 2022-06-17    2872.10  GASTOS VARIOS  ",
      "text/html": "<div>\n<style scoped>\n    .dataframe tbody tr th:only-of-type {\n        vertical-align: middle;\n    }\n\n    .dataframe tbody tr th {\n        vertical-align: top;\n    }\n\n    .dataframe thead th {\n        text-align: right;\n    }\n</style>\n<table border=\"1\" class=\"dataframe\">\n  <thead>\n    <tr style=\"text-align: right;\">\n      <th></th>\n      <th>CVE BEN</th>\n      <th>BENEFICIARIO</th>\n      <th>RFC</th>\n      <th>FACTURAS</th>\n      <th>CONTRATO</th>\n      <th>CONCEPTO</th>\n      <th>TIPO</th>\n      <th>FDO-#OP</th>\n      <th>FECHA</th>\n      <th>IMPORTE</th>\n      <th>SHEET</th>\n    </tr>\n  </thead>\n  <tbody>\n    <tr>\n      <th>0</th>\n      <td>110150</td>\n      <td>COMPUMARK, S.A. DE C.V.</td>\n      <td>CMR9201064P4</td>\n      <td>A60360-183011-2283</td>\n      <td>ORDEN DE COMPRA 8020</td>\n      <td>SUMINISTRO DE REQUERIMIENTOS PARA EL EVENTO \"D...</td>\n      <td>TR</td>\n      <td>1022838.0</td>\n      <td>2022-06-17</td>\n      <td>885080.00</td>\n      <td>GASTOS VARIOS</td>\n    </tr>\n    <tr>\n      <th>2</th>\n      <td>110741</td>\n      <td>ALMACEN PAPELERO SALDAÑA, S.A. DE C.V.</td>\n      <td>APS931217911</td>\n      <td>MTY7291-183011-2249</td>\n      <td>ORDEN DE COMPRA 7804</td>\n      <td>SUMINISTRO DE MATERIALES PARA LOS CENTROS DE B...</td>\n      <td>TR</td>\n      <td>1022770.0</td>\n      <td>2022-06-10</td>\n      <td>52854.24</td>\n      <td>GASTOS VARIOS</td>\n    </tr>\n    <tr>\n      <th>3</th>\n      <td>110741</td>\n      <td>ALMACEN PAPELERO SALDAÑA, S.A. DE C.V.</td>\n      <td>APS931217911</td>\n      <td>MTY7274-183011-2226</td>\n      <td>ORDEN DE COMPRA 7840</td>\n      <td>SUMINISTRO DE PAPEL AUTOCOPIA, SECRETARIA DE S...</td>\n      <td>TR</td>\n      <td>1022770.0</td>\n      <td>2022-06-10</td>\n      <td>28596.32</td>\n      <td>GASTOS VARIOS</td>\n    </tr>\n    <tr>\n      <th>4</th>\n      <td>110741</td>\n      <td>ALMACEN PAPELERO SALDAÑA, S.A. DE C.V.</td>\n      <td>APS931217911</td>\n      <td>MTY7153-183011-1776</td>\n      <td>ORDEN DE COMPRA 7556</td>\n      <td>SUMINISTRO DE PIZARRON DE CORCHO PARA LA DIREC...</td>\n      <td>TR</td>\n      <td>1022770.0</td>\n      <td>2022-06-10</td>\n      <td>3781.60</td>\n      <td>GASTOS VARIOS</td>\n    </tr>\n    <tr>\n      <th>5</th>\n      <td>110741</td>\n      <td>ALMACEN PAPELERO SALDAÑA, S.A. DE C.V.</td>\n      <td>APS931217911</td>\n      <td>MTY7250-183011-1971</td>\n      <td>ORDEN DE COMPRA 7805</td>\n      <td>SUMINISTRO DE TRITURADORA DE PAPEL Y PINTARRON...</td>\n      <td>TR</td>\n      <td>1022815.0</td>\n      <td>2022-06-17</td>\n      <td>2872.10</td>\n      <td>GASTOS VARIOS</td>\n    </tr>\n  </tbody>\n</table>\n</div>"
     },
     "metadata": {}
    }
   ],
   "execution_count": null
  },
  {
   "cell_type": "code",
   "metadata": {
    "cell_id": "69c4114e32b743f29a1a89bbc8ae0f4e",
    "tags": [],
    "deepnote_to_be_reexecuted": false,
    "source_hash": "dcb8db01",
    "execution_start": 1659498167327,
    "execution_millis": 1,
    "deepnote_cell_type": "code",
    "deepnote_cell_height": 76
   },
   "source": "df_compras_jun_comp.to_csv('clean_compras.csv', index=None)",
   "outputs": [],
   "execution_count": null
  },
  {
   "cell_type": "code",
   "metadata": {
    "cell_id": "66b894181dba427ca51193f34bcf4469",
    "tags": [],
    "deepnote_to_be_reexecuted": false,
    "source_hash": "b623e53d",
    "execution_start": 1659498167328,
    "execution_millis": 0,
    "deepnote_cell_type": "code",
    "deepnote_cell_height": 76
   },
   "source": "",
   "outputs": [],
   "execution_count": null
  },
  {
   "cell_type": "markdown",
   "source": "<a style='text-decoration:none;line-height:16px;display:flex;color:#5B5B62;padding:10px;justify-content:end;' href='https://deepnote.com?utm_source=created-in-deepnote-cell&projectId=6853f152-0228-4c63-98bd-f29aa5103223' target=\"_blank\">\n<img alt='Created in deepnote.com' style='display:inline;max-height:16px;margin:0px;margin-right:7.5px;' src='data:image/svg+xml;base64,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' > </img>\nCreated in <span style='font-weight:600;margin-left:4px;'>Deepnote</span></a>",
   "metadata": {
    "tags": [],
    "created_in_deepnote_cell": true,
    "deepnote_cell_type": "markdown"
   }
  }
 ],
 "nbformat": 4,
 "nbformat_minor": 2,
 "metadata": {
  "orig_nbformat": 2,
  "deepnote": {},
  "deepnote_notebook_id": "a3216478-3b3b-4316-ab7a-024dda2c5352",
  "deepnote_execution_queue": []
 }
}