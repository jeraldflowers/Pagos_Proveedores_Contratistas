{
 "cells": [
  {
   "cell_type": "code",
   "metadata": {
    "tags": [],
    "cell_id": "e34cc2eb-641c-401c-93ab-f48f61407d95",
    "deepnote_to_be_reexecuted": false,
    "source_hash": "793effd",
    "execution_start": 1659498135272,
    "execution_millis": 820,
    "deepnote_cell_type": "code",
    "deepnote_cell_height": 94
   },
   "source": "import pandas as pd\n%matplotlib inline",
   "outputs": [],
   "execution_count": null
  },
  {
   "cell_type": "code",
   "metadata": {
    "cell_id": "46ea34f4497442dbbd7ec68c00981455",
    "tags": [],
    "deepnote_to_be_reexecuted": false,
    "source_hash": "c0b8192b",
    "execution_start": 1659498136095,
    "execution_millis": 6,
    "deepnote_cell_type": "code",
    "deepnote_cell_height": 76
   },
   "source": "compras_df = pd.read_csv('/work/clean_compras.csv')",
   "outputs": [],
   "execution_count": null
  },
  {
   "cell_type": "code",
   "metadata": {
    "cell_id": "f7ea9bbb13eb414289cf1746e7845554",
    "tags": [],
    "deepnote_to_be_reexecuted": false,
    "source_hash": "936c64ac",
    "execution_start": 1659498136112,
    "execution_millis": 10,
    "deepnote_cell_type": "code",
    "deepnote_cell_height": 390
   },
   "source": "compras_df.head(5)",
   "outputs": [
    {
     "output_type": "execute_result",
     "execution_count": 3,
     "data": {
      "application/vnd.deepnote.dataframe.v3+json": {
       "column_count": 1,
       "row_count": 5,
       "columns": [
        {
         "name": "0",
         "dtype": "object",
         "stats": {
          "unique_count": 5,
          "nan_count": 0,
          "categories": [
           {
            "name": "COMPUMARK, S.A. DE C.V.",
            "count": 1
           },
           {
            "name": "ALMACEN PAPELERO SALDAÑA, S.A. DE C.V.",
            "count": 1
           },
           {
            "name": "3 others",
            "count": 3
           }
          ]
         }
        },
        {
         "name": "_deepnote_index_column",
         "dtype": "int64"
        }
       ],
       "rows": [
        {
         "0": "COMPUMARK, S.A. DE C.V.",
         "_deepnote_index_column": 0
        },
        {
         "0": "ALMACEN PAPELERO SALDAÑA, S.A. DE C.V.",
         "_deepnote_index_column": 1
        },
        {
         "0": "PLOMIFERRETERA EL TORNILLO, S.A. DE C.V.",
         "_deepnote_index_column": 2
        },
        {
         "0": "MISODI PUBLICIDAD,S.A.DE C.V.",
         "_deepnote_index_column": 3
        },
        {
         "0": "IMPULSORA DE RENTAS Y SERVICIOS, S.A. DE C.V.",
         "_deepnote_index_column": 4
        }
       ]
      },
      "text/plain": "                                               0\n0                        COMPUMARK, S.A. DE C.V.\n1         ALMACEN PAPELERO SALDAÑA, S.A. DE C.V.\n2       PLOMIFERRETERA EL TORNILLO, S.A. DE C.V.\n3                  MISODI PUBLICIDAD,S.A.DE C.V.\n4  IMPULSORA DE RENTAS Y SERVICIOS, S.A. DE C.V.",
      "text/html": "<div>\n<style scoped>\n    .dataframe tbody tr th:only-of-type {\n        vertical-align: middle;\n    }\n\n    .dataframe tbody tr th {\n        vertical-align: top;\n    }\n\n    .dataframe thead th {\n        text-align: right;\n    }\n</style>\n<table border=\"1\" class=\"dataframe\">\n  <thead>\n    <tr style=\"text-align: right;\">\n      <th></th>\n      <th>0</th>\n    </tr>\n  </thead>\n  <tbody>\n    <tr>\n      <th>0</th>\n      <td>COMPUMARK, S.A. DE C.V.</td>\n    </tr>\n    <tr>\n      <th>1</th>\n      <td>ALMACEN PAPELERO SALDAÑA, S.A. DE C.V.</td>\n    </tr>\n    <tr>\n      <th>2</th>\n      <td>PLOMIFERRETERA EL TORNILLO, S.A. DE C.V.</td>\n    </tr>\n    <tr>\n      <th>3</th>\n      <td>MISODI PUBLICIDAD,S.A.DE C.V.</td>\n    </tr>\n    <tr>\n      <th>4</th>\n      <td>IMPULSORA DE RENTAS Y SERVICIOS, S.A. DE C.V.</td>\n    </tr>\n  </tbody>\n</table>\n</div>"
     },
     "metadata": {}
    }
   ],
   "execution_count": null
  },
  {
   "cell_type": "markdown",
   "source": "# Visión General del Dataset",
   "metadata": {
    "cell_id": "8853b16ad89c4d11ae571ad16b85bad0",
    "tags": [],
    "deepnote_cell_type": "markdown",
    "deepnote_cell_height": 82
   }
  },
  {
   "cell_type": "code",
   "metadata": {
    "cell_id": "6a71bac1b58446cb96b83b41374adfbf",
    "tags": [],
    "deepnote_to_be_reexecuted": false,
    "source_hash": "758c3ad2",
    "execution_start": 1659498136128,
    "execution_millis": 6,
    "deepnote_cell_type": "code",
    "deepnote_cell_height": 113.1875,
    "deepnote_output_heights": [
     21.1875
    ]
   },
   "source": "compras_df.columns",
   "outputs": [
    {
     "output_type": "execute_result",
     "execution_count": 4,
     "data": {
      "text/plain": "Index(['0'], dtype='object')"
     },
     "metadata": {}
    }
   ],
   "execution_count": null
  },
  {
   "cell_type": "code",
   "metadata": {
    "cell_id": "5cfd9d335b934e1784a7ad8ee047a666",
    "tags": [],
    "deepnote_to_be_reexecuted": false,
    "source_hash": "60c20275",
    "execution_start": 1659498136180,
    "execution_millis": 0,
    "deepnote_cell_type": "code",
    "deepnote_cell_height": 324.25,
    "deepnote_output_heights": [
     40.375
    ]
   },
   "source": "compras_df.dtypes",
   "outputs": [
    {
     "output_type": "execute_result",
     "execution_count": 5,
     "data": {
      "text/plain": "0    object\ndtype: object"
     },
     "metadata": {}
    }
   ],
   "execution_count": null
  },
  {
   "cell_type": "code",
   "metadata": {
    "cell_id": "edbef169096246fa9205d1034aa0113f",
    "tags": [],
    "deepnote_to_be_reexecuted": false,
    "source_hash": "2ee5bc7e",
    "execution_start": 1659498136181,
    "execution_millis": 5,
    "deepnote_cell_type": "code",
    "deepnote_cell_height": 349
   },
   "source": "compras_df.describe()",
   "outputs": [
    {
     "output_type": "execute_result",
     "execution_count": 6,
     "data": {
      "application/vnd.deepnote.dataframe.v3+json": {
       "column_count": 1,
       "row_count": 4,
       "columns": [
        {
         "name": "0",
         "dtype": "object",
         "stats": {
          "unique_count": 3,
          "nan_count": 0,
          "categories": [
           {
            "name": "533",
            "count": 2
           },
           {
            "name": "CKT EDIFICACIONES, SA. DE CV.",
            "count": 1
           },
           {
            "name": "1",
            "count": 1
           }
          ]
         }
        },
        {
         "name": "_deepnote_index_column",
         "dtype": "object"
        }
       ],
       "rows": [
        {
         "0": "533",
         "_deepnote_index_column": "count"
        },
        {
         "0": "533",
         "_deepnote_index_column": "unique"
        },
        {
         "0": "CKT EDIFICACIONES, SA. DE CV.",
         "_deepnote_index_column": "top"
        },
        {
         "0": "1",
         "_deepnote_index_column": "freq"
        }
       ]
      },
      "text/plain": "                                    0\ncount                             533\nunique                            533\ntop     CKT EDIFICACIONES, SA. DE CV.\nfreq                                1",
      "text/html": "<div>\n<style scoped>\n    .dataframe tbody tr th:only-of-type {\n        vertical-align: middle;\n    }\n\n    .dataframe tbody tr th {\n        vertical-align: top;\n    }\n\n    .dataframe thead th {\n        text-align: right;\n    }\n</style>\n<table border=\"1\" class=\"dataframe\">\n  <thead>\n    <tr style=\"text-align: right;\">\n      <th></th>\n      <th>0</th>\n    </tr>\n  </thead>\n  <tbody>\n    <tr>\n      <th>count</th>\n      <td>533</td>\n    </tr>\n    <tr>\n      <th>unique</th>\n      <td>533</td>\n    </tr>\n    <tr>\n      <th>top</th>\n      <td>CKT EDIFICACIONES, SA. DE CV.</td>\n    </tr>\n    <tr>\n      <th>freq</th>\n      <td>1</td>\n    </tr>\n  </tbody>\n</table>\n</div>"
     },
     "metadata": {}
    }
   ],
   "execution_count": null
  },
  {
   "cell_type": "code",
   "metadata": {
    "cell_id": "a346128d7d174b5f885f429580922f3a",
    "tags": [],
    "deepnote_to_be_reexecuted": false,
    "source_hash": "4391dee7",
    "execution_start": 1659498136182,
    "execution_millis": 90,
    "deepnote_cell_type": "code",
    "deepnote_cell_height": 163.375
   },
   "source": "compras_df = compras_df[['BENEFICIARIO', 'FACTURAS', 'CONTRATO', 'CONCEPTO', 'TIPO', 'FDO-#OP', 'FECHA', 'IMPORTE', 'SHEET']]",
   "outputs": [
    {
     "output_type": "error",
     "ename": "KeyError",
     "evalue": "\"None of [Index(['BENEFICIARIO', 'FACTURAS', 'CONTRATO', 'CONCEPTO', 'TIPO', 'FDO-#OP',\\n       'FECHA', 'IMPORTE', 'SHEET'],\\n      dtype='object')] are in the [columns]\"",
     "traceback": [
      "\u001b[0;31m---------------------------------------------------------------------------\u001b[0m",
      "\u001b[0;31mKeyError\u001b[0m                                  Traceback (most recent call last)",
      "\u001b[0;32m<ipython-input-7-d81ba3026456>\u001b[0m in \u001b[0;36m<cell line: 1>\u001b[0;34m()\u001b[0m\n\u001b[0;32m----> 1\u001b[0;31m \u001b[0mcompras_df\u001b[0m \u001b[0;34m=\u001b[0m \u001b[0mcompras_df\u001b[0m\u001b[0;34m[\u001b[0m\u001b[0;34m[\u001b[0m\u001b[0;34m'BENEFICIARIO'\u001b[0m\u001b[0;34m,\u001b[0m \u001b[0;34m'FACTURAS'\u001b[0m\u001b[0;34m,\u001b[0m \u001b[0;34m'CONTRATO'\u001b[0m\u001b[0;34m,\u001b[0m \u001b[0;34m'CONCEPTO'\u001b[0m\u001b[0;34m,\u001b[0m \u001b[0;34m'TIPO'\u001b[0m\u001b[0;34m,\u001b[0m \u001b[0;34m'FDO-#OP'\u001b[0m\u001b[0;34m,\u001b[0m \u001b[0;34m'FECHA'\u001b[0m\u001b[0;34m,\u001b[0m \u001b[0;34m'IMPORTE'\u001b[0m\u001b[0;34m,\u001b[0m \u001b[0;34m'SHEET'\u001b[0m\u001b[0;34m]\u001b[0m\u001b[0;34m]\u001b[0m\u001b[0;34m\u001b[0m\u001b[0;34m\u001b[0m\u001b[0m\n\u001b[0m",
      "\u001b[0;32m/shared-libs/python3.9/py/lib/python3.9/site-packages/pandas/core/frame.py\u001b[0m in \u001b[0;36m__getitem__\u001b[0;34m(self, key)\u001b[0m\n\u001b[1;32m   3028\u001b[0m             \u001b[0;32mif\u001b[0m \u001b[0mis_iterator\u001b[0m\u001b[0;34m(\u001b[0m\u001b[0mkey\u001b[0m\u001b[0;34m)\u001b[0m\u001b[0;34m:\u001b[0m\u001b[0;34m\u001b[0m\u001b[0;34m\u001b[0m\u001b[0m\n\u001b[1;32m   3029\u001b[0m                 \u001b[0mkey\u001b[0m \u001b[0;34m=\u001b[0m \u001b[0mlist\u001b[0m\u001b[0;34m(\u001b[0m\u001b[0mkey\u001b[0m\u001b[0;34m)\u001b[0m\u001b[0;34m\u001b[0m\u001b[0;34m\u001b[0m\u001b[0m\n\u001b[0;32m-> 3030\u001b[0;31m             \u001b[0mindexer\u001b[0m \u001b[0;34m=\u001b[0m \u001b[0mself\u001b[0m\u001b[0;34m.\u001b[0m\u001b[0mloc\u001b[0m\u001b[0;34m.\u001b[0m\u001b[0m_get_listlike_indexer\u001b[0m\u001b[0;34m(\u001b[0m\u001b[0mkey\u001b[0m\u001b[0;34m,\u001b[0m \u001b[0maxis\u001b[0m\u001b[0;34m=\u001b[0m\u001b[0;36m1\u001b[0m\u001b[0;34m,\u001b[0m \u001b[0mraise_missing\u001b[0m\u001b[0;34m=\u001b[0m\u001b[0;32mTrue\u001b[0m\u001b[0;34m)\u001b[0m\u001b[0;34m[\u001b[0m\u001b[0;36m1\u001b[0m\u001b[0;34m]\u001b[0m\u001b[0;34m\u001b[0m\u001b[0;34m\u001b[0m\u001b[0m\n\u001b[0m\u001b[1;32m   3031\u001b[0m \u001b[0;34m\u001b[0m\u001b[0m\n\u001b[1;32m   3032\u001b[0m         \u001b[0;31m# take() does not accept boolean indexers\u001b[0m\u001b[0;34m\u001b[0m\u001b[0;34m\u001b[0m\u001b[0m\n",
      "\u001b[0;32m/shared-libs/python3.9/py/lib/python3.9/site-packages/pandas/core/indexing.py\u001b[0m in \u001b[0;36m_get_listlike_indexer\u001b[0;34m(self, key, axis, raise_missing)\u001b[0m\n\u001b[1;32m   1264\u001b[0m             \u001b[0mkeyarr\u001b[0m\u001b[0;34m,\u001b[0m \u001b[0mindexer\u001b[0m\u001b[0;34m,\u001b[0m \u001b[0mnew_indexer\u001b[0m \u001b[0;34m=\u001b[0m \u001b[0max\u001b[0m\u001b[0;34m.\u001b[0m\u001b[0m_reindex_non_unique\u001b[0m\u001b[0;34m(\u001b[0m\u001b[0mkeyarr\u001b[0m\u001b[0;34m)\u001b[0m\u001b[0;34m\u001b[0m\u001b[0;34m\u001b[0m\u001b[0m\n\u001b[1;32m   1265\u001b[0m \u001b[0;34m\u001b[0m\u001b[0m\n\u001b[0;32m-> 1266\u001b[0;31m         \u001b[0mself\u001b[0m\u001b[0;34m.\u001b[0m\u001b[0m_validate_read_indexer\u001b[0m\u001b[0;34m(\u001b[0m\u001b[0mkeyarr\u001b[0m\u001b[0;34m,\u001b[0m \u001b[0mindexer\u001b[0m\u001b[0;34m,\u001b[0m \u001b[0maxis\u001b[0m\u001b[0;34m,\u001b[0m \u001b[0mraise_missing\u001b[0m\u001b[0;34m=\u001b[0m\u001b[0mraise_missing\u001b[0m\u001b[0;34m)\u001b[0m\u001b[0;34m\u001b[0m\u001b[0;34m\u001b[0m\u001b[0m\n\u001b[0m\u001b[1;32m   1267\u001b[0m         \u001b[0;32mreturn\u001b[0m \u001b[0mkeyarr\u001b[0m\u001b[0;34m,\u001b[0m \u001b[0mindexer\u001b[0m\u001b[0;34m\u001b[0m\u001b[0;34m\u001b[0m\u001b[0m\n\u001b[1;32m   1268\u001b[0m \u001b[0;34m\u001b[0m\u001b[0m\n",
      "\u001b[0;32m/shared-libs/python3.9/py/lib/python3.9/site-packages/pandas/core/indexing.py\u001b[0m in \u001b[0;36m_validate_read_indexer\u001b[0;34m(self, key, indexer, axis, raise_missing)\u001b[0m\n\u001b[1;32m   1306\u001b[0m             \u001b[0;32mif\u001b[0m \u001b[0mmissing\u001b[0m \u001b[0;34m==\u001b[0m \u001b[0mlen\u001b[0m\u001b[0;34m(\u001b[0m\u001b[0mindexer\u001b[0m\u001b[0;34m)\u001b[0m\u001b[0;34m:\u001b[0m\u001b[0;34m\u001b[0m\u001b[0;34m\u001b[0m\u001b[0m\n\u001b[1;32m   1307\u001b[0m                 \u001b[0maxis_name\u001b[0m \u001b[0;34m=\u001b[0m \u001b[0mself\u001b[0m\u001b[0;34m.\u001b[0m\u001b[0mobj\u001b[0m\u001b[0;34m.\u001b[0m\u001b[0m_get_axis_name\u001b[0m\u001b[0;34m(\u001b[0m\u001b[0maxis\u001b[0m\u001b[0;34m)\u001b[0m\u001b[0;34m\u001b[0m\u001b[0;34m\u001b[0m\u001b[0m\n\u001b[0;32m-> 1308\u001b[0;31m                 \u001b[0;32mraise\u001b[0m \u001b[0mKeyError\u001b[0m\u001b[0;34m(\u001b[0m\u001b[0;34mf\"None of [{key}] are in the [{axis_name}]\"\u001b[0m\u001b[0;34m)\u001b[0m\u001b[0;34m\u001b[0m\u001b[0;34m\u001b[0m\u001b[0m\n\u001b[0m\u001b[1;32m   1309\u001b[0m \u001b[0;34m\u001b[0m\u001b[0m\n\u001b[1;32m   1310\u001b[0m             \u001b[0max\u001b[0m \u001b[0;34m=\u001b[0m \u001b[0mself\u001b[0m\u001b[0;34m.\u001b[0m\u001b[0mobj\u001b[0m\u001b[0;34m.\u001b[0m\u001b[0m_get_axis\u001b[0m\u001b[0;34m(\u001b[0m\u001b[0maxis\u001b[0m\u001b[0;34m)\u001b[0m\u001b[0;34m\u001b[0m\u001b[0;34m\u001b[0m\u001b[0m\n",
      "\u001b[0;31mKeyError\u001b[0m: \"None of [Index(['BENEFICIARIO', 'FACTURAS', 'CONTRATO', 'CONCEPTO', 'TIPO', 'FDO-#OP',\\n       'FECHA', 'IMPORTE', 'SHEET'],\\n      dtype='object')] are in the [columns]\""
     ]
    }
   ],
   "execution_count": null
  },
  {
   "cell_type": "markdown",
   "source": "## Análisis Unidimensional de las Variables",
   "metadata": {
    "cell_id": "4b6ee368b1c84bd28cda3db4788f5a16",
    "tags": [],
    "deepnote_cell_type": "markdown",
    "deepnote_cell_height": 70
   }
  },
  {
   "cell_type": "code",
   "metadata": {
    "cell_id": "0ccee58eaa9848b2b84197fd0a463534",
    "tags": [],
    "deepnote_to_be_reexecuted": true,
    "source_hash": "bbc6f724",
    "execution_start": 1659490766975,
    "execution_millis": 5,
    "deepnote_cell_type": "code",
    "deepnote_cell_height": 209.125,
    "deepnote_output_heights": [
     117.125
    ]
   },
   "source": "compras_df['SHEET'].value_counts()",
   "outputs": [
    {
     "output_type": "execute_result",
     "execution_count": 8,
     "data": {
      "text/plain": "OBRA PUBLICA Y GV FDOS. ESP    579\nGASTOS VARIOS                  507\nSERV PERS                      303\nCOMUNIC                        117\nSERV PROV                       58\nName: SHEET, dtype: int64"
     },
     "metadata": {}
    }
   ],
   "execution_count": null
  },
  {
   "cell_type": "code",
   "metadata": {
    "cell_id": "abb93eaa594842d8b303f80c2a6ab5c6",
    "tags": [],
    "deepnote_to_be_reexecuted": true,
    "source_hash": "2613b5b8",
    "execution_start": 1659490767030,
    "execution_millis": 579,
    "deepnote_cell_type": "code",
    "deepnote_cell_height": 113.1875,
    "deepnote_output_heights": [
     21.1875
    ]
   },
   "source": "len(compras_df['CONCEPTO'].value_counts())",
   "outputs": [
    {
     "output_type": "execute_result",
     "execution_count": 9,
     "data": {
      "text/plain": "1443"
     },
     "metadata": {}
    }
   ],
   "execution_count": null
  },
  {
   "cell_type": "code",
   "metadata": {
    "cell_id": "48a7318d00e34060a6c7227d120b2f21",
    "tags": [],
    "deepnote_to_be_reexecuted": true,
    "source_hash": "1b11bc71",
    "execution_start": 1659490767031,
    "execution_millis": 594,
    "deepnote_cell_type": "code",
    "deepnote_cell_height": 305.0625,
    "deepnote_output_heights": [
     213.0625
    ]
   },
   "source": "compras_df['BENEFICIARIO'].value_counts()[0:10]",
   "outputs": [
    {
     "output_type": "execute_result",
     "execution_count": 10,
     "data": {
      "text/plain": "CAR ONE MONTERREY, S.A. DE C.V.                          56\nINTERASFALTOS, S.A. DE C.V.                              49\nCAMARA MEXICANA DE LA INDUSTRIA DE LA CONSTRUCCION       44\nHISA FARMACEUTICA, S.A. DE C.V.                          40\nGRUPO COYOTE MONTERREY, S.A. DE C.V.                     38\nGARCIA ZAVALA EDGAR ALEJANDRO JOBERAGAN                  37\nEDITORA EL SOL, S.A. DE C.V.                             36\nCAR ONE AMERICANA,S.A.DE C.V.                            31\nPUBLICIDAD Y COMERCIALIZADORA DEL NORTE, S.A. DE C.V.    24\nCFE SUMINISTRADOR DE SERVICIOS BASICOS                   24\nName: BENEFICIARIO, dtype: int64"
     },
     "metadata": {}
    }
   ],
   "execution_count": null
  },
  {
   "cell_type": "code",
   "metadata": {
    "cell_id": "f39430997c69445598c860fe1f092ee4",
    "tags": [],
    "deepnote_to_be_reexecuted": true,
    "source_hash": "94d02c1f",
    "execution_start": 1659490767032,
    "execution_millis": 596,
    "deepnote_cell_type": "code",
    "deepnote_cell_height": 407.1875,
    "deepnote_output_heights": [
     21.1875,
     263
    ]
   },
   "source": "compras_df['IMPORTE'].hist()",
   "outputs": [
    {
     "output_type": "execute_result",
     "execution_count": 11,
     "data": {
      "text/plain": "<AxesSubplot:>"
     },
     "metadata": {}
    },
    {
     "data": {
      "text/plain": "<Figure size 432x288 with 1 Axes>",
      "image/png": "[encoded data removed]"
     },
     "metadata": {
      "needs_background": "light",
      "image/png": {
       "width": 381,
       "height": 261
      }
     },
     "output_type": "display_data"
    }
   ],
   "execution_count": null
  },
  {
   "cell_type": "code",
   "metadata": {
    "cell_id": "5b1423d1e4f6497d879edd8066d90fbd",
    "tags": [],
    "deepnote_to_be_reexecuted": true,
    "source_hash": "cc65d18f",
    "execution_start": 1659490767335,
    "execution_millis": 341,
    "deepnote_cell_type": "code",
    "deepnote_cell_height": 407.1875,
    "deepnote_output_heights": [
     21.1875,
     263
    ]
   },
   "source": "compras_df[compras_df['IMPORTE']< compras_df['IMPORTE'].quantile(0.95)]['IMPORTE'].hist()",
   "outputs": [
    {
     "output_type": "execute_result",
     "execution_count": 12,
     "data": {
      "text/plain": "<AxesSubplot:>"
     },
     "metadata": {}
    },
    {
     "data": {
      "text/plain": "<Figure size 432x288 with 1 Axes>",
      "image/png": "[encoded data removed]"
     },
     "metadata": {
      "needs_background": "light",
      "image/png": {
       "width": 385,
       "height": 261
      }
     },
     "output_type": "display_data"
    }
   ],
   "execution_count": null
  },
  {
   "cell_type": "code",
   "metadata": {
    "cell_id": "a2ccf0f548cb4333b121122c0e10982b",
    "tags": [],
    "deepnote_to_be_reexecuted": true,
    "source_hash": "12d12266",
    "execution_start": 1659490767682,
    "execution_millis": 379,
    "deepnote_cell_type": "code",
    "deepnote_cell_height": 407.1875,
    "deepnote_output_heights": [
     21.1875,
     263
    ]
   },
   "source": "compras_df[compras_df['IMPORTE']< compras_df['IMPORTE'].quantile(0.95)]['IMPORTE'].hist(bins=50)",
   "outputs": [
    {
     "output_type": "execute_result",
     "execution_count": 13,
     "data": {
      "text/plain": "<AxesSubplot:>"
     },
     "metadata": {}
    },
    {
     "data": {
      "text/plain": "<Figure size 432x288 with 1 Axes>",
      "image/png": "[encoded data removed]"
     },
     "metadata": {
      "needs_background": "light",
      "image/png": {
       "width": 385,
       "height": 261
      }
     },
     "output_type": "display_data"
    }
   ],
   "execution_count": null
  },
  {
   "cell_type": "code",
   "metadata": {
    "cell_id": "cee4f444675742a38407ec257983b739",
    "tags": [],
    "deepnote_to_be_reexecuted": true,
    "source_hash": "8b86ed2b",
    "execution_start": 1659490768067,
    "execution_millis": 47,
    "deepnote_cell_type": "code",
    "deepnote_cell_height": 407
   },
   "source": "compras_df[compras_df['IMPORTE']< compras_df['IMPORTE'].quantile(0.95)].head(5)",
   "outputs": [
    {
     "output_type": "execute_result",
     "execution_count": 14,
     "data": {
      "application/vnd.deepnote.dataframe.v3+json": {
       "column_count": 9,
       "row_count": 5,
       "columns": [
        {
         "name": "BENEFICIARIO",
         "dtype": "object",
         "stats": {
          "unique_count": 2,
          "nan_count": 0,
          "categories": [
           {
            "name": "ALMACEN PAPELERO SALDAÑA, S.A. DE C.V.",
            "count": 4
           },
           {
            "name": "COMPUMARK, S.A. DE C.V.",
            "count": 1
           }
          ]
         }
        },
        {
         "name": "FACTURAS",
         "dtype": "object",
         "stats": {
          "unique_count": 5,
          "nan_count": 0,
          "categories": [
           {
            "name": "A60360-183011-2283",
            "count": 1
           },
           {
            "name": "MTY7291-183011-2249",
            "count": 1
           },
           {
            "name": "3 others",
            "count": 3
           }
          ]
         }
        },
        {
         "name": "CONTRATO",
         "dtype": "object",
         "stats": {
          "unique_count": 5,
          "nan_count": 0,
          "categories": [
           {
            "name": "ORDEN DE COMPRA 8020",
            "count": 1
           },
           {
            "name": "ORDEN DE COMPRA 7804",
            "count": 1
           },
           {
            "name": "3 others",
            "count": 3
           }
          ]
         }
        },
        {
         "name": "CONCEPTO",
         "dtype": "object",
         "stats": {
          "unique_count": 5,
          "nan_count": 0,
          "categories": [
           {
            "name": "SUMINISTRO DE REQUERIMIENTOS PARA EL EVENTO \"DIA DE LAS MAESTRAS Y LOS MAESTROS 2022\", DESARROLLO HUMANO E IGUALDAD SUSTANTIVA (COMPUTADORA PORTATIL)",
            "count": 1
           },
           {
            "name": "SUMINISTRO DE MATERIALES PARA LOS CENTROS DE BIENESTAR FAMILIAR, DIF DE MONTERREY",
            "count": 1
           },
           {
            "name": "3 others",
            "count": 3
           }
          ]
         }
        },
        {
         "name": "TIPO",
         "dtype": "object",
         "stats": {
          "unique_count": 1,
          "nan_count": 0,
          "categories": [
           {
            "name": "TR",
            "count": 5
           }
          ]
         }
        },
        {
         "name": "FDO-#OP",
         "dtype": "float64",
         "stats": {
          "unique_count": 3,
          "nan_count": 0,
          "min": "1022770.0",
          "max": "1022838.0",
          "histogram": [
           {
            "bin_start": 1022770,
            "bin_end": 1022776.8,
            "count": 3
           },
           {
            "bin_start": 1022776.8,
            "bin_end": 1022783.6,
            "count": 0
           },
           {
            "bin_start": 1022783.6,
            "bin_end": 1022790.4,
            "count": 0
           },
           {
            "bin_start": 1022790.4,
            "bin_end": 1022797.2,
            "count": 0
           },
           {
            "bin_start": 1022797.2,
            "bin_end": 1022804,
            "count": 0
           },
           {
            "bin_start": 1022804,
            "bin_end": 1022810.8,
            "count": 0
           },
           {
            "bin_start": 1022810.8,
            "bin_end": 1022817.6,
            "count": 1
           },
           {
            "bin_start": 1022817.6,
            "bin_end": 1022824.4,
            "count": 0
           },
           {
            "bin_start": 1022824.4,
            "bin_end": 1022831.2,
            "count": 0
           },
           {
            "bin_start": 1022831.2,
            "bin_end": 1022838,
            "count": 1
           }
          ]
         }
        },
        {
         "name": "FECHA",
         "dtype": "object",
         "stats": {
          "unique_count": 2,
          "nan_count": 0,
          "categories": [
           {
            "name": "2022-06-10",
            "count": 3
           },
           {
            "name": "2022-06-17",
            "count": 2
           }
          ]
         }
        },
        {
         "name": "IMPORTE",
         "dtype": "float64",
         "stats": {
          "unique_count": 5,
          "nan_count": 0,
          "min": "2872.1",
          "max": "885080.0",
          "histogram": [
           {
            "bin_start": 2872.1,
            "bin_end": 91092.89000000001,
            "count": 4
           },
           {
            "bin_start": 91092.89000000001,
            "bin_end": 179313.68000000002,
            "count": 0
           },
           {
            "bin_start": 179313.68000000002,
            "bin_end": 267534.47,
            "count": 0
           },
           {
            "bin_start": 267534.47,
            "bin_end": 355755.26,
            "count": 0
           },
           {
            "bin_start": 355755.26,
            "bin_end": 443976.05000000005,
            "count": 0
           },
           {
            "bin_start": 443976.05000000005,
            "bin_end": 532196.84,
            "count": 0
           },
           {
            "bin_start": 532196.84,
            "bin_end": 620417.63,
            "count": 0
           },
           {
            "bin_start": 620417.63,
            "bin_end": 708638.42,
            "count": 0
           },
           {
            "bin_start": 708638.42,
            "bin_end": 796859.2100000001,
            "count": 0
           },
           {
            "bin_start": 796859.2100000001,
            "bin_end": 885080,
            "count": 1
           }
          ]
         }
        },
        {
         "name": "SHEET",
         "dtype": "object",
         "stats": {
          "unique_count": 1,
          "nan_count": 0,
          "categories": [
           {
            "name": "GASTOS VARIOS",
            "count": 5
           }
          ]
         }
        },
        {
         "name": "_deepnote_index_column",
         "dtype": "int64"
        }
       ],
       "rows": [
        {
         "BENEFICIARIO": "COMPUMARK, S.A. DE C.V.",
         "FACTURAS": "A60360-183011-2283",
         "CONTRATO": "ORDEN DE COMPRA 8020",
         "CONCEPTO": "SUMINISTRO DE REQUERIMIENTOS PARA EL EVENTO \"DIA DE LAS MAESTRAS Y LOS MAESTROS 2022\", DESARROLLO HUMANO E IGUALDAD SUSTANTIVA (COMPUTADORA PORTATIL)",
         "TIPO": "TR",
         "FDO-#OP": 1022838,
         "FECHA": "2022-06-17",
         "IMPORTE": 885080,
         "SHEET": "GASTOS VARIOS",
         "_deepnote_index_column": 0
        },
        {
         "BENEFICIARIO": "ALMACEN PAPELERO SALDAÑA, S.A. DE C.V.",
         "FACTURAS": "MTY7291-183011-2249",
         "CONTRATO": "ORDEN DE COMPRA 7804",
         "CONCEPTO": "SUMINISTRO DE MATERIALES PARA LOS CENTROS DE BIENESTAR FAMILIAR, DIF DE MONTERREY",
         "TIPO": "TR",
         "FDO-#OP": 1022770,
         "FECHA": "2022-06-10",
         "IMPORTE": 52854.24,
         "SHEET": "GASTOS VARIOS",
         "_deepnote_index_column": 1
        },
        {
         "BENEFICIARIO": "ALMACEN PAPELERO SALDAÑA, S.A. DE C.V.",
         "FACTURAS": "MTY7274-183011-2226",
         "CONTRATO": "ORDEN DE COMPRA 7840",
         "CONCEPTO": "SUMINISTRO DE PAPEL AUTOCOPIA, SECRETARIA DE SERVICIOS PUBLICOS",
         "TIPO": "TR",
         "FDO-#OP": 1022770,
         "FECHA": "2022-06-10",
         "IMPORTE": 28596.32,
         "SHEET": "GASTOS VARIOS",
         "_deepnote_index_column": 2
        },
        {
         "BENEFICIARIO": "ALMACEN PAPELERO SALDAÑA, S.A. DE C.V.",
         "FACTURAS": "MTY7153-183011-1776",
         "CONTRATO": "ORDEN DE COMPRA 7556",
         "CONCEPTO": "SUMINISTRO DE PIZARRON DE CORCHO PARA LA DIRECCION DE CENTROS DE BIENESTAR FAMILIAR, DIF DE MONTERREY",
         "TIPO": "TR",
         "FDO-#OP": 1022770,
         "FECHA": "2022-06-10",
         "IMPORTE": 3781.6,
         "SHEET": "GASTOS VARIOS",
         "_deepnote_index_column": 3
        },
        {
         "BENEFICIARIO": "ALMACEN PAPELERO SALDAÑA, S.A. DE C.V.",
         "FACTURAS": "MTY7250-183011-1971",
         "CONTRATO": "ORDEN DE COMPRA 7805",
         "CONCEPTO": "SUMINISTRO DE TRITURADORA DE PAPEL Y PINTARRON, DIF MONTERREY",
         "TIPO": "TR",
         "FDO-#OP": 1022815,
         "FECHA": "2022-06-17",
         "IMPORTE": 2872.1,
         "SHEET": "GASTOS VARIOS",
         "_deepnote_index_column": 4
        }
       ]
      },
      "text/plain": "                             BENEFICIARIO             FACTURAS  \\\n0                 COMPUMARK, S.A. DE C.V.   A60360-183011-2283   \n1  ALMACEN PAPELERO SALDAÑA, S.A. DE C.V.  MTY7291-183011-2249   \n2  ALMACEN PAPELERO SALDAÑA, S.A. DE C.V.  MTY7274-183011-2226   \n3  ALMACEN PAPELERO SALDAÑA, S.A. DE C.V.  MTY7153-183011-1776   \n4  ALMACEN PAPELERO SALDAÑA, S.A. DE C.V.  MTY7250-183011-1971   \n\n               CONTRATO                                           CONCEPTO  \\\n0  ORDEN DE COMPRA 8020  SUMINISTRO DE REQUERIMIENTOS PARA EL EVENTO \"D...   \n1  ORDEN DE COMPRA 7804  SUMINISTRO DE MATERIALES PARA LOS CENTROS DE B...   \n2  ORDEN DE COMPRA 7840  SUMINISTRO DE PAPEL AUTOCOPIA, SECRETARIA DE S...   \n3  ORDEN DE COMPRA 7556  SUMINISTRO DE PIZARRON DE CORCHO PARA LA DIREC...   \n4  ORDEN DE COMPRA 7805  SUMINISTRO DE TRITURADORA DE PAPEL Y PINTARRON...   \n\n  TIPO    FDO-#OP       FECHA    IMPORTE          SHEET  \n0   TR  1022838.0  2022-06-17  885080.00  GASTOS VARIOS  \n1   TR  1022770.0  2022-06-10   52854.24  GASTOS VARIOS  \n2   TR  1022770.0  2022-06-10   28596.32  GASTOS VARIOS  \n3   TR  1022770.0  2022-06-10    3781.60  GASTOS VARIOS  \n4   TR  1022815.0  2022-06-17    2872.10  GASTOS VARIOS  ",
      "text/html": "<div>\n<style scoped>\n    .dataframe tbody tr th:only-of-type {\n        vertical-align: middle;\n    }\n\n    .dataframe tbody tr th {\n        vertical-align: top;\n    }\n\n    .dataframe thead th {\n        text-align: right;\n    }\n</style>\n<table border=\"1\" class=\"dataframe\">\n  <thead>\n    <tr style=\"text-align: right;\">\n      <th></th>\n      <th>BENEFICIARIO</th>\n      <th>FACTURAS</th>\n      <th>CONTRATO</th>\n      <th>CONCEPTO</th>\n      <th>TIPO</th>\n      <th>FDO-#OP</th>\n      <th>FECHA</th>\n      <th>IMPORTE</th>\n      <th>SHEET</th>\n    </tr>\n  </thead>\n  <tbody>\n    <tr>\n      <th>0</th>\n      <td>COMPUMARK, S.A. DE C.V.</td>\n      <td>A60360-183011-2283</td>\n      <td>ORDEN DE COMPRA 8020</td>\n      <td>SUMINISTRO DE REQUERIMIENTOS PARA EL EVENTO \"D...</td>\n      <td>TR</td>\n      <td>1022838.0</td>\n      <td>2022-06-17</td>\n      <td>885080.00</td>\n      <td>GASTOS VARIOS</td>\n    </tr>\n    <tr>\n      <th>1</th>\n      <td>ALMACEN PAPELERO SALDAÑA, S.A. DE C.V.</td>\n      <td>MTY7291-183011-2249</td>\n      <td>ORDEN DE COMPRA 7804</td>\n      <td>SUMINISTRO DE MATERIALES PARA LOS CENTROS DE B...</td>\n      <td>TR</td>\n      <td>1022770.0</td>\n      <td>2022-06-10</td>\n      <td>52854.24</td>\n      <td>GASTOS VARIOS</td>\n    </tr>\n    <tr>\n      <th>2</th>\n      <td>ALMACEN PAPELERO SALDAÑA, S.A. DE C.V.</td>\n      <td>MTY7274-183011-2226</td>\n      <td>ORDEN DE COMPRA 7840</td>\n      <td>SUMINISTRO DE PAPEL AUTOCOPIA, SECRETARIA DE S...</td>\n      <td>TR</td>\n      <td>1022770.0</td>\n      <td>2022-06-10</td>\n      <td>28596.32</td>\n      <td>GASTOS VARIOS</td>\n    </tr>\n    <tr>\n      <th>3</th>\n      <td>ALMACEN PAPELERO SALDAÑA, S.A. DE C.V.</td>\n      <td>MTY7153-183011-1776</td>\n      <td>ORDEN DE COMPRA 7556</td>\n      <td>SUMINISTRO DE PIZARRON DE CORCHO PARA LA DIREC...</td>\n      <td>TR</td>\n      <td>1022770.0</td>\n      <td>2022-06-10</td>\n      <td>3781.60</td>\n      <td>GASTOS VARIOS</td>\n    </tr>\n    <tr>\n      <th>4</th>\n      <td>ALMACEN PAPELERO SALDAÑA, S.A. DE C.V.</td>\n      <td>MTY7250-183011-1971</td>\n      <td>ORDEN DE COMPRA 7805</td>\n      <td>SUMINISTRO DE TRITURADORA DE PAPEL Y PINTARRON...</td>\n      <td>TR</td>\n      <td>1022815.0</td>\n      <td>2022-06-17</td>\n      <td>2872.10</td>\n      <td>GASTOS VARIOS</td>\n    </tr>\n  </tbody>\n</table>\n</div>"
     },
     "metadata": {}
    }
   ],
   "execution_count": null
  },
  {
   "cell_type": "markdown",
   "source": "## Análisis Multidimensional de las Variables",
   "metadata": {
    "cell_id": "e8b92e12cc6e41caa77404f51e2f3617",
    "tags": [],
    "deepnote_cell_type": "markdown",
    "deepnote_cell_height": 70
   }
  },
  {
   "cell_type": "code",
   "metadata": {
    "cell_id": "1278469c29e74e0688324c35eb7af889",
    "tags": [],
    "deepnote_to_be_reexecuted": true,
    "source_hash": "e23bf150",
    "execution_start": 1659490768162,
    "execution_millis": 0,
    "deepnote_cell_type": "code",
    "deepnote_cell_height": 76
   },
   "source": "sum_importe_benef = compras_df.groupby('BENEFICIARIO').sum()['IMPORTE']",
   "outputs": [],
   "execution_count": null
  },
  {
   "cell_type": "code",
   "metadata": {
    "cell_id": "09d867fb7640420484c683aea28ec0f9",
    "tags": [],
    "deepnote_to_be_reexecuted": true,
    "source_hash": "26943d92",
    "execution_start": 1659490768162,
    "execution_millis": 433,
    "deepnote_cell_type": "code",
    "deepnote_cell_height": 693.1875,
    "deepnote_output_heights": [
     21.1875,
     544
    ]
   },
   "source": "sum_importe_benef.reset_index().sort_values(by='IMPORTE', ascending=False).iloc[0:10].plot(kind='bar', x='BENEFICIARIO', y='IMPORTE')",
   "outputs": [
    {
     "output_type": "execute_result",
     "execution_count": 16,
     "data": {
      "text/plain": "<AxesSubplot:xlabel='BENEFICIARIO'>"
     },
     "metadata": {}
    },
    {
     "data": {
      "text/plain": "<Figure size 432x288 with 1 Axes>",
      "image/png": "[encoded data removed]"
     },
     "metadata": {
      "needs_background": "light",
      "image/png": {
       "width": 372,
       "height": 542
      }
     },
     "output_type": "display_data"
    }
   ],
   "execution_count": null
  },
  {
   "cell_type": "code",
   "metadata": {
    "cell_id": "fe1bf3f71df34126826d82da11fb82aa",
    "tags": [],
    "deepnote_to_be_reexecuted": true,
    "source_hash": "145a341d",
    "execution_start": 1659490768594,
    "execution_millis": 23092868,
    "deepnote_cell_type": "code",
    "deepnote_cell_height": 76
   },
   "source": "mean_importe_sheet = compras_df.groupby('SHEET').mean()['IMPORTE']",
   "outputs": [],
   "execution_count": null
  },
  {
   "cell_type": "code",
   "metadata": {
    "cell_id": "69f76f1d5a444435a9b362bd679ff8d1",
    "tags": [],
    "deepnote_to_be_reexecuted": true,
    "source_hash": "8033b7e0",
    "execution_start": 1659490768641,
    "execution_millis": 234,
    "deepnote_cell_type": "code",
    "deepnote_cell_height": 559.1875,
    "deepnote_output_heights": [
     21.1875,
     410
    ]
   },
   "source": "mean_importe_sheet.reset_index().sort_values(by='IMPORTE', ascending=False).iloc[0:10].plot(kind='bar', x='SHEET', y='IMPORTE')",
   "outputs": [
    {
     "output_type": "execute_result",
     "execution_count": 18,
     "data": {
      "text/plain": "<AxesSubplot:xlabel='SHEET'>"
     },
     "metadata": {}
    },
    {
     "data": {
      "text/plain": "<Figure size 432x288 with 1 Axes>",
      "image/png": "[encoded data removed]"
     },
     "metadata": {
      "needs_background": "light",
      "image/png": {
       "width": 393,
       "height": 408
      }
     },
     "output_type": "display_data"
    }
   ],
   "execution_count": null
  },
  {
   "cell_type": "code",
   "metadata": {
    "cell_id": "8a0e03c08b8c42b3962fa8acb025cb31",
    "tags": [],
    "deepnote_to_be_reexecuted": true,
    "source_hash": "1e96d0e6",
    "execution_start": 1659490768922,
    "execution_millis": 2,
    "deepnote_cell_type": "code",
    "deepnote_cell_height": 390
   },
   "source": "mean_importe_sheet.reset_index().sort_values(by='IMPORTE', ascending=False).iloc[0:10]",
   "outputs": [
    {
     "output_type": "execute_result",
     "execution_count": 19,
     "data": {
      "application/vnd.deepnote.dataframe.v3+json": {
       "column_count": 2,
       "row_count": 5,
       "columns": [
        {
         "name": "SHEET",
         "dtype": "object",
         "stats": {
          "unique_count": 5,
          "nan_count": 0,
          "categories": [
           {
            "name": "GASTOS VARIOS",
            "count": 1
           },
           {
            "name": "OBRA PUBLICA Y GV FDOS. ESP",
            "count": 1
           },
           {
            "name": "3 others",
            "count": 3
           }
          ]
         }
        },
        {
         "name": "IMPORTE",
         "dtype": "float64",
         "stats": {
          "unique_count": 5,
          "nan_count": 0,
          "min": "33521.136633663366",
          "max": "583159.3705128209",
          "histogram": [
           {
            "bin_start": 33521.136633663366,
            "bin_end": 88484.96002157911,
            "count": 2
           },
           {
            "bin_start": 88484.96002157911,
            "bin_end": 143448.78340949488,
            "count": 0
           },
           {
            "bin_start": 143448.78340949488,
            "bin_end": 198412.60679741064,
            "count": 0
           },
           {
            "bin_start": 198412.60679741064,
            "bin_end": 253376.43018532638,
            "count": 1
           },
           {
            "bin_start": 253376.43018532638,
            "bin_end": 308340.25357324217,
            "count": 0
           },
           {
            "bin_start": 308340.25357324217,
            "bin_end": 363304.0769611579,
            "count": 0
           },
           {
            "bin_start": 363304.0769611579,
            "bin_end": 418267.9003490737,
            "count": 0
           },
           {
            "bin_start": 418267.9003490737,
            "bin_end": 473231.7237369894,
            "count": 0
           },
           {
            "bin_start": 473231.7237369894,
            "bin_end": 528195.5471249052,
            "count": 1
           },
           {
            "bin_start": 528195.5471249052,
            "bin_end": 583159.3705128209,
            "count": 1
           }
          ]
         }
        },
        {
         "name": "_deepnote_index_column",
         "dtype": "int64"
        }
       ],
       "rows": [
        {
         "SHEET": "GASTOS VARIOS",
         "IMPORTE": 583159.3705128209,
         "_deepnote_index_column": 1
        },
        {
         "SHEET": "OBRA PUBLICA Y GV FDOS. ESP",
         "IMPORTE": 484493.74355785875,
         "_deepnote_index_column": 2
        },
        {
         "SHEET": "SERV PROV",
         "IMPORTE": 210406.06879310342,
         "_deepnote_index_column": 4
        },
        {
         "SHEET": "COMUNIC",
         "IMPORTE": 67248.10205128205,
         "_deepnote_index_column": 0
        },
        {
         "SHEET": "SERV PERS",
         "IMPORTE": 33521.136633663366,
         "_deepnote_index_column": 3
        }
       ]
      },
      "text/plain": "                         SHEET        IMPORTE\n1                GASTOS VARIOS  583159.370513\n2  OBRA PUBLICA Y GV FDOS. ESP  484493.743558\n4                    SERV PROV  210406.068793\n0                      COMUNIC   67248.102051\n3                    SERV PERS   33521.136634",
      "text/html": "<div>\n<style scoped>\n    .dataframe tbody tr th:only-of-type {\n        vertical-align: middle;\n    }\n\n    .dataframe tbody tr th {\n        vertical-align: top;\n    }\n\n    .dataframe thead th {\n        text-align: right;\n    }\n</style>\n<table border=\"1\" class=\"dataframe\">\n  <thead>\n    <tr style=\"text-align: right;\">\n      <th></th>\n      <th>SHEET</th>\n      <th>IMPORTE</th>\n    </tr>\n  </thead>\n  <tbody>\n    <tr>\n      <th>1</th>\n      <td>GASTOS VARIOS</td>\n      <td>583159.370513</td>\n    </tr>\n    <tr>\n      <th>2</th>\n      <td>OBRA PUBLICA Y GV FDOS. ESP</td>\n      <td>484493.743558</td>\n    </tr>\n    <tr>\n      <th>4</th>\n      <td>SERV PROV</td>\n      <td>210406.068793</td>\n    </tr>\n    <tr>\n      <th>0</th>\n      <td>COMUNIC</td>\n      <td>67248.102051</td>\n    </tr>\n    <tr>\n      <th>3</th>\n      <td>SERV PERS</td>\n      <td>33521.136634</td>\n    </tr>\n  </tbody>\n</table>\n</div>"
     },
     "metadata": {}
    }
   ],
   "execution_count": null
  },
  {
   "cell_type": "code",
   "metadata": {
    "cell_id": "30ba512133e048a0855a6233d9dd4b83",
    "tags": [],
    "deepnote_to_be_reexecuted": true,
    "source_hash": "cc9ca354",
    "execution_start": 1659490768923,
    "execution_millis": 45,
    "deepnote_cell_type": "code",
    "deepnote_cell_height": 553.3125,
    "deepnote_output_heights": [
     443.3125
    ]
   },
   "source": "sum_importe_fecha = compras_df.groupby('FECHA').sum()['IMPORTE']\nsum_importe_fecha",
   "outputs": [
    {
     "output_type": "execute_result",
     "execution_count": 20,
     "data": {
      "text/plain": "FECHA\n2022-06-01    4.004693e+04\n2022-06-02    1.314509e+06\n2022-06-03    1.058734e+08\n2022-06-06    5.371706e+04\n2022-06-07    1.951747e+05\n2022-06-08    2.299133e+06\n2022-06-09    4.560466e+05\n2022-06-10    1.579913e+08\n2022-06-13    2.750020e+05\n2022-06-14    1.858322e+07\n2022-06-15    2.029386e+07\n2022-06-16    6.751660e+06\n2022-06-17    6.366866e+07\n2022-06-20    1.084966e+06\n2022-06-21    1.936510e+04\n2022-06-22    2.069795e+07\n2022-06-23    7.289177e+07\n2022-06-24    5.869975e+07\n2022-06-27    1.074897e+06\n2022-06-29    7.445967e+06\n2022-06-30    6.670179e+07\nName: IMPORTE, dtype: float64"
     },
     "metadata": {}
    }
   ],
   "execution_count": null
  },
  {
   "cell_type": "code",
   "metadata": {
    "cell_id": "2e2c73dd1e474378853001fffa144688",
    "tags": [],
    "deepnote_to_be_reexecuted": true,
    "source_hash": "20db100f",
    "execution_start": 1659490768967,
    "execution_millis": 0,
    "deepnote_cell_type": "code",
    "deepnote_cell_height": 76
   },
   "source": "compras_gastos_df = compras_df[compras_df['SHEET'] == 'GASTOS VARIOS']",
   "outputs": [],
   "execution_count": null
  },
  {
   "cell_type": "code",
   "metadata": {
    "cell_id": "bbbc38bc5c27465c8d186a6696b0acb9",
    "tags": [],
    "deepnote_to_be_reexecuted": true,
    "source_hash": "563478f5",
    "execution_start": 1659490768967,
    "execution_millis": 361,
    "deepnote_cell_type": "code",
    "deepnote_cell_height": 407.1875,
    "deepnote_output_heights": [
     21.1875,
     263
    ]
   },
   "source": "compras_gastos_df['IMPORTE'].hist(bins=50)",
   "outputs": [
    {
     "output_type": "execute_result",
     "execution_count": 22,
     "data": {
      "text/plain": "<AxesSubplot:>"
     },
     "metadata": {}
    },
    {
     "data": {
      "text/plain": "<Figure size 432x288 with 1 Axes>",
      "image/png": "[encoded data removed]"
     },
     "metadata": {
      "needs_background": "light",
      "image/png": {
       "width": 375,
       "height": 261
      }
     },
     "output_type": "display_data"
    }
   ],
   "execution_count": null
  },
  {
   "cell_type": "code",
   "metadata": {
    "cell_id": "e289264bbf9a4accb74e68b6a0b7185e",
    "tags": [],
    "deepnote_to_be_reexecuted": true,
    "source_hash": "50fb6251",
    "execution_start": 1659490769332,
    "execution_millis": 52,
    "deepnote_cell_type": "code",
    "deepnote_cell_height": 612
   },
   "source": "compras_gastos_df[compras_gastos_df['BENEFICIARIO'] == 'MUNICIPIO DE LA CIUDAD DE MONTERREY']",
   "outputs": [
    {
     "output_type": "execute_result",
     "execution_count": 23,
     "data": {
      "application/vnd.deepnote.dataframe.v3+json": {
       "column_count": 9,
       "row_count": 14,
       "columns": [
        {
         "name": "BENEFICIARIO",
         "dtype": "object",
         "stats": {
          "unique_count": 1,
          "nan_count": 0,
          "categories": [
           {
            "name": "MUNICIPIO DE LA CIUDAD DE MONTERREY",
            "count": 14
           }
          ]
         }
        },
        {
         "name": "FACTURAS",
         "dtype": "object",
         "stats": {
          "unique_count": 14,
          "nan_count": 0,
          "categories": [
           {
            "name": "SDE/33/2022-183009-247",
            "count": 1
           },
           {
            "name": "2022-11-A-183010-1672",
            "count": 1
           },
           {
            "name": "12 others",
            "count": 12
           }
          ]
         }
        },
        {
         "name": "CONTRATO",
         "dtype": "object",
         "stats": {
          "unique_count": 1,
          "nan_count": 0,
          "categories": [
           {
            "name": "NO APLICA",
            "count": 14
           }
          ]
         }
        },
        {
         "name": "CONCEPTO",
         "dtype": "object",
         "stats": {
          "unique_count": 14,
          "nan_count": 0,
          "categories": [
           {
            "name": "PROGRAMA EMPLEO TEMPORAL AHORA TRABAJAMOS JUNTOS Y JUNTAS  PAGO 2 DE 6 PERIODO DEL 01 AL 15 DE JUNIO DEL 2022 (48 CHEQUES DE $2,594.50)",
            "count": 1
           },
           {
            "name": "PAGO DE NÓMINA PERIODO: 11-2022, BANCO: BANCA AFIRME, S.A., TIPO DE PAGO: TRANSFERENCIA",
            "count": 1
           },
           {
            "name": "12 others",
            "count": 12
           }
          ]
         }
        },
        {
         "name": "TIPO",
         "dtype": "object",
         "stats": {
          "unique_count": 1,
          "nan_count": 0,
          "categories": [
           {
            "name": "TR",
            "count": 14
           }
          ]
         }
        },
        {
         "name": "FDO-#OP",
         "dtype": "float64",
         "stats": {
          "unique_count": 14,
          "nan_count": 0,
          "min": "11000252.0",
          "max": "343000003.0",
          "histogram": [
           {
            "bin_start": 11000252,
            "bin_end": 44200227.1,
            "count": 3
           },
           {
            "bin_start": 44200227.1,
            "bin_end": 77400202.2,
            "count": 0
           },
           {
            "bin_start": 77400202.2,
            "bin_end": 110600177.30000001,
            "count": 0
           },
           {
            "bin_start": 110600177.30000001,
            "bin_end": 143800152.4,
            "count": 0
           },
           {
            "bin_start": 143800152.4,
            "bin_end": 177000127.5,
            "count": 0
           },
           {
            "bin_start": 177000127.5,
            "bin_end": 210200102.60000002,
            "count": 0
           },
           {
            "bin_start": 210200102.60000002,
            "bin_end": 243400077.70000002,
            "count": 6
           },
           {
            "bin_start": 243400077.70000002,
            "bin_end": 276600052.8,
            "count": 0
           },
           {
            "bin_start": 276600052.8,
            "bin_end": 309800027.90000004,
            "count": 0
           },
           {
            "bin_start": 309800027.90000004,
            "bin_end": 343000003,
            "count": 5
           }
          ]
         }
        },
        {
         "name": "FECHA",
         "dtype": "object",
         "stats": {
          "unique_count": 4,
          "nan_count": 0,
          "categories": [
           {
            "name": "2022-06-30",
            "count": 8
           },
           {
            "name": "2022-06-23",
            "count": 4
           },
           {
            "name": "2 others",
            "count": 2
           }
          ]
         }
        },
        {
         "name": "IMPORTE",
         "dtype": "float64",
         "stats": {
          "unique_count": 14,
          "nan_count": 0,
          "min": "3494.52",
          "max": "32447591.98",
          "histogram": [
           {
            "bin_start": 3494.52,
            "bin_end": 3247904.2660000003,
            "count": 7
           },
           {
            "bin_start": 3247904.2660000003,
            "bin_end": 6492314.012,
            "count": 3
           },
           {
            "bin_start": 6492314.012,
            "bin_end": 9736723.758000001,
            "count": 0
           },
           {
            "bin_start": 9736723.758000001,
            "bin_end": 12981133.504,
            "count": 0
           },
           {
            "bin_start": 12981133.504,
            "bin_end": 16225543.25,
            "count": 1
           },
           {
            "bin_start": 16225543.25,
            "bin_end": 19469952.996000003,
            "count": 1
           },
           {
            "bin_start": 19469952.996000003,
            "bin_end": 22714362.742000002,
            "count": 0
           },
           {
            "bin_start": 22714362.742000002,
            "bin_end": 25958772.488,
            "count": 0
           },
           {
            "bin_start": 25958772.488,
            "bin_end": 29203182.234,
            "count": 1
           },
           {
            "bin_start": 29203182.234,
            "bin_end": 32447591.98,
            "count": 1
           }
          ]
         }
        },
        {
         "name": "SHEET",
         "dtype": "object",
         "stats": {
          "unique_count": 1,
          "nan_count": 0,
          "categories": [
           {
            "name": "GASTOS VARIOS",
            "count": 14
           }
          ]
         }
        },
        {
         "name": "_deepnote_index_column",
         "dtype": "int64"
        }
       ],
       "rows": [
        {
         "BENEFICIARIO": "MUNICIPIO DE LA CIUDAD DE MONTERREY",
         "FACTURAS": "SDE/33/2022-183009-247",
         "CONTRATO": "NO APLICA",
         "CONCEPTO": "PROGRAMA EMPLEO TEMPORAL AHORA TRABAJAMOS JUNTOS Y JUNTAS  PAGO 2 DE 6 PERIODO DEL 01 AL 15 DE JUNIO DEL 2022 (48 CHEQUES DE $2,594.50)",
         "TIPO": "TR",
         "FDO-#OP": 343000002,
         "FECHA": "2022-06-16",
         "IMPORTE": 124536,
         "SHEET": "GASTOS VARIOS",
         "_deepnote_index_column": 196
        },
        {
         "BENEFICIARIO": "MUNICIPIO DE LA CIUDAD DE MONTERREY",
         "FACTURAS": "2022-11-A-183010-1672",
         "CONTRATO": "NO APLICA",
         "CONCEPTO": "PAGO DE NÓMINA PERIODO: 11-2022, BANCO: BANCA AFIRME, S.A., TIPO DE PAGO: TRANSFERENCIA",
         "TIPO": "TR",
         "FDO-#OP": 11000252,
         "FECHA": "2022-06-23",
         "IMPORTE": 32447591.98,
         "SHEET": "GASTOS VARIOS",
         "_deepnote_index_column": 197
        },
        {
         "BENEFICIARIO": "MUNICIPIO DE LA CIUDAD DE MONTERREY",
         "FACTURAS": "2022-11-C-183010-1671",
         "CONTRATO": "NO APLICA",
         "CONCEPTO": "PAGO DE NÓMINA PERIODO: 11-2022, BANCO: BANCO MERCANTIL DEL NORTE S.A., TIPO DE PAGO: CHEQUE",
         "TIPO": "TR",
         "FDO-#OP": 240000179,
         "FECHA": "2022-06-23",
         "IMPORTE": 2838726.9,
         "SHEET": "GASTOS VARIOS",
         "_deepnote_index_column": 198
        },
        {
         "BENEFICIARIO": "MUNICIPIO DE LA CIUDAD DE MONTERREY",
         "FACTURAS": "2022-11-B-183010-1674",
         "CONTRATO": "NO APLICA",
         "CONCEPTO": "PAGO DE NÓMINA PERIODO: 11-2022, BANCO: BANCO MERCANTIL DEL NORTE S.A., TIPO DE PAGO: TRANSFERENCIA",
         "TIPO": "TR",
         "FDO-#OP": 231000159,
         "FECHA": "2022-06-23",
         "IMPORTE": 18267383.32,
         "SHEET": "GASTOS VARIOS",
         "_deepnote_index_column": 199
        },
        {
         "BENEFICIARIO": "MUNICIPIO DE LA CIUDAD DE MONTERREY",
         "FACTURAS": "2022-11-BBVA-183010-1673",
         "CONTRATO": "NO APLICA",
         "CONCEPTO": "PAGO DE NÓMINA PERIODO: 11-2022, BANCO: BBVA BANCOMER, S.A., TIPO DE PAGO: TRANSFERENCIA",
         "TIPO": "TR",
         "FDO-#OP": 328000022,
         "FECHA": "2022-06-23",
         "IMPORTE": 6155023.82,
         "SHEET": "GASTOS VARIOS",
         "_deepnote_index_column": 200
        },
        {
         "BENEFICIARIO": "MUNICIPIO DE LA CIUDAD DE MONTERREY",
         "FACTURAS": "SDE/354/2022-183009-282",
         "CONTRATO": "NO APLICA",
         "CONCEPTO": "PROGRAMA EMPLEO TEMPORAL AHORA TRABAJAMOS JUNTOS Y JUNTAS  PAGO 3 DE 6 PERIODO DEL 16 AL 30 DE JUNIO DEL 2022 (46 CHEQUES DE $2,594.50)",
         "TIPO": "TR",
         "FDO-#OP": 343000003,
         "FECHA": "2022-06-29",
         "IMPORTE": 119347,
         "SHEET": "GASTOS VARIOS",
         "_deepnote_index_column": 201
        },
        {
         "BENEFICIARIO": "MUNICIPIO DE LA CIUDAD DE MONTERREY",
         "FACTURAS": "2022-12-A-183010-1827",
         "CONTRATO": "NO APLICA",
         "CONCEPTO": "PAGO DE NÓMINA PERIODO: 12-2022, BANCO: BANCA AFIRME, S.A., TIPO DE PAGO: TRANSFERENCIA",
         "TIPO": "TR",
         "FDO-#OP": 11000253,
         "FECHA": "2022-06-30",
         "IMPORTE": 26291231.21,
         "SHEET": "GASTOS VARIOS",
         "_deepnote_index_column": 202
        },
        {
         "BENEFICIARIO": "MUNICIPIO DE LA CIUDAD DE MONTERREY",
         "FACTURAS": "2022-12-C-183010-1826",
         "CONTRATO": "NO APLICA",
         "CONCEPTO": "PAGO DE NÓMINA PERIODO: 12-2022, BANCO: BANCO MERCANTIL DEL NORTE S.A., TIPO DE PAGO: CHEQUE",
         "TIPO": "TR",
         "FDO-#OP": 240000180,
         "FECHA": "2022-06-30",
         "IMPORTE": 3640632.24,
         "SHEET": "GASTOS VARIOS",
         "_deepnote_index_column": 203
        },
        {
         "BENEFICIARIO": "MUNICIPIO DE LA CIUDAD DE MONTERREY",
         "FACTURAS": "2022-12-B-183010-1829",
         "CONTRATO": "NO APLICA",
         "CONCEPTO": "PAGO DE NÓMINA PERIODO: 12-2022, BANCO: BANCO MERCANTIL DEL NORTE S.A., TIPO DE PAGO: TRANSFERENCIA",
         "TIPO": "TR",
         "FDO-#OP": 231000160,
         "FECHA": "2022-06-30",
         "IMPORTE": 14808118.15,
         "SHEET": "GASTOS VARIOS",
         "_deepnote_index_column": 204
        },
        {
         "BENEFICIARIO": "MUNICIPIO DE LA CIUDAD DE MONTERREY",
         "FACTURAS": "2022-12-BBVA-183010-1828",
         "CONTRATO": "NO APLICA",
         "CONCEPTO": "PAGO DE NÓMINA PERIODO: 12-2022, BANCO: BBVA BANCOMER, S.A., TIPO DE PAGO: TRANSFERENCIA",
         "TIPO": "TR",
         "FDO-#OP": 328000023,
         "FECHA": "2022-06-30",
         "IMPORTE": 5853328.72,
         "SHEET": "GASTOS VARIOS",
         "_deepnote_index_column": 205
        }
       ]
      },
      "text/plain": "                            BENEFICIARIO                  FACTURAS   CONTRATO  \\\n196  MUNICIPIO DE LA CIUDAD DE MONTERREY    SDE/33/2022-183009-247  NO APLICA   \n197  MUNICIPIO DE LA CIUDAD DE MONTERREY     2022-11-A-183010-1672  NO APLICA   \n198  MUNICIPIO DE LA CIUDAD DE MONTERREY     2022-11-C-183010-1671  NO APLICA   \n199  MUNICIPIO DE LA CIUDAD DE MONTERREY     2022-11-B-183010-1674  NO APLICA   \n200  MUNICIPIO DE LA CIUDAD DE MONTERREY  2022-11-BBVA-183010-1673  NO APLICA   \n201  MUNICIPIO DE LA CIUDAD DE MONTERREY   SDE/354/2022-183009-282  NO APLICA   \n202  MUNICIPIO DE LA CIUDAD DE MONTERREY     2022-12-A-183010-1827  NO APLICA   \n203  MUNICIPIO DE LA CIUDAD DE MONTERREY     2022-12-C-183010-1826  NO APLICA   \n204  MUNICIPIO DE LA CIUDAD DE MONTERREY     2022-12-B-183010-1829  NO APLICA   \n205  MUNICIPIO DE LA CIUDAD DE MONTERREY  2022-12-BBVA-183010-1828  NO APLICA   \n206  MUNICIPIO DE LA CIUDAD DE MONTERREY     2022-12-A-183010-1831  NO APLICA   \n207  MUNICIPIO DE LA CIUDAD DE MONTERREY     2022-12-C-183010-1830  NO APLICA   \n208  MUNICIPIO DE LA CIUDAD DE MONTERREY     2022-12-B-183010-1833  NO APLICA   \n209  MUNICIPIO DE LA CIUDAD DE MONTERREY  2022-12-BBVA-183010-1832  NO APLICA   \n\n                                              CONCEPTO TIPO      FDO-#OP  \\\n196  PROGRAMA EMPLEO TEMPORAL AHORA TRABAJAMOS JUNT...   TR  343000002.0   \n197  PAGO DE NÓMINA PERIODO: 11-2022, BANCO: BANCA ...   TR   11000252.0   \n198  PAGO DE NÓMINA PERIODO: 11-2022, BANCO: BANCO ...   TR  240000179.0   \n199  PAGO DE NÓMINA PERIODO: 11-2022, BANCO: BANCO ...   TR  231000159.0   \n200  PAGO DE NÓMINA PERIODO: 11-2022, BANCO: BBVA B...   TR  328000022.0   \n201  PROGRAMA EMPLEO TEMPORAL AHORA TRABAJAMOS JUNT...   TR  343000003.0   \n202  PAGO DE NÓMINA PERIODO: 12-2022, BANCO: BANCA ...   TR   11000253.0   \n203  PAGO DE NÓMINA PERIODO: 12-2022, BANCO: BANCO ...   TR  240000180.0   \n204  PAGO DE NÓMINA PERIODO: 12-2022, BANCO: BANCO ...   TR  231000160.0   \n205  PAGO DE NÓMINA PERIODO: 12-2022, BANCO: BBVA B...   TR  328000023.0   \n206  PAGO DE NÓMINA PERIODO: 12E-2022, BANCO: BANCA...   TR   11000254.0   \n207  PAGO DE NÓMINA PERIODO: 12E-2022, BANCO: BANCO...   TR  240000181.0   \n208  PAGO DE NÓMINA PERIODO: 12E-2022, BANCO: BANCO...   TR  231000161.0   \n209  PAGO DE NÓMINA PERIODO: 12E-2022, BANCO: BBVA ...   TR  328000024.0   \n\n          FECHA      IMPORTE          SHEET  \n196  2022-06-16    124536.00  GASTOS VARIOS  \n197  2022-06-23  32447591.98  GASTOS VARIOS  \n198  2022-06-23   2838726.90  GASTOS VARIOS  \n199  2022-06-23  18267383.32  GASTOS VARIOS  \n200  2022-06-23   6155023.82  GASTOS VARIOS  \n201  2022-06-29    119347.00  GASTOS VARIOS  \n202  2022-06-30  26291231.21  GASTOS VARIOS  \n203  2022-06-30   3640632.24  GASTOS VARIOS  \n204  2022-06-30  14808118.15  GASTOS VARIOS  \n205  2022-06-30   5853328.72  GASTOS VARIOS  \n206  2022-06-30     78122.66  GASTOS VARIOS  \n207  2022-06-30      3494.52  GASTOS VARIOS  \n208  2022-06-30    121887.15  GASTOS VARIOS  \n209  2022-06-30     33584.24  GASTOS VARIOS  ",
      "text/html": "<div>\n<style scoped>\n    .dataframe tbody tr th:only-of-type {\n        vertical-align: middle;\n    }\n\n    .dataframe tbody tr th {\n        vertical-align: top;\n    }\n\n    .dataframe thead th {\n        text-align: right;\n    }\n</style>\n<table border=\"1\" class=\"dataframe\">\n  <thead>\n    <tr style=\"text-align: right;\">\n      <th></th>\n      <th>BENEFICIARIO</th>\n      <th>FACTURAS</th>\n      <th>CONTRATO</th>\n      <th>CONCEPTO</th>\n      <th>TIPO</th>\n      <th>FDO-#OP</th>\n      <th>FECHA</th>\n      <th>IMPORTE</th>\n      <th>SHEET</th>\n    </tr>\n  </thead>\n  <tbody>\n    <tr>\n      <th>196</th>\n      <td>MUNICIPIO DE LA CIUDAD DE MONTERREY</td>\n      <td>SDE/33/2022-183009-247</td>\n      <td>NO APLICA</td>\n      <td>PROGRAMA EMPLEO TEMPORAL AHORA TRABAJAMOS JUNT...</td>\n      <td>TR</td>\n      <td>343000002.0</td>\n      <td>2022-06-16</td>\n      <td>124536.00</td>\n      <td>GASTOS VARIOS</td>\n    </tr>\n    <tr>\n      <th>197</th>\n      <td>MUNICIPIO DE LA CIUDAD DE MONTERREY</td>\n      <td>2022-11-A-183010-1672</td>\n      <td>NO APLICA</td>\n      <td>PAGO DE NÓMINA PERIODO: 11-2022, BANCO: BANCA ...</td>\n      <td>TR</td>\n      <td>11000252.0</td>\n      <td>2022-06-23</td>\n      <td>32447591.98</td>\n      <td>GASTOS VARIOS</td>\n    </tr>\n    <tr>\n      <th>198</th>\n      <td>MUNICIPIO DE LA CIUDAD DE MONTERREY</td>\n      <td>2022-11-C-183010-1671</td>\n      <td>NO APLICA</td>\n      <td>PAGO DE NÓMINA PERIODO: 11-2022, BANCO: BANCO ...</td>\n      <td>TR</td>\n      <td>240000179.0</td>\n      <td>2022-06-23</td>\n      <td>2838726.90</td>\n      <td>GASTOS VARIOS</td>\n    </tr>\n    <tr>\n      <th>199</th>\n      <td>MUNICIPIO DE LA CIUDAD DE MONTERREY</td>\n      <td>2022-11-B-183010-1674</td>\n      <td>NO APLICA</td>\n      <td>PAGO DE NÓMINA PERIODO: 11-2022, BANCO: BANCO ...</td>\n      <td>TR</td>\n      <td>231000159.0</td>\n      <td>2022-06-23</td>\n      <td>18267383.32</td>\n      <td>GASTOS VARIOS</td>\n    </tr>\n    <tr>\n      <th>200</th>\n      <td>MUNICIPIO DE LA CIUDAD DE MONTERREY</td>\n      <td>2022-11-BBVA-183010-1673</td>\n      <td>NO APLICA</td>\n      <td>PAGO DE NÓMINA PERIODO: 11-2022, BANCO: BBVA B...</td>\n      <td>TR</td>\n      <td>328000022.0</td>\n      <td>2022-06-23</td>\n      <td>6155023.82</td>\n      <td>GASTOS VARIOS</td>\n    </tr>\n    <tr>\n      <th>201</th>\n      <td>MUNICIPIO DE LA CIUDAD DE MONTERREY</td>\n      <td>SDE/354/2022-183009-282</td>\n      <td>NO APLICA</td>\n      <td>PROGRAMA EMPLEO TEMPORAL AHORA TRABAJAMOS JUNT...</td>\n      <td>TR</td>\n      <td>343000003.0</td>\n      <td>2022-06-29</td>\n      <td>119347.00</td>\n      <td>GASTOS VARIOS</td>\n    </tr>\n    <tr>\n      <th>202</th>\n      <td>MUNICIPIO DE LA CIUDAD DE MONTERREY</td>\n      <td>2022-12-A-183010-1827</td>\n      <td>NO APLICA</td>\n      <td>PAGO DE NÓMINA PERIODO: 12-2022, BANCO: BANCA ...</td>\n      <td>TR</td>\n      <td>11000253.0</td>\n      <td>2022-06-30</td>\n      <td>26291231.21</td>\n      <td>GASTOS VARIOS</td>\n    </tr>\n    <tr>\n      <th>203</th>\n      <td>MUNICIPIO DE LA CIUDAD DE MONTERREY</td>\n      <td>2022-12-C-183010-1826</td>\n      <td>NO APLICA</td>\n      <td>PAGO DE NÓMINA PERIODO: 12-2022, BANCO: BANCO ...</td>\n      <td>TR</td>\n      <td>240000180.0</td>\n      <td>2022-06-30</td>\n      <td>3640632.24</td>\n      <td>GASTOS VARIOS</td>\n    </tr>\n    <tr>\n      <th>204</th>\n      <td>MUNICIPIO DE LA CIUDAD DE MONTERREY</td>\n      <td>2022-12-B-183010-1829</td>\n      <td>NO APLICA</td>\n      <td>PAGO DE NÓMINA PERIODO: 12-2022, BANCO: BANCO ...</td>\n      <td>TR</td>\n      <td>231000160.0</td>\n      <td>2022-06-30</td>\n      <td>14808118.15</td>\n      <td>GASTOS VARIOS</td>\n    </tr>\n    <tr>\n      <th>205</th>\n      <td>MUNICIPIO DE LA CIUDAD DE MONTERREY</td>\n      <td>2022-12-BBVA-183010-1828</td>\n      <td>NO APLICA</td>\n      <td>PAGO DE NÓMINA PERIODO: 12-2022, BANCO: BBVA B...</td>\n      <td>TR</td>\n      <td>328000023.0</td>\n      <td>2022-06-30</td>\n      <td>5853328.72</td>\n      <td>GASTOS VARIOS</td>\n    </tr>\n    <tr>\n      <th>206</th>\n      <td>MUNICIPIO DE LA CIUDAD DE MONTERREY</td>\n      <td>2022-12-A-183010-1831</td>\n      <td>NO APLICA</td>\n      <td>PAGO DE NÓMINA PERIODO: 12E-2022, BANCO: BANCA...</td>\n      <td>TR</td>\n      <td>11000254.0</td>\n      <td>2022-06-30</td>\n      <td>78122.66</td>\n      <td>GASTOS VARIOS</td>\n    </tr>\n    <tr>\n      <th>207</th>\n      <td>MUNICIPIO DE LA CIUDAD DE MONTERREY</td>\n      <td>2022-12-C-183010-1830</td>\n      <td>NO APLICA</td>\n      <td>PAGO DE NÓMINA PERIODO: 12E-2022, BANCO: BANCO...</td>\n      <td>TR</td>\n      <td>240000181.0</td>\n      <td>2022-06-30</td>\n      <td>3494.52</td>\n      <td>GASTOS VARIOS</td>\n    </tr>\n    <tr>\n      <th>208</th>\n      <td>MUNICIPIO DE LA CIUDAD DE MONTERREY</td>\n      <td>2022-12-B-183010-1833</td>\n      <td>NO APLICA</td>\n      <td>PAGO DE NÓMINA PERIODO: 12E-2022, BANCO: BANCO...</td>\n      <td>TR</td>\n      <td>231000161.0</td>\n      <td>2022-06-30</td>\n      <td>121887.15</td>\n      <td>GASTOS VARIOS</td>\n    </tr>\n    <tr>\n      <th>209</th>\n      <td>MUNICIPIO DE LA CIUDAD DE MONTERREY</td>\n      <td>2022-12-BBVA-183010-1832</td>\n      <td>NO APLICA</td>\n      <td>PAGO DE NÓMINA PERIODO: 12E-2022, BANCO: BBVA ...</td>\n      <td>TR</td>\n      <td>328000024.0</td>\n      <td>2022-06-30</td>\n      <td>33584.24</td>\n      <td>GASTOS VARIOS</td>\n    </tr>\n  </tbody>\n</table>\n</div>"
     },
     "metadata": {}
    }
   ],
   "execution_count": null
  },
  {
   "cell_type": "code",
   "metadata": {
    "cell_id": "7e8cf27e247b407d9d4ddbbf088ec797",
    "tags": [],
    "deepnote_to_be_reexecuted": true,
    "source_hash": "b6d7a2a3",
    "execution_start": 1659490769434,
    "execution_millis": 3,
    "deepnote_cell_type": "code",
    "deepnote_cell_height": 132.375,
    "deepnote_output_heights": [
     40.375
    ]
   },
   "source": "compras_df[compras_df['BENEFICIARIO'] == 'MUNICIPIO DE LA CIUDAD DE MONTERREY']['SHEET'].value_counts()",
   "outputs": [
    {
     "output_type": "execute_result",
     "execution_count": 24,
     "data": {
      "text/plain": "GASTOS VARIOS    14\nName: SHEET, dtype: int64"
     },
     "metadata": {}
    }
   ],
   "execution_count": null
  },
  {
   "cell_type": "code",
   "metadata": {
    "cell_id": "b8fb7261397340f2b268745913f5c6d9",
    "tags": [],
    "deepnote_to_be_reexecuted": true,
    "source_hash": "a51d7ed7",
    "execution_start": 1659490769435,
    "execution_millis": 0,
    "deepnote_cell_type": "code",
    "deepnote_cell_height": 81
   },
   "source": "compras_sheet_benef = compras_df.groupby(['BENEFICIARIO', 'SHEET']).sum()['IMPORTE'].sort_values().unstack('SHEET')",
   "outputs": [],
   "execution_count": null
  },
  {
   "cell_type": "code",
   "metadata": {
    "cell_id": "8272abe51f9f47bb91372289c6fd051f",
    "tags": [],
    "deepnote_to_be_reexecuted": true,
    "source_hash": "4872d6c2",
    "execution_start": 1659490769435,
    "execution_millis": 43,
    "deepnote_cell_type": "code",
    "deepnote_cell_height": 76
   },
   "source": "top_benef = compras_df.groupby('BENEFICIARIO')['IMPORTE'].sum().sort_values(ascending=False).index[0:10]",
   "outputs": [],
   "execution_count": null
  },
  {
   "cell_type": "code",
   "metadata": {
    "cell_id": "5d577d2aceca48429a5b045487f48133",
    "tags": [],
    "deepnote_to_be_reexecuted": true,
    "source_hash": "a61282e",
    "execution_start": 1659490769479,
    "execution_millis": 1014,
    "deepnote_cell_type": "code",
    "deepnote_cell_height": 688.1875,
    "deepnote_output_heights": [
     21.1875,
     544
    ]
   },
   "source": "compras_sheet_benef.loc[top_benef].plot.bar(stacked=True)",
   "outputs": [
    {
     "output_type": "execute_result",
     "execution_count": 27,
     "data": {
      "text/plain": "<AxesSubplot:xlabel='BENEFICIARIO'>"
     },
     "metadata": {}
    },
    {
     "data": {
      "text/plain": "<Figure size 432x288 with 1 Axes>",
      "image/png": "[encoded data removed]"
     },
     "metadata": {
      "needs_background": "light",
      "image/png": {
       "width": 372,
       "height": 542
      }
     },
     "output_type": "display_data"
    }
   ],
   "execution_count": null
  },
  {
   "cell_type": "markdown",
   "source": "## Análisis de Texto",
   "metadata": {
    "cell_id": "55be5e44c9b34e5db42ff3b99925c999",
    "tags": [],
    "deepnote_cell_type": "markdown",
    "deepnote_cell_height": 70
   }
  },
  {
   "cell_type": "code",
   "metadata": {
    "cell_id": "73c1c6526bc247bbbd6a286cbb14d77b",
    "tags": [],
    "deepnote_to_be_reexecuted": true,
    "source_hash": "beea9181",
    "execution_start": 1659490769867,
    "execution_millis": 2897,
    "deepnote_cell_type": "code",
    "deepnote_cell_height": 112
   },
   "source": "import nltk\nfrom nltk.corpus import stopwords\n",
   "outputs": [],
   "execution_count": null
  },
  {
   "cell_type": "code",
   "metadata": {
    "cell_id": "2ad823ff9dbd4059bc4c185c2b202041",
    "tags": [],
    "deepnote_to_be_reexecuted": true,
    "source_hash": "7af31389",
    "execution_start": 1659490772769,
    "execution_millis": 575,
    "deepnote_cell_type": "code",
    "deepnote_cell_height": 197.5625,
    "deepnote_output_heights": [
     null,
     21.1875
    ]
   },
   "source": "nltk.download('stopwords')\n",
   "outputs": [
    {
     "name": "stderr",
     "text": "[nltk_data] Downloading package stopwords to /root/nltk_data...\n[nltk_data]   Unzipping corpora/stopwords.zip.\n",
     "output_type": "stream"
    },
    {
     "output_type": "execute_result",
     "execution_count": 29,
     "data": {
      "text/plain": "True"
     },
     "metadata": {}
    }
   ],
   "execution_count": null
  },
  {
   "cell_type": "code",
   "metadata": {
    "cell_id": "883813d9c6834d1595ac8bdf40239de0",
    "tags": [],
    "deepnote_to_be_reexecuted": true,
    "source_hash": "5a20fb8e",
    "execution_start": 1659490772873,
    "execution_millis": 480,
    "deepnote_cell_type": "code",
    "deepnote_cell_height": 111.1875
   },
   "source": "print(stopwords.words('spanish'))",
   "outputs": [
    {
     "name": "stdout",
     "text": "['de', 'la', 'que', 'el', 'en', 'y', 'a', 'los', 'del', 'se', 'las', 'por', 'un', 'para', 'con', 'no', 'una', 'su', 'al', 'lo', 'como', 'más', 'pero', 'sus', 'le', 'ya', 'o', 'este', 'sí', 'porque', 'esta', 'entre', 'cuando', 'muy', 'sin', 'sobre', 'también', 'me', 'hasta', 'hay', 'donde', 'quien', 'desde', 'todo', 'nos', 'durante', 'todos', 'uno', 'les', 'ni', 'contra', 'otros', 'ese', 'eso', 'ante', 'ellos', 'e', 'esto', 'mí', 'antes', 'algunos', 'qué', 'unos', 'yo', 'otro', 'otras', 'otra', 'él', 'tanto', 'esa', 'estos', 'mucho', 'quienes', 'nada', 'muchos', 'cual', 'poco', 'ella', 'estar', 'estas', 'algunas', 'algo', 'nosotros', 'mi', 'mis', 'tú', 'te', 'ti', 'tu', 'tus', 'ellas', 'nosotras', 'vosotros', 'vosotras', 'os', 'mío', 'mía', 'míos', 'mías', 'tuyo', 'tuya', 'tuyos', 'tuyas', 'suyo', 'suya', 'suyos', 'suyas', 'nuestro', 'nuestra', 'nuestros', 'nuestras', 'vuestro', 'vuestra', 'vuestros', 'vuestras', 'esos', 'esas', 'estoy', 'estás', 'está', 'estamos', 'estáis', 'están', 'esté', 'estés', 'estemos', 'estéis', 'estén', 'estaré', 'estarás', 'estará', 'estaremos', 'estaréis', 'estarán', 'estaría', 'estarías', 'estaríamos', 'estaríais', 'estarían', 'estaba', 'estabas', 'estábamos', 'estabais', 'estaban', 'estuve', 'estuviste', 'estuvo', 'estuvimos', 'estuvisteis', 'estuvieron', 'estuviera', 'estuvieras', 'estuviéramos', 'estuvierais', 'estuvieran', 'estuviese', 'estuvieses', 'estuviésemos', 'estuvieseis', 'estuviesen', 'estando', 'estado', 'estada', 'estados', 'estadas', 'estad', 'he', 'has', 'ha', 'hemos', 'habéis', 'han', 'haya', 'hayas', 'hayamos', 'hayáis', 'hayan', 'habré', 'habrás', 'habrá', 'habremos', 'habréis', 'habrán', 'habría', 'habrías', 'habríamos', 'habríais', 'habrían', 'había', 'habías', 'habíamos', 'habíais', 'habían', 'hube', 'hubiste', 'hubo', 'hubimos', 'hubisteis', 'hubieron', 'hubiera', 'hubieras', 'hubiéramos', 'hubierais', 'hubieran', 'hubiese', 'hubieses', 'hubiésemos', 'hubieseis', 'hubiesen', 'habiendo', 'habido', 'habida', 'habidos', 'habidas', 'soy', 'eres', 'es', 'somos', 'sois', 'son', 'sea', 'seas', 'seamos', 'seáis', 'sean', 'seré', 'serás', 'será', 'seremos', 'seréis', 'serán', 'sería', 'serías', 'seríamos', 'seríais', 'serían', 'era', 'eras', 'éramos', 'erais', 'eran', 'fui', 'fuiste', 'fue', 'fuimos', 'fuisteis', 'fueron', 'fuera', 'fueras', 'fuéramos', 'fuerais', 'fueran', 'fuese', 'fueses', 'fuésemos', 'fueseis', 'fuesen', 'sintiendo', 'sentido', 'sentida', 'sentidos', 'sentidas', 'siente', 'sentid', 'tengo', 'tienes', 'tiene', 'tenemos', 'tenéis', 'tienen', 'tenga', 'tengas', 'tengamos', 'tengáis', 'tengan', 'tendré', 'tendrás', 'tendrá', 'tendremos', 'tendréis', 'tendrán', 'tendría', 'tendrías', 'tendríamos', 'tendríais', 'tendrían', 'tenía', 'tenías', 'teníamos', 'teníais', 'tenían', 'tuve', 'tuviste', 'tuvo', 'tuvimos', 'tuvisteis', 'tuvieron', 'tuviera', 'tuvieras', 'tuviéramos', 'tuvierais', 'tuvieran', 'tuviese', 'tuvieses', 'tuviésemos', 'tuvieseis', 'tuviesen', 'teniendo', 'tenido', 'tenida', 'tenidos', 'tenidas', 'tened']\n",
     "output_type": "stream"
    }
   ],
   "execution_count": null
  },
  {
   "cell_type": "code",
   "source": "textos_compras = ''\nfor row in compras_df['CONCEPTO']:\n    textos_compras = textos_compras + ' ' + row\n",
   "metadata": {
    "cell_id": "31072aae0e60492481d5b5bf063619b3",
    "tags": [],
    "deepnote_to_be_reexecuted": true,
    "source_hash": "2835e726",
    "execution_start": 1659490965194,
    "execution_millis": 4,
    "deepnote_cell_type": "code",
    "deepnote_cell_height": 130
   },
   "outputs": [],
   "execution_count": null
  },
  {
   "cell_type": "code",
   "source": "stopwords_list = stopwords.words('spanish') + ['2021', 'cont', 'millar', 'dpp', 'est', 'op', 'ret', 'mty', 'icom']",
   "metadata": {
    "cell_id": "0910f9608f9e44249499cc47ebfdce60",
    "tags": [],
    "deepnote_to_be_reexecuted": true,
    "source_hash": "6366fb6d",
    "execution_start": 1659491083654,
    "execution_millis": 2,
    "deepnote_cell_type": "code",
    "deepnote_cell_height": 76
   },
   "outputs": [],
   "execution_count": null
  },
  {
   "cell_type": "code",
   "source": "textos_compras = ' '.join([x for x in textos_compras.strip().lower().split(' ') if x not in stopwords_list and len(x)>4])",
   "metadata": {
    "cell_id": "9e460f2f738d4805823cec7a7735e164",
    "tags": [],
    "deepnote_to_be_reexecuted": true,
    "source_hash": "44e4d4dd",
    "execution_start": 1659491503277,
    "execution_millis": 83,
    "deepnote_cell_type": "code",
    "deepnote_cell_height": 81
   },
   "outputs": [],
   "execution_count": null
  },
  {
   "cell_type": "code",
   "source": "!pip install wordcloud",
   "metadata": {
    "cell_id": "f11bacdbeb284fdaa136938bffb331b3",
    "tags": [],
    "deepnote_to_be_reexecuted": true,
    "source_hash": "3b7e1a60",
    "execution_start": 1659491239300,
    "execution_millis": 3161,
    "deepnote_cell_type": "code",
    "deepnote_cell_height": 434.1875
   },
   "outputs": [
    {
     "name": "stdout",
     "text": "Collecting wordcloud\n  Downloading wordcloud-1.8.2.2-cp39-cp39-manylinux_2_17_x86_64.manylinux2014_x86_64.whl (458 kB)\n\u001b[2K     \u001b[90m━━━━━━━━━━━━━━━━━━━━━━━━━━━━━━━━━━━━━━\u001b[0m \u001b[32m458.6/458.6 KB\u001b[0m \u001b[31m39.4 MB/s\u001b[0m eta \u001b[36m0:00:00\u001b[0m\n\u001b[?25hRequirement already satisfied: numpy>=1.6.1 in /shared-libs/python3.9/py/lib/python3.9/site-packages (from wordcloud) (1.23.1)\nRequirement already satisfied: pillow in /shared-libs/python3.9/py/lib/python3.9/site-packages (from wordcloud) (9.2.0)\nRequirement already satisfied: matplotlib in /shared-libs/python3.9/py/lib/python3.9/site-packages (from wordcloud) (3.5.2)\nRequirement already satisfied: packaging>=20.0 in /shared-libs/python3.9/py/lib/python3.9/site-packages (from matplotlib->wordcloud) (21.3)\nRequirement already satisfied: fonttools>=4.22.0 in /shared-libs/python3.9/py/lib/python3.9/site-packages (from matplotlib->wordcloud) (4.34.4)\nRequirement already satisfied: pyparsing>=2.2.1 in /shared-libs/python3.9/py/lib/python3.9/site-packages (from matplotlib->wordcloud) (3.0.9)\nRequirement already satisfied: cycler>=0.10 in /shared-libs/python3.9/py/lib/python3.9/site-packages (from matplotlib->wordcloud) (0.11.0)\nRequirement already satisfied: python-dateutil>=2.7 in /shared-libs/python3.9/py-core/lib/python3.9/site-packages (from matplotlib->wordcloud) (2.8.2)\nRequirement already satisfied: kiwisolver>=1.0.1 in /shared-libs/python3.9/py/lib/python3.9/site-packages (from matplotlib->wordcloud) (1.4.4)\nRequirement already satisfied: six>=1.5 in /shared-libs/python3.9/py-core/lib/python3.9/site-packages (from python-dateutil>=2.7->matplotlib->wordcloud) (1.16.0)\nInstalling collected packages: wordcloud\nSuccessfully installed wordcloud-1.8.2.2\n\u001b[33mWARNING: You are using pip version 22.0.4; however, version 22.2.1 is available.\nYou should consider upgrading via the '/root/venv/bin/python -m pip install --upgrade pip' command.\u001b[0m\u001b[33m\n\u001b[0m",
     "output_type": "stream"
    }
   ],
   "execution_count": null
  },
  {
   "cell_type": "code",
   "source": "from wordcloud import WordCloud\nimport matplotlib.pyplot as plt",
   "metadata": {
    "cell_id": "53a3e3761ebd4be19f8b56052473c93e",
    "tags": [],
    "deepnote_to_be_reexecuted": true,
    "source_hash": "1f28628f",
    "execution_start": 1659491356051,
    "execution_millis": 2,
    "deepnote_cell_type": "code",
    "deepnote_cell_height": 94
   },
   "outputs": [],
   "execution_count": null
  },
  {
   "cell_type": "code",
   "source": "wc = WordCloud(background_color='white')\nwc.generate(textos_compras)\n\nplt.axis('off')\nplt.imshow(wc, interpolation='bilinear')\nplt.show()",
   "metadata": {
    "cell_id": "0c26238cc4624e24a5435890ca4baee0",
    "tags": [],
    "deepnote_to_be_reexecuted": true,
    "source_hash": "373b8f71",
    "execution_start": 1659491528698,
    "execution_millis": 451,
    "deepnote_cell_type": "code",
    "deepnote_cell_height": 365,
    "deepnote_output_heights": [
     183
    ]
   },
   "outputs": [
    {
     "data": {
      "text/plain": "<Figure size 432x288 with 1 Axes>",
      "image/png": "[encoded data removed]"
     },
     "metadata": {
      "needs_background": "light",
      "image/png": {
       "width": 349,
       "height": 181
      }
     },
     "output_type": "display_data"
    }
   ],
   "execution_count": null
  },
  {
   "cell_type": "markdown",
   "source": "<a style='text-decoration:none;line-height:16px;display:flex;color:#5B5B62;padding:10px;justify-content:end;' href='https://deepnote.com?utm_source=created-in-deepnote-cell&projectId=6853f152-0228-4c63-98bd-f29aa5103223' target=\"_blank\">\n<img alt='Created in deepnote.com' style='display:inline;max-height:16px;margin:0px;margin-right:7.5px;' src='data:image/svg+xml;base64,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' > </img>\nCreated in <span style='font-weight:600;margin-left:4px;'>Deepnote</span></a>",
   "metadata": {
    "tags": [],
    "created_in_deepnote_cell": true,
    "deepnote_cell_type": "markdown"
   }
  }
 ],
 "nbformat": 4,
 "nbformat_minor": 2,
 "metadata": {
  "orig_nbformat": 2,
  "deepnote": {},
  "deepnote_notebook_id": "bac3496d-c91e-46e7-8b46-b4316f67b424",
  "deepnote_execution_queue": []
 }
}